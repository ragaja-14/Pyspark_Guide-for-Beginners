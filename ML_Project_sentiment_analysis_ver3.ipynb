{
 "cells": [
  {
   "cell_type": "code",
   "execution_count": 2,
   "metadata": {
    "id": "jrk7nTbspyMA"
   },
   "outputs": [],
   "source": [
    "import numpy as np\n",
    "import pandas as pd\n",
    "import seaborn as sns\n",
    "import plotly.graph_objects as go\n",
    "import plotly.io as pio\n",
    "import plotly.express as px\n",
    "import matplotlib.pyplot as plt\n",
    "import re,os\n",
    "\n",
    "from sklearn.feature_extraction.text import CountVectorizer\n",
    "from sklearn.linear_model import LogisticRegression\n",
    "from sklearn.metrics import accuracy_score\n",
    "from sklearn.model_selection import train_test_split"
   ]
  },
  {
   "cell_type": "code",
   "execution_count": 31,
   "metadata": {
    "id": "Vucq5YpIrr1j"
   },
   "outputs": [],
   "source": [
    "dt_base= []\n",
    "for line in open(r\"F:\\ML_project\\Imdb_Sentiment_Analysis\\full_train.txt\", 'r',encoding=\"utf8\"):\n",
    "    \n",
    "    dt_base.append(line.strip())\n",
    "    \n",
    "dt_test_base = []\n",
    "for line in open(r'F:\\ML_project\\Imdb_Sentiment_Analysis\\full_test.txt', 'r',encoding=\"utf8\"):\n",
    "    \n",
    "    dt_test_base.append(line.strip())\n",
    "    \n",
    "target = [1 if i < 12500 else 0 for i in range(25000)]\n"
   ]
  },
  {
   "cell_type": "code",
   "execution_count": 32,
   "metadata": {
    "colab": {
     "base_uri": "https://localhost:8080/",
     "height": 199
    },
    "id": "H6v2dMa_uBYT",
    "outputId": "176b71e1-40ac-47d1-fb1a-d19b5ce2cecf"
   },
   "outputs": [
    {
     "data": {
      "text/html": [
       "<div>\n",
       "<style scoped>\n",
       "    .dataframe tbody tr th:only-of-type {\n",
       "        vertical-align: middle;\n",
       "    }\n",
       "\n",
       "    .dataframe tbody tr th {\n",
       "        vertical-align: top;\n",
       "    }\n",
       "\n",
       "    .dataframe thead th {\n",
       "        text-align: right;\n",
       "    }\n",
       "</style>\n",
       "<table border=\"1\" class=\"dataframe\">\n",
       "  <thead>\n",
       "    <tr style=\"text-align: right;\">\n",
       "      <th></th>\n",
       "      <th>Movie Review</th>\n",
       "      <th>Target</th>\n",
       "    </tr>\n",
       "  </thead>\n",
       "  <tbody>\n",
       "    <tr>\n",
       "      <th>0</th>\n",
       "      <td>Bromwell High is a cartoon comedy. It ran at t...</td>\n",
       "      <td>1</td>\n",
       "    </tr>\n",
       "    <tr>\n",
       "      <th>1</th>\n",
       "      <td>Homelessness (or Houselessness as George Carli...</td>\n",
       "      <td>1</td>\n",
       "    </tr>\n",
       "    <tr>\n",
       "      <th>2</th>\n",
       "      <td>Brilliant over-acting by Lesley Ann Warren. Be...</td>\n",
       "      <td>1</td>\n",
       "    </tr>\n",
       "    <tr>\n",
       "      <th>3</th>\n",
       "      <td>This is easily the most underrated film inn th...</td>\n",
       "      <td>1</td>\n",
       "    </tr>\n",
       "    <tr>\n",
       "      <th>4</th>\n",
       "      <td>This is not the typical Mel Brooks film. It wa...</td>\n",
       "      <td>1</td>\n",
       "    </tr>\n",
       "  </tbody>\n",
       "</table>\n",
       "</div>"
      ],
      "text/plain": [
       "                                        Movie Review  Target\n",
       "0  Bromwell High is a cartoon comedy. It ran at t...       1\n",
       "1  Homelessness (or Houselessness as George Carli...       1\n",
       "2  Brilliant over-acting by Lesley Ann Warren. Be...       1\n",
       "3  This is easily the most underrated film inn th...       1\n",
       "4  This is not the typical Mel Brooks film. It wa...       1"
      ]
     },
     "execution_count": 32,
     "metadata": {},
     "output_type": "execute_result"
    }
   ],
   "source": [
    "dt_base=pd.DataFrame(dt_base,columns=['Movie Review'])\n",
    "dt_base['Target']=target\n",
    "dt_test_base=pd.DataFrame(dt_test_base,columns=['Movie Review'])\n",
    "\n",
    "dt_base.head(5)"
   ]
  },
  {
   "cell_type": "markdown",
   "metadata": {
    "id": "IOC3nDcGRlFy"
   },
   "source": [
    "### Data Cleaning and Visualization"
   ]
  },
  {
   "cell_type": "markdown",
   "metadata": {
    "id": "11eBl7S3g7Xf"
   },
   "source": [
    "**Removal of stop words using customized list of stop words** "
   ]
  },
  {
   "cell_type": "code",
   "execution_count": 33,
   "metadata": {
    "id": "UqMEuDB-fgi_"
   },
   "outputs": [],
   "source": [
    "stop_words = ['in', 'of', 'at', 'a', 'the']\n",
    "custom_stop_words = ['i', 'me', 'my', 'myself', 'we', 'our', 'ours', 'ourselves', 'you', \"you're\", \"you've\", \"you'll\", \"you'd\",\n",
    "                    'your', 'yours', 'yourself', 'yourselves', 'he', 'him', 'his', 'himself', 'she', \"she's\", 'her', 'hers', \n",
    "                    'herself', 'it', \"it's\", 'its', 'itself', 'they', 'them', 'their', 'theirs', 'themselves', 'what', 'which',\n",
    "                    'who', 'whom', 'this', 'that', \"that'll\", 'these', 'those', 'am', 'is', 'are', 'was', 'were', 'be', 'been',\n",
    "                    'being', 'have', 'has', 'had', 'having', 'do', 'does', 'did', 'doing', 'a', 'an', 'the', 'and', 'but', 'if',\n",
    "                    'or', 'because', 'as', 'until', 'while', 'of', 'at', 'by', 'for', 'with', 'about', 'against', 'between',\n",
    "                    'into', 'through', 'during', 'before', 'after', 'above', 'below', 'to', 'from', 'up', 'down', 'in', 'out',\n",
    "                    'on', 'off', 'over', 'under', 'again', 'further', 'then', 'once', 'here', 'there', 'when', 'where', 'why',\n",
    "                    'how', 'all', 'any', 'both', 'each', 'few', 'more', 'most', 'other', 'some', 'such', 'no', 'nor', 'not',\n",
    "                    'only', 'own', 'same', 'so', 'than', 'too', 'very', 's', 't', 'can', 'will', 'just', 'don', \"don't\",\n",
    "                    'should', \"should've\", 'now', 'd', 'll', 'm', 'o', 're', 've', 'y', 'ain', 'aren', \"aren't\", 'couldn',\n",
    "                    \"couldn't\", 'didn', \"didn't\", 'doesn', \"doesn't\",\"it\",\"br\" 'hadn', \"hadn't\", 'hasn', \"hasn't\", 'haven', \"haven't\",\n",
    "                    'isn', \"isn't\", 'ma', 'mightn', \"mightn't\", 'mustn', \"mustn't\", 'needn', \"needn't\",'shan', \"shan't\",\n",
    "                    'shouldn', \"shouldn't\", 'wasn', \"wasn't\", 'weren', \"weren't\", 'won', \"won't\", 'wouldn', \"wouldn't\"]\n"
   ]
  },
  {
   "cell_type": "code",
   "execution_count": 34,
   "metadata": {
    "id": "MDljmKDkj8Zi"
   },
   "outputs": [],
   "source": [
    "stop_words2=[]\n",
    "stop_words2.extend(custom_stop_words)\n",
    "stop_words2=list(set(stop_words2))\n",
    "\n",
    "def remove_stop_words(text):\n",
    "    removed_stop_words = \"\"\n",
    "    text=text.lower()\n",
    "    text=' '.join([word for word in text.split() if word not in stop_words2])\n",
    "    return text\n",
    "\n",
    "dt_base_new=pd.DataFrame(dt_base['Movie Review'].apply(remove_stop_words),columns='Movie Review')\n",
    "dt_test_base_new=pd.DataFrame(dt_test_base['Movie Review'].apply(remove_stop_words),columns='Movie Review')"
   ]
  },
  {
   "cell_type": "code",
   "execution_count": null,
   "metadata": {},
   "outputs": [],
   "source": [
    "dt_base_new=pd.DataFrame(dt_base['Movie Review'].apply(remove_stop_words),columns='Movie Review')\n",
    "dt_test_base_new=pd.DataFrame(dt_test_base['Movie Review'].apply(remove_stop_words),columns='Movie Review')"
   ]
  },
  {
   "cell_type": "code",
   "execution_count": 35,
   "metadata": {
    "id": "fm_0Cvr_fgmA"
   },
   "outputs": [],
   "source": [
    "import re\n",
    "\n",
    "REPLACE_NO_SPACE = re.compile(\"(\\.)|(\\;)|(\\:)|(\\!)|(\\')|(\\?)|(\\,)|(\\\")|(\\()|(\\))|(\\[)|(\\])|(\\d+)\")\n",
    "REPLACE_WITH_SPACE = re.compile(\"(<br\\s*/><br\\s*/>)|(\\-)|(\\/)\")\n",
    "NO_SPACE = \"\"\n",
    "SPACE = \" \"\n",
    "\n",
    "def clean_text(text):\n",
    "    text = REPLACE_NO_SPACE.sub(NO_SPACE, text.lower())\n",
    "    text = REPLACE_WITH_SPACE.sub(SPACE, text)\n",
    "    text = re.sub('\\[[^]]*\\]', '', text)\n",
    "    text = re.sub(r'http\\S+', '', text) ## removes urls\n",
    "    text = re.sub('<.*?>', '',text)## removes html patterns\n",
    "    return text\n",
    "    \n",
    "dt_base['Movie Review']=dt_base['Movie Review'].apply(clean_text)\n",
    "dt_test_base['Movie Review']=dt_test_base['Movie Review'].apply(clean_text)"
   ]
  },
  {
   "cell_type": "code",
   "execution_count": 73,
   "metadata": {
    "colab": {
     "base_uri": "https://localhost:8080/",
     "height": 199
    },
    "id": "8igJwMv6m78J",
    "outputId": "ecff52c8-5a12-4dd1-88a9-2b44a4391e87"
   },
   "outputs": [
    {
     "data": {
      "text/html": [
       "<div>\n",
       "<style scoped>\n",
       "    .dataframe tbody tr th:only-of-type {\n",
       "        vertical-align: middle;\n",
       "    }\n",
       "\n",
       "    .dataframe tbody tr th {\n",
       "        vertical-align: top;\n",
       "    }\n",
       "\n",
       "    .dataframe thead th {\n",
       "        text-align: right;\n",
       "    }\n",
       "</style>\n",
       "<table border=\"1\" class=\"dataframe\">\n",
       "  <thead>\n",
       "    <tr style=\"text-align: right;\">\n",
       "      <th></th>\n",
       "      <th>Movie Review</th>\n",
       "      <th>Target</th>\n",
       "    </tr>\n",
       "  </thead>\n",
       "  <tbody>\n",
       "    <tr>\n",
       "      <th>0</th>\n",
       "      <td>bromwell high is a cartoon comedy it ran at th...</td>\n",
       "      <td>1</td>\n",
       "    </tr>\n",
       "    <tr>\n",
       "      <th>1</th>\n",
       "      <td>homelessness or houselessness as george carlin...</td>\n",
       "      <td>1</td>\n",
       "    </tr>\n",
       "    <tr>\n",
       "      <th>2</th>\n",
       "      <td>brilliant over acting by lesley ann warren bes...</td>\n",
       "      <td>1</td>\n",
       "    </tr>\n",
       "    <tr>\n",
       "      <th>3</th>\n",
       "      <td>this is easily the most underrated film inn th...</td>\n",
       "      <td>1</td>\n",
       "    </tr>\n",
       "    <tr>\n",
       "      <th>4</th>\n",
       "      <td>this is not the typical mel brooks film it was...</td>\n",
       "      <td>1</td>\n",
       "    </tr>\n",
       "  </tbody>\n",
       "</table>\n",
       "</div>"
      ],
      "text/plain": [
       "                                        Movie Review  Target\n",
       "0  bromwell high is a cartoon comedy it ran at th...       1\n",
       "1  homelessness or houselessness as george carlin...       1\n",
       "2  brilliant over acting by lesley ann warren bes...       1\n",
       "3  this is easily the most underrated film inn th...       1\n",
       "4  this is not the typical mel brooks film it was...       1"
      ]
     },
     "execution_count": 73,
     "metadata": {},
     "output_type": "execute_result"
    }
   ],
   "source": [
    "dt_base_new.head()"
   ]
  },
  {
   "cell_type": "markdown",
   "metadata": {
    "id": "KrquFUgJvVTF"
   },
   "source": [
    "**Cleaned Text Data visualization and exploration**"
   ]
  },
  {
   "cell_type": "code",
   "execution_count": 54,
   "metadata": {
    "colab": {
     "base_uri": "https://localhost:8080/",
     "height": 432
    },
    "id": "5P1darP-p0Ln",
    "outputId": "df1cf27e-e37f-4e3a-9fc5-4626a6966417"
   },
   "outputs": [
    {
     "data": {
      "image/png": "[encoded data removed]",
      "text/plain": [
       "<Figure size 504x504 with 1 Axes>"
      ]
     },
     "metadata": {
      "needs_background": "light"
     },
     "output_type": "display_data"
    }
   ],
   "source": [
    "h=list(dt_base[\"Target\"].value_counts())\n",
    "fig, ax = plt.subplots(figsize=(7,7))\n",
    "op=ax.bar([0,1],h,color=['g','r'])\n",
    "ax.legend(op, ['POSITIVE','NEGATIVE'])\n",
    "plt.xticks([0,1])\n",
    "plt.ylim(0,14000)\n",
    "plt.show()"
   ]
  },
  {
   "cell_type": "code",
   "execution_count": 55,
   "metadata": {
    "colab": {
     "base_uri": "https://localhost:8080/",
     "height": 685
    },
    "id": "sMTPwxvsp0Ow",
    "outputId": "73636249-3b8c-4428-fbfe-0e53b889aa9e"
   },
   "outputs": [
    {
     "data": {
      "image/png": "[encoded data removed]",
      "text/plain": [
       "<Figure size 432x360 with 1 Axes>"
      ]
     },
     "metadata": {
      "needs_background": "light"
     },
     "output_type": "display_data"
    },
    {
     "data": {
      "image/png": "[encoded data removed]",
      "text/plain": [
       "<Figure size 432x360 with 1 Axes>"
      ]
     },
     "metadata": {
      "needs_background": "light"
     },
     "output_type": "display_data"
    }
   ],
   "source": [
    "plt.figure(figsize=(6,5))\n",
    "plt.title('Count of Characters in texts\\nPOSITIVE REVIEWS')\n",
    "text_len=dt_base[dt_base['Target']==1]['Movie Review'].str.len()\n",
    "plt.hist(text_len,color='C1')\n",
    "plt.grid(linewidth=0.5)\n",
    "plt.show()\n",
    "\n",
    "plt.figure(figsize=(6,5))\n",
    "text_len=dt_base[dt_base['Target']==0]['Movie Review'].str.len()\n",
    "plt.title('Count of Characters in texts\\nNEGATIVE REVIEWS')\n",
    "plt.hist(text_len,color='C0')\n",
    "plt.grid(linewidth=0.5)\n",
    "plt.show()"
   ]
  },
  {
   "cell_type": "code",
   "execution_count": 57,
   "metadata": {
    "colab": {
     "base_uri": "https://localhost:8080/",
     "height": 479
    },
    "id": "--ueExPWp0Ri",
    "outputId": "25dfbd41-176b-4ade-ef90-02f00b86e511"
   },
   "outputs": [
    {
     "data": {
      "image/png": "[encoded data removed]",
      "text/plain": [
       "<Figure size 864x504 with 2 Axes>"
      ]
     },
     "metadata": {
      "needs_background": "light"
     },
     "output_type": "display_data"
    }
   ],
   "source": [
    "fig,(ax1,ax2)=plt.subplots(1,2,figsize=(12,7))\n",
    "text_len=dt_base[dt_base['Target']==1]['Movie Review'].str.split().map(lambda x: len(x))\n",
    "ax1.hist(text_len,color='C1')\n",
    "ax1.set_title('POSITIVE REVIEWS')\n",
    "ax1.grid(linewidth=0.5)\n",
    "text_len=dt_base[dt_base['Target']==0]['Movie Review'].str.split().map(lambda x: len(x))\n",
    "ax2.hist(text_len,color='C0')\n",
    "ax2.set_title('NEGATIVE REVIEWS')\n",
    "fig.suptitle('Count of number of Words in texts')\n",
    "plt.grid(linewidth=0.5)\n",
    "plt.show()"
   ]
  },
  {
   "cell_type": "code",
   "execution_count": 63,
   "metadata": {
    "id": "GLjrlYkhp0UY"
   },
   "outputs": [],
   "source": [
    "def frequent_words_text_ngrams(input_text, n, g):\n",
    "    vec = CountVectorizer(ngram_range=(g, g) ).fit(input_text)\n",
    "    vocab_words = vec.transform(input_text)\n",
    "    words_sum = vocab_words.sum(axis=0) \n",
    "    words_freq = [(word, words_sum[0, idx]) for word, idx in vec.vocabulary_.items()]\n",
    "    words_freq = sorted(words_freq, key = lambda x: x[1], reverse=True)\n",
    "    return words_freq[:n]"
   ]
  },
  {
   "cell_type": "code",
   "execution_count": 71,
   "metadata": {},
   "outputs": [
    {
     "data": {
      "text/html": [
       "<div>\n",
       "<style scoped>\n",
       "    .dataframe tbody tr th:only-of-type {\n",
       "        vertical-align: middle;\n",
       "    }\n",
       "\n",
       "    .dataframe tbody tr th {\n",
       "        vertical-align: top;\n",
       "    }\n",
       "\n",
       "    .dataframe thead th {\n",
       "        text-align: right;\n",
       "    }\n",
       "</style>\n",
       "<table border=\"1\" class=\"dataframe\">\n",
       "  <thead>\n",
       "    <tr style=\"text-align: right;\">\n",
       "      <th></th>\n",
       "      <th>Movie Review</th>\n",
       "    </tr>\n",
       "  </thead>\n",
       "  <tbody>\n",
       "    <tr>\n",
       "      <th>0</th>\n",
       "      <td>bromwell high cartoon comedy ran time programs...</td>\n",
       "    </tr>\n",
       "    <tr>\n",
       "      <th>1</th>\n",
       "      <td>homelessness houselessness george carlin state...</td>\n",
       "    </tr>\n",
       "    <tr>\n",
       "      <th>2</th>\n",
       "      <td>brilliant acting lesley ann warren best dramat...</td>\n",
       "    </tr>\n",
       "    <tr>\n",
       "      <th>3</th>\n",
       "      <td>easily underrated film inn brooks cannon sure ...</td>\n",
       "    </tr>\n",
       "    <tr>\n",
       "      <th>4</th>\n",
       "      <td>typical mel brooks film much less slapstick mo...</td>\n",
       "    </tr>\n",
       "    <tr>\n",
       "      <th>5</th>\n",
       "      <td>isnt comedic robin williams quirky insane robi...</td>\n",
       "    </tr>\n",
       "    <tr>\n",
       "      <th>6</th>\n",
       "      <td>yes art successfully make slow paced thriller ...</td>\n",
       "    </tr>\n",
       "    <tr>\n",
       "      <th>7</th>\n",
       "      <td>critically acclaimed psychological thriller ba...</td>\n",
       "    </tr>\n",
       "    <tr>\n",
       "      <th>8</th>\n",
       "      <td>night listener ** robin williams toni collette...</td>\n",
       "    </tr>\n",
       "    <tr>\n",
       "      <th>9</th>\n",
       "      <td>know robin williams god bless constantly shoot...</td>\n",
       "    </tr>\n",
       "  </tbody>\n",
       "</table>\n",
       "</div>"
      ],
      "text/plain": [
       "                                        Movie Review\n",
       "0  bromwell high cartoon comedy ran time programs...\n",
       "1  homelessness houselessness george carlin state...\n",
       "2  brilliant acting lesley ann warren best dramat...\n",
       "3  easily underrated film inn brooks cannon sure ...\n",
       "4  typical mel brooks film much less slapstick mo...\n",
       "5  isnt comedic robin williams quirky insane robi...\n",
       "6  yes art successfully make slow paced thriller ...\n",
       "7  critically acclaimed psychological thriller ba...\n",
       "8  night listener ** robin williams toni collette...\n",
       "9  know robin williams god bless constantly shoot..."
      ]
     },
     "execution_count": 71,
     "metadata": {},
     "output_type": "execute_result"
    }
   ],
   "source": [
    "dt_base_new[:10]"
   ]
  },
  {
   "cell_type": "code",
   "execution_count": 74,
   "metadata": {
    "id": "m-OSryycGKEq"
   },
   "outputs": [],
   "source": [
    "most_common_uni = frequent_words_text_ngrams(dt_base_new['Movie Review'],18,1)\n",
    "most_common_uni = dict(most_common_uni)\n",
    "temp = pd.DataFrame(columns = [\"Common_words\" , 'Count'])\n",
    "temp[\"Common_words\"] = list(most_common_uni.keys())\n",
    "temp[\"Count\"] = list(most_common_uni.values())"
   ]
  },
  {
   "cell_type": "code",
   "execution_count": 76,
   "metadata": {
    "colab": {
     "base_uri": "https://localhost:8080/",
     "height": 717
    },
    "id": "4wkm-HYgmNyg",
    "outputId": "a87f50f2-ee6c-4af5-df81-35daf7d9c2c9"
   },
   "outputs": [
    {
     "data": {
      "image/png": "[encoded data removed]"
     },
     "metadata": {},
     "output_type": "display_data"
    }
   ],
   "source": [
    "fig2= px.bar(temp, x=\"Count\", y=\"Common_words\", title='Frequently occuring Unigram Words in Text', orientation='h', \n",
    "             width=750, height=750,color='Common_words')\n",
    "fig2.show(\"png\")"
   ]
  },
  {
   "cell_type": "code",
   "execution_count": 78,
   "metadata": {
    "id": "I-2RiZ5mmV5T"
   },
   "outputs": [],
   "source": [
    "most_common_bi = frequent_words_text_ngrams(dt_base_new['Movie Review'],18,2)\n",
    "most_common_bi = dict(most_common_bi)\n",
    "temp = pd.DataFrame(columns = [\"Common_words\" , 'Count'])\n",
    "temp[\"Common_words\"] = list(most_common_bi.keys())\n",
    "temp[\"Count\"] = list(most_common_bi.values())\n"
   ]
  },
  {
   "cell_type": "code",
   "execution_count": 80,
   "metadata": {
    "colab": {
     "base_uri": "https://localhost:8080/",
     "height": 717
    },
    "id": "fsM_7nsoyXnA",
    "outputId": "0843b027-acfd-4fec-e2a8-4c792965e6ee"
   },
   "outputs": [
    {
     "data": {
      "image/png": "[encoded data removed]"
     },
     "metadata": {},
     "output_type": "display_data"
    }
   ],
   "source": [
    "fig1 = px.bar(temp, x=\"Count\", y=\"Common_words\", title='Frequently occuring Bigrams in Text', orientation='h', \n",
    "             width=750, height=750,color='Common_words')\n",
    "fig1.show(\"png\")"
   ]
  },
  {
   "cell_type": "code",
   "execution_count": 82,
   "metadata": {
    "id": "rY0A5RMGmYYU"
   },
   "outputs": [],
   "source": [
    "most_common_tri = frequent_words_text_ngrams(dt_base_new['Movie Review'],18,3)\n",
    "most_common_tri = dict(most_common_tri)\n",
    "temp = pd.DataFrame(columns = [\"Common_words\" , 'Count'])\n",
    "temp[\"Common_words\"] = list(most_common_tri.keys())\n",
    "temp[\"Count\"] = list(most_common_tri.values())\n"
   ]
  },
  {
   "cell_type": "code",
   "execution_count": 84,
   "metadata": {
    "colab": {
     "base_uri": "https://localhost:8080/",
     "height": 717
    },
    "id": "dH8X--_kp0au",
    "outputId": "e9b5966c-f9b7-4ad3-e136-6d73abe2dc65"
   },
   "outputs": [
    {
     "data": {
      "image/png": "[encoded data removed]"
     },
     "metadata": {},
     "output_type": "display_data"
    }
   ],
   "source": [
    "fig = px.bar(temp, x=\"Count\", y=\"Common_words\", title='Frequently occuring Trigrams in Text', orientation='h', \n",
    "             width=750, height=750,color='Common_words')\n",
    "fig.show(\"png\")"
   ]
  },
  {
   "cell_type": "markdown",
   "metadata": {
    "id": "kUiHnVx8RbxG"
   },
   "source": [
    "### Text Normalization"
   ]
  },
  {
   "cell_type": "markdown",
   "metadata": {
    "id": "IjVZFBbduWsF"
   },
   "source": [
    "**Stemming**"
   ]
  },
  {
   "cell_type": "code",
   "execution_count": 85,
   "metadata": {
    "id": "Ylk8a0VGuTtO"
   },
   "outputs": [],
   "source": [
    "def get_stemmed_text(text):\n",
    "    from nltk.stem.porter import PorterStemmer\n",
    "    stemmer = PorterStemmer()\n",
    "    return ' '.join([stemmer.stem(word) for word in text.split()])\n",
    "\n",
    "dt_base['Movie Review']=dt_base['Movie Review'].apply(get_stemmed_text)\n",
    "dt_test_base['Movie Review']=dt_test_base['Movie Review'].apply(get_stemmed_text)"
   ]
  },
  {
   "cell_type": "code",
   "execution_count": 86,
   "metadata": {
    "colab": {
     "base_uri": "https://localhost:8080/",
     "height": 199
    },
    "id": "Z_XA5i7bEIbZ",
    "outputId": "5a97ce4b-5542-4992-9687-663edc5d9938"
   },
   "outputs": [
    {
     "data": {
      "text/html": [
       "<div>\n",
       "<style scoped>\n",
       "    .dataframe tbody tr th:only-of-type {\n",
       "        vertical-align: middle;\n",
       "    }\n",
       "\n",
       "    .dataframe tbody tr th {\n",
       "        vertical-align: top;\n",
       "    }\n",
       "\n",
       "    .dataframe thead th {\n",
       "        text-align: right;\n",
       "    }\n",
       "</style>\n",
       "<table border=\"1\" class=\"dataframe\">\n",
       "  <thead>\n",
       "    <tr style=\"text-align: right;\">\n",
       "      <th></th>\n",
       "      <th>Movie Review</th>\n",
       "      <th>Target</th>\n",
       "    </tr>\n",
       "  </thead>\n",
       "  <tbody>\n",
       "    <tr>\n",
       "      <th>0</th>\n",
       "      <td>bromwel high is a cartoon comedi it ran at the...</td>\n",
       "      <td>1</td>\n",
       "    </tr>\n",
       "    <tr>\n",
       "      <th>1</th>\n",
       "      <td>homeless or houseless as georg carlin state ha...</td>\n",
       "      <td>1</td>\n",
       "    </tr>\n",
       "    <tr>\n",
       "      <th>2</th>\n",
       "      <td>brilliant over act by lesley ann warren best d...</td>\n",
       "      <td>1</td>\n",
       "    </tr>\n",
       "    <tr>\n",
       "      <th>3</th>\n",
       "      <td>thi is easili the most underr film inn the bro...</td>\n",
       "      <td>1</td>\n",
       "    </tr>\n",
       "    <tr>\n",
       "      <th>4</th>\n",
       "      <td>thi is not the typic mel brook film it wa much...</td>\n",
       "      <td>1</td>\n",
       "    </tr>\n",
       "  </tbody>\n",
       "</table>\n",
       "</div>"
      ],
      "text/plain": [
       "                                        Movie Review  Target\n",
       "0  bromwel high is a cartoon comedi it ran at the...       1\n",
       "1  homeless or houseless as georg carlin state ha...       1\n",
       "2  brilliant over act by lesley ann warren best d...       1\n",
       "3  thi is easili the most underr film inn the bro...       1\n",
       "4  thi is not the typic mel brook film it wa much...       1"
      ]
     },
     "execution_count": 86,
     "metadata": {},
     "output_type": "execute_result"
    }
   ],
   "source": [
    "dt_base.head()"
   ]
  },
  {
   "cell_type": "markdown",
   "metadata": {
    "id": "FqmIyU4Duuxc"
   },
   "source": [
    "**Lemmatization**"
   ]
  },
  {
   "cell_type": "code",
   "execution_count": 87,
   "metadata": {
    "colab": {
     "base_uri": "https://localhost:8080/"
    },
    "id": "o9T_VSQbuzkG",
    "outputId": "8d0058fd-811c-4ee7-8f37-534d7ba95363"
   },
   "outputs": [
    {
     "name": "stderr",
     "output_type": "stream",
     "text": [
      "[nltk_data] Downloading package wordnet to\n",
      "[nltk_data]     C:\\Users\\kraga\\AppData\\Roaming\\nltk_data...\n",
      "[nltk_data]   Package wordnet is already up-to-date!\n"
     ]
    }
   ],
   "source": [
    "import nltk\n",
    "from nltk.stem import WordNetLemmatizer\n",
    "nltk.download('wordnet')\n",
    "\n",
    "def get_lemmatized_text(text):\n",
    "    \n",
    "    lemmatizer = WordNetLemmatizer()\n",
    "\n",
    "    return ' '.join([lemmatizer.lemmatize(word) for word in text.split()])\n",
    "\n",
    "dt_base['Movie Review']=dt_base['Movie Review'].apply(get_lemmatized_text)\n",
    "dt_test_base['Movie Review']=dt_test_base['Movie Review'].apply(get_lemmatized_text)"
   ]
  },
  {
   "cell_type": "code",
   "execution_count": 88,
   "metadata": {
    "colab": {
     "base_uri": "https://localhost:8080/",
     "height": 199
    },
    "id": "j0hc8sPsSBiK",
    "outputId": "8d015d5c-1571-4bfb-c392-afe881ca8c0f"
   },
   "outputs": [
    {
     "data": {
      "text/html": [
       "<div>\n",
       "<style scoped>\n",
       "    .dataframe tbody tr th:only-of-type {\n",
       "        vertical-align: middle;\n",
       "    }\n",
       "\n",
       "    .dataframe tbody tr th {\n",
       "        vertical-align: top;\n",
       "    }\n",
       "\n",
       "    .dataframe thead th {\n",
       "        text-align: right;\n",
       "    }\n",
       "</style>\n",
       "<table border=\"1\" class=\"dataframe\">\n",
       "  <thead>\n",
       "    <tr style=\"text-align: right;\">\n",
       "      <th></th>\n",
       "      <th>Movie Review</th>\n",
       "      <th>Target</th>\n",
       "    </tr>\n",
       "  </thead>\n",
       "  <tbody>\n",
       "    <tr>\n",
       "      <th>0</th>\n",
       "      <td>bromwel high is a cartoon comedi it ran at the...</td>\n",
       "      <td>1</td>\n",
       "    </tr>\n",
       "    <tr>\n",
       "      <th>1</th>\n",
       "      <td>homeless or houseless a georg carlin state ha ...</td>\n",
       "      <td>1</td>\n",
       "    </tr>\n",
       "    <tr>\n",
       "      <th>2</th>\n",
       "      <td>brilliant over act by lesley ann warren best d...</td>\n",
       "      <td>1</td>\n",
       "    </tr>\n",
       "    <tr>\n",
       "      <th>3</th>\n",
       "      <td>thi is easili the most underr film inn the bro...</td>\n",
       "      <td>1</td>\n",
       "    </tr>\n",
       "    <tr>\n",
       "      <th>4</th>\n",
       "      <td>thi is not the typic mel brook film it wa much...</td>\n",
       "      <td>1</td>\n",
       "    </tr>\n",
       "  </tbody>\n",
       "</table>\n",
       "</div>"
      ],
      "text/plain": [
       "                                        Movie Review  Target\n",
       "0  bromwel high is a cartoon comedi it ran at the...       1\n",
       "1  homeless or houseless a georg carlin state ha ...       1\n",
       "2  brilliant over act by lesley ann warren best d...       1\n",
       "3  thi is easili the most underr film inn the bro...       1\n",
       "4  thi is not the typic mel brook film it wa much...       1"
      ]
     },
     "execution_count": 88,
     "metadata": {},
     "output_type": "execute_result"
    }
   ],
   "source": [
    "dt_base.head()"
   ]
  },
  {
   "cell_type": "markdown",
   "metadata": {
    "id": "Lzs2C2ifzcSb"
   },
   "source": [
    "**Feature extraction and Representation**"
   ]
  },
  {
   "cell_type": "markdown",
   "metadata": {
    "id": "IhU9Wkd3syIG"
   },
   "source": [
    "### Using TFIDF for Text vectorization and representation"
   ]
  },
  {
   "cell_type": "code",
   "execution_count": 89,
   "metadata": {
    "id": "QH4vhGp2zW0R"
   },
   "outputs": [],
   "source": [
    "from sklearn.feature_extraction.text import TfidfVectorizer\n",
    "\n",
    "tfidf_vectorizer = TfidfVectorizer(stop_words=stop_words)\n",
    "tfidf_vectorizer.fit(dt_base['Movie Review'])\n",
    "tfidf_X = tfidf_vectorizer.transform(dt_base['Movie Review'])\n",
    "tfidf_X_test = tfidf_vectorizer.transform(dt_test_base['Movie Review'])\n"
   ]
  },
  {
   "cell_type": "markdown",
   "metadata": {
    "id": "LI-ntrwzUBk_"
   },
   "source": [
    "Splitting the data vectorized using TFIDF into testing and training sets"
   ]
  },
  {
   "cell_type": "code",
   "execution_count": 90,
   "metadata": {
    "id": "0VmpigHUfMZ-"
   },
   "outputs": [],
   "source": [
    "from sklearn.model_selection import train_test_split\n",
    "\n",
    "X_train_tfidf, X_val_tfidf, y_train_tfidf, y_val_tfidf = train_test_split( tfidf_X, dt_base['Target'], \n",
    "                                                  train_size = 0.75,random_state=2)\n",
    "\n",
    "## Evaluation TFIDF data for final model - tfidf_X_test"
   ]
  },
  {
   "cell_type": "markdown",
   "metadata": {
    "id": "VJCxa8oys5Vh"
   },
   "source": [
    "### Using N gram model (range 1 to 3) for vector encoding of features"
   ]
  },
  {
   "cell_type": "code",
   "execution_count": 91,
   "metadata": {
    "id": "uC6wZN7VfMK3"
   },
   "outputs": [],
   "source": [
    "from sklearn.feature_extraction.text import CountVectorizer\n",
    "\n",
    "ngram_vectorizer = CountVectorizer(binary=True, ngram_range=(1, 3),stop_words=stop_words)\n",
    "## Allows trigrams to unigrams \n",
    "ngram_vectorizer.fit(dt_base['Movie Review'])\n",
    "Ngram_X = ngram_vectorizer.transform(dt_base['Movie Review'])\n",
    "Ngram_X_test = ngram_vectorizer.transform(dt_test_base['Movie Review'])"
   ]
  },
  {
   "cell_type": "markdown",
   "metadata": {
    "id": "q6PV3aho1zS1"
   },
   "source": [
    "Splitting the data vectorized using Ngram model into testing and training sets"
   ]
  },
  {
   "cell_type": "code",
   "execution_count": 92,
   "metadata": {
    "id": "TIb1ynJ-fMNq"
   },
   "outputs": [],
   "source": [
    "from sklearn.model_selection import train_test_split\n",
    "\n",
    "X_train_ngram, X_val_ngram, y_train_ngram, y_val_ngram = train_test_split( Ngram_X , dt_base['Target'], \n",
    "                                                  train_size = 0.75,random_state=2)\n",
    "\n",
    "## Evaluation Ngram data for final model - Ngram_X_test"
   ]
  },
  {
   "cell_type": "markdown",
   "metadata": {
    "id": "FeWdZs_b22ll"
   },
   "source": [
    "### Logistic Regression Model Building"
   ]
  },
  {
   "cell_type": "markdown",
   "metadata": {
    "id": "3w8LyEl1_493"
   },
   "source": [
    "> Using TFIDF vectorization"
   ]
  },
  {
   "cell_type": "code",
   "execution_count": 93,
   "metadata": {
    "colab": {
     "base_uri": "https://localhost:8080/"
    },
    "id": "o_kiDFaDfMT6",
    "outputId": "ab7db157-8b8a-4bce-bb95-36ddb885e1cd"
   },
   "outputs": [
    {
     "name": "stdout",
     "output_type": "stream",
     "text": [
      "Accuracy for C=0.01: 0.80272\n",
      "Accuracy for C=0.05: 0.83904\n",
      "Accuracy for C=0.25: 0.87088\n",
      "Accuracy for C=0.5: 0.87824\n",
      "Accuracy for C=1: 0.88336\n"
     ]
    }
   ],
   "source": [
    "from sklearn.linear_model import LogisticRegression\n",
    "from sklearn.metrics import accuracy_score\n",
    "from sklearn.metrics import recall_score\n",
    "from sklearn.metrics import f1_score\n",
    "from sklearn.metrics import precision_score\n",
    "\n",
    "\n",
    "for c in [0.01, 0.05, 0.25, 0.5, 1]:\n",
    "    \n",
    "    lr = LogisticRegression(C=c)\n",
    "    lr.fit(X_train_tfidf, y_train_tfidf)\n",
    "    print (\"Accuracy for C=%s: %s\" \n",
    "           % (c, accuracy_score(y_val_tfidf, lr.predict(X_val_tfidf))))"
   ]
  },
  {
   "cell_type": "code",
   "execution_count": 104,
   "metadata": {
    "id": "qvWzMuaMu7ZL"
   },
   "outputs": [],
   "source": [
    "results=pd.DataFrame(columns=['Final Accuracy', 'Recall Score', 'f1 Score', 'Precision Score'])"
   ]
  },
  {
   "cell_type": "code",
   "execution_count": 105,
   "metadata": {
    "colab": {
     "base_uri": "https://localhost:8080/"
    },
    "id": "j7LNAkQkfMWz",
    "outputId": "2875a059-8d9c-4ff8-dad3-5a52775450ac"
   },
   "outputs": [
    {
     "name": "stdout",
     "output_type": "stream",
     "text": [
      "Final Accuracy: 0.88208\n",
      "Recall Score: 0.88152\n",
      "f1 Score: 0.8820139277995678\n",
      "Precision Score: 0.8825084094185488\n"
     ]
    }
   ],
   "source": [
    "final_tfidf = LogisticRegression(C=1)\n",
    "final_tfidf.fit(tfidf_X, target)\n",
    "print(\"Final Accuracy: %s\" \n",
    "       % accuracy_score(target, final_tfidf.predict(tfidf_X_test)))\n",
    "print(\"Recall Score: %s\" \n",
    "      % recall_score(target, final_tfidf.predict(tfidf_X_test)))\n",
    "print(\"f1 Score: %s\"\n",
    "      % f1_score(target, final_tfidf.predict(tfidf_X_test)))\n",
    "print(\"Precision Score: %s\"\n",
    "      % precision_score(target, final_tfidf.predict(tfidf_X_test)))\n",
    "new_row=[accuracy_score(target, final_tfidf.predict(tfidf_X_test)),\n",
    "                              recall_score(target, final_tfidf.predict(tfidf_X_test)),\n",
    "                              f1_score(target, final_tfidf.predict(tfidf_X_test)),\n",
    "                              precision_score(target, final_tfidf.predict(tfidf_X_test))]\n",
    "results.loc[len(results)]=new_row\n"
   ]
  },
  {
   "cell_type": "markdown",
   "metadata": {
    "id": "Mat6ryUiAHES"
   },
   "source": [
    "> Using Ngram model based vectorization"
   ]
  },
  {
   "cell_type": "code",
   "execution_count": 96,
   "metadata": {
    "colab": {
     "base_uri": "https://localhost:8080/"
    },
    "id": "r2t-GQc3fMgB",
    "outputId": "697222af-d00b-423d-d81e-e6fb4544e45a"
   },
   "outputs": [
    {
     "name": "stdout",
     "output_type": "stream",
     "text": [
      "Accuracy for C=0.01: 0.88432\n",
      "Accuracy for C=0.05: 0.88896\n",
      "Accuracy for C=0.25: 0.89056\n",
      "Accuracy for C=0.5: 0.89104\n",
      "Accuracy for C=1: 0.89232\n"
     ]
    }
   ],
   "source": [
    "for c in [0.01, 0.05, 0.25, 0.5, 1]:\n",
    "    \n",
    "    lr = LogisticRegression(C=c, max_iter=1000)\n",
    "    lr.fit(X_train_ngram, y_train_ngram)\n",
    "    print (\"Accuracy for C=%s: %s\" \n",
    "           % (c, accuracy_score(y_val_ngram, lr.predict(X_val_ngram))))"
   ]
  },
  {
   "cell_type": "code",
   "execution_count": 106,
   "metadata": {
    "colab": {
     "base_uri": "https://localhost:8080/"
    },
    "id": "We9x5hT91KhR",
    "outputId": "f2a0276c-ef63-44e7-9e1b-14c0ab25f969"
   },
   "outputs": [
    {
     "name": "stderr",
     "output_type": "stream",
     "text": [
      "C:\\Users\\kraga\\anaconda3\\lib\\site-packages\\sklearn\\linear_model\\_logistic.py:763: ConvergenceWarning:\n",
      "\n",
      "lbfgs failed to converge (status=1):\n",
      "STOP: TOTAL NO. of ITERATIONS REACHED LIMIT.\n",
      "\n",
      "Increase the number of iterations (max_iter) or scale the data as shown in:\n",
      "    https://scikit-learn.org/stable/modules/preprocessing.html\n",
      "Please also refer to the documentation for alternative solver options:\n",
      "    https://scikit-learn.org/stable/modules/linear_model.html#logistic-regression\n",
      "\n"
     ]
    },
    {
     "name": "stdout",
     "output_type": "stream",
     "text": [
      "Final Accuracy: 0.90076\n",
      "Recall Score: 0.9084\n",
      "f1 Score: 0.901512444920805\n",
      "Precision Score: 0.8947285477897723\n"
     ]
    }
   ],
   "source": [
    "final_ngram = LogisticRegression(C=0.5)\n",
    "final_ngram.fit(Ngram_X, target)\n",
    "print(\"Final Accuracy: %s\" \n",
    "       % accuracy_score(target, final_ngram.predict(Ngram_X_test)))\n",
    "print(\"Recall Score: %s\" \n",
    "      % recall_score(target, final_ngram.predict(Ngram_X_test)))\n",
    "print(\"f1 Score: %s\"\n",
    "      % f1_score(target, final_ngram.predict(Ngram_X_test)))\n",
    "print(\"Precision Score: %s\"\n",
    "      % precision_score(target, final_ngram.predict(Ngram_X_test)))\n",
    "\n",
    "new_row=[accuracy_score(target, final_ngram.predict(Ngram_X_test)),\n",
    "                              recall_score(target, final_ngram.predict(Ngram_X_test)),\n",
    "                              f1_score(target, final_ngram.predict(Ngram_X_test)),\n",
    "                              precision_score(target, final_ngram.predict(Ngram_X_test))]\n",
    "results.loc[len(results)]=new_row"
   ]
  },
  {
   "cell_type": "markdown",
   "metadata": {
    "id": "Q3g7QIUT27rI"
   },
   "source": [
    "### SVM Classifier Model Building"
   ]
  },
  {
   "cell_type": "markdown",
   "metadata": {
    "id": "px0q9iLJAkI8"
   },
   "source": [
    "> Using TFIDF vectorization"
   ]
  },
  {
   "cell_type": "code",
   "execution_count": 103,
   "metadata": {
    "colab": {
     "base_uri": "https://localhost:8080/"
    },
    "id": "vs3RhVBdfMpB",
    "outputId": "37471a74-1939-4591-c7d7-989b4a375fc3"
   },
   "outputs": [
    {
     "name": "stdout",
     "output_type": "stream",
     "text": [
      "Accuracy for C=0.001: 0.80016\n",
      "Accuracy for C=0.005: 0.83552\n",
      "Accuracy for C=0.01: 0.85248\n",
      "Accuracy for C=0.05: 0.87984\n",
      "Accuracy for C=0.1: 0.8832\n"
     ]
    }
   ],
   "source": [
    "from sklearn.svm import LinearSVC\n",
    "for c in [0.001, 0.005, 0.01, 0.05, 0.1]:\n",
    "    \n",
    "    svm = LinearSVC(C=c)\n",
    "    svm.fit(X_train_tfidf, y_train_tfidf)\n",
    "    print (\"Accuracy for C=%s: %s\" \n",
    "           % (c, accuracy_score(y_val_tfidf, svm.predict(X_val_tfidf))))"
   ]
  },
  {
   "cell_type": "code",
   "execution_count": 107,
   "metadata": {
    "colab": {
     "base_uri": "https://localhost:8080/"
    },
    "id": "QTyk6IPIfMsf",
    "outputId": "769c55b1-30b7-49e1-d943-63c0c8c22ab8"
   },
   "outputs": [
    {
     "name": "stdout",
     "output_type": "stream",
     "text": [
      "Final Accuracy: 0.88328\n",
      "Recall Score: 0.8852\n",
      "f1 Score: 0.8835036729479399\n",
      "Precision Score: 0.8818138348740835\n"
     ]
    }
   ],
   "source": [
    "final_tfidf = LinearSVC(C=0.1)\n",
    "final_tfidf.fit(tfidf_X, target)\n",
    "print(\"Final Accuracy: %s\" \n",
    "       % accuracy_score(target, final_tfidf.predict(tfidf_X_test)))\n",
    "print(\"Recall Score: %s\" \n",
    "      % recall_score(target, final_tfidf.predict(tfidf_X_test)))\n",
    "print(\"f1 Score: %s\"\n",
    "      % f1_score(target, final_tfidf.predict(tfidf_X_test)))\n",
    "print(\"Precision Score: %s\"\n",
    "      % precision_score(target, final_tfidf.predict(tfidf_X_test)))\n",
    "new_row=[accuracy_score(target, final_tfidf.predict(tfidf_X_test)),\n",
    "                              recall_score(target, final_tfidf.predict(tfidf_X_test)),\n",
    "                              f1_score(target, final_tfidf.predict(tfidf_X_test)),\n",
    "                              precision_score(target, final_tfidf.predict(tfidf_X_test))]\n",
    "results.loc[len(results)]=new_row"
   ]
  },
  {
   "cell_type": "markdown",
   "metadata": {
    "id": "0EJZLnXMAl4e"
   },
   "source": [
    "> Using Ngram model based vectorization"
   ]
  },
  {
   "cell_type": "code",
   "execution_count": 108,
   "metadata": {
    "colab": {
     "base_uri": "https://localhost:8080/"
    },
    "id": "B-beyV8WAnJS",
    "outputId": "99fe332b-aa64-4068-ee90-b3b772f62ef6"
   },
   "outputs": [
    {
     "name": "stdout",
     "output_type": "stream",
     "text": [
      "Accuracy for C=0.001: 0.88544\n",
      "Accuracy for C=0.005: 0.89248\n",
      "Accuracy for C=0.01: 0.89232\n",
      "Accuracy for C=0.05: 0.89088\n",
      "Accuracy for C=0.1: 0.89088\n"
     ]
    }
   ],
   "source": [
    "for c in [0.001, 0.005, 0.01, 0.05, 0.1]:\n",
    "    \n",
    "    svm = LinearSVC(C=c)\n",
    "    svm.fit(X_train_ngram, y_train_ngram)\n",
    "    print (\"Accuracy for C=%s: %s\" \n",
    "           % (c, accuracy_score(y_val_ngram, svm.predict(X_val_ngram))))"
   ]
  },
  {
   "cell_type": "code",
   "execution_count": 109,
   "metadata": {
    "colab": {
     "base_uri": "https://localhost:8080/"
    },
    "id": "G_rAePgq2_Rh",
    "outputId": "d9f1aa7f-e343-46f1-a100-a3dac17888a9"
   },
   "outputs": [
    {
     "name": "stdout",
     "output_type": "stream",
     "text": [
      "Final Accuracy: 0.90112\n",
      "Recall Score: 0.90864\n",
      "f1 Score: 0.9018580276322058\n",
      "Precision Score: 0.8951765447667087\n"
     ]
    }
   ],
   "source": [
    "final_ngram = LinearSVC(C=0.01)\n",
    "final_ngram.fit(Ngram_X, target)\n",
    "print (\"Final Accuracy: %s\" \n",
    "       % accuracy_score(target, final_ngram.predict(Ngram_X_test)))\n",
    "print(\"Recall Score: %s\" \n",
    "      % recall_score(target, final_ngram.predict(Ngram_X_test)))\n",
    "print(\"f1 Score: %s\"\n",
    "      % f1_score(target, final_ngram.predict(Ngram_X_test)))\n",
    "print(\"Precision Score: %s\"\n",
    "      % precision_score(target, final_ngram.predict(Ngram_X_test)))\n",
    "new_row=[accuracy_score(target, final_ngram.predict(Ngram_X_test)),\n",
    "                              recall_score(target, final_ngram.predict(Ngram_X_test)),\n",
    "                              f1_score(target, final_ngram.predict(Ngram_X_test)),\n",
    "                              precision_score(target, final_ngram.predict(Ngram_X_test))]\n",
    "results.loc[len(results)]=new_row"
   ]
  },
  {
   "cell_type": "markdown",
   "metadata": {
    "id": "VwBAXjOt2_xJ"
   },
   "source": [
    "### Navie Bayes Classifier Model Building"
   ]
  },
  {
   "cell_type": "markdown",
   "metadata": {
    "id": "jxu9l9BdArlB"
   },
   "source": [
    ">Using TFIDF vectorization"
   ]
  },
  {
   "cell_type": "code",
   "execution_count": 110,
   "metadata": {
    "colab": {
     "base_uri": "https://localhost:8080/"
    },
    "id": "obGkLvEI3EZb",
    "outputId": "70b8bdca-d248-4b08-f75e-7bddbf3fc014"
   },
   "outputs": [
    {
     "name": "stdout",
     "output_type": "stream",
     "text": [
      "Accuracy for alpha=0.01: 0.84176\n",
      "Accuracy for alpha=0.05: 0.84848\n",
      "Accuracy for alpha=0.1: 0.84928\n",
      "Accuracy for alpha=0.5: 0.85168\n",
      "Accuracy for alpha=1: 0.848\n"
     ]
    }
   ],
   "source": [
    "from sklearn.naive_bayes import MultinomialNB\n",
    "\n",
    "for c in [ 0.01, 0.05, 0.1, 0.5, 1]:\n",
    "    \n",
    "    clf = MultinomialNB(alpha=c)\n",
    "    clf.fit(X_train_tfidf, y_train_tfidf)\n",
    "    print (\"Accuracy for alpha=%s: %s\" \n",
    "           % (c, accuracy_score(y_val_tfidf, clf.predict(X_val_tfidf))))"
   ]
  },
  {
   "cell_type": "code",
   "execution_count": 111,
   "metadata": {
    "colab": {
     "base_uri": "https://localhost:8080/"
    },
    "id": "9hrPbRTt3EcQ",
    "outputId": "a72a19fa-f078-4712-cfa8-5818a03792fd"
   },
   "outputs": [
    {
     "name": "stdout",
     "output_type": "stream",
     "text": [
      "Final Accuracy: 0.81676\n",
      "Recall Score: 0.75808\n",
      "f1 Score: 0.805337186079123\n",
      "Precision Score: 0.8588779117193873\n"
     ]
    }
   ],
   "source": [
    "final_tfidf = MultinomialNB(alpha=0.5)\n",
    "final_tfidf.fit(tfidf_X, target)\n",
    "print(\"Final Accuracy: %s\" \n",
    "       % accuracy_score(target, final_tfidf.predict(tfidf_X_test)))\n",
    "print(\"Recall Score: %s\" \n",
    "      % recall_score(target, final_tfidf.predict(tfidf_X_test)))\n",
    "print(\"f1 Score: %s\"\n",
    "      % f1_score(target, final_tfidf.predict(tfidf_X_test)))\n",
    "print(\"Precision Score: %s\"\n",
    "      % precision_score(target, final_tfidf.predict(tfidf_X_test)))\n",
    "\n",
    "new_row=[accuracy_score(target, final_tfidf.predict(tfidf_X_test)),\n",
    "                              recall_score(target, final_tfidf.predict(tfidf_X_test)),\n",
    "                              f1_score(target, final_tfidf.predict(tfidf_X_test)),\n",
    "                              precision_score(target, final_tfidf.predict(tfidf_X_test))]\n",
    "results.loc[len(results)]=new_row"
   ]
  },
  {
   "cell_type": "markdown",
   "metadata": {
    "id": "W6ivXF7pAvdt"
   },
   "source": [
    ">Using Ngram model based vectorization"
   ]
  },
  {
   "cell_type": "code",
   "execution_count": 112,
   "metadata": {
    "colab": {
     "base_uri": "https://localhost:8080/"
    },
    "id": "wshNXu1lAwRn",
    "outputId": "30cf1e7a-1f42-4373-e1af-c0573222d135"
   },
   "outputs": [
    {
     "name": "stdout",
     "output_type": "stream",
     "text": [
      "Accuracy for alpha=0.01: 0.8808\n",
      "Accuracy for alpha=0.05: 0.8848\n",
      "Accuracy for alpha=0.1: 0.88336\n",
      "Accuracy for alpha=0.5: 0.88144\n",
      "Accuracy for alpha=1: 0.88016\n"
     ]
    }
   ],
   "source": [
    "for c in [ 0.01, 0.05, 0.1, 0.5, 1]:\n",
    "    \n",
    "    clf = MultinomialNB(alpha=c)\n",
    "    clf.fit(X_train_ngram, y_train_ngram)\n",
    "    print(\"Accuracy for alpha=%s: %s\" \n",
    "           % (c, accuracy_score(y_val_ngram, clf.predict(X_val_ngram))))"
   ]
  },
  {
   "cell_type": "code",
   "execution_count": 113,
   "metadata": {
    "colab": {
     "base_uri": "https://localhost:8080/"
    },
    "id": "iz2mpEGy3Eny",
    "outputId": "4bd19029-c8e1-4981-d344-64b03e00ced7"
   },
   "outputs": [
    {
     "name": "stdout",
     "output_type": "stream",
     "text": [
      "Final Accuracy: 0.8702\n",
      "Recall Score: 0.8316\n",
      "f1 Score: 0.8649885583524027\n",
      "Precision Score: 0.9011703511053316\n"
     ]
    }
   ],
   "source": [
    "final_ngram = MultinomialNB(alpha=0.05)\n",
    "final_ngram.fit(Ngram_X, target)\n",
    "print(\"Final Accuracy: %s\" \n",
    "       % accuracy_score(target, final_ngram.predict(Ngram_X_test)))\n",
    "print(\"Recall Score: %s\" \n",
    "      % recall_score(target, final_ngram.predict(Ngram_X_test)))\n",
    "print(\"f1 Score: %s\"\n",
    "      % f1_score(target, final_ngram.predict(Ngram_X_test)))\n",
    "print(\"Precision Score: %s\"\n",
    "      % precision_score(target, final_ngram.predict(Ngram_X_test)))\n",
    "new_row=[accuracy_score(target, final_ngram.predict(Ngram_X_test)),\n",
    "                              recall_score(target, final_ngram.predict(Ngram_X_test)),\n",
    "                              f1_score(target, final_ngram.predict(Ngram_X_test)),\n",
    "                              precision_score(target, final_ngram.predict(Ngram_X_test))]\n",
    "results.loc[len(results)]=new_row"
   ]
  },
  {
   "cell_type": "markdown",
   "metadata": {
    "id": "b3g7mmTcJ_JD"
   },
   "source": [
    "### Comparative Study of the various classifiers used along with various evaluation metrics"
   ]
  },
  {
   "cell_type": "code",
   "execution_count": 114,
   "metadata": {
    "colab": {
     "base_uri": "https://localhost:8080/",
     "height": 229
    },
    "id": "29ytc8i0M-kP",
    "outputId": "3f398bd8-bd95-42d0-e02d-320f6c3d97ec"
   },
   "outputs": [
    {
     "data": {
      "text/html": [
       "<div>\n",
       "<style scoped>\n",
       "    .dataframe tbody tr th:only-of-type {\n",
       "        vertical-align: middle;\n",
       "    }\n",
       "\n",
       "    .dataframe tbody tr th {\n",
       "        vertical-align: top;\n",
       "    }\n",
       "\n",
       "    .dataframe thead th {\n",
       "        text-align: right;\n",
       "    }\n",
       "</style>\n",
       "<table border=\"1\" class=\"dataframe\">\n",
       "  <thead>\n",
       "    <tr style=\"text-align: right;\">\n",
       "      <th></th>\n",
       "      <th>Final Accuracy</th>\n",
       "      <th>Recall Score</th>\n",
       "      <th>f1 Score</th>\n",
       "      <th>Precision Score</th>\n",
       "    </tr>\n",
       "  </thead>\n",
       "  <tbody>\n",
       "    <tr>\n",
       "      <th>Logistic Regression (Tfidf)</th>\n",
       "      <td>0.88208</td>\n",
       "      <td>0.88152</td>\n",
       "      <td>0.882014</td>\n",
       "      <td>0.882508</td>\n",
       "    </tr>\n",
       "    <tr>\n",
       "      <th>Logistic Regression (Ngram)</th>\n",
       "      <td>0.90076</td>\n",
       "      <td>0.90840</td>\n",
       "      <td>0.901512</td>\n",
       "      <td>0.894729</td>\n",
       "    </tr>\n",
       "    <tr>\n",
       "      <th>SVM (Tfidf)</th>\n",
       "      <td>0.88328</td>\n",
       "      <td>0.88520</td>\n",
       "      <td>0.883504</td>\n",
       "      <td>0.881814</td>\n",
       "    </tr>\n",
       "    <tr>\n",
       "      <th>SVM (Ngram)</th>\n",
       "      <td>0.90112</td>\n",
       "      <td>0.90864</td>\n",
       "      <td>0.901858</td>\n",
       "      <td>0.895177</td>\n",
       "    </tr>\n",
       "    <tr>\n",
       "      <th>Multinomial Naive Bayes (Tfidf)</th>\n",
       "      <td>0.81676</td>\n",
       "      <td>0.75808</td>\n",
       "      <td>0.805337</td>\n",
       "      <td>0.858878</td>\n",
       "    </tr>\n",
       "    <tr>\n",
       "      <th>Multinomial Naive Bayes (Ngram)</th>\n",
       "      <td>0.87020</td>\n",
       "      <td>0.83160</td>\n",
       "      <td>0.864989</td>\n",
       "      <td>0.901170</td>\n",
       "    </tr>\n",
       "  </tbody>\n",
       "</table>\n",
       "</div>"
      ],
      "text/plain": [
       "                                 Final Accuracy  Recall Score  f1 Score  \\\n",
       "Logistic Regression (Tfidf)             0.88208       0.88152  0.882014   \n",
       "Logistic Regression (Ngram)             0.90076       0.90840  0.901512   \n",
       "SVM (Tfidf)                             0.88328       0.88520  0.883504   \n",
       "SVM (Ngram)                             0.90112       0.90864  0.901858   \n",
       "Multinomial Naive Bayes (Tfidf)         0.81676       0.75808  0.805337   \n",
       "Multinomial Naive Bayes (Ngram)         0.87020       0.83160  0.864989   \n",
       "\n",
       "                                 Precision Score  \n",
       "Logistic Regression (Tfidf)             0.882508  \n",
       "Logistic Regression (Ngram)             0.894729  \n",
       "SVM (Tfidf)                             0.881814  \n",
       "SVM (Ngram)                             0.895177  \n",
       "Multinomial Naive Bayes (Tfidf)         0.858878  \n",
       "Multinomial Naive Bayes (Ngram)         0.901170  "
      ]
     },
     "execution_count": 114,
     "metadata": {},
     "output_type": "execute_result"
    }
   ],
   "source": [
    "results.index=['Logistic Regression (Tfidf)','Logistic Regression (Ngram)','SVM (Tfidf)','SVM (Ngram)','Multinomial Naive Bayes (Tfidf)','Multinomial Naive Bayes (Ngram)'] \n",
    "results"
   ]
  },
  {
   "cell_type": "code",
   "execution_count": 115,
   "metadata": {
    "colab": {
     "base_uri": "https://localhost:8080/",
     "height": 156
    },
    "id": "e_w9R51xKvSR",
    "outputId": "9abe8428-f1d0-4235-c496-683ffab987c3"
   },
   "outputs": [
    {
     "data": {
      "text/html": [
       "<style  type=\"text/css\" >\n",
       "#T_5d7d8_row0_col0{\n",
       "            width:  10em;\n",
       "             height:  80%;\n",
       "            background:  linear-gradient(90deg,#d65f5f 77.4%, transparent 77.4%);\n",
       "        }#T_5d7d8_row0_col1{\n",
       "            width:  10em;\n",
       "             height:  80%;\n",
       "            background:  linear-gradient(90deg,#d65f5f 82.0%, transparent 82.0%);\n",
       "        }#T_5d7d8_row0_col2{\n",
       "            width:  10em;\n",
       "             height:  80%;\n",
       "            background:  linear-gradient(90deg,#d65f5f 79.4%, transparent 79.4%);\n",
       "        }#T_5d7d8_row0_col3{\n",
       "            width:  10em;\n",
       "             height:  80%;\n",
       "            background:  linear-gradient(90deg,#d65f5f 55.9%, transparent 55.9%);\n",
       "        }#T_5d7d8_row1_col0,#T_5d7d8_row1_col2{\n",
       "            width:  10em;\n",
       "             height:  80%;\n",
       "            background:  linear-gradient(90deg,#d65f5f 99.6%, transparent 99.6%);\n",
       "        }#T_5d7d8_row1_col1{\n",
       "            width:  10em;\n",
       "             height:  80%;\n",
       "            background:  linear-gradient(90deg,#d65f5f 99.8%, transparent 99.8%);\n",
       "        }#T_5d7d8_row1_col3{\n",
       "            width:  10em;\n",
       "             height:  80%;\n",
       "            background:  linear-gradient(90deg,#d65f5f 84.8%, transparent 84.8%);\n",
       "        }#T_5d7d8_row2_col0{\n",
       "            width:  10em;\n",
       "             height:  80%;\n",
       "            background:  linear-gradient(90deg,#d65f5f 78.9%, transparent 78.9%);\n",
       "        }#T_5d7d8_row2_col1{\n",
       "            width:  10em;\n",
       "             height:  80%;\n",
       "            background:  linear-gradient(90deg,#d65f5f 84.4%, transparent 84.4%);\n",
       "        }#T_5d7d8_row2_col2{\n",
       "            width:  10em;\n",
       "             height:  80%;\n",
       "            background:  linear-gradient(90deg,#d65f5f 81.0%, transparent 81.0%);\n",
       "        }#T_5d7d8_row2_col3{\n",
       "            width:  10em;\n",
       "             height:  80%;\n",
       "            background:  linear-gradient(90deg,#d65f5f 54.2%, transparent 54.2%);\n",
       "        }#T_5d7d8_row3_col0,#T_5d7d8_row3_col1,#T_5d7d8_row3_col2,#T_5d7d8_row5_col3{\n",
       "            width:  10em;\n",
       "             height:  80%;\n",
       "            background:  linear-gradient(90deg,#d65f5f 100.0%, transparent 100.0%);\n",
       "        }#T_5d7d8_row3_col3{\n",
       "            width:  10em;\n",
       "             height:  80%;\n",
       "            background:  linear-gradient(90deg,#d65f5f 85.8%, transparent 85.8%);\n",
       "        }#T_5d7d8_row4_col0,#T_5d7d8_row4_col1,#T_5d7d8_row4_col2,#T_5d7d8_row4_col3{\n",
       "            width:  10em;\n",
       "             height:  80%;\n",
       "        }#T_5d7d8_row5_col0{\n",
       "            width:  10em;\n",
       "             height:  80%;\n",
       "            background:  linear-gradient(90deg,#d65f5f 63.3%, transparent 63.3%);\n",
       "        }#T_5d7d8_row5_col1{\n",
       "            width:  10em;\n",
       "             height:  80%;\n",
       "            background:  linear-gradient(90deg,#d65f5f 48.8%, transparent 48.8%);\n",
       "        }#T_5d7d8_row5_col2{\n",
       "            width:  10em;\n",
       "             height:  80%;\n",
       "            background:  linear-gradient(90deg,#d65f5f 61.8%, transparent 61.8%);\n",
       "        }</style><table id=\"T_5d7d8_\" ><thead>    <tr>        <th class=\"blank level0\" ></th>        <th class=\"col_heading level0 col0\" >Final Accuracy</th>        <th class=\"col_heading level0 col1\" >Recall Score</th>        <th class=\"col_heading level0 col2\" >f1 Score</th>        <th class=\"col_heading level0 col3\" >Precision Score</th>    </tr></thead><tbody>\n",
       "                <tr>\n",
       "                        <th id=\"T_5d7d8_level0_row0\" class=\"row_heading level0 row0\" >Logistic Regression (Tfidf)</th>\n",
       "                        <td id=\"T_5d7d8_row0_col0\" class=\"data row0 col0\" >0.882080</td>\n",
       "                        <td id=\"T_5d7d8_row0_col1\" class=\"data row0 col1\" >0.881520</td>\n",
       "                        <td id=\"T_5d7d8_row0_col2\" class=\"data row0 col2\" >0.882014</td>\n",
       "                        <td id=\"T_5d7d8_row0_col3\" class=\"data row0 col3\" >0.882508</td>\n",
       "            </tr>\n",
       "            <tr>\n",
       "                        <th id=\"T_5d7d8_level0_row1\" class=\"row_heading level0 row1\" >Logistic Regression (Ngram)</th>\n",
       "                        <td id=\"T_5d7d8_row1_col0\" class=\"data row1 col0\" >0.900760</td>\n",
       "                        <td id=\"T_5d7d8_row1_col1\" class=\"data row1 col1\" >0.908400</td>\n",
       "                        <td id=\"T_5d7d8_row1_col2\" class=\"data row1 col2\" >0.901512</td>\n",
       "                        <td id=\"T_5d7d8_row1_col3\" class=\"data row1 col3\" >0.894729</td>\n",
       "            </tr>\n",
       "            <tr>\n",
       "                        <th id=\"T_5d7d8_level0_row2\" class=\"row_heading level0 row2\" >SVM (Tfidf)</th>\n",
       "                        <td id=\"T_5d7d8_row2_col0\" class=\"data row2 col0\" >0.883280</td>\n",
       "                        <td id=\"T_5d7d8_row2_col1\" class=\"data row2 col1\" >0.885200</td>\n",
       "                        <td id=\"T_5d7d8_row2_col2\" class=\"data row2 col2\" >0.883504</td>\n",
       "                        <td id=\"T_5d7d8_row2_col3\" class=\"data row2 col3\" >0.881814</td>\n",
       "            </tr>\n",
       "            <tr>\n",
       "                        <th id=\"T_5d7d8_level0_row3\" class=\"row_heading level0 row3\" >SVM (Ngram)</th>\n",
       "                        <td id=\"T_5d7d8_row3_col0\" class=\"data row3 col0\" >0.901120</td>\n",
       "                        <td id=\"T_5d7d8_row3_col1\" class=\"data row3 col1\" >0.908640</td>\n",
       "                        <td id=\"T_5d7d8_row3_col2\" class=\"data row3 col2\" >0.901858</td>\n",
       "                        <td id=\"T_5d7d8_row3_col3\" class=\"data row3 col3\" >0.895177</td>\n",
       "            </tr>\n",
       "            <tr>\n",
       "                        <th id=\"T_5d7d8_level0_row4\" class=\"row_heading level0 row4\" >Multinomial Naive Bayes (Tfidf)</th>\n",
       "                        <td id=\"T_5d7d8_row4_col0\" class=\"data row4 col0\" >0.816760</td>\n",
       "                        <td id=\"T_5d7d8_row4_col1\" class=\"data row4 col1\" >0.758080</td>\n",
       "                        <td id=\"T_5d7d8_row4_col2\" class=\"data row4 col2\" >0.805337</td>\n",
       "                        <td id=\"T_5d7d8_row4_col3\" class=\"data row4 col3\" >0.858878</td>\n",
       "            </tr>\n",
       "            <tr>\n",
       "                        <th id=\"T_5d7d8_level0_row5\" class=\"row_heading level0 row5\" >Multinomial Naive Bayes (Ngram)</th>\n",
       "                        <td id=\"T_5d7d8_row5_col0\" class=\"data row5 col0\" >0.870200</td>\n",
       "                        <td id=\"T_5d7d8_row5_col1\" class=\"data row5 col1\" >0.831600</td>\n",
       "                        <td id=\"T_5d7d8_row5_col2\" class=\"data row5 col2\" >0.864989</td>\n",
       "                        <td id=\"T_5d7d8_row5_col3\" class=\"data row5 col3\" >0.901170</td>\n",
       "            </tr>\n",
       "    </tbody></table>"
      ],
      "text/plain": [
       "<pandas.io.formats.style.Styler at 0x20c99e33040>"
      ]
     },
     "execution_count": 115,
     "metadata": {},
     "output_type": "execute_result"
    }
   ],
   "source": [
    "results.style\\\n",
    ".bar()"
   ]
  },
  {
   "cell_type": "code",
   "execution_count": 116,
   "metadata": {
    "colab": {
     "base_uri": "https://localhost:8080/",
     "height": 322
    },
    "id": "Qe-IF003TCHb",
    "outputId": "f7194e53-8eaf-4b54-c1ea-6b0a47772c64"
   },
   "outputs": [
    {
     "data": {
      "text/html": [
       "<style  type=\"text/css\" >\n",
       "#T_7136d_row0_col0{\n",
       "            background-color:  #1c6ab0;\n",
       "            color:  #f1f1f1;\n",
       "            padding:  12px;\n",
       "            border:  2px solid white;\n",
       "            width:  160px;\n",
       "        }#T_7136d_row0_col1{\n",
       "            background-color:  #135fa7;\n",
       "            color:  #f1f1f1;\n",
       "            padding:  12px;\n",
       "            border:  2px solid white;\n",
       "            width:  160px;\n",
       "        }#T_7136d_row0_col2{\n",
       "            background-color:  #1865ac;\n",
       "            color:  #f1f1f1;\n",
       "            padding:  12px;\n",
       "            border:  2px solid white;\n",
       "            width:  160px;\n",
       "        }#T_7136d_row0_col3{\n",
       "            background-color:  #57a0ce;\n",
       "            color:  #000000;\n",
       "            padding:  12px;\n",
       "            border:  2px solid white;\n",
       "            width:  160px;\n",
       "        }#T_7136d_row1_col0{\n",
       "            background-color:  #08316d;\n",
       "            color:  #f1f1f1;\n",
       "            padding:  12px;\n",
       "            border:  2px solid white;\n",
       "            width:  160px;\n",
       "        }#T_7136d_row1_col1,#T_7136d_row1_col2,#T_7136d_row3_col0,#T_7136d_row3_col1,#T_7136d_row3_col2,#T_7136d_row5_col3{\n",
       "            background-color:  #08306b;\n",
       "            color:  #f1f1f1;\n",
       "            padding:  12px;\n",
       "            border:  2px solid white;\n",
       "            width:  160px;\n",
       "        }#T_7136d_row1_col3{\n",
       "            background-color:  #0d57a1;\n",
       "            color:  #f1f1f1;\n",
       "            padding:  12px;\n",
       "            border:  2px solid white;\n",
       "            width:  160px;\n",
       "        }#T_7136d_row2_col0{\n",
       "            background-color:  #1967ad;\n",
       "            color:  #f1f1f1;\n",
       "            padding:  12px;\n",
       "            border:  2px solid white;\n",
       "            width:  160px;\n",
       "        }#T_7136d_row2_col1{\n",
       "            background-color:  #0e58a2;\n",
       "            color:  #f1f1f1;\n",
       "            padding:  12px;\n",
       "            border:  2px solid white;\n",
       "            width:  160px;\n",
       "        }#T_7136d_row2_col2{\n",
       "            background-color:  #1561a9;\n",
       "            color:  #f1f1f1;\n",
       "            padding:  12px;\n",
       "            border:  2px solid white;\n",
       "            width:  160px;\n",
       "        }#T_7136d_row2_col3{\n",
       "            background-color:  #5da5d1;\n",
       "            color:  #000000;\n",
       "            padding:  12px;\n",
       "            border:  2px solid white;\n",
       "            width:  160px;\n",
       "        }#T_7136d_row3_col3{\n",
       "            background-color:  #0b559f;\n",
       "            color:  #f1f1f1;\n",
       "            padding:  12px;\n",
       "            border:  2px solid white;\n",
       "            width:  160px;\n",
       "        }#T_7136d_row4_col0,#T_7136d_row4_col1,#T_7136d_row4_col2,#T_7136d_row4_col3{\n",
       "            background-color:  #f7fbff;\n",
       "            color:  #000000;\n",
       "            padding:  12px;\n",
       "            border:  2px solid white;\n",
       "            width:  160px;\n",
       "        }#T_7136d_row5_col0{\n",
       "            background-color:  #3f8fc5;\n",
       "            color:  #000000;\n",
       "            padding:  12px;\n",
       "            border:  2px solid white;\n",
       "            width:  160px;\n",
       "        }#T_7136d_row5_col1{\n",
       "            background-color:  #6fb0d7;\n",
       "            color:  #000000;\n",
       "            padding:  12px;\n",
       "            border:  2px solid white;\n",
       "            width:  160px;\n",
       "        }#T_7136d_row5_col2{\n",
       "            background-color:  #4493c7;\n",
       "            color:  #000000;\n",
       "            padding:  12px;\n",
       "            border:  2px solid white;\n",
       "            width:  160px;\n",
       "        }</style><table id=\"T_7136d_\" ><caption>Evaluation Scores with Bar Chart</caption><thead>    <tr>        <th class=\"blank level0\" ></th>        <th class=\"col_heading level0 col0\" >Final Accuracy</th>        <th class=\"col_heading level0 col1\" >Recall Score</th>        <th class=\"col_heading level0 col2\" >f1 Score</th>        <th class=\"col_heading level0 col3\" >Precision Score</th>    </tr></thead><tbody>\n",
       "                <tr>\n",
       "                        <th id=\"T_7136d_level0_row0\" class=\"row_heading level0 row0\" >Logistic Regression (Tfidf)</th>\n",
       "                        <td id=\"T_7136d_row0_col0\" class=\"data row0 col0\" >0.8821</td>\n",
       "                        <td id=\"T_7136d_row0_col1\" class=\"data row0 col1\" >0.8815</td>\n",
       "                        <td id=\"T_7136d_row0_col2\" class=\"data row0 col2\" >0.8820</td>\n",
       "                        <td id=\"T_7136d_row0_col3\" class=\"data row0 col3\" >0.8825</td>\n",
       "            </tr>\n",
       "            <tr>\n",
       "                        <th id=\"T_7136d_level0_row1\" class=\"row_heading level0 row1\" >Logistic Regression (Ngram)</th>\n",
       "                        <td id=\"T_7136d_row1_col0\" class=\"data row1 col0\" >0.9008</td>\n",
       "                        <td id=\"T_7136d_row1_col1\" class=\"data row1 col1\" >0.9084</td>\n",
       "                        <td id=\"T_7136d_row1_col2\" class=\"data row1 col2\" >0.9015</td>\n",
       "                        <td id=\"T_7136d_row1_col3\" class=\"data row1 col3\" >0.8947</td>\n",
       "            </tr>\n",
       "            <tr>\n",
       "                        <th id=\"T_7136d_level0_row2\" class=\"row_heading level0 row2\" >SVM (Tfidf)</th>\n",
       "                        <td id=\"T_7136d_row2_col0\" class=\"data row2 col0\" >0.8833</td>\n",
       "                        <td id=\"T_7136d_row2_col1\" class=\"data row2 col1\" >0.8852</td>\n",
       "                        <td id=\"T_7136d_row2_col2\" class=\"data row2 col2\" >0.8835</td>\n",
       "                        <td id=\"T_7136d_row2_col3\" class=\"data row2 col3\" >0.8818</td>\n",
       "            </tr>\n",
       "            <tr>\n",
       "                        <th id=\"T_7136d_level0_row3\" class=\"row_heading level0 row3\" >SVM (Ngram)</th>\n",
       "                        <td id=\"T_7136d_row3_col0\" class=\"data row3 col0\" >0.9011</td>\n",
       "                        <td id=\"T_7136d_row3_col1\" class=\"data row3 col1\" >0.9086</td>\n",
       "                        <td id=\"T_7136d_row3_col2\" class=\"data row3 col2\" >0.9019</td>\n",
       "                        <td id=\"T_7136d_row3_col3\" class=\"data row3 col3\" >0.8952</td>\n",
       "            </tr>\n",
       "            <tr>\n",
       "                        <th id=\"T_7136d_level0_row4\" class=\"row_heading level0 row4\" >Multinomial Naive Bayes (Tfidf)</th>\n",
       "                        <td id=\"T_7136d_row4_col0\" class=\"data row4 col0\" >0.8168</td>\n",
       "                        <td id=\"T_7136d_row4_col1\" class=\"data row4 col1\" >0.7581</td>\n",
       "                        <td id=\"T_7136d_row4_col2\" class=\"data row4 col2\" >0.8053</td>\n",
       "                        <td id=\"T_7136d_row4_col3\" class=\"data row4 col3\" >0.8589</td>\n",
       "            </tr>\n",
       "            <tr>\n",
       "                        <th id=\"T_7136d_level0_row5\" class=\"row_heading level0 row5\" >Multinomial Naive Bayes (Ngram)</th>\n",
       "                        <td id=\"T_7136d_row5_col0\" class=\"data row5 col0\" >0.8702</td>\n",
       "                        <td id=\"T_7136d_row5_col1\" class=\"data row5 col1\" >0.8316</td>\n",
       "                        <td id=\"T_7136d_row5_col2\" class=\"data row5 col2\" >0.8650</td>\n",
       "                        <td id=\"T_7136d_row5_col3\" class=\"data row5 col3\" >0.9012</td>\n",
       "            </tr>\n",
       "    </tbody></table>"
      ],
      "text/plain": [
       "<pandas.io.formats.style.Styler at 0x20cce483cd0>"
      ]
     },
     "execution_count": 116,
     "metadata": {},
     "output_type": "execute_result"
    }
   ],
   "source": [
    "pd.set_option('display.max_colwidth', 40)\n",
    "\n",
    "results.style \\\n",
    "  .format('{:.4f}') \\\n",
    "  .background_gradient(cmap='Blues') \\\n",
    "  .set_caption('Evaluation Scores with Bar Chart') \\\n",
    "  .set_properties(padding=\"12px\", border='2px solid white', width='160px')"
   ]
  },
  {
   "cell_type": "code",
   "execution_count": 117,
   "metadata": {
    "colab": {
     "base_uri": "https://localhost:8080/",
     "height": 542
    },
    "id": "O6MWDSpN8CnJ",
    "outputId": "2d51f524-68c5-4011-ff0e-37256ade5f6c"
   },
   "outputs": [
    {
     "data": {
      "image/png": "[encoded data removed]"
     },
     "metadata": {},
     "output_type": "display_data"
    }
   ],
   "source": [
    "vector_comp=results.copy()\n",
    "vector_comp.index=['Logistic Regression','Logistic Regression','SVM ','SVM ','Multinomial Naive Bayes','Multinomial Naive Bayes'] \n",
    "\n",
    "fig = go.Figure()\n",
    "fig.add_trace(go.Bar( x=vector_comp.index[::2], y=vector_comp['Final Accuracy'][::2],\n",
    "                     marker_color='rgb(55, 83, 109)', name='TFIDF'\n",
    "                ))\n",
    "fig.add_trace(go.Bar( x=vector_comp.index[1::2], y=vector_comp['Final Accuracy'][1::2],\n",
    "                marker_color='rgb(26, 118, 255)', name='N-gram Model'\n",
    "                ))\n",
    "fig.update_layout(\n",
    "    title='Comparison of Accuracy of with respect\\nto text vectorization applied',\n",
    "    xaxis_tickfont_size=18,\n",
    "    yaxis=dict(\n",
    "        title='Accuracy Score',\n",
    "        titlefont_size=18,\n",
    "        tickfont_size=14,\n",
    "    ),\n",
    "    legend=dict(\n",
    "        x=1.0,\n",
    "        y=1.0,\n",
    "        bgcolor='rgba(255, 255, 255, 0)',\n",
    "        bordercolor='rgba(255, 255, 255, 0)',\n",
    "    ),\n",
    "    legend_font_size=18)\n",
    "fig.update_xaxes(showline=True, linewidth=1, linecolor='black')\n",
    "fig.update_yaxes(showline=True, linewidth=1, linecolor='black')\n",
    "\n",
    "fig.show(\"png\")"
   ]
  },
  {
   "cell_type": "code",
   "execution_count": 131,
   "metadata": {
    "colab": {
     "base_uri": "https://localhost:8080/",
     "height": 542
    },
    "id": "pjckb9tzHmVI",
    "outputId": "48b991ac-12b7-4d6f-b08f-764306236317"
   },
   "outputs": [
    {
     "data": {
      "image/svg+xml": [
       "<svg class=\"main-svg\" xmlns=\"http://www.w3.org/2000/svg\" xmlns:xlink=\"http://www.w3.org/1999/xlink\" width=\"700\" height=\"450\" style=\"\" viewBox=\"0 0 700 450\"><rect x=\"0\" y=\"0\" width=\"700\" height=\"450\" style=\"fill: rgb(255, 255, 255); fill-opacity: 1;\"/><defs id=\"defs-3239f2\"><g class=\"clips\"><clipPath id=\"clip3239f2xyplot\" class=\"plotclip\"><rect width=\"439\" height=\"253\"/></clipPath><clipPath class=\"axesclip\" id=\"clip3239f2x\"><rect x=\"80\" y=\"0\" width=\"439\" height=\"450\"/></clipPath><clipPath class=\"axesclip\" id=\"clip3239f2y\"><rect x=\"0\" y=\"100\" width=\"700\" height=\"253\"/></clipPath><clipPath class=\"axesclip\" id=\"clip3239f2xy\"><rect x=\"80\" y=\"100\" width=\"439\" height=\"253\"/></clipPath></g><g class=\"gradients\"/></defs><g class=\"bglayer\"><rect class=\"bg\" x=\"80\" y=\"100\" width=\"439\" height=\"253\" style=\"fill: rgb(229, 236, 246); fill-opacity: 1; stroke-width: 0;\"/></g><g class=\"layer-below\"><g class=\"imagelayer\"/><g class=\"shapelayer\"/></g><g class=\"cartesianlayer\"><g class=\"subplot xy\"><g class=\"layer-subplot\"><g class=\"shapelayer\"/><g class=\"imagelayer\"/></g><g class=\"gridlayer\"><g class=\"x\"><path class=\"xgrid crisp\" transform=\"translate(105.7,0)\" d=\"M0,100v253\" style=\"stroke: rgb(255, 255, 255); stroke-opacity: 1; stroke-width: 1px;\"/><path class=\"xgrid crisp\" transform=\"translate(183.22,0)\" d=\"M0,100v253\" style=\"stroke: rgb(255, 255, 255); stroke-opacity: 1; stroke-width: 1px;\"/><path class=\"xgrid crisp\" transform=\"translate(260.74,0)\" d=\"M0,100v253\" style=\"stroke: rgb(255, 255, 255); stroke-opacity: 1; stroke-width: 1px;\"/><path class=\"xgrid crisp\" transform=\"translate(338.26,0)\" d=\"M0,100v253\" style=\"stroke: rgb(255, 255, 255); stroke-opacity: 1; stroke-width: 1px;\"/><path class=\"xgrid crisp\" transform=\"translate(415.78,0)\" d=\"M0,100v253\" style=\"stroke: rgb(255, 255, 255); stroke-opacity: 1; stroke-width: 1px;\"/><path class=\"xgrid crisp\" transform=\"translate(493.3,0)\" d=\"M0,100v253\" style=\"stroke: rgb(255, 255, 255); stroke-opacity: 1; stroke-width: 1px;\"/></g><g class=\"y\"><path class=\"ygrid crisp\" transform=\"translate(0,348.41999999999996)\" d=\"M80,0h439\" style=\"stroke: rgb(255, 255, 255); stroke-opacity: 1; stroke-width: 1px;\"/><path class=\"ygrid crisp\" transform=\"translate(0,275.28999999999996)\" d=\"M80,0h439\" style=\"stroke: rgb(255, 255, 255); stroke-opacity: 1; stroke-width: 1px;\"/><path class=\"ygrid crisp\" transform=\"translate(0,202.16)\" d=\"M80,0h439\" style=\"stroke: rgb(255, 255, 255); stroke-opacity: 1; stroke-width: 1px;\"/><path class=\"ygrid crisp\" transform=\"translate(0,129.04)\" d=\"M80,0h439\" style=\"stroke: rgb(255, 255, 255); stroke-opacity: 1; stroke-width: 1px;\"/></g></g><g class=\"zerolinelayer\"/><path class=\"xlines-below\"/><path class=\"ylines-below\"/><g class=\"overlines-below\"/><g class=\"xaxislayer-below\"/><g class=\"yaxislayer-below\"/><g class=\"overaxes-below\"/><g class=\"plot\" transform=\"translate(80,100)\" clip-path=\"url('#clip3239f2xyplot')\"><g class=\"scatterlayer mlayer\"><g class=\"trace scatter trace29fb60\" style=\"stroke-miterlimit: 2; opacity: 1;\"><g class=\"fills\"/><g class=\"errorbars\"/><g class=\"lines\"><path class=\"js-line\" d=\"M25.7,55.25L103.22,27.92L180.74,53.49L258.26,27.4L335.78,150.78L413.3,72.62\" style=\"vector-effect: non-scaling-stroke; fill: none; stroke: rgb(99, 110, 250); stroke-opacity: 1; stroke-width: 4px; opacity: 1;\"/></g><g class=\"points\"><path class=\"point\" transform=\"translate(25.7,55.25)\" d=\"M3,0A3,3 0 1,1 0,-3A3,3 0 0,1 3,0Z\" style=\"opacity: 1; stroke-width: 0px; fill: rgb(99, 110, 250); fill-opacity: 1;\"/><path class=\"point\" transform=\"translate(103.22,27.92)\" d=\"M3,0A3,3 0 1,1 0,-3A3,3 0 0,1 3,0Z\" style=\"opacity: 1; stroke-width: 0px; fill: rgb(99, 110, 250); fill-opacity: 1;\"/><path class=\"point\" transform=\"translate(180.74,53.49)\" d=\"M3,0A3,3 0 1,1 0,-3A3,3 0 0,1 3,0Z\" style=\"opacity: 1; stroke-width: 0px; fill: rgb(99, 110, 250); fill-opacity: 1;\"/><path class=\"point\" transform=\"translate(258.26,27.4)\" d=\"M3,0A3,3 0 1,1 0,-3A3,3 0 0,1 3,0Z\" style=\"opacity: 1; stroke-width: 0px; fill: rgb(99, 110, 250); fill-opacity: 1;\"/><path class=\"point\" transform=\"translate(335.78,150.78)\" d=\"M3,0A3,3 0 1,1 0,-3A3,3 0 0,1 3,0Z\" style=\"opacity: 1; stroke-width: 0px; fill: rgb(99, 110, 250); fill-opacity: 1;\"/><path class=\"point\" transform=\"translate(413.3,72.62)\" d=\"M3,0A3,3 0 1,1 0,-3A3,3 0 0,1 3,0Z\" style=\"opacity: 1; stroke-width: 0px; fill: rgb(99, 110, 250); fill-opacity: 1;\"/></g><g class=\"text\"/></g><g class=\"trace scatter trace800326\" style=\"stroke-miterlimit: 2; opacity: 1;\"><g class=\"fills\"/><g class=\"errorbars\"/><g class=\"lines\"><path class=\"js-line\" d=\"M25.7,56.06L103.22,16.75L180.74,50.68L258.26,16.4L335.78,236.6L413.3,129.07\" style=\"vector-effect: non-scaling-stroke; fill: none; stroke: rgb(239, 85, 59); stroke-opacity: 1; stroke-width: 4px; opacity: 1; stroke-dasharray: 4px, 4px;\"/></g><g class=\"points\"><path class=\"point\" transform=\"translate(25.7,56.06)\" d=\"M3,0A3,3 0 1,1 0,-3A3,3 0 0,1 3,0Z\" style=\"opacity: 1; stroke-width: 0px; fill: rgb(239, 85, 59); fill-opacity: 1;\"/><path class=\"point\" transform=\"translate(103.22,16.75)\" d=\"M3,0A3,3 0 1,1 0,-3A3,3 0 0,1 3,0Z\" style=\"opacity: 1; stroke-width: 0px; fill: rgb(239, 85, 59); fill-opacity: 1;\"/><path class=\"point\" transform=\"translate(180.74,50.68)\" d=\"M3,0A3,3 0 1,1 0,-3A3,3 0 0,1 3,0Z\" style=\"opacity: 1; stroke-width: 0px; fill: rgb(239, 85, 59); fill-opacity: 1;\"/><path class=\"point\" transform=\"translate(258.26,16.4)\" d=\"M3,0A3,3 0 1,1 0,-3A3,3 0 0,1 3,0Z\" style=\"opacity: 1; stroke-width: 0px; fill: rgb(239, 85, 59); fill-opacity: 1;\"/><path class=\"point\" transform=\"translate(335.78,236.6)\" d=\"M3,0A3,3 0 1,1 0,-3A3,3 0 0,1 3,0Z\" style=\"opacity: 1; stroke-width: 0px; fill: rgb(239, 85, 59); fill-opacity: 1;\"/><path class=\"point\" transform=\"translate(413.3,129.07)\" d=\"M3,0A3,3 0 1,1 0,-3A3,3 0 0,1 3,0Z\" style=\"opacity: 1; stroke-width: 0px; fill: rgb(239, 85, 59); fill-opacity: 1;\"/></g><g class=\"text\"/></g><g class=\"trace scatter trace4803cb\" style=\"stroke-miterlimit: 2; opacity: 1;\"><g class=\"fills\"/><g class=\"errorbars\"/><g class=\"lines\"><path class=\"js-line\" d=\"M25.7,55.34L103.22,26.82L180.74,53.16L258.26,26.32L335.78,167.48L413.3,80.24\" style=\"vector-effect: non-scaling-stroke; fill: none; stroke: rgb(0, 204, 150); stroke-opacity: 1; stroke-width: 4px; opacity: 1;\"/></g><g class=\"points\"><path class=\"point\" transform=\"translate(25.7,55.34)\" d=\"M3,0A3,3 0 1,1 0,-3A3,3 0 0,1 3,0Z\" style=\"opacity: 1; stroke-width: 0px; fill: rgb(0, 204, 150); fill-opacity: 1;\"/><path class=\"point\" transform=\"translate(103.22,26.82)\" d=\"M3,0A3,3 0 1,1 0,-3A3,3 0 0,1 3,0Z\" style=\"opacity: 1; stroke-width: 0px; fill: rgb(0, 204, 150); fill-opacity: 1;\"/><path class=\"point\" transform=\"translate(180.74,53.16)\" d=\"M3,0A3,3 0 1,1 0,-3A3,3 0 0,1 3,0Z\" style=\"opacity: 1; stroke-width: 0px; fill: rgb(0, 204, 150); fill-opacity: 1;\"/><path class=\"point\" transform=\"translate(258.26,26.32)\" d=\"M3,0A3,3 0 1,1 0,-3A3,3 0 0,1 3,0Z\" style=\"opacity: 1; stroke-width: 0px; fill: rgb(0, 204, 150); fill-opacity: 1;\"/><path class=\"point\" transform=\"translate(335.78,167.48)\" d=\"M3,0A3,3 0 1,1 0,-3A3,3 0 0,1 3,0Z\" style=\"opacity: 1; stroke-width: 0px; fill: rgb(0, 204, 150); fill-opacity: 1;\"/><path class=\"point\" transform=\"translate(413.3,80.24)\" d=\"M3,0A3,3 0 1,1 0,-3A3,3 0 0,1 3,0Z\" style=\"opacity: 1; stroke-width: 0px; fill: rgb(0, 204, 150); fill-opacity: 1;\"/></g><g class=\"text\"/></g><g class=\"trace scatter traceeb2a01\" style=\"stroke-miterlimit: 2; opacity: 1;\"><g class=\"fills\"/><g class=\"errorbars\"/><g class=\"lines\"><path class=\"js-line\" d=\"M25.7,54.62L103.22,36.75L180.74,55.63L258.26,36.09L335.78,89.18L413.3,27.32\" style=\"vector-effect: non-scaling-stroke; fill: none; stroke: rgb(171, 99, 250); stroke-opacity: 1; stroke-width: 4px; opacity: 1; stroke-dasharray: 4px, 4px;\"/></g><g class=\"points\"><path class=\"point\" transform=\"translate(25.7,54.62)\" d=\"M3,0A3,3 0 1,1 0,-3A3,3 0 0,1 3,0Z\" style=\"opacity: 1; stroke-width: 0px; fill: rgb(171, 99, 250); fill-opacity: 1;\"/><path class=\"point\" transform=\"translate(103.22,36.75)\" d=\"M3,0A3,3 0 1,1 0,-3A3,3 0 0,1 3,0Z\" style=\"opacity: 1; stroke-width: 0px; fill: rgb(171, 99, 250); fill-opacity: 1;\"/><path class=\"point\" transform=\"translate(180.74,55.63)\" d=\"M3,0A3,3 0 1,1 0,-3A3,3 0 0,1 3,0Z\" style=\"opacity: 1; stroke-width: 0px; fill: rgb(171, 99, 250); fill-opacity: 1;\"/><path class=\"point\" transform=\"translate(258.26,36.09)\" d=\"M3,0A3,3 0 1,1 0,-3A3,3 0 0,1 3,0Z\" style=\"opacity: 1; stroke-width: 0px; fill: rgb(171, 99, 250); fill-opacity: 1;\"/><path class=\"point\" transform=\"translate(335.78,89.18)\" d=\"M3,0A3,3 0 1,1 0,-3A3,3 0 0,1 3,0Z\" style=\"opacity: 1; stroke-width: 0px; fill: rgb(171, 99, 250); fill-opacity: 1;\"/><path class=\"point\" transform=\"translate(413.3,27.32)\" d=\"M3,0A3,3 0 1,1 0,-3A3,3 0 0,1 3,0Z\" style=\"opacity: 1; stroke-width: 0px; fill: rgb(171, 99, 250); fill-opacity: 1;\"/></g><g class=\"text\"/></g></g></g><g class=\"overplot\"/><path class=\"xlines-above crisp\" d=\"M0,0\" style=\"fill: none;\"/><path class=\"ylines-above crisp\" d=\"M0,0\" style=\"fill: none;\"/><g class=\"overlines-above\"/><g class=\"xaxislayer-above\"><g class=\"xtick\"><text text-anchor=\"start\" x=\"0\" y=\"366\" transform=\"translate(105.7,0) rotate(30,0,360)\" style=\"font-family: 'Open Sans', verdana, arial, sans-serif; font-size: 12px; fill: rgb(42, 63, 95); fill-opacity: 1; white-space: pre;\"><tspan class=\"line\" dy=\"0em\" x=\"0\" y=\"366\">Logistic Regression</tspan><tspan class=\"line\" dy=\"1.3em\" x=\"0\" y=\"366\"> (Tfidf)</tspan></text></g><g class=\"xtick\"><text text-anchor=\"start\" x=\"0\" y=\"366\" transform=\"translate(183.22,0) rotate(30,0,360)\" style=\"font-family: 'Open Sans', verdana, arial, sans-serif; font-size: 12px; fill: rgb(42, 63, 95); fill-opacity: 1; white-space: pre;\"><tspan class=\"line\" dy=\"0em\" x=\"0\" y=\"366\">Logistic Regression</tspan><tspan class=\"line\" dy=\"1.3em\" x=\"0\" y=\"366\"> (Ngram)</tspan></text></g><g class=\"xtick\"><text text-anchor=\"start\" x=\"0\" y=\"366\" transform=\"translate(260.74,0) rotate(30,0,360)\" style=\"font-family: 'Open Sans', verdana, arial, sans-serif; font-size: 12px; fill: rgb(42, 63, 95); fill-opacity: 1; white-space: pre;\"><tspan class=\"line\" dy=\"0em\" x=\"0\" y=\"366\">SVM </tspan><tspan class=\"line\" dy=\"1.3em\" x=\"0\" y=\"366\">(Tfidf)</tspan></text></g><g class=\"xtick\"><text text-anchor=\"start\" x=\"0\" y=\"366\" transform=\"translate(338.26,0) rotate(30,0,360)\" style=\"font-family: 'Open Sans', verdana, arial, sans-serif; font-size: 12px; fill: rgb(42, 63, 95); fill-opacity: 1; white-space: pre;\"><tspan class=\"line\" dy=\"0em\" x=\"0\" y=\"366\">SVM</tspan><tspan class=\"line\" dy=\"1.3em\" x=\"0\" y=\"366\"> (Ngram)</tspan></text></g><g class=\"xtick\"><text text-anchor=\"start\" x=\"0\" y=\"366\" transform=\"translate(415.78,0) rotate(30,0,360)\" style=\"font-family: 'Open Sans', verdana, arial, sans-serif; font-size: 12px; fill: rgb(42, 63, 95); fill-opacity: 1; white-space: pre;\"><tspan class=\"line\" dy=\"0em\" x=\"0\" y=\"366\">Multinomial NB</tspan><tspan class=\"line\" dy=\"1.3em\" x=\"0\" y=\"366\"> (Tfidf)</tspan></text></g><g class=\"xtick\"><text text-anchor=\"start\" x=\"0\" y=\"366\" transform=\"translate(493.3,0) rotate(30,0,360)\" style=\"font-family: 'Open Sans', verdana, arial, sans-serif; font-size: 12px; fill: rgb(42, 63, 95); fill-opacity: 1; white-space: pre;\"><tspan class=\"line\" dy=\"0em\" x=\"0\" y=\"366\">Multinomial NB</tspan><tspan class=\"line\" dy=\"1.3em\" x=\"0\" y=\"366\"> (Ngram)</tspan></text></g></g><g class=\"yaxislayer-above\"><g class=\"ytick\"><text text-anchor=\"end\" x=\"79\" y=\"4.199999999999999\" transform=\"translate(0,348.41999999999996)\" style=\"font-family: 'Open Sans', verdana, arial, sans-serif; font-size: 12px; fill: rgb(42, 63, 95); fill-opacity: 1; white-space: pre;\">0.75</text></g><g class=\"ytick\"><text text-anchor=\"end\" x=\"79\" y=\"4.199999999999999\" transform=\"translate(0,275.28999999999996)\" style=\"font-family: 'Open Sans', verdana, arial, sans-serif; font-size: 12px; fill: rgb(42, 63, 95); fill-opacity: 1; white-space: pre;\">0.8</text></g><g class=\"ytick\"><text text-anchor=\"end\" x=\"79\" y=\"4.199999999999999\" transform=\"translate(0,202.16)\" style=\"font-family: 'Open Sans', verdana, arial, sans-serif; font-size: 12px; fill: rgb(42, 63, 95); fill-opacity: 1; white-space: pre;\">0.85</text></g><g class=\"ytick\"><text text-anchor=\"end\" x=\"79\" y=\"4.199999999999999\" transform=\"translate(0,129.04)\" style=\"font-family: 'Open Sans', verdana, arial, sans-serif; font-size: 12px; fill: rgb(42, 63, 95); fill-opacity: 1; white-space: pre;\">0.9</text></g></g><g class=\"overaxes-above\"/></g></g><g class=\"polarlayer\"/><g class=\"ternarylayer\"/><g class=\"geolayer\"/><g class=\"funnelarealayer\"/><g class=\"pielayer\"/><g class=\"treemaplayer\"/><g class=\"sunburstlayer\"/><g class=\"glimages\"/><defs id=\"topdefs-3239f2\"><g class=\"clips\"/><clipPath id=\"legend3239f2\"><rect width=\"160\" height=\"86\" x=\"0\" y=\"0\"/></clipPath></defs><g class=\"layer-above\"><g class=\"imagelayer\"/><g class=\"shapelayer\"/></g><g class=\"infolayer\"><g class=\"legend\" pointer-events=\"all\" transform=\"translate(527.78,100)\"><rect class=\"bg\" shape-rendering=\"crispEdges\" width=\"160\" height=\"86\" x=\"0\" y=\"0\" style=\"stroke: rgb(68, 68, 68); stroke-opacity: 1; fill: rgb(255, 255, 255); fill-opacity: 1; stroke-width: 0px;\"/><g class=\"scrollbox\" transform=\"\" clip-path=\"url('#legend3239f2')\"><g class=\"groups\"><g class=\"traces\" transform=\"translate(0,14.5)\" style=\"opacity: 1;\"><text class=\"legendtext\" text-anchor=\"start\" x=\"40\" y=\"4.680000000000001\" style=\"font-family: 'Open Sans', verdana, arial, sans-serif; font-size: 12px; fill: rgb(42, 63, 95); fill-opacity: 1; white-space: pre;\">FINAL ACCURACY</text><g class=\"layers\" style=\"opacity: 1;\"><g class=\"legendfill\"/><g class=\"legendlines\"><path class=\"js-line\" d=\"M5,0h30\" style=\"fill: none; stroke: rgb(99, 110, 250); stroke-opacity: 1; stroke-width: 4px;\"/></g><g class=\"legendsymbols\"><g class=\"legendpoints\"><path class=\"scatterpts\" transform=\"translate(20,0)\" d=\"M3,0A3,3 0 1,1 0,-3A3,3 0 0,1 3,0Z\" style=\"opacity: 1; stroke-width: 0px; fill: rgb(99, 110, 250); fill-opacity: 1;\"/></g></g></g><rect class=\"legendtoggle\" x=\"0\" y=\"-9.5\" width=\"154.453125\" height=\"19\" style=\"fill: rgb(0, 0, 0); fill-opacity: 0;\"/></g><g class=\"traces\" transform=\"translate(0,33.5)\" style=\"opacity: 1;\"><text class=\"legendtext\" text-anchor=\"start\" x=\"40\" y=\"4.680000000000001\" style=\"font-family: 'Open Sans', verdana, arial, sans-serif; font-size: 12px; fill: rgb(42, 63, 95); fill-opacity: 1; white-space: pre;\">RECALL SCORE</text><g class=\"layers\" style=\"opacity: 1;\"><g class=\"legendfill\"/><g class=\"legendlines\"><path class=\"js-line\" d=\"M5,0h30\" style=\"fill: none; stroke: rgb(239, 85, 59); stroke-opacity: 1; stroke-dasharray: 4px, 4px; stroke-width: 4px;\"/></g><g class=\"legendsymbols\"><g class=\"legendpoints\"><path class=\"scatterpts\" transform=\"translate(20,0)\" d=\"M3,0A3,3 0 1,1 0,-3A3,3 0 0,1 3,0Z\" style=\"opacity: 1; stroke-width: 0px; fill: rgb(239, 85, 59); fill-opacity: 1;\"/></g></g></g><rect class=\"legendtoggle\" x=\"0\" y=\"-9.5\" width=\"154.453125\" height=\"19\" style=\"fill: rgb(0, 0, 0); fill-opacity: 0;\"/></g><g class=\"traces\" transform=\"translate(0,52.5)\" style=\"opacity: 1;\"><text class=\"legendtext\" text-anchor=\"start\" x=\"40\" y=\"4.680000000000001\" style=\"font-family: 'Open Sans', verdana, arial, sans-serif; font-size: 12px; fill: rgb(42, 63, 95); fill-opacity: 1; white-space: pre;\">F1 SCORE</text><g class=\"layers\" style=\"opacity: 1;\"><g class=\"legendfill\"/><g class=\"legendlines\"><path class=\"js-line\" d=\"M5,0h30\" style=\"fill: none; stroke: rgb(0, 204, 150); stroke-opacity: 1; stroke-width: 4px;\"/></g><g class=\"legendsymbols\"><g class=\"legendpoints\"><path class=\"scatterpts\" transform=\"translate(20,0)\" d=\"M3,0A3,3 0 1,1 0,-3A3,3 0 0,1 3,0Z\" style=\"opacity: 1; stroke-width: 0px; fill: rgb(0, 204, 150); fill-opacity: 1;\"/></g></g></g><rect class=\"legendtoggle\" x=\"0\" y=\"-9.5\" width=\"154.453125\" height=\"19\" style=\"fill: rgb(0, 0, 0); fill-opacity: 0;\"/></g><g class=\"traces\" transform=\"translate(0,71.5)\" style=\"opacity: 1;\"><text class=\"legendtext\" text-anchor=\"start\" x=\"40\" y=\"4.680000000000001\" style=\"font-family: 'Open Sans', verdana, arial, sans-serif; font-size: 12px; fill: rgb(42, 63, 95); fill-opacity: 1; white-space: pre;\">PRECISION SCORE</text><g class=\"layers\" style=\"opacity: 1;\"><g class=\"legendfill\"/><g class=\"legendlines\"><path class=\"js-line\" d=\"M5,0h30\" style=\"fill: none; stroke: rgb(171, 99, 250); stroke-opacity: 1; stroke-dasharray: 4px, 4px; stroke-width: 4px;\"/></g><g class=\"legendsymbols\"><g class=\"legendpoints\"><path class=\"scatterpts\" transform=\"translate(20,0)\" d=\"M3,0A3,3 0 1,1 0,-3A3,3 0 0,1 3,0Z\" style=\"opacity: 1; stroke-width: 0px; fill: rgb(171, 99, 250); fill-opacity: 1;\"/></g></g></g><rect class=\"legendtoggle\" x=\"0\" y=\"-9.5\" width=\"154.453125\" height=\"19\" style=\"fill: rgb(0, 0, 0); fill-opacity: 0;\"/></g></g></g><rect class=\"scrollbar\" rx=\"20\" ry=\"3\" width=\"0\" height=\"0\" x=\"0\" y=\"0\" style=\"fill: rgb(128, 139, 164); fill-opacity: 1;\"/></g><g class=\"g-gtitle\"><text class=\"gtitle\" x=\"35\" y=\"50\" text-anchor=\"start\" dy=\"0em\" style=\"font-family: 'Open Sans', verdana, arial, sans-serif; font-size: 17px; fill: rgb(42, 63, 95); opacity: 1; font-weight: normal; white-space: pre;\">Comparison of Evaluation metrics obtained using different approaches</text></g><g class=\"g-xtitle\"/><g class=\"g-ytitle\"/></g></svg>"
      ]
     },
     "metadata": {},
     "output_type": "display_data"
    }
   ],
   "source": [
    "xlabs=['Logistic Regression<br> (Tfidf)','Logistic Regression<br> (Ngram)',\n",
    "       'SVM <br>(Tfidf)','SVM<br> (Ngram)','Multinomial NB<br> (Tfidf)','Multinomial NB<br> (Ngram)']\n",
    "\n",
    "fig = go.Figure()\n",
    "for i, col in enumerate(results.columns, start=1):\n",
    "    if i%2==1:\n",
    "        fig.add_trace(go.Scatter(x=xlabs, y=results[col],\n",
    "                  mode='lines+markers',name=col.upper(),\n",
    "                  line = dict( width=4)))\n",
    "    else:\n",
    "        fig.add_trace(go.Scatter(x=xlabs, y=results[col],\n",
    "                  mode='lines+markers',name=col.upper(),\n",
    "                  line = dict( width=4,dash='dot')))\n",
    "\n",
    "fig.update_traces(mode='markers+lines')\n",
    "fig.update_layout(title='Comparison of Evaluation metrics obtained using different approaches',\n",
    "                 autosize=False,width=900,height=900)\n",
    "fig.show(\"svg\")"
   ]
  },
  {
   "cell_type": "code",
   "execution_count": null,
   "metadata": {
    "id": "7vNEGokyHeD2"
   },
   "outputs": [],
   "source": [
    "##,gridcolor='LightGrey'"
   ]
  },
  {
   "cell_type": "code",
   "execution_count": null,
   "metadata": {
    "id": "MLSEDzGz8Lj7"
   },
   "outputs": [],
   "source": []
  },
  {
   "cell_type": "code",
   "execution_count": null,
   "metadata": {
    "id": "iU7o5deU8Lnb"
   },
   "outputs": [],
   "source": []
  }
 ],
 "metadata": {
  "colab": {
   "collapsed_sections": [],
   "name": "ML_Project_sentiment_analysis_ver3.ipynb",
   "provenance": [],
   "toc_visible": true
  },
  "kernelspec": {
   "display_name": "Python 3",
   "language": "python",
   "name": "python3"
  },
  "language_info": {
   "codemirror_mode": {
    "name": "ipython",
    "version": 3
   },
   "file_extension": ".py",
   "mimetype": "text/x-python",
   "name": "python",
   "nbconvert_exporter": "python",
   "pygments_lexer": "ipython3",
   "version": "3.8.3"
  }
 },
 "nbformat": 4,
 "nbformat_minor": 1
}
