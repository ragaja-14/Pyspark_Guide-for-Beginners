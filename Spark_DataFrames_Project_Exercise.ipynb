{
  "cells": [
    {
      "cell_type": "markdown",
      "metadata": {
        "id": "3_NhHpCL0BrV"
      },
      "source": [
        "# Spark DataFrames Project Exercise "
      ]
    },
    {
      "cell_type": "markdown",
      "metadata": {
        "id": "HKMmKFOU0BrX"
      },
      "source": [
        "Let's get some quick practice with your new Spark DataFrame skills, you will be asked some basic questions about some stock market data, in this case Walmart Stock from the years 2012-2017. This exercise will just ask a bunch of questions, unlike the future machine learning exercises, which will be a little looser and be in the form of \"Consulting Projects\", but more on that later!\n",
        "\n",
        "For now, just answer the questions and complete the tasks below."
      ]
    },
    {
      "cell_type": "markdown",
      "metadata": {
        "id": "3dmrRK2F0BrX"
      },
      "source": [
        "#### Use the walmart_stock.csv file to Answer and complete the  tasks below!"
      ]
    },
    {
      "cell_type": "markdown",
      "metadata": {
        "id": "3l7AKJA60BrY"
      },
      "source": [
        "#### Start a simple Spark Session"
      ]
    },
    {
      "cell_type": "code",
      "execution_count": 109,
      "metadata": {
        "collapsed": true,
        "colab": {
          "base_uri": "https://localhost:8080/"
        },
        "id": "WitSnkTc0BrY",
        "outputId": "d019e7d7-d671-483b-e474-0f058381e252"
      },
      "outputs": [
        {
          "output_type": "stream",
          "name": "stdout",
          "text": [
            "Looking in indexes: https://pypi.org/simple, https://us-python.pkg.dev/colab-wheels/public/simple/\n",
            "Requirement already satisfied: pyspark in /usr/local/lib/python3.8/dist-packages (3.3.1)\n",
            "Requirement already satisfied: py4j==0.10.9.5 in /usr/local/lib/python3.8/dist-packages (from pyspark) (0.10.9.5)\n"
          ]
        }
      ],
      "source": [
        "!pip install pyspark\n",
        "from pyspark.sql import SparkSession\n",
        "import numpy as np\n",
        "\n",
        "spark =SparkSession.builder.appName('Spark Exercise ').getOrCreate()"
      ]
    },
    {
      "cell_type": "markdown",
      "metadata": {
        "id": "ATlhrca-0BrZ"
      },
      "source": [
        "#### Load the Walmart Stock CSV File, have Spark infer the data types."
      ]
    },
    {
      "cell_type": "code",
      "execution_count": 110,
      "metadata": {
        "collapsed": true,
        "id": "E2NOm40i0BrZ"
      },
      "outputs": [],
      "source": [
        "df_walmart=spark.read.format('csv').options(inferSchem=True,Header=True).load('/content/walmart_stock.csv')"
      ]
    },
    {
      "cell_type": "markdown",
      "metadata": {
        "id": "PWeRlp0z0BrZ"
      },
      "source": [
        "#### What are the column names?"
      ]
    },
    {
      "cell_type": "code",
      "execution_count": 111,
      "metadata": {
        "colab": {
          "base_uri": "https://localhost:8080/"
        },
        "id": "NLcV_6KM0Bra",
        "outputId": "36a3683f-f1af-4b38-aeb7-70e31d7e1b8b"
      },
      "outputs": [
        {
          "output_type": "execute_result",
          "data": {
            "text/plain": [
              "['Date', 'Open', 'High', 'Low', 'Close', 'Volume', 'Adj Close']"
            ]
          },
          "metadata": {},
          "execution_count": 111
        }
      ],
      "source": [
        "df_walmart.columns"
      ]
    },
    {
      "cell_type": "markdown",
      "metadata": {
        "id": "bZrp5kFW0Brb"
      },
      "source": [
        "#### What does the Schema look like?"
      ]
    },
    {
      "cell_type": "code",
      "execution_count": 112,
      "metadata": {
        "colab": {
          "base_uri": "https://localhost:8080/"
        },
        "id": "3mEsszgb0Brb",
        "outputId": "f696c590-5e6a-4ad3-b087-abc8722836e9"
      },
      "outputs": [
        {
          "output_type": "stream",
          "name": "stdout",
          "text": [
            "root\n",
            " |-- Date: string (nullable = true)\n",
            " |-- Open: string (nullable = true)\n",
            " |-- High: string (nullable = true)\n",
            " |-- Low: string (nullable = true)\n",
            " |-- Close: string (nullable = true)\n",
            " |-- Volume: string (nullable = true)\n",
            " |-- Adj Close: string (nullable = true)\n",
            "\n"
          ]
        }
      ],
      "source": [
        "df_walmart.printSchema()"
      ]
    },
    {
      "cell_type": "markdown",
      "metadata": {
        "id": "zzpARmud0Brc"
      },
      "source": [
        "#### Print out the first 5 columns."
      ]
    },
    {
      "cell_type": "code",
      "execution_count": 128,
      "metadata": {
        "colab": {
          "base_uri": "https://localhost:8080/"
        },
        "id": "2pmv7LEp0Brc",
        "outputId": "e2478b66-645a-4bd2-b3bc-7059498aec09"
      },
      "outputs": [
        {
          "output_type": "execute_result",
          "data": {
            "text/plain": [
              "[Row(Date='2012-01-03', Open=Decimal('59.97'), High=Decimal('61.06'), Low=Decimal('59.87'), Close=Decimal('60.33'), Volume=Decimal('12668800.00'), Adj Close=Decimal('52.62')),\n",
              " Row(Date='2012-01-04', Open=Decimal('60.21'), High=Decimal('60.35'), Low=Decimal('59.47'), Close=Decimal('59.71'), Volume=Decimal('9593300.00'), Adj Close=Decimal('52.08')),\n",
              " Row(Date='2012-01-05', Open=Decimal('59.35'), High=Decimal('59.62'), Low=Decimal('58.37'), Close=Decimal('59.42'), Volume=Decimal('12768200.00'), Adj Close=Decimal('51.83')),\n",
              " Row(Date='2012-01-06', Open=Decimal('59.42'), High=Decimal('59.45'), Low=Decimal('58.87'), Close=Decimal('59.00'), Volume=Decimal('8069400.00'), Adj Close=Decimal('51.46')),\n",
              " Row(Date='2012-01-09', Open=Decimal('59.03'), High=Decimal('59.55'), Low=Decimal('58.92'), Close=Decimal('59.18'), Volume=Decimal('6679300.00'), Adj Close=Decimal('51.62'))]"
            ]
          },
          "metadata": {},
          "execution_count": 128
        }
      ],
      "source": [
        "df_walmart.head(5)"
      ]
    },
    {
      "cell_type": "markdown",
      "metadata": {
        "id": "P9_-mnUM0Brc"
      },
      "source": [
        "#### Use describe() to learn about the DataFrame."
      ]
    },
    {
      "cell_type": "code",
      "execution_count": 114,
      "metadata": {
        "colab": {
          "base_uri": "https://localhost:8080/"
        },
        "id": "r57EpC8Z0Brd",
        "outputId": "c68b2edc-5464-44e1-ef9a-13386a279130"
      },
      "outputs": [
        {
          "output_type": "stream",
          "name": "stdout",
          "text": [
            "+-------+----------+------------------+-----------------+-----------------+-----------------+-----------------+-----------------+\n",
            "|summary|      Date|              Open|             High|              Low|            Close|           Volume|        Adj Close|\n",
            "+-------+----------+------------------+-----------------+-----------------+-----------------+-----------------+-----------------+\n",
            "|  count|      1258|              1258|             1258|             1258|             1258|             1258|             1258|\n",
            "|   mean|      null| 72.35785375357709|72.83938807631165| 71.9186009594594|72.38844998012726|8222093.481717011|67.23883848728146|\n",
            "| stddev|      null|  6.76809024470826|6.768186808159218|6.744075756255496|6.756859163732991|  4519780.8431556|6.722609449996857|\n",
            "|    min|2012-01-03|56.389998999999996|        57.060001|        56.299999|        56.419998|         10010500|        50.363689|\n",
            "|    max|2016-12-30|         90.800003|        90.970001|            89.25|        90.470001|          9994400|84.91421600000001|\n",
            "+-------+----------+------------------+-----------------+-----------------+-----------------+-----------------+-----------------+\n",
            "\n"
          ]
        }
      ],
      "source": [
        "df_walmart.describe().show()"
      ]
    },
    {
      "cell_type": "markdown",
      "metadata": {
        "id": "It6GpS3i0Brd"
      },
      "source": [
        "## Bonus Question!\n",
        "#### There are too many decimal places for mean and stddev in the describe() dataframe. Format the numbers to just show up to two decimal places. Pay careful attention to the datatypes that .describe() returns, we didn't cover how to do this exact formatting, but we covered something very similar. [Check this link for a hint](http://spark.apache.org/docs/latest/api/python/pyspark.sql.html#pyspark.sql.Column.cast)\n",
        "\n",
        "If you get stuck on this, don't worry, just view the solutions."
      ]
    },
    {
      "cell_type": "code",
      "execution_count": 115,
      "metadata": {
        "colab": {
          "base_uri": "https://localhost:8080/"
        },
        "id": "dybCllrz0Brd",
        "outputId": "9a243e8d-be78-40ce-bfeb-cc2368a0aee2"
      },
      "outputs": [
        {
          "output_type": "stream",
          "name": "stdout",
          "text": [
            "+-------+-------+-------+-------+-------+-------+-----------+---------+\n",
            "|summary|   Date|   Open|   High|    Low|  Close|     Volume|Adj Close|\n",
            "+-------+-------+-------+-------+-------+-------+-----------+---------+\n",
            "|  count|1258.00|1258.00|1258.00|1258.00|1258.00|    1258.00|  1258.00|\n",
            "|   mean|   null|  72.36|  72.84|  71.92|  72.39| 8222093.48|    67.24|\n",
            "| stddev|   null|   6.77|   6.77|   6.74|   6.76| 4519780.84|     6.72|\n",
            "|    min|   null|  56.39|  57.06|  56.30|  56.42|10010500.00|    50.36|\n",
            "|    max|   null|  90.80|  90.97|  89.25|  90.47| 9994400.00|    84.91|\n",
            "+-------+-------+-------+-------+-------+-------+-----------+---------+\n",
            "\n"
          ]
        }
      ],
      "source": [
        "### The cast column used below to update the schema directly\n",
        "from pyspark.sql.functions import round, col\n",
        "describe_df=df_walmart.describe()\n",
        "cols=df_walmart.columns\n",
        "for col_name in cols:\n",
        "  describe_df=describe_df.withColumn(col_name,col(col_name).cast('decimal(10,2)'))\n",
        "\n",
        "describe_df.show()"
      ]
    },
    {
      "cell_type": "markdown",
      "metadata": {
        "id": "R6XKoEV_0Bre"
      },
      "source": [
        "#### Create a new dataframe with a column called HV Ratio that is the ratio of the High Price versus volume of stock traded for a day."
      ]
    },
    {
      "cell_type": "code",
      "execution_count": 116,
      "metadata": {
        "colab": {
          "base_uri": "https://localhost:8080/"
        },
        "id": "iKUe0mHO0Bre",
        "outputId": "03b31e29-0713-4cd6-de16-3e1a2e5a94b9"
      },
      "outputs": [
        {
          "output_type": "stream",
          "name": "stdout",
          "text": [
            "+--------------------+\n",
            "|            HV Ratio|\n",
            "+--------------------+\n",
            "|4.819714653321546E-6|\n",
            "|6.290848613094555E-6|\n",
            "|4.669412994783916E-6|\n",
            "|7.367338463826307E-6|\n",
            "|8.915604778943901E-6|\n",
            "|8.644477436914568E-6|\n",
            "|9.351828421515645E-6|\n",
            "| 8.29141562102703E-6|\n",
            "|7.712212102001476E-6|\n",
            "|7.071764823529412E-6|\n",
            "|1.015495466386981E-5|\n",
            "|6.576354146362592...|\n",
            "| 5.90145296180676E-6|\n",
            "|8.547679455011844E-6|\n",
            "|8.420709512685392E-6|\n",
            "|1.041448341728929...|\n",
            "|8.316075414862431E-6|\n",
            "|9.721183814992126E-6|\n",
            "|8.029436027707578E-6|\n",
            "|6.307432259386365E-6|\n",
            "+--------------------+\n",
            "only showing top 20 rows\n",
            "\n"
          ]
        }
      ],
      "source": [
        "new_df=df_walmart.withColumn('HV Ratio',df_walmart.High/df_walmart.Volume)\n",
        "new_df.select('HV Ratio').show()"
      ]
    },
    {
      "cell_type": "code",
      "source": [
        "# in case original data itself is to be updated with correct schema\n",
        "from datetime import datetime\n",
        "\n",
        "cols=df_walmart.columns[1:]\n",
        "for i in cols:\n",
        "  df_walmart=df_walmart.withColumn(i,col(i).cast('decimal(12,2)'))\n",
        "df_walmart.printSchema()"
      ],
      "metadata": {
        "colab": {
          "base_uri": "https://localhost:8080/"
        },
        "id": "Zx5TE8Zw-oHo",
        "outputId": "d33fc2c8-cbf5-4b76-d8c8-c67ff17a0d59"
      },
      "execution_count": 117,
      "outputs": [
        {
          "output_type": "stream",
          "name": "stdout",
          "text": [
            "root\n",
            " |-- Date: string (nullable = true)\n",
            " |-- Open: decimal(12,2) (nullable = true)\n",
            " |-- High: decimal(12,2) (nullable = true)\n",
            " |-- Low: decimal(12,2) (nullable = true)\n",
            " |-- Close: decimal(12,2) (nullable = true)\n",
            " |-- Volume: decimal(12,2) (nullable = true)\n",
            " |-- Adj Close: decimal(12,2) (nullable = true)\n",
            "\n"
          ]
        }
      ]
    },
    {
      "cell_type": "markdown",
      "metadata": {
        "id": "2N6IqKmz0Brf"
      },
      "source": [
        "####  ***What day had the Peak High in Price?**"
      ]
    },
    {
      "cell_type": "code",
      "execution_count": 118,
      "metadata": {
        "colab": {
          "base_uri": "https://localhost:8080/"
        },
        "id": "SHG2mwD-0Brf",
        "outputId": "0b680462-5a98-4b9f-9418-e9d4c814ef0f"
      },
      "outputs": [
        {
          "output_type": "execute_result",
          "data": {
            "text/plain": [
              "{'<lambda>(Date)': datetime.datetime(2015, 1, 13, 0, 0)}"
            ]
          },
          "metadata": {},
          "execution_count": 118
        }
      ],
      "source": [
        "from pyspark.sql.types import TimestampType\n",
        "from pyspark.sql.functions import *\n",
        "from pyspark.sql.functions import udf\n",
        "\n",
        "date_conversion= udf(lambda x: datetime.strptime(x,'%Y-%m-%d'), TimestampType())\n",
        "\n",
        "df_walmart.orderBy('High',ascending=0).select(date_conversion('Date')).first().asDict()\n"
      ]
    },
    {
      "cell_type": "markdown",
      "metadata": {
        "id": "nEFvmeXB0Brf"
      },
      "source": [
        "#### What is the mean of the Close column?"
      ]
    },
    {
      "cell_type": "code",
      "execution_count": 119,
      "metadata": {
        "colab": {
          "base_uri": "https://localhost:8080/"
        },
        "id": "YPkUqee-0Brf",
        "outputId": "7b1805a5-05a9-4179-e472-564fb49c2d72"
      },
      "outputs": [
        {
          "output_type": "stream",
          "name": "stdout",
          "text": [
            "+----------+\n",
            "|avg(Close)|\n",
            "+----------+\n",
            "| 72.388450|\n",
            "+----------+\n",
            "\n"
          ]
        }
      ],
      "source": [
        "\n",
        "df_walmart.agg({'Close':'mean'}).show()"
      ]
    },
    {
      "cell_type": "markdown",
      "metadata": {
        "id": "sNOeNttT0Brf"
      },
      "source": [
        "#### What is the max and min of the Volume column?"
      ]
    },
    {
      "cell_type": "code",
      "execution_count": 120,
      "metadata": {
        "collapsed": true,
        "colab": {
          "base_uri": "https://localhost:8080/"
        },
        "id": "Qx9SuVyw0Brg",
        "outputId": "a58432d1-515a-4187-b821-80689e7b7d82"
      },
      "outputs": [
        {
          "output_type": "stream",
          "name": "stdout",
          "text": [
            "+-----------+-----------+\n",
            "|max(Volume)|min(Volume)|\n",
            "+-----------+-----------+\n",
            "|80898100.00| 2094900.00|\n",
            "+-----------+-----------+\n",
            "\n"
          ]
        }
      ],
      "source": [
        "df_walmart.agg(max(\"Volume\"),min(\"Volume\")).show()"
      ]
    },
    {
      "cell_type": "markdown",
      "metadata": {
        "id": "46DiGCh70Brg"
      },
      "source": [
        "#### How many days was the Close lower than 60 dollars?"
      ]
    },
    {
      "cell_type": "code",
      "execution_count": 121,
      "metadata": {
        "colab": {
          "base_uri": "https://localhost:8080/"
        },
        "id": "ArGid6A80Brg",
        "outputId": "e531d110-ca4f-4bbd-b76d-83157ed4f94e"
      },
      "outputs": [
        {
          "output_type": "stream",
          "name": "stdout",
          "text": [
            "+-----------+\n",
            "|count(Date)|\n",
            "+-----------+\n",
            "|         81|\n",
            "+-----------+\n",
            "\n"
          ]
        }
      ],
      "source": [
        "df_walmart.filter('Close < 60').agg(count('Date')).show()"
      ]
    },
    {
      "cell_type": "markdown",
      "metadata": {
        "id": "6PvUp_Nx0Brg"
      },
      "source": [
        "#### What percentage of the time was the High greater than 80 dollars ?\n",
        "#### In other words, (Number of Days High>80)/(Total Days in the dataset)"
      ]
    },
    {
      "cell_type": "code",
      "execution_count": 122,
      "metadata": {
        "colab": {
          "base_uri": "https://localhost:8080/"
        },
        "id": "PwfTwen80Brh",
        "outputId": "317177e9-7246-4325-d06c-98af718b2403"
      },
      "outputs": [
        {
          "output_type": "execute_result",
          "data": {
            "text/plain": [
              "DataFrame[Date: string, Open: decimal(12,2), High: decimal(12,2), Low: decimal(12,2), Close: decimal(12,2), Volume: decimal(12,2), Adj Close: decimal(12,2)]"
            ]
          },
          "metadata": {},
          "execution_count": 122
        }
      ],
      "source": [
        "df_walmart.filter('High < 60')"
      ]
    },
    {
      "cell_type": "markdown",
      "metadata": {
        "id": "twbMkd8h0Brh"
      },
      "source": [
        "#### What is the Pearson correlation between High and Volume?\n",
        "#### [Hint](http://spark.apache.org/docs/latest/api/python/pyspark.sql.html#pyspark.sql.DataFrameStatFunctions.corr)"
      ]
    },
    {
      "cell_type": "code",
      "execution_count": 123,
      "metadata": {
        "colab": {
          "base_uri": "https://localhost:8080/"
        },
        "id": "rli9rfqb0Brh",
        "outputId": "a7b8776b-353b-48dc-a545-d409f2ce7977"
      },
      "outputs": [
        {
          "output_type": "stream",
          "name": "stdout",
          "text": [
            "+--------------------+\n",
            "|  corr(High, Volume)|\n",
            "+--------------------+\n",
            "|-0.33843260582148915|\n",
            "+--------------------+\n",
            "\n"
          ]
        }
      ],
      "source": [
        "df_walmart.agg(corr('High','Volume')).show()"
      ]
    },
    {
      "cell_type": "markdown",
      "metadata": {
        "id": "L4rtU4bk0Brh"
      },
      "source": [
        "#### What is the max High per year?"
      ]
    },
    {
      "cell_type": "code",
      "execution_count": 127,
      "metadata": {
        "colab": {
          "base_uri": "https://localhost:8080/"
        },
        "id": "_SWS-ebK0Brh",
        "outputId": "11eb05f0-14d4-4279-ab79-ad34d79f91fe"
      },
      "outputs": [
        {
          "output_type": "stream",
          "name": "stdout",
          "text": [
            "+----+---------+\n",
            "|Year|max(High)|\n",
            "+----+---------+\n",
            "|2015|    90.97|\n",
            "|2013|    81.37|\n",
            "|2014|    88.09|\n",
            "|2012|    77.60|\n",
            "|2016|    75.19|\n",
            "+----+---------+\n",
            "\n"
          ]
        }
      ],
      "source": [
        "df_walmart.groupBy(year('Date').alias('Year')).max('High').show()"
      ]
    },
    {
      "cell_type": "markdown",
      "metadata": {
        "id": "_6UOPkjJ0Bri"
      },
      "source": [
        "#### What is the average Close for each Calendar Month?\n",
        "#### In other words, across all the years, what is the average Close price for Jan,Feb, Mar, etc... Your result will have a value for each of these months. "
      ]
    },
    {
      "cell_type": "code",
      "execution_count": 126,
      "metadata": {
        "colab": {
          "base_uri": "https://localhost:8080/"
        },
        "id": "xdW6gYR30Bri",
        "outputId": "41844c21-7f49-4de3-bbbb-7434b9f8bdd3"
      },
      "outputs": [
        {
          "output_type": "stream",
          "name": "stdout",
          "text": [
            "+-----+----------+\n",
            "|Month|avg(Close)|\n",
            "+-----+----------+\n",
            "|    1| 71.448020|\n",
            "|    2| 71.306804|\n",
            "|    3| 71.777944|\n",
            "|    4| 72.973619|\n",
            "|    5| 72.309717|\n",
            "|    6| 72.495377|\n",
            "|    7| 74.439720|\n",
            "|    8| 73.029818|\n",
            "|    9| 72.184118|\n",
            "|   10| 71.578545|\n",
            "|   11| 72.111089|\n",
            "|   12| 72.847925|\n",
            "+-----+----------+\n",
            "\n"
          ]
        }
      ],
      "source": [
        "df_walmart.groupBy(month('Date').alias('Month')).agg({'Close':'mean'}).orderBy('Month').show()"
      ]
    },
    {
      "cell_type": "markdown",
      "metadata": {
        "id": "XSaliLhK0Bri"
      },
      "source": [
        "# Great Job!"
      ]
    }
  ],
  "metadata": {
    "anaconda-cloud": {},
    "kernelspec": {
      "display_name": "Python [conda root]",
      "language": "python",
      "name": "conda-root-py"
    },
    "language_info": {
      "codemirror_mode": {
        "name": "ipython",
        "version": 3
      },
      "file_extension": ".py",
      "mimetype": "text/x-python",
      "name": "python",
      "nbconvert_exporter": "python",
      "pygments_lexer": "ipython3",
      "version": "3.5.3"
    },
    "colab": {
      "provenance": []
    }
  },
  "nbformat": 4,
  "nbformat_minor": 0
}