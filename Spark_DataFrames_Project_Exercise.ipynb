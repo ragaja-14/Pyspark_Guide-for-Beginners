{
  "cells": [
    {
      "cell_type": "markdown",
      "metadata": {
        "id": "3_NhHpCL0BrV"
      },
      "source": [
        "# Spark DataFrames Project Exercise "
      ]
    },
    {
      "cell_type": "markdown",
      "metadata": {
        "id": "HKMmKFOU0BrX"
      },
      "source": [
        "Let's get some quick practice with your new Spark DataFrame skills, you will be asked some basic questions about some stock market data, in this case Walmart Stock from the years 2012-2017. This exercise will just ask a bunch of questions, unlike the future machine learning exercises, which will be a little looser and be in the form of \"Consulting Projects\", but more on that later!\n",
        "\n",
        "For now, just answer the questions and complete the tasks below."
      ]
    },
    {
      "cell_type": "markdown",
      "metadata": {
        "id": "3dmrRK2F0BrX"
      },
      "source": [
        "#### Use the walmart_stock.csv file to Answer and complete the  tasks below!"
      ]
    },
    {
      "cell_type": "markdown",
      "metadata": {
        "id": "3l7AKJA60BrY"
      },
      "source": [
        "#### Start a simple Spark Session"
      ]
    },
    {
      "cell_type": "code",
      "execution_count": 3,
      "metadata": {
        "collapsed": true,
        "colab": {
          "base_uri": "https://localhost:8080/"
        },
        "id": "WitSnkTc0BrY",
        "outputId": "dc6e797c-da36-4ecf-e1c1-44a33629f182"
      },
      "outputs": [
        {
          "output_type": "stream",
          "name": "stdout",
          "text": [
            "Looking in indexes: https://pypi.org/simple, https://us-python.pkg.dev/colab-wheels/public/simple/\n",
            "Requirement already satisfied: pyspark in /usr/local/lib/python3.8/dist-packages (3.3.1)\n",
            "Requirement already satisfied: py4j==0.10.9.5 in /usr/local/lib/python3.8/dist-packages (from pyspark) (0.10.9.5)\n"
          ]
        }
      ],
      "source": [
        "!pip install pyspark\n",
        "from pyspark.sql import SparkSession\n",
        "import numpy as np\n",
        "\n",
        "spark =SparkSession.builder.appName('Spark Exercise ').getOrCreate()"
      ]
    },
    {
      "cell_type": "markdown",
      "metadata": {
        "id": "ATlhrca-0BrZ"
      },
      "source": [
        "#### Load the Walmart Stock CSV File, have Spark infer the data types."
      ]
    },
    {
      "cell_type": "code",
      "execution_count": 4,
      "metadata": {
        "collapsed": true,
        "id": "E2NOm40i0BrZ"
      },
      "outputs": [],
      "source": [
        "df_walmart=spark.read.format('csv').options(inferSchem=True,Header=True).load('/content/walmart_stock.csv')"
      ]
    },
    {
      "cell_type": "markdown",
      "metadata": {
        "id": "PWeRlp0z0BrZ"
      },
      "source": [
        "#### What are the column names?"
      ]
    },
    {
      "cell_type": "code",
      "execution_count": 5,
      "metadata": {
        "colab": {
          "base_uri": "https://localhost:8080/"
        },
        "id": "NLcV_6KM0Bra",
        "outputId": "f00346cf-67c7-41ac-d2af-cde778c75455"
      },
      "outputs": [
        {
          "output_type": "execute_result",
          "data": {
            "text/plain": [
              "['Date', 'Open', 'High', 'Low', 'Close', 'Volume', 'Adj Close']"
            ]
          },
          "metadata": {},
          "execution_count": 5
        }
      ],
      "source": [
        "df_walmart.columns"
      ]
    },
    {
      "cell_type": "markdown",
      "metadata": {
        "id": "bZrp5kFW0Brb"
      },
      "source": [
        "#### What does the Schema look like?"
      ]
    },
    {
      "cell_type": "code",
      "execution_count": 6,
      "metadata": {
        "colab": {
          "base_uri": "https://localhost:8080/"
        },
        "id": "3mEsszgb0Brb",
        "outputId": "7b68aa09-c48b-4b04-fc3c-0859ff749fa6"
      },
      "outputs": [
        {
          "output_type": "stream",
          "name": "stdout",
          "text": [
            "root\n",
            " |-- Date: string (nullable = true)\n",
            " |-- Open: string (nullable = true)\n",
            " |-- High: string (nullable = true)\n",
            " |-- Low: string (nullable = true)\n",
            " |-- Close: string (nullable = true)\n",
            " |-- Volume: string (nullable = true)\n",
            " |-- Adj Close: string (nullable = true)\n",
            "\n"
          ]
        }
      ],
      "source": [
        "df_walmart.printSchema()"
      ]
    },
    {
      "cell_type": "markdown",
      "metadata": {
        "id": "zzpARmud0Brc"
      },
      "source": [
        "#### Print out the first 5 columns."
      ]
    },
    {
      "cell_type": "code",
      "execution_count": 7,
      "metadata": {
        "colab": {
          "base_uri": "https://localhost:8080/"
        },
        "id": "2pmv7LEp0Brc",
        "outputId": "46ba8d5b-3869-42de-8c9d-f68d1ed71c25"
      },
      "outputs": [
        {
          "output_type": "execute_result",
          "data": {
            "text/plain": [
              "[Row(Date='2012-01-03', Open='59.970001', High='61.060001', Low='59.869999', Close='60.330002', Volume='12668800', Adj Close='52.619234999999996'),\n",
              " Row(Date='2012-01-04', Open='60.209998999999996', High='60.349998', Low='59.470001', Close='59.709998999999996', Volume='9593300', Adj Close='52.078475'),\n",
              " Row(Date='2012-01-05', Open='59.349998', High='59.619999', Low='58.369999', Close='59.419998', Volume='12768200', Adj Close='51.825539'),\n",
              " Row(Date='2012-01-06', Open='59.419998', High='59.450001', Low='58.869999', Close='59.0', Volume='8069400', Adj Close='51.45922'),\n",
              " Row(Date='2012-01-09', Open='59.029999', High='59.549999', Low='58.919998', Close='59.18', Volume='6679300', Adj Close='51.616215000000004')]"
            ]
          },
          "metadata": {},
          "execution_count": 7
        }
      ],
      "source": [
        "df_walmart.head(5)"
      ]
    },
    {
      "cell_type": "markdown",
      "metadata": {
        "id": "P9_-mnUM0Brc"
      },
      "source": [
        "#### Use describe() to learn about the DataFrame."
      ]
    },
    {
      "cell_type": "code",
      "execution_count": 8,
      "metadata": {
        "colab": {
          "base_uri": "https://localhost:8080/"
        },
        "id": "r57EpC8Z0Brd",
        "outputId": "4b3d33a7-3479-48ee-d8a2-c2849e3eef37"
      },
      "outputs": [
        {
          "output_type": "stream",
          "name": "stdout",
          "text": [
            "+-------+----------+------------------+-----------------+-----------------+-----------------+-----------------+-----------------+\n",
            "|summary|      Date|              Open|             High|              Low|            Close|           Volume|        Adj Close|\n",
            "+-------+----------+------------------+-----------------+-----------------+-----------------+-----------------+-----------------+\n",
            "|  count|      1258|              1258|             1258|             1258|             1258|             1258|             1258|\n",
            "|   mean|      null| 72.35785375357709|72.83938807631165| 71.9186009594594|72.38844998012726|8222093.481717011|67.23883848728146|\n",
            "| stddev|      null|  6.76809024470826|6.768186808159218|6.744075756255496|6.756859163732991|  4519780.8431556|6.722609449996857|\n",
            "|    min|2012-01-03|56.389998999999996|        57.060001|        56.299999|        56.419998|         10010500|        50.363689|\n",
            "|    max|2016-12-30|         90.800003|        90.970001|            89.25|        90.470001|          9994400|84.91421600000001|\n",
            "+-------+----------+------------------+-----------------+-----------------+-----------------+-----------------+-----------------+\n",
            "\n"
          ]
        }
      ],
      "source": [
        "df_walmart.describe().show()"
      ]
    },
    {
      "cell_type": "markdown",
      "metadata": {
        "id": "It6GpS3i0Brd"
      },
      "source": [
        "## Bonus Question!\n",
        "#### There are too many decimal places for mean and stddev in the describe() dataframe. Format the numbers to just show up to two decimal places. Pay careful attention to the datatypes that .describe() returns, we didn't cover how to do this exact formatting, but we covered something very similar. [Check this link for a hint](http://spark.apache.org/docs/latest/api/python/pyspark.sql.html#pyspark.sql.Column.cast)\n",
        "\n",
        "If you get stuck on this, don't worry, just view the solutions."
      ]
    },
    {
      "cell_type": "code",
      "execution_count": 9,
      "metadata": {
        "colab": {
          "base_uri": "https://localhost:8080/"
        },
        "id": "dybCllrz0Brd",
        "outputId": "6482bda5-6611-45f0-9e3a-1fb8493e41d7"
      },
      "outputs": [
        {
          "output_type": "stream",
          "name": "stdout",
          "text": [
            "+-------+-------+-------+-------+-------+-------+-----------+---------+\n",
            "|summary|   Date|   Open|   High|    Low|  Close|     Volume|Adj Close|\n",
            "+-------+-------+-------+-------+-------+-------+-----------+---------+\n",
            "|  count|1258.00|1258.00|1258.00|1258.00|1258.00|    1258.00|  1258.00|\n",
            "|   mean|   null|  72.36|  72.84|  71.92|  72.39| 8222093.48|    67.24|\n",
            "| stddev|   null|   6.77|   6.77|   6.74|   6.76| 4519780.84|     6.72|\n",
            "|    min|   null|  56.39|  57.06|  56.30|  56.42|10010500.00|    50.36|\n",
            "|    max|   null|  90.80|  90.97|  89.25|  90.47| 9994400.00|    84.91|\n",
            "+-------+-------+-------+-------+-------+-------+-----------+---------+\n",
            "\n"
          ]
        }
      ],
      "source": [
        "### The cast column used below to update the schema directly\n",
        "from pyspark.sql.functions import round, col\n",
        "describe_df=df_walmart.describe()\n",
        "cols=df_walmart.columns\n",
        "for col_name in cols:\n",
        "  describe_df=describe_df.withColumn(col_name,col(col_name).cast('decimal(10,2)'))\n",
        "\n",
        "describe_df.show()"
      ]
    },
    {
      "cell_type": "markdown",
      "metadata": {
        "id": "R6XKoEV_0Bre"
      },
      "source": [
        "#### Create a new dataframe with a column called HV Ratio that is the ratio of the High Price versus volume of stock traded for a day."
      ]
    },
    {
      "cell_type": "code",
      "execution_count": 10,
      "metadata": {
        "colab": {
          "base_uri": "https://localhost:8080/"
        },
        "id": "iKUe0mHO0Bre",
        "outputId": "48377fe3-df74-498e-b65c-921fe1e4a6f4"
      },
      "outputs": [
        {
          "output_type": "stream",
          "name": "stdout",
          "text": [
            "+--------------------+\n",
            "|            HV Ratio|\n",
            "+--------------------+\n",
            "|4.819714653321546E-6|\n",
            "|6.290848613094555E-6|\n",
            "|4.669412994783916E-6|\n",
            "|7.367338463826307E-6|\n",
            "|8.915604778943901E-6|\n",
            "|8.644477436914568E-6|\n",
            "|9.351828421515645E-6|\n",
            "| 8.29141562102703E-6|\n",
            "|7.712212102001476E-6|\n",
            "|7.071764823529412E-6|\n",
            "|1.015495466386981E-5|\n",
            "|6.576354146362592...|\n",
            "| 5.90145296180676E-6|\n",
            "|8.547679455011844E-6|\n",
            "|8.420709512685392E-6|\n",
            "|1.041448341728929...|\n",
            "|8.316075414862431E-6|\n",
            "|9.721183814992126E-6|\n",
            "|8.029436027707578E-6|\n",
            "|6.307432259386365E-6|\n",
            "+--------------------+\n",
            "only showing top 20 rows\n",
            "\n"
          ]
        }
      ],
      "source": [
        "new_df=df_walmart.withColumn('HV Ratio',df_walmart.High/df_walmart.Volume)\n",
        "new_df.select('HV Ratio').show()"
      ]
    },
    {
      "cell_type": "code",
      "source": [
        "# in case original data itself is to be updated with correct schema\n",
        "from datetime import datetime\n",
        "\n",
        "cols=df_walmart.columns[1:]\n",
        "for i in cols:\n",
        "  df_walmart=df_walmart.withColumn(i,col(i).cast('decimal(12,2)'))\n",
        "df_walmart.printSchema()"
      ],
      "metadata": {
        "colab": {
          "base_uri": "https://localhost:8080/"
        },
        "id": "Zx5TE8Zw-oHo",
        "outputId": "de55f1e6-16f9-4bf9-f32c-2c2320f8ce9c"
      },
      "execution_count": 11,
      "outputs": [
        {
          "output_type": "stream",
          "name": "stdout",
          "text": [
            "root\n",
            " |-- Date: string (nullable = true)\n",
            " |-- Open: decimal(12,2) (nullable = true)\n",
            " |-- High: decimal(12,2) (nullable = true)\n",
            " |-- Low: decimal(12,2) (nullable = true)\n",
            " |-- Close: decimal(12,2) (nullable = true)\n",
            " |-- Volume: decimal(12,2) (nullable = true)\n",
            " |-- Adj Close: decimal(12,2) (nullable = true)\n",
            "\n"
          ]
        }
      ]
    },
    {
      "cell_type": "markdown",
      "metadata": {
        "id": "2N6IqKmz0Brf"
      },
      "source": [
        "####  ***What day had the Peak High in Price?**"
      ]
    },
    {
      "cell_type": "code",
      "execution_count": 12,
      "metadata": {
        "colab": {
          "base_uri": "https://localhost:8080/"
        },
        "id": "SHG2mwD-0Brf",
        "outputId": "046f2a57-a0b0-4d53-d58a-a19542d464d3"
      },
      "outputs": [
        {
          "output_type": "execute_result",
          "data": {
            "text/plain": [
              "{'<lambda>(Date)': datetime.datetime(2015, 1, 13, 0, 0)}"
            ]
          },
          "metadata": {},
          "execution_count": 12
        }
      ],
      "source": [
        "from pyspark.sql.types import TimestampType\n",
        "from pyspark.sql.functions import *\n",
        "from pyspark.sql.functions import udf\n",
        "\n",
        "date_conversion= udf(lambda x: datetime.strptime(x,'%Y-%m-%d'), TimestampType())\n",
        "\n",
        "df_walmart.orderBy('High',ascending=0).select(date_conversion('Date')).first().asDict()\n"
      ]
    },
    {
      "cell_type": "markdown",
      "metadata": {
        "id": "nEFvmeXB0Brf"
      },
      "source": [
        "#### What is the mean of the Close column?"
      ]
    },
    {
      "cell_type": "code",
      "execution_count": 13,
      "metadata": {
        "colab": {
          "base_uri": "https://localhost:8080/"
        },
        "id": "YPkUqee-0Brf",
        "outputId": "1eaa9bc6-fb0f-4431-c20f-8d326c011da1"
      },
      "outputs": [
        {
          "output_type": "stream",
          "name": "stdout",
          "text": [
            "+----------+\n",
            "|avg(Close)|\n",
            "+----------+\n",
            "| 72.388450|\n",
            "+----------+\n",
            "\n"
          ]
        }
      ],
      "source": [
        "\n",
        "df_walmart.agg({'Close':'mean'}).show()"
      ]
    },
    {
      "cell_type": "markdown",
      "metadata": {
        "id": "sNOeNttT0Brf"
      },
      "source": [
        "#### What is the max and min of the Volume column?"
      ]
    },
    {
      "cell_type": "code",
      "execution_count": 14,
      "metadata": {
        "collapsed": true,
        "colab": {
          "base_uri": "https://localhost:8080/"
        },
        "id": "Qx9SuVyw0Brg",
        "outputId": "01156a44-5bb8-44b2-d816-3a61686dbbd0"
      },
      "outputs": [
        {
          "output_type": "stream",
          "name": "stdout",
          "text": [
            "+-----------+-----------+\n",
            "|max(Volume)|min(Volume)|\n",
            "+-----------+-----------+\n",
            "|80898100.00| 2094900.00|\n",
            "+-----------+-----------+\n",
            "\n"
          ]
        }
      ],
      "source": [
        "df_walmart.agg(max(\"Volume\"),min(\"Volume\")).show()"
      ]
    },
    {
      "cell_type": "markdown",
      "metadata": {
        "id": "46DiGCh70Brg"
      },
      "source": [
        "#### How many days was the Close lower than 60 dollars?"
      ]
    },
    {
      "cell_type": "code",
      "execution_count": 16,
      "metadata": {
        "colab": {
          "base_uri": "https://localhost:8080/"
        },
        "id": "ArGid6A80Brg",
        "outputId": "0a8cb1f8-0ed9-4341-ce90-fbb7bed184f3"
      },
      "outputs": [
        {
          "output_type": "execute_result",
          "data": {
            "text/plain": [
              "81"
            ]
          },
          "metadata": {},
          "execution_count": 16
        }
      ],
      "source": [
        "df_walmart.filter('Close < 60').count()"
      ]
    },
    {
      "cell_type": "markdown",
      "metadata": {
        "id": "6PvUp_Nx0Brg"
      },
      "source": [
        "#### What percentage of the time was the High greater than 80 dollars ?\n",
        "#### In other words, (Number of Days High>80)/(Total Days in the dataset)"
      ]
    },
    {
      "cell_type": "code",
      "source": [
        "df_walmart.filter('High > 80').count()*100.0/df_walmart.select('Date').count()"
      ],
      "metadata": {
        "colab": {
          "base_uri": "https://localhost:8080/"
        },
        "id": "GckESLIfhKyc",
        "outputId": "8cf16bc1-6a43-4987-e8ea-1380ea1290d5"
      },
      "execution_count": 17,
      "outputs": [
        {
          "output_type": "execute_result",
          "data": {
            "text/plain": [
              "9.141494435612083"
            ]
          },
          "metadata": {},
          "execution_count": 17
        }
      ]
    },
    {
      "cell_type": "markdown",
      "metadata": {
        "id": "twbMkd8h0Brh"
      },
      "source": [
        "#### What is the Pearson correlation between High and Volume?\n",
        "#### [Hint](http://spark.apache.org/docs/latest/api/python/pyspark.sql.html#pyspark.sql.DataFrameStatFunctions.corr)"
      ]
    },
    {
      "cell_type": "code",
      "execution_count": 19,
      "metadata": {
        "colab": {
          "base_uri": "https://localhost:8080/"
        },
        "id": "rli9rfqb0Brh",
        "outputId": "e9957b16-4088-4b0d-9015-a3ee50d158d0"
      },
      "outputs": [
        {
          "output_type": "stream",
          "name": "stdout",
          "text": [
            "+--------------------+\n",
            "|  corr(High, Volume)|\n",
            "+--------------------+\n",
            "|-0.33843260582148915|\n",
            "+--------------------+\n",
            "\n"
          ]
        }
      ],
      "source": [
        "df_walmart.agg(corr('High','Volume')).show()"
      ]
    },
    {
      "cell_type": "markdown",
      "metadata": {
        "id": "L4rtU4bk0Brh"
      },
      "source": [
        "#### What is the max High per year?"
      ]
    },
    {
      "cell_type": "code",
      "execution_count": 22,
      "metadata": {
        "colab": {
          "base_uri": "https://localhost:8080/"
        },
        "id": "_SWS-ebK0Brh",
        "outputId": "d53f2860-5f40-4201-8665-099696afb6a0"
      },
      "outputs": [
        {
          "output_type": "stream",
          "name": "stdout",
          "text": [
            "+----+---------+\n",
            "|Year|max(High)|\n",
            "+----+---------+\n",
            "|2015|    90.97|\n",
            "|2013|    81.37|\n",
            "|2014|    88.09|\n",
            "|2012|    77.60|\n",
            "|2016|    75.19|\n",
            "+----+---------+\n",
            "\n"
          ]
        }
      ],
      "source": [
        "df_walmart.groupBy(year('Date').alias('Year')).agg(max('High')).show()"
      ]
    },
    {
      "cell_type": "markdown",
      "metadata": {
        "id": "_6UOPkjJ0Bri"
      },
      "source": [
        "#### What is the average Close for each Calendar Month?\n",
        "#### In other words, across all the years, what is the average Close price for Jan,Feb, Mar, etc... Your result will have a value for each of these months. "
      ]
    },
    {
      "cell_type": "code",
      "execution_count": 21,
      "metadata": {
        "colab": {
          "base_uri": "https://localhost:8080/"
        },
        "id": "xdW6gYR30Bri",
        "outputId": "3b941dc5-834f-479d-abc9-3303de8d2870"
      },
      "outputs": [
        {
          "output_type": "stream",
          "name": "stdout",
          "text": [
            "+-----+----------+\n",
            "|Month|avg(Close)|\n",
            "+-----+----------+\n",
            "|    1| 71.448020|\n",
            "|    2| 71.306804|\n",
            "|    3| 71.777944|\n",
            "|    4| 72.973619|\n",
            "|    5| 72.309717|\n",
            "|    6| 72.495377|\n",
            "|    7| 74.439720|\n",
            "|    8| 73.029818|\n",
            "|    9| 72.184118|\n",
            "|   10| 71.578545|\n",
            "|   11| 72.111089|\n",
            "|   12| 72.847925|\n",
            "+-----+----------+\n",
            "\n"
          ]
        }
      ],
      "source": [
        "df_walmart.groupBy(month('Date').alias('Month')).agg({'Close':'mean'}).orderBy('Month').show()"
      ]
    },
    {
      "cell_type": "markdown",
      "metadata": {
        "id": "XSaliLhK0Bri"
      },
      "source": [
        "# Great Job!"
      ]
    }
  ],
  "metadata": {
    "anaconda-cloud": {},
    "kernelspec": {
      "display_name": "Python [conda root]",
      "language": "python",
      "name": "conda-root-py"
    },
    "language_info": {
      "codemirror_mode": {
        "name": "ipython",
        "version": 3
      },
      "file_extension": ".py",
      "mimetype": "text/x-python",
      "name": "python",
      "nbconvert_exporter": "python",
      "pygments_lexer": "ipython3",
      "version": "3.5.3"
    },
    "colab": {
      "provenance": []
    }
  },
  "nbformat": 4,
  "nbformat_minor": 0
}