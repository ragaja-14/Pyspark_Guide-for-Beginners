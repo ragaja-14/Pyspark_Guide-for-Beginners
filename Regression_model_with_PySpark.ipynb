{
  "nbformat": 4,
  "nbformat_minor": 0,
  "metadata": {
    "colab": {
      "name": "Assignment_4_202018012.ipynb",
      "provenance": [],
      "collapsed_sections": [],
      "mount_file_id": "1pZo0d5wtJX8v_ls23PF6abu18O6vCGZO",
      "authorship_tag": "ABX9TyOaA9xmdrdJSaO5B6j+0Hmy",
      "include_colab_link": true
    },
    "kernelspec": {
      "name": "python3",
      "display_name": "Python 3"
    }
  },
  "cells": [
    {
      "cell_type": "markdown",
      "metadata": {
        "id": "view-in-github",
        "colab_type": "text"
      },
      "source": [
        "<a href=\"https://colab.research.google.com/github/ragaja-14/spark_1/blob/master/Assignment_4_202018012.ipynb\" target=\"_parent\"><img src=\"https://colab.research.google.com/assets/colab-badge.svg\" alt=\"Open In Colab\"/></a>"
      ]
    },
    {
      "cell_type": "code",
      "metadata": {
        "colab": {
          "base_uri": "https://localhost:8080/"
        },
        "id": "9TcDm3b4vaPu",
        "outputId": "3af2cc33-5512-4f1b-a20c-546e12bf2aef"
      },
      "source": [
        "!pip install pyspark\r\n",
        "import pyspark"
      ],
      "execution_count": null,
      "outputs": [
        {
          "output_type": "stream",
          "text": [
            "Collecting pyspark\n",
            "\u001b[?25l  Downloading https://files.pythonhosted.org/packages/f0/26/198fc8c0b98580f617cb03cb298c6056587b8f0447e20fa40c5b634ced77/pyspark-3.0.1.tar.gz (204.2MB)\n",
            "\u001b[K     |████████████████████████████████| 204.2MB 72kB/s \n",
            "\u001b[?25hCollecting py4j==0.10.9\n",
            "\u001b[?25l  Downloading https://files.pythonhosted.org/packages/9e/b6/6a4fb90cd235dc8e265a6a2067f2a2c99f0d91787f06aca4bcf7c23f3f80/py4j-0.10.9-py2.py3-none-any.whl (198kB)\n",
            "\u001b[K     |████████████████████████████████| 204kB 48.5MB/s \n",
            "\u001b[?25hBuilding wheels for collected packages: pyspark\n",
            "  Building wheel for pyspark (setup.py) ... \u001b[?25l\u001b[?25hdone\n",
            "  Created wheel for pyspark: filename=pyspark-3.0.1-py2.py3-none-any.whl size=204612242 sha256=c8b8876400c5b5874508c7bfd68381028981b202d7285b9117a05d0fc19401ae\n",
            "  Stored in directory: /root/.cache/pip/wheels/5e/bd/07/031766ca628adec8435bb40f0bd83bb676ce65ff4007f8e73f\n",
            "Successfully built pyspark\n",
            "Installing collected packages: py4j, pyspark\n",
            "Successfully installed py4j-0.10.9 pyspark-3.0.1\n"
          ],
          "name": "stdout"
        }
      ]
    },
    {
      "cell_type": "code",
      "metadata": {
        "id": "-dir0A_nFxZl"
      },
      "source": [
        "from pyspark.sql import SparkSession\r\n",
        "\r\n",
        "spark = SparkSession.builder.appName('Assignment 4').getOrCreate()"
      ],
      "execution_count": null,
      "outputs": []
    },
    {
      "cell_type": "code",
      "metadata": {
        "id": "YGq6iIl2FxcJ"
      },
      "source": [
        "df = spark.read.csv('Car details v3.csv',inferSchema=True,header=True)"
      ],
      "execution_count": null,
      "outputs": []
    },
    {
      "cell_type": "code",
      "metadata": {
        "colab": {
          "base_uri": "https://localhost:8080/"
        },
        "id": "51yBYmBkFxfC",
        "outputId": "db5d39ba-c58b-409a-d70e-9af81569305d"
      },
      "source": [
        "df.printSchema()\r\n",
        "df.count()"
      ],
      "execution_count": null,
      "outputs": [
        {
          "output_type": "stream",
          "text": [
            "root\n",
            " |-- name: string (nullable = true)\n",
            " |-- year: integer (nullable = true)\n",
            " |-- selling_price: integer (nullable = true)\n",
            " |-- km_driven: integer (nullable = true)\n",
            " |-- fuel: string (nullable = true)\n",
            " |-- seller_type: string (nullable = true)\n",
            " |-- transmission: string (nullable = true)\n",
            " |-- owner: string (nullable = true)\n",
            " |-- mileage: string (nullable = true)\n",
            " |-- engine: string (nullable = true)\n",
            " |-- max_power: string (nullable = true)\n",
            " |-- torque: string (nullable = true)\n",
            " |-- seats: integer (nullable = true)\n",
            "\n"
          ],
          "name": "stdout"
        },
        {
          "output_type": "execute_result",
          "data": {
            "text/plain": [
              "8128"
            ]
          },
          "metadata": {
            "tags": []
          },
          "execution_count": 9
        }
      ]
    },
    {
      "cell_type": "code",
      "metadata": {
        "colab": {
          "base_uri": "https://localhost:8080/"
        },
        "id": "aN3tfI6JKFRi",
        "outputId": "4047a3cd-d6b9-48fa-92ee-3ca448df0141"
      },
      "source": [
        "df.show(n=10)"
      ],
      "execution_count": null,
      "outputs": [
        {
          "output_type": "stream",
          "text": [
            "+--------------------+----+-------------+---------+------+-----------+------------+------------+----------+-------+----------+--------------------+-----+\n",
            "|                name|year|selling_price|km_driven|  fuel|seller_type|transmission|       owner|   mileage| engine| max_power|              torque|seats|\n",
            "+--------------------+----+-------------+---------+------+-----------+------------+------------+----------+-------+----------+--------------------+-----+\n",
            "|Maruti Swift Dzir...|2014|       450000|   145500|Diesel| Individual|      Manual| First Owner| 23.4 kmpl|1248 CC|    74 bhp|      190Nm@ 2000rpm|    5|\n",
            "|Skoda Rapid 1.5 T...|2014|       370000|   120000|Diesel| Individual|      Manual|Second Owner|21.14 kmpl|1498 CC|103.52 bhp| 250Nm@ 1500-2500rpm|    5|\n",
            "|Honda City 2017-2...|2006|       158000|   140000|Petrol| Individual|      Manual| Third Owner| 17.7 kmpl|1497 CC|    78 bhp|12.7@ 2,700(kgm@ ...|    5|\n",
            "|Hyundai i20 Sport...|2010|       225000|   127000|Diesel| Individual|      Manual| First Owner| 23.0 kmpl|1396 CC|    90 bhp|22.4 kgm at 1750-...|    5|\n",
            "|Maruti Swift VXI ...|2007|       130000|   120000|Petrol| Individual|      Manual| First Owner| 16.1 kmpl|1298 CC|  88.2 bhp|11.5@ 4,500(kgm@ ...|    5|\n",
            "|Hyundai Xcent 1.2...|2017|       440000|    45000|Petrol| Individual|      Manual| First Owner|20.14 kmpl|1197 CC| 81.86 bhp|   113.75nm@ 4000rpm|    5|\n",
            "|Maruti Wagon R LX...|2007|        96000|   175000|   LPG| Individual|      Manual| First Owner|17.3 km/kg|1061 CC|  57.5 bhp|7.8@ 4,500(kgm@ rpm)|    5|\n",
            "|  Maruti 800 DX BSII|2001|        45000|     5000|Petrol| Individual|      Manual|Second Owner| 16.1 kmpl| 796 CC|    37 bhp|       59Nm@ 2500rpm|    4|\n",
            "|    Toyota Etios VXD|2011|       350000|    90000|Diesel| Individual|      Manual| First Owner|23.59 kmpl|1364 CC|  67.1 bhp| 170Nm@ 1800-2400rpm|    5|\n",
            "|Ford Figo Diesel ...|2013|       200000|   169000|Diesel| Individual|      Manual| First Owner| 20.0 kmpl|1399 CC|  68.1 bhp|      160Nm@ 2000rpm|    5|\n",
            "+--------------------+----+-------------+---------+------+-----------+------------+------------+----------+-------+----------+--------------------+-----+\n",
            "only showing top 10 rows\n",
            "\n"
          ],
          "name": "stdout"
        }
      ]
    },
    {
      "cell_type": "markdown",
      "metadata": {
        "id": "UwIQmKdneSZL"
      },
      "source": [
        "Conversion of max_power, mileage, engine columns to numeric values from string "
      ]
    },
    {
      "cell_type": "code",
      "metadata": {
        "id": "dVhyBHydK8aJ"
      },
      "source": [
        "from pyspark.sql.functions import regexp_replace, col,split\r\n",
        "from pyspark.sql.types import DoubleType, IntegerType, FloatType\r\n",
        "\r\n",
        "\r\n",
        "df=df.withColumn(\"name\",split(df['name'], ' ').getItem(0))\r\n",
        "df=df.withColumn(\"max_power\",regexp_replace(col(\"max_power\"), \"bhp\", \"\").cast(FloatType()))\r\n",
        "df=df.withColumn(\"mileage\",regexp_replace(col(\"mileage\"), \"kmpl|km/kg\", \"\").cast(FloatType()))\r\n",
        "df=df.withColumn(\"engine\",regexp_replace(col(\"engine\"), \"CC\", \"\").cast(IntegerType()))\r\n"
      ],
      "execution_count": null,
      "outputs": []
    },
    {
      "cell_type": "code",
      "metadata": {
        "colab": {
          "base_uri": "https://localhost:8080/"
        },
        "id": "odI2RDRYLe3v",
        "outputId": "96f53cee-5534-43b3-d2cc-72c07dc66588"
      },
      "source": [
        "df=df.dropna()\r\n",
        "df.show(10)"
      ],
      "execution_count": null,
      "outputs": [
        {
          "output_type": "stream",
          "text": [
            "+-------+----+-------------+---------+------+-----------+------------+------------+-------+------+---------+--------------------+-----+\n",
            "|   name|year|selling_price|km_driven|  fuel|seller_type|transmission|       owner|mileage|engine|max_power|              torque|seats|\n",
            "+-------+----+-------------+---------+------+-----------+------------+------------+-------+------+---------+--------------------+-----+\n",
            "| Maruti|2014|       450000|   145500|Diesel| Individual|      Manual| First Owner|   23.4|  1248|     74.0|      190Nm@ 2000rpm|    5|\n",
            "|  Skoda|2014|       370000|   120000|Diesel| Individual|      Manual|Second Owner|  21.14|  1498|   103.52| 250Nm@ 1500-2500rpm|    5|\n",
            "|  Honda|2006|       158000|   140000|Petrol| Individual|      Manual| Third Owner|   17.7|  1497|     78.0|12.7@ 2,700(kgm@ ...|    5|\n",
            "|Hyundai|2010|       225000|   127000|Diesel| Individual|      Manual| First Owner|   23.0|  1396|     90.0|22.4 kgm at 1750-...|    5|\n",
            "| Maruti|2007|       130000|   120000|Petrol| Individual|      Manual| First Owner|   16.1|  1298|     88.2|11.5@ 4,500(kgm@ ...|    5|\n",
            "|Hyundai|2017|       440000|    45000|Petrol| Individual|      Manual| First Owner|  20.14|  1197|    81.86|   113.75nm@ 4000rpm|    5|\n",
            "| Maruti|2007|        96000|   175000|   LPG| Individual|      Manual| First Owner|   17.3|  1061|     57.5|7.8@ 4,500(kgm@ rpm)|    5|\n",
            "| Maruti|2001|        45000|     5000|Petrol| Individual|      Manual|Second Owner|   16.1|   796|     37.0|       59Nm@ 2500rpm|    4|\n",
            "| Toyota|2011|       350000|    90000|Diesel| Individual|      Manual| First Owner|  23.59|  1364|     67.1| 170Nm@ 1800-2400rpm|    5|\n",
            "|   Ford|2013|       200000|   169000|Diesel| Individual|      Manual| First Owner|   20.0|  1399|     68.1|      160Nm@ 2000rpm|    5|\n",
            "+-------+----+-------------+---------+------+-----------+------------+------------+-------+------+---------+--------------------+-----+\n",
            "only showing top 10 rows\n",
            "\n"
          ],
          "name": "stdout"
        }
      ]
    },
    {
      "cell_type": "markdown",
      "metadata": {
        "id": "imEUTELOdThD"
      },
      "source": [
        "**Case 1**\r\n",
        "**Using one hot encoding and vector assembler**\r\n",
        "\r\n",
        "**Polynomial features for regression and**\r\n",
        "\r\n",
        "**MinMaxScaler for normalization of the features**\r\n",
        "\r\n",
        "**No feature hasher is used**\r\n",
        "\r\n",
        "**And Building Regression model and evaluating with rmse, mse, r2**"
      ]
    },
    {
      "cell_type": "markdown",
      "metadata": {
        "id": "1otC06iadPG2"
      },
      "source": [
        "Use One Hot Encoding API to encode the categorical features."
      ]
    },
    {
      "cell_type": "code",
      "metadata": {
        "colab": {
          "base_uri": "https://localhost:8080/"
        },
        "id": "rYa8SieFFxih",
        "outputId": "059eb0bb-17c8-4ced-f82d-00455fb62bd1"
      },
      "source": [
        "from pyspark.ml.feature import StringIndexer , OneHotEncoder\r\n",
        "\r\n",
        "cat_features=['name','fuel','seller_type','transmission','owner']\r\n",
        "\r\n",
        "indexer1=StringIndexer(inputCols=cat_features,outputCols=['indexed_'+i for i in cat_features])\r\n",
        "\r\n",
        "indexed_df=indexer1.fit(df).transform(df)\r\n",
        "print(indexed_df.count())"
      ],
      "execution_count": null,
      "outputs": [
        {
          "output_type": "stream",
          "text": [
            "7906\n"
          ],
          "name": "stdout"
        }
      ]
    },
    {
      "cell_type": "markdown",
      "metadata": {
        "id": "4Z45OyKRRG3x"
      },
      "source": [
        "Use One Hot Encoding API to encode the categorical features"
      ]
    },
    {
      "cell_type": "code",
      "metadata": {
        "colab": {
          "base_uri": "https://localhost:8080/"
        },
        "id": "osZfHHqPRfuj",
        "outputId": "fcb91f9a-df49-4f84-9607-ae6743d4d56f"
      },
      "source": [
        "cat_features=['name','fuel','seller_type','transmission','owner']\r\n",
        "for i in cat_features:\r\n",
        "  print(\"Count of \",i,indexed_df.select(i).distinct().count())"
      ],
      "execution_count": null,
      "outputs": [
        {
          "output_type": "stream",
          "text": [
            "Count of  name 31\n",
            "Count of  fuel 4\n",
            "Count of  seller_type 3\n",
            "Count of  transmission 2\n",
            "Count of  owner 5\n"
          ],
          "name": "stdout"
        }
      ]
    },
    {
      "cell_type": "code",
      "metadata": {
        "colab": {
          "base_uri": "https://localhost:8080/"
        },
        "id": "ibuYvBFFPQLV",
        "outputId": "5884d133-bf63-4f50-f112-0e7b3d7614b1"
      },
      "source": [
        "indexed_features=['indexed_'+i for i in cat_features[1:]]\r\n",
        "\r\n",
        "myencoder=OneHotEncoder(inputCols=indexed_features,outputCols=['Encoded_'+i for i in cat_features[1:]])\r\n",
        "\r\n",
        "encoded_df=myencoder.fit(indexed_df).transform(indexed_df)\r\n",
        "encoded_df.show()"
      ],
      "execution_count": null,
      "outputs": [
        {
          "output_type": "stream",
          "text": [
            "+--------+----+-------------+---------+------+-----------+------------+------------+-------+------+---------+--------------------+-----+------------+------------+--------------------+-------------------+-------------+-------------+-------------------+--------------------+-------------+\n",
            "|    name|year|selling_price|km_driven|  fuel|seller_type|transmission|       owner|mileage|engine|max_power|              torque|seats|indexed_fuel|indexed_name|indexed_transmission|indexed_seller_type|indexed_owner| Encoded_fuel|Encoded_seller_type|Encoded_transmission|Encoded_owner|\n",
            "+--------+----+-------------+---------+------+-----------+------------+------------+-------+------+---------+--------------------+-----+------------+------------+--------------------+-------------------+-------------+-------------+-------------------+--------------------+-------------+\n",
            "|  Maruti|2014|       450000|   145500|Diesel| Individual|      Manual| First Owner|   23.4|  1248|     74.0|      190Nm@ 2000rpm|    5|         0.0|         0.0|                 0.0|                0.0|          0.0|(3,[0],[1.0])|      (2,[0],[1.0])|       (1,[0],[1.0])|(4,[0],[1.0])|\n",
            "|   Skoda|2014|       370000|   120000|Diesel| Individual|      Manual|Second Owner|  21.14|  1498|   103.52| 250Nm@ 1500-2500rpm|    5|         0.0|        11.0|                 0.0|                0.0|          1.0|(3,[0],[1.0])|      (2,[0],[1.0])|       (1,[0],[1.0])|(4,[1],[1.0])|\n",
            "|   Honda|2006|       158000|   140000|Petrol| Individual|      Manual| Third Owner|   17.7|  1497|     78.0|12.7@ 2,700(kgm@ ...|    5|         1.0|         4.0|                 0.0|                0.0|          2.0|(3,[1],[1.0])|      (2,[0],[1.0])|       (1,[0],[1.0])|(4,[2],[1.0])|\n",
            "| Hyundai|2010|       225000|   127000|Diesel| Individual|      Manual| First Owner|   23.0|  1396|     90.0|22.4 kgm at 1750-...|    5|         0.0|         1.0|                 0.0|                0.0|          0.0|(3,[0],[1.0])|      (2,[0],[1.0])|       (1,[0],[1.0])|(4,[0],[1.0])|\n",
            "|  Maruti|2007|       130000|   120000|Petrol| Individual|      Manual| First Owner|   16.1|  1298|     88.2|11.5@ 4,500(kgm@ ...|    5|         1.0|         0.0|                 0.0|                0.0|          0.0|(3,[1],[1.0])|      (2,[0],[1.0])|       (1,[0],[1.0])|(4,[0],[1.0])|\n",
            "| Hyundai|2017|       440000|    45000|Petrol| Individual|      Manual| First Owner|  20.14|  1197|    81.86|   113.75nm@ 4000rpm|    5|         1.0|         1.0|                 0.0|                0.0|          0.0|(3,[1],[1.0])|      (2,[0],[1.0])|       (1,[0],[1.0])|(4,[0],[1.0])|\n",
            "|  Maruti|2007|        96000|   175000|   LPG| Individual|      Manual| First Owner|   17.3|  1061|     57.5|7.8@ 4,500(kgm@ rpm)|    5|         3.0|         0.0|                 0.0|                0.0|          0.0|    (3,[],[])|      (2,[0],[1.0])|       (1,[0],[1.0])|(4,[0],[1.0])|\n",
            "|  Maruti|2001|        45000|     5000|Petrol| Individual|      Manual|Second Owner|   16.1|   796|     37.0|       59Nm@ 2500rpm|    4|         1.0|         0.0|                 0.0|                0.0|          1.0|(3,[1],[1.0])|      (2,[0],[1.0])|       (1,[0],[1.0])|(4,[1],[1.0])|\n",
            "|  Toyota|2011|       350000|    90000|Diesel| Individual|      Manual| First Owner|  23.59|  1364|     67.1| 170Nm@ 1800-2400rpm|    5|         0.0|         5.0|                 0.0|                0.0|          0.0|(3,[0],[1.0])|      (2,[0],[1.0])|       (1,[0],[1.0])|(4,[0],[1.0])|\n",
            "|    Ford|2013|       200000|   169000|Diesel| Individual|      Manual| First Owner|   20.0|  1399|     68.1|      160Nm@ 2000rpm|    5|         0.0|         6.0|                 0.0|                0.0|          0.0|(3,[0],[1.0])|      (2,[0],[1.0])|       (1,[0],[1.0])|(4,[0],[1.0])|\n",
            "| Renault|2014|       500000|    68000|Diesel| Individual|      Manual|Second Owner|  19.01|  1461|   108.45|      248Nm@ 2250rpm|    5|         0.0|         8.0|                 0.0|                0.0|          1.0|(3,[0],[1.0])|      (2,[0],[1.0])|       (1,[0],[1.0])|(4,[1],[1.0])|\n",
            "|  Maruti|2005|        92000|   100000|Petrol| Individual|      Manual|Second Owner|   17.3|   993|     60.0|       78Nm@ 4500rpm|    5|         1.0|         0.0|                 0.0|                0.0|          1.0|(3,[1],[1.0])|      (2,[0],[1.0])|       (1,[0],[1.0])|(4,[1],[1.0])|\n",
            "|  Maruti|2009|       280000|   140000|Diesel| Individual|      Manual|Second Owner|   19.3|  1248|     73.9|      190Nm@ 2000rpm|    5|         0.0|         0.0|                 0.0|                0.0|          1.0|(3,[0],[1.0])|      (2,[0],[1.0])|       (1,[0],[1.0])|(4,[1],[1.0])|\n",
            "|  Maruti|2009|       180000|    90000|Petrol| Individual|      Manual|Second Owner|   18.9|  1061|     67.0|       84Nm@ 3500rpm|    5|         1.0|         0.0|                 0.0|                0.0|          1.0|(3,[1],[1.0])|      (2,[0],[1.0])|       (1,[0],[1.0])|(4,[1],[1.0])|\n",
            "|Mahindra|2016|       400000|    40000|Petrol| Individual|      Manual| First Owner|  18.15|  1198|     82.0| 115Nm@ 3500-3600rpm|    5|         1.0|         2.0|                 0.0|                0.0|          0.0|(3,[1],[1.0])|      (2,[0],[1.0])|       (1,[0],[1.0])|(4,[0],[1.0])|\n",
            "|  Maruti|2016|       778000|    70000|Diesel| Individual|      Manual|Second Owner|  24.52|  1248|     88.5|      200Nm@ 1750rpm|    7|         0.0|         0.0|                 0.0|                0.0|          1.0|(3,[0],[1.0])|      (2,[0],[1.0])|       (1,[0],[1.0])|(4,[1],[1.0])|\n",
            "| Hyundai|2012|       500000|    53000|Diesel| Individual|      Manual|Second Owner|   23.0|  1396|     90.0|22.4 kgm at 1750-...|    5|         0.0|         1.0|                 0.0|                0.0|          1.0|(3,[0],[1.0])|      (2,[0],[1.0])|       (1,[0],[1.0])|(4,[1],[1.0])|\n",
            "|  Maruti|2002|       150000|    80000|Petrol| Individual|      Manual|Second Owner|   19.7|   796|     46.3|       62Nm@ 3000rpm|    5|         1.0|         0.0|                 0.0|                0.0|          1.0|(3,[1],[1.0])|      (2,[0],[1.0])|       (1,[0],[1.0])|(4,[1],[1.0])|\n",
            "| Hyundai|2016|       680000|   100000|Diesel| Individual|      Manual| First Owner|  22.54|  1396|    88.73|219.7Nm@ 1500-275...|    5|         0.0|         1.0|                 0.0|                0.0|          0.0|(3,[0],[1.0])|      (2,[0],[1.0])|       (1,[0],[1.0])|(4,[0],[1.0])|\n",
            "|Mahindra|2011|       174000|   100000|Diesel| Individual|      Manual|Second Owner|   21.0|  1461|     64.1|      160Nm@ 2000rpm|    5|         0.0|         2.0|                 0.0|                0.0|          1.0|(3,[0],[1.0])|      (2,[0],[1.0])|       (1,[0],[1.0])|(4,[1],[1.0])|\n",
            "+--------+----+-------------+---------+------+-----------+------------+------------+-------+------+---------+--------------------+-----+------------+------------+--------------------+-------------------+-------------+-------------+-------------------+--------------------+-------------+\n",
            "only showing top 20 rows\n",
            "\n"
          ],
          "name": "stdout"
        }
      ]
    },
    {
      "cell_type": "code",
      "metadata": {
        "colab": {
          "base_uri": "https://localhost:8080/"
        },
        "id": "I53sVqtAPQOd",
        "outputId": "0bb66d18-7c8a-436d-f982-526b10853378"
      },
      "source": [
        "encoded_df.columns"
      ],
      "execution_count": null,
      "outputs": [
        {
          "output_type": "execute_result",
          "data": {
            "text/plain": [
              "['name',\n",
              " 'year',\n",
              " 'selling_price',\n",
              " 'km_driven',\n",
              " 'fuel',\n",
              " 'seller_type',\n",
              " 'transmission',\n",
              " 'owner',\n",
              " 'mileage',\n",
              " 'engine',\n",
              " 'max_power',\n",
              " 'torque',\n",
              " 'seats',\n",
              " 'indexed_fuel',\n",
              " 'indexed_name',\n",
              " 'indexed_transmission',\n",
              " 'indexed_seller_type',\n",
              " 'indexed_owner',\n",
              " 'Encoded_fuel',\n",
              " 'Encoded_seller_type',\n",
              " 'Encoded_transmission',\n",
              " 'Encoded_owner']"
            ]
          },
          "metadata": {
            "tags": []
          },
          "execution_count": 15
        }
      ]
    },
    {
      "cell_type": "code",
      "metadata": {
        "colab": {
          "base_uri": "https://localhost:8080/"
        },
        "id": "p1KAlwMQRUW6",
        "outputId": "91b5423c-8328-4734-c497-110dac7f82ba"
      },
      "source": [
        "##Using vector assembler to combine all required feature into single vector form\r\n",
        "from pyspark.ml.feature import VectorAssembler\r\n",
        "\r\n",
        "#using the numeric columns and newly encoded columns to be combined to form a single vector form\r\n",
        "input_features=['seats',\r\n",
        " 'km_driven',\r\n",
        " 'year',\r\n",
        " 'mileage',\r\n",
        " 'engine',\r\n",
        " 'max_power',\r\n",
        " 'indexed_name',\r\n",
        " 'Encoded_fuel',\r\n",
        " 'Encoded_seller_type',\r\n",
        " 'Encoded_transmission',\r\n",
        " 'Encoded_owner']\r\n",
        "\r\n",
        "assembler =VectorAssembler(inputCols=input_features ,outputCol=\"features1\")\r\n",
        "new_df=assembler.transform(encoded_df)\r\n",
        "vectorized_df=new_df.select(\"features1\",\"selling_price\")\r\n",
        "vectorized_df.show(n=10)"
      ],
      "execution_count": null,
      "outputs": [
        {
          "output_type": "stream",
          "text": [
            "+--------------------+-------------+\n",
            "|           features1|selling_price|\n",
            "+--------------------+-------------+\n",
            "|(17,[0,1,2,3,4,5,...|       450000|\n",
            "|[5.0,120000.0,201...|       370000|\n",
            "|[5.0,140000.0,200...|       158000|\n",
            "|[5.0,127000.0,201...|       225000|\n",
            "|(17,[0,1,2,3,4,5,...|       130000|\n",
            "|[5.0,45000.0,2017...|       440000|\n",
            "|(17,[0,1,2,3,4,5,...|        96000|\n",
            "|(17,[0,1,2,3,4,5,...|        45000|\n",
            "|[5.0,90000.0,2011...|       350000|\n",
            "|[5.0,169000.0,201...|       200000|\n",
            "+--------------------+-------------+\n",
            "only showing top 10 rows\n",
            "\n"
          ],
          "name": "stdout"
        }
      ]
    },
    {
      "cell_type": "markdown",
      "metadata": {
        "id": "NMoW5ZxcVDOM"
      },
      "source": [
        "> Using degree: 4 for polynomial expansion"
      ]
    },
    {
      "cell_type": "code",
      "metadata": {
        "colab": {
          "base_uri": "https://localhost:8080/"
        },
        "id": "s46gqOuVPNp3",
        "outputId": "31824a7b-31bc-4b62-97c0-b83ca03a03e6"
      },
      "source": [
        "from pyspark.ml.feature import PolynomialExpansion\r\n",
        "\r\n",
        "polyExpansion = PolynomialExpansion(degree=4, inputCol=\"features1\", outputCol=\"polyFeatures\")\r\n",
        "polyDF = polyExpansion.transform(vectorized_df)\r\n",
        "print(\"Using Vectorized features:\")\r\n",
        "polyDF.show(n=10)"
      ],
      "execution_count": null,
      "outputs": [
        {
          "output_type": "stream",
          "text": [
            "Using Vectorized features:\n",
            "+--------------------+-------------+--------------------+\n",
            "|           features1|selling_price|        polyFeatures|\n",
            "+--------------------+-------------+--------------------+\n",
            "|(17,[0,1,2,3,4,5,...|       450000|(5984,[0,1,2,3,4,...|\n",
            "|[5.0,120000.0,201...|       370000|[5.0,25.0,125.0,6...|\n",
            "|[5.0,140000.0,200...|       158000|[5.0,25.0,125.0,6...|\n",
            "|[5.0,127000.0,201...|       225000|[5.0,25.0,125.0,6...|\n",
            "|(17,[0,1,2,3,4,5,...|       130000|(5984,[0,1,2,3,4,...|\n",
            "|[5.0,45000.0,2017...|       440000|[5.0,25.0,125.0,6...|\n",
            "|(17,[0,1,2,3,4,5,...|        96000|(5984,[0,1,2,3,4,...|\n",
            "|(17,[0,1,2,3,4,5,...|        45000|(5984,[0,1,2,3,4,...|\n",
            "|[5.0,90000.0,2011...|       350000|[5.0,25.0,125.0,6...|\n",
            "|[5.0,169000.0,201...|       200000|[5.0,25.0,125.0,6...|\n",
            "+--------------------+-------------+--------------------+\n",
            "only showing top 10 rows\n",
            "\n"
          ],
          "name": "stdout"
        }
      ]
    },
    {
      "cell_type": "code",
      "metadata": {
        "colab": {
          "base_uri": "https://localhost:8080/"
        },
        "id": "ua4IbpAcP3Db",
        "outputId": "3ff6d2bc-8050-4b4d-c02e-9e3fb0c5aaba"
      },
      "source": [
        "from pyspark.ml.feature import MinMaxScaler\r\n",
        "\r\n",
        "scaler=MinMaxScaler(inputCol=\"polyFeatures\", outputCol=\"scaledFeatures\")\r\n",
        "scaler_df = scaler.fit(polyDF).transform(polyDF)\r\n",
        "\r\n",
        "scaler_df.select(\"polyFeatures\", \"scaledFeatures\").show(n=5)"
      ],
      "execution_count": null,
      "outputs": [
        {
          "output_type": "stream",
          "text": [
            "+--------------------+--------------------+\n",
            "|        polyFeatures|      scaledFeatures|\n",
            "+--------------------+--------------------+\n",
            "|(5984,[0,1,2,3,4,...|(5984,[0,1,2,3,4,...|\n",
            "|[5.0,25.0,125.0,6...|(5984,[0,1,2,3,4,...|\n",
            "|[5.0,25.0,125.0,6...|(5984,[0,1,2,3,4,...|\n",
            "|[5.0,25.0,125.0,6...|(5984,[0,1,2,3,4,...|\n",
            "|(5984,[0,1,2,3,4,...|(5984,[0,1,2,3,4,...|\n",
            "+--------------------+--------------------+\n",
            "only showing top 5 rows\n",
            "\n"
          ],
          "name": "stdout"
        }
      ]
    },
    {
      "cell_type": "code",
      "metadata": {
        "colab": {
          "base_uri": "https://localhost:8080/"
        },
        "id": "6gt_P_tdP3GR",
        "outputId": "24243f36-25c7-4b0f-e04b-bf1bb19a83aa"
      },
      "source": [
        "from pyspark.ml.regression import LinearRegression \r\n",
        "\r\n",
        "train_data,test_data = scaler_df.randomSplit([0.8,0.2],seed=2)\r\n",
        "Regressor=LinearRegression(featuresCol ='scaledFeatures', labelCol ='selling_price') \r\n",
        "Regressor=Regressor.fit(train_data)\r\n",
        "\r\n",
        "predicited=Regressor.evaluate(test_data)\r\n",
        "\r\n",
        "coeff = Regressor.coefficients\r\n",
        "\r\n",
        "#X and Y intercept\r\n",
        "intr = Regressor.intercept\r\n",
        "\r\n",
        "print(\"Polynomial Regression using degree : 4\")\r\n",
        "print (\"The coefficient of the model is : %a\" %coeff)\r\n",
        "print (\"The Intercept of the model is : %f\" %intr)"
      ],
      "execution_count": null,
      "outputs": [
        {
          "output_type": "stream",
          "text": [
            "Polynomial Regression using degree : 4\n",
            "The coefficient of the model is : DenseVector([-69935.2769, -28510.3241, -14057.7512, -19189.178, 208793.6429, 119540.2381, -2549.7101, -171472.3594, -4791.3244, -130348.8711, -302666.9648, -43942.0911, -116965.7931, 53962.6296, 265866.9822, -59445.5482, -20469.4759, -6067.5627, 204935.58, 120139.4768, 261.3453, -4973.4283, -129951.8998, -44331.2031, 272566.9609, -48731.2689, -12322.2115, 201244.4818, 120845.8181, -5134.7705, 279221.5113, -37802.4881, 197719.7548, 285830.9823, -4262.957, -10713.1526, 33065.8875, 57273.9567, -30313.191, -54498.5118, -120148.0618, -27559.8915, -146822.0738, -18267.6099, -2505.6519, -6049.4356, 38727.3177, -35790.0435, -55501.397, -27984.8035, -590.4359, -1278.5261, -41094.5574, 1478.8214, -24948.5094, 14427.7035, 72170.3497, 64601.3462, 78838.1963, 30255.2756, -24600.6962, 15873.0016, 59951.2521, -24170.3914, -156527.1744, -55770.085, 167189.4841, -156467.1127, -390998.2517, -55010.7762, -36905.0765, -38498.1008, -74363.4829, 60862.5844, 38091.65, -81224.9747, -6503.9045, -179741.2243, -142801.8346, -45348.3308, -29461.1232, -30355.4346, 70006.6087, 47455.5983, -4142.4862, -35575.7307, -22019.9323, 79255.3036, -25694.6544, -34832.5908, -27013.4289, -28765.3851, -314237.28, -326936.5711, -99511.0151, -13285.1006, -15613.1338, -305516.511, 8277.0249, 18121.5509, 27239.6626, -303210.7398, 36893.621, -303630.1752, -4505.103, 3975.7023, 3464.569, 155538.1746, 121805.3381, -10211.1531, 5387.8312, 11014.3162, 168892.3406, 15345.491, 37719.0646, 15605.75, -382441.9051, 48741.556, 207528.4033, 59201.8884, 53443.304, 301092.0072, 70265.3286, 70285.9888, 148695.4269, 144417.7297, 26519.3295, -18939.8394, -82684.8942, -61884.2938, 175693.4446, 281343.169, 438979.9189, 320292.0332, -37728.2696, 169204.0028, 41796.5444, -4280.5392, -46221.2737, 192548.7758, 441699.1596, 194029.2685, 57185.0277, -30413.1038, 218889.6518, 664619.9479, 371542.8179, 126968.7342, -557198.3521, -295925.3092, 331603.9178, 721004.7848, 413653.9688, -542114.8782, 777185.56, 349574.6588, 445743.1054, -591942.5013, 401974.9159, -1342488.5202, 44695.4916, -10448.2343, -33017.1525, 219907.2067, 455625.0847, 650732.5029, 63296.7656, 3280.1815, 242811.7585, 81949.4426, 431383.7405, 172641.2356, -524622.1436, 473987.2181, 726528.5982, 13304.0556, -8767.9201, 590390.4975, 33545.366, 236978.1591, -581.4027, 475126.3959, 159868.2686, 16352.4879, -723731.3416, -290255.9383, 864901.6383, 514872.0238, 186499.4459, -696689.4674, 554643.7842, 1428161.8461, 929143.3138, -1543459.3931, 1508127.4833, 383749.2016, 39514.3576, -67832.2386, -292087.3998, 65894.3929, 633397.1258, -234385.0562, 251164.6528, -101381.3074, -1732210.7851, 312318.9389, 332003.9152, -604187.5389, -1700201.5755, 595.7268, 76659.0034, 205741.1626, 295233.8898, 68002.9101, -48725.5784, -329971.4083, 485593.0603, -48005.743, -64117.2005, 7726.6889, 87388.3296, 220397.4732, 76458.6902, -37026.0421, 496765.0458, 14750.4537, 98113.3436, 84858.8804, 21667.6651, -23419.187, 1586.1149, 48422.0607, -255345.2203, -551971.5448, 315688.3009, -16646.8789, 12354.2102, -247230.5039, -9854.2085, 72985.7322, 64170.2566, -189554.3267, 84128.6281, -143095.5171, 18088.8306, 76767.2095, 139960.5011, 127980.667, 45543.9999, 565570.4746, 28791.144, 90287.2081, 138764.5996, 39542.0694, 12326.9494, 26509.9286, -274041.5764, 22032.3769, 216881.6179, 18271.2048, 37680.8339, 192144.2212, 34498.7711, 46112.9616, -82718.0104, 96034.518, 120895.2113, 193207.1974, -140253.9858, -176446.2113, 1617911.4779, 108720.3968, 133966.9012, -125875.9426, 121408.7234, 309663.6218, 271517.5677, -571140.965, 337306.6823, 611820.0725, -8491.6275, -23492.6892, -136656.0456, 10681.3569, 191128.6248, -322399.5362, 78895.6658, 6372.9418, -772223.2259, 105693.49, 460198.332, -412936.7875, -868567.4806, 36191.6067, 169979.3603, 410621.8142, 417683.3383, -40996.4732, 66140.8319, 43726.7341, 181400.4633, 430657.1455, 51163.6165, -10917.704, 46172.9781, -32588.913, -2957.4393, 208087.1771, -101103.2112, -113582.6277, 1608.9914, -91876.2494, -88763.2654, -334246.7271, -82296.0791, -60494.874, 1853.7447, -72156.3649, -55640.7541, -406699.7565, -395106.2201, 86925.2156, 278198.7648, 476284.784, 92332.9887, -174380.0224, -101879.3198, -184962.9774, 413021.2634, -11780.4747, -9248.2554, 3729.0969, 3294.4929, 37933.6072, 32175.4057, -87517.0424, 6591.6316, -309313.9696, -628498.4456, -9654.9547, -4513.2189, 11971.1139, 49998.9604, 44787.2944, 14287.2063, -7512.6181, 213.5682, 62103.9435, -5353.478, -9401.8291, 1484.9956, 21204.9682, -79289.6572, -84288.5634, 51743.96, -6968.5183, 4478.5603, -70038.2449, -4522.5025, 6764.3524, 23422.0684, 64674.8623, 9002.385, 11281.0318, -14179.0342, -12368.3514, -21891.5284, 56614.245, 12196.0525, -156077.9376, -9870.0261, -7241.8143, 71352.649, -5533.9905, -19372.6672, -25062.3996, -362506.5443, -15534.2352, -6829.2516, -3106.4231, 2995.4024, 195719.9386, 2770.657, -33928.7113, 14611.9311, 45082.6279, 8144.7956, -33350.7791, -5833.3898, 137915.969, 684487.1633, 53545.5369, 16521.0907, 16874.6033, 62031.926, 58164.722, 30920.032, -501093.3282, 64979.1393, 66104.564, 8570.0017, -33344.0729, 307563.5348, 20393.9985, 47046.4953, -68575.1462, 214551.6729, 71171.7687, -609318.5499, 232415.6, 323794.6551, -74760.2596, 145753.1662, 15814.1999, 121141.5245, 283314.6115, 54158.9829, -32232.6581, 421209.487, 24492.7955, 133979.3763, 63786.3878, 33171.6074, -94007.645, -92687.6517, -398788.4499, -84837.1339, -115429.4365, -17845.2981, 55197.1881, 165573.4059, -5975.9601, -68560.0295, -256312.514, 59234.9755, 100372.0723, -77854.3732, 71409.9897, 83642.8064, -276026.3317, -166053.4603, 53600.1116, 245317.4447, 407251.4687, 64621.9258, -123689.8993, -332692.4994, -267385.7987, 83780.6943, -11780.4747, -9248.2554, 3729.0969, 37933.6072, 32175.4057, 6591.6316, -9654.9547, -4513.2189, 49998.9604, -7512.6181, -9401.8291, 1484.9956, -79289.6572, -6968.5183, 6764.3524, -14179.0342, -12368.3514, 56614.245, -9870.0261, -19372.6672, -3106.4231, 45082.6279, 8144.7956, -5833.3898, 53545.5369, 58164.722, 8570.0017, 214551.6729, 15814.1999, 121141.5245, 54158.9829, 24492.7955, -94007.645, -17845.2981, 59234.9755, 53600.1116, -11780.4747, -9248.2554, 37933.6072, -9654.9547, -9401.8291, -14179.0342, 45082.6279, 15814.1999, -11780.4747, 9684.1497, -2724.6242, -15866.4283, -16872.2923, 208413.6423, 167379.9697, 304521.4976, -9883.8957, 18799.7143, 115163.8889, 7874.077, -5443.2435, -19799.6428, 172906.7581, 133014.2367, -13597.3801, 6064.294, -8160.5011, 137549.8261, 4254.9187, 7053.438, -9563.2212, -22559.6626, 123042.9893, 71755.6274, -55379.7673, 3267.7003, -12398.792, 87747.2134, -503.0685, -60935.3485, -67719.5792, -276468.3658, -67919.7231, -329720.2278, -12825.5489, -24222.3204, -24070.5581, -26529.9896, 87880.7584, 117774.0279, -15705.2751, -27493.1288, -48873.6728, -18568.6446, 35254.0757, 25614.3135, 285750.6467, 31327.223, 20117.7337, -3058.4219, -4512.2771, -241188.1833, -3618.669, 164390.6501, 186746.625, -12927.6388, 4265.1542, 43461.5997, -148585.5867, 56167.9279, 153884.884, -15563.8171, 2262.004, -164996.2944, -18176.0996, -4985.3743, 58437.9803, 44557.6599, -12384.4857, -473606.5779, 58921.8802, 86444.3215, -241962.6583, 60249.9149, 344317.056, 325602.8744, 42928.7012, 147577.5864, -297220.4674, 48048.3716, -275181.0929, 332392.4613, -100216.741, -33738.4539, -42625.5989, -54210.4233, 29959.4104, -72416.7692, 402320.638, -33349.0076, -42134.6726, 27812.3456, -32956.3956, 88510.9098, 74555.1227, 360226.14, 88138.15, 441616.3129, 85207.4141, 61385.5173, -165980.7548, 87508.2541, 168654.546, 738923.6469, 99889.0625, 103594.1099, -247208.654, 102899.7018, 197511.692, 723343.7069, 657218.3115, -16641.7568, -22554.9524, 192422.2373, -17090.0474, 114640.8535, 345556.3598, 282903.7757, 65460.6, 0.0, 0.0, 0.0, 0.0, 0.0, 0.0, 0.0, 0.0, 0.0, 0.0, 0.0, 0.0, 0.0, 0.0, 0.0, 0.0, 0.0, 0.0, 0.0, 0.0, 0.0, 0.0, 0.0, 0.0, 0.0, 0.0, 0.0, 0.0, 0.0, 0.0, 0.0, 0.0, 0.0, 0.0, 0.0, 0.0, 0.0, 0.0, 0.0, 0.0, 0.0, 0.0, 0.0, 0.0, 0.0, 9684.1497, -2724.6242, -15866.4283, 208413.6423, 167379.9697, -9883.8957, 7874.077, -5443.2435, 172906.7581, 6064.294, 7053.438, -9563.2212, 123042.9893, 3267.7003, -60935.3485, -12825.5489, -24222.3204, -26529.9896, -15705.2751, 35254.0757, -3058.4219, -12927.6388, 4265.1542, -148585.5867, -15563.8171, -4985.3743, 58921.8802, 42928.7012, -33738.4539, -42625.5989, 29959.4104, -33349.0076, 88510.9098, 85207.4141, 99889.0625, -16641.7568, 0.0, 0.0, 0.0, 0.0, 0.0, 0.0, 0.0, 0.0, 0.0, 9684.1497, -2724.6242, 208413.6423, 7874.077, 7053.438, -12825.5489, -12927.6388, -33738.4539, 0.0, 9684.1497, -6246.0573, -8971.2877, -6249.6987, 9481.2419, -5029.1116, -2216.926, 4576.5766, -2141.2728, -750.8589, 39828.1444, -6576.5349, -9427.2437, -6902.2815, -5837.9766, -3040.1753, -3017.3209, -6908.5982, -9882.8154, -6647.107, -7242.2458, 4526.6502, 1392.7881, 4018.9039, 18080.8843, 19018.3852, 19182.8571, 4139.6338, 975.9927, 17277.8776, 3751.3844, 26728.2686, 19211.9105, 47301.859, 26325.5998, 58971.4092, -2580.083, 46.3294, 12407.9054, -1713.039, 3584.257, -5034.3015, -3045.0677, -538.8407, -2561.744, -3508.0548, 9738.6828, 12228.7632, 18993.4284, 9297.779, 32774.0155, 5820.8132, 13377.4005, 4696.4807, 5158.0045, 21921.0121, 19908.9796, -4208.7683, -842.0444, 12688.4264, -3249.2967, 2086.6048, -2477.1252, -4712.9277, -1418.5281, -4002.1661, -5215.1585, 9061.1065, 10467.3649, 13947.3804, 8583.2793, 30811.7721, 8025.4457, 16530.7654, 5742.1024, 7309.4427, 25539.8352, 27139.4103, 9189.8067, 19366.7612, 5495.3569, 8441.2572, 27464.8075, 33507.8299, 38099.9422, -819.0289, -819.0289, -819.0289, 14704.0123, 14704.0123, 29560.1779, -896.9582, -896.9582, 14672.3348, -974.9312, -19777.5196, -19777.5196, 819.8906, -19843.091, -32934.3526, 7165.6689, 7165.6689, 20857.2976, 7092.0639, -12888.0955, 14493.6432, 15822.7168, 15822.7168, 25649.4778, 15772.4358, -2389.1536, 20870.6941, 23234.5156, -31650.2389, -31650.2389, -16024.8078, -31692.3993, -39694.332, -27108.2141, -19367.7256, -43645.9236, 0.0, 0.0, 0.0, 0.0, 0.0, 0.0, 0.0, 0.0, 0.0, 0.0, 0.0, 0.0, 0.0, 0.0, 0.0, 0.0, 0.0, 0.0, 0.0, 0.0, 0.0, 0.0, 0.0, 0.0, 0.0, 0.0, 0.0, 0.0, 0.0, 0.0, 0.0, 0.0, 0.0, 0.0, 0.0, 0.0, 0.0, 0.0, 0.0, 0.0, 0.0, 0.0, 0.0, 0.0, 0.0, 0.0, 0.0, 0.0, 0.0, 0.0, 0.0, 0.0, 0.0, 0.0, 0.0, 0.0, 0.0, 0.0, 0.0, 0.0, 0.0, 0.0, 0.0, 0.0, 0.0, 0.0, 0.0, 0.0, 0.0, 0.0, 0.0, 0.0, 0.0, 0.0, 0.0, 0.0, 0.0, 0.0, 0.0, 0.0, 0.0, 0.0, 0.0, 0.0, 0.0, 0.0, 0.0, 0.0, 0.0, 0.0, 0.0, 0.0, 0.0, 0.0, 0.0, 0.0, 0.0, 0.0, 0.0, 0.0, -6246.0573, -8971.2877, -6249.6987, -5029.1116, -2216.926, -2141.2728, -6576.5349, -9427.2437, -5837.9766, -6908.5982, 4526.6502, 1392.7881, 18080.8843, 4139.6338, 26728.2686, -2580.083, 46.3294, -1713.039, -3045.0677, 9738.6828, 5820.8132, -4208.7683, -842.0444, -3249.2967, -4712.9277, 9061.1065, 8025.4457, 9189.8067, -819.0289, -819.0289, 14704.0123, -896.9582, -19777.5196, 7165.6689, 15822.7168, -31650.2389, 0.0, 0.0, 0.0, 0.0, 0.0, 0.0, 0.0, 0.0, 0.0, 0.0, 0.0, 0.0, 0.0, 0.0, 0.0, 0.0, 0.0, 0.0, 0.0, -6246.0573, -8971.2877, -5029.1116, -6576.5349, 4526.6502, -2580.083, -4208.7683, -819.0289, 0.0, 0.0, -6246.0573, 9945.0625, 8576.1152, 27168.2035, 65044.6753, 72603.6413, 20013.6283, -74584.0013, -28450.4344, -151672.2926, -43191.1176, 8729.2488, 7092.0975, 26585.7342, 63866.2126, 16640.0297, -29320.9982, 7528.7604, 5656.6771, 55269.7879, 6343.8214, 23452.1522, 16256.82, 40544.3972, 10421.5096, -40649.2119, -52600.8969, 21191.3451, 14991.1272, 834.7384, 18964.9355, -15202.2088, 4224.1938, -17179.9012, -18126.242, -106775.9426, -20497.7876, -951.6296, 24697.4308, -129104.7178, -112994.1637, -66926.453, -18373.5061, 1571.1763, -125426.0289, -16214.0853, -31092.4401, -20712.5706, -314226.3481, -28863.2029, -125566.3036, 24486.479, 55504.8974, -153364.2328, 30031.7621, -11908.5732, 147880.7872, -61866.7139, -30384.8516, 3623.3261, 90374.0198, 336935.975, 423576.1336, -54637.6073, -25199.7294, 97872.7472, -47350.4432, -33879.013, 1159.8077, -25408.7055, -21014.289, -452495.0993, 1475.026, 44088.0413, 167245.1999, 12709.5863, 51853.5865, 178752.7807, -149551.3045, -72011.539, -251490.4957, -122585.7062, -308148.7781, -27007.6992, -895084.1947, 4347.7743, -77332.2595, -239170.1771, -36552.0807, -135644.0024, 703422.8575, 8031.1348, -71852.9097, -31453.9636, 11671.6502, 36077.847, -45199.3418, -78515.2777, 39364.5559, 50464.3414, 17327.54, -74398.3568, -62614.1341, 24914.7512, 47940.8945, 37252.0052, 167269.743, 50979.6996, -29886.4807, 177948.9466, 559077.5646, 140109.6194, 211963.9747, 85529.4324, -322863.8369, 278933.321, 87873.8159, 305611.4774, -265834.8447, 126945.4677, -323852.3021, -8716.1707, -2199.9306, 21672.5124, 34635.991, 11709.866, -37853.2705, -7489.2143, 625.0621, 43397.2471, -6252.0722, 104.4316, 10126.6257, 18726.5795, 1564.0854, 17891.4295, -8960.0241, 5070.2726, -68346.6881, -6249.9874, -10724.0497, 32557.3298, -25152.588, -26248.5673, 221693.1178, -19873.6925, 19918.8602, 17015.4638, -12535.5804, 19130.3978, -87015.3661, -17441.024, 24944.4227, 33110.6515, 53267.1889, 211042.9612, 76270.2816, -8716.1707, -2199.9306, 34635.991, -7489.2143, 104.4316, -8960.0241, -25152.588, 19130.3978, -8716.1707, 13155.0185, 2488.2874, -8071.3012, 15706.2008, -9785.9688, -17469.7499, 11113.5792, -580.918, -22260.7742, 9069.4438, 9116.8292, -7342.1321, -107028.0461, 4858.1753, -101511.8227, -11782.4062, -24150.7215, -247723.3564, -16049.6415, -13617.6954, -127518.1736, -16291.6326, 5409.261, -320595.2906, -21375.271, -202878.5961, -71904.3346, -310520.0358, -37603.4059, -23759.2552, -100257.9963, -39335.5662, 15326.7391, -120629.6669, -204755.6899, 65125.9718, 0.0, 0.0, 0.0, 0.0, 0.0, 0.0, 0.0, 0.0, 0.0, 13155.0185, 2488.2874, 15706.2008, 11113.5792, 9116.8292, -11782.4062, -16291.6326, -37603.4059, 0.0, 13155.0185, -6246.0573, -8971.2877, -6249.6987, -5029.1116, -2216.926, -2141.2728, -6576.5349, -9427.2437, -5837.9766, -6908.5982, 4526.6502, 1392.7881, 18080.8843, 4139.6338, 26728.2686, -2580.083, 46.3294, -1713.039, -3045.0677, 9738.6828, 5820.8132, -4208.7683, -842.0444, -3249.2967, -4712.9277, 9061.1065, 8025.4457, 9189.8067, -819.0289, -819.0289, 14704.0123, -896.9582, -19777.5196, 7165.6689, 15822.7168, -31650.2389, 0.0, 0.0, 0.0, 0.0, 0.0, 0.0, 0.0, 0.0, 0.0, 0.0, 0.0, 0.0, 0.0, 0.0, 0.0, 0.0, 0.0, 0.0, 0.0, -6246.0573, -8971.2877, -5029.1116, -6576.5349, 4526.6502, -2580.083, -4208.7683, -819.0289, 0.0, 0.0, -6246.0573, 9945.0625, 8576.1152, 27168.2035, 72603.6413, 20013.6283, -28450.4344, 8729.2488, 7092.0975, 63866.2126, 7528.7604, 23452.1522, 16256.82, 10421.5096, 21191.3451, -15202.2088, -20497.7876, -951.6296, -129104.7178, -18373.5061, -31092.4401, 24486.479, -61866.7139, -30384.8516, 90374.0198, -54637.6073, -33879.013, 1475.026, -149551.3045, 4347.7743, -77332.2595, -36552.0807, 8031.1348, 36077.847, 17327.54, 167269.743, 85529.4324, -8716.1707, -2199.9306, 34635.991, -7489.2143, 104.4316, -8960.0241, -25152.588, 19130.3978, -8716.1707, 13155.0185, 2488.2874, 15706.2008, 11113.5792, 9116.8292, -11782.4062, -16291.6326, -37603.4059, 0.0, 13155.0185, -6246.0573, -8971.2877, -5029.1116, -6576.5349, 4526.6502, -2580.083, -4208.7683, -819.0289, 0.0, 0.0, -6246.0573, 9945.0625, 8576.1152, 72603.6413, 8729.2488, 23452.1522, -20497.7876, -61866.7139, 4347.7743, -8716.1707, 13155.0185, -6246.0573, 9945.0625, -2240.5532, -7119.7262, -23630.4701, -71665.3985, 38144.6761, 56937.249, 99739.095, 171687.8407, 146897.4238, -343137.6786, -142.5463, -3584.102, -18186.7023, 42953.2815, 62024.3481, 179551.8275, 1964.6646, -46.7729, 47748.0181, 4081.0719, -13680.0952, -14274.5587, -19187.2469, -117472.9748, -82720.6809, 153589.3821, -11174.1626, -11220.6128, -113094.729, -8659.8595, 8760.5709, 12630.7475, -14566.8381, 11328.5949, -6674.5954, -28448.5059, -78070.7371, -177905.4909, 172511.5696, 200360.2138, 502680.3487, -23853.908, -71051.5846, 179586.313, -19259.792, -5210.3541, -14824.1391, -123464.2542, -1007.4934, 40008.2296, -112403.8467, -255968.3061, 504083.898, -105296.0764, -14778.0048, -285233.8947, 100712.4551, 48948.5732, -42463.5299, -336449.7283, -426779.9879, -20475.3284, 107780.5885, 56702.4978, -326999.1685, 114848.3169, 99575.7659, 66550.6691, -754635.3343, 105680.6697, 124524.1875, -10783.1739, -159802.411, -167114.6635, -45.1959, 93210.3579, -344767.2112, 372569.2733, 186181.78, -914041.0386, 386499.5937, 379383.2777, -28304.8511, 557774.9692, -3287.0707, 216917.442, 636839.8272, 365707.9597, 225891.3657, -1485366.5878, 5200.6157, 226948.1077, 383610.4132, 13707.3856, -97846.8506, 32053.3468, -713040.9628, -90472.4748, 10744.3021, -8033.8113, 243178.9613, 698261.3384, 2847.046, -55245.4505, -68422.5545, -6721.8733, 145834.3916, -585202.849, 2609.31, -11216.4478, -142049.1765, -59645.1528, -26225.7556, 589615.205, 555914.9958, -13877.4001, -341652.8232, 127804.4445, -270789.6666, 639781.2212, -10002.4934, -17382.4716, -38525.0971, 4863.1289, 36982.9023, 260015.7685, -7223.4431, -12880.6846, 10106.6448, -4432.2656, -31166.9258, -28811.1377, -185873.1881, -27963.651, -35788.9993, -17294.9311, -68798.6083, 247237.3379, -12040.2962, -26885.8884, -113000.4545, 151817.6095, 79698.8084, -323915.216, 160082.4223, 92235.987, -14037.9345, 454683.0658, 5165.024, 355431.5322, 342543.1876, 15227.9509, -254870.664, -125521.0047, -139937.961, 1357.063, -10002.4934, -17382.4716, 4863.1289, -7223.4431, -31166.9258, -17294.9311, 151817.6095, 5165.024, -10002.4934, 10652.0856, 11904.6075, 13166.0193, 92950.4059, 74210.83, -245979.24, 11267.586, 12830.2269, 94842.3307, 11885.0766, 19138.001, 13689.4896, 97796.7872, 19727.5612, 89501.9245, -41572.4188, -41941.8962, -119243.0989, -39860.2985, 51122.5251, -61855.9969, -28349.2002, -27846.9749, -140160.2377, -26117.7983, 82516.8986, -2.412, 59720.6313, -19006.7663, -65852.2703, 126324.6696, -15523.4529, 129243.3381, 138978.9873, 196403.2487, -60465.4557, 0.0, 0.0, 0.0, 0.0, 0.0, 0.0, 0.0, 0.0, 0.0, 10652.0856, 11904.6075, 92950.4059, 11267.586, 19138.001, -41572.4188, -28349.2002, -19006.7663, 0.0, 10652.0856, 0.0, 0.0, 0.0, 0.0, 0.0, 0.0, 0.0, 0.0, 0.0, 0.0, 0.0, 0.0, 0.0, 0.0, 0.0, 0.0, 0.0, 0.0, 0.0, 0.0, 0.0, 0.0, 0.0, 0.0, 0.0, 0.0, 0.0, 0.0, 0.0, 0.0, 0.0, 0.0, 0.0, 0.0, 0.0, 0.0, 0.0, 0.0, 0.0, 0.0, 0.0, 0.0, 0.0, 0.0, 0.0, 0.0, 0.0, 0.0, 0.0, 0.0, 0.0, 0.0, 0.0, 0.0, 0.0, 0.0, 0.0, 0.0, 0.0, 0.0, 0.0, 0.0, 0.0, 0.0, 0.0, 0.0, 0.0, 0.0, 0.0, 0.0, 0.0, 0.0, 0.0, 0.0, 0.0, 0.0, 0.0, 0.0, 0.0, 0.0, 0.0, 0.0, 0.0, 0.0, 0.0, 0.0, 0.0, 0.0, 0.0, 0.0, 0.0, 0.0, 0.0, 0.0, 0.0, 0.0, 0.0, 0.0, 0.0, 0.0, 0.0, 0.0, 0.0, 0.0, 0.0, 0.0, 0.0, 0.0, 0.0, 0.0, 0.0, 0.0, 0.0, 0.0, 0.0, 0.0, 0.0, 0.0, 0.0, 0.0, 0.0, 0.0, 0.0, 0.0, 0.0, 0.0, 0.0, 0.0, 0.0, 0.0, 0.0, 0.0, 0.0, 0.0, 0.0, 0.0, 0.0, 0.0, 0.0, 0.0, 0.0, 0.0, 0.0, 0.0, -2240.5532, -7119.7262, -23630.4701, 38144.6761, 56937.249, 171687.8407, -142.5463, -3584.102, 42953.2815, 1964.6646, -13680.0952, -14274.5587, -117472.9748, -11174.1626, 8760.5709, -28448.5059, -78070.7371, 172511.5696, -23853.908, -5210.3541, -112403.8467, 100712.4551, 48948.5732, -336449.7283, 107780.5885, 99575.7659, -10783.1739, 372569.2733, -3287.0707, 216917.442, 365707.9597, 5200.6157, -97846.8506, -8033.8113, -6721.8733, -26225.7556, -10002.4934, -17382.4716, 4863.1289, -7223.4431, -31166.9258, -17294.9311, 151817.6095, 5165.024, -10002.4934, 10652.0856, 11904.6075, 92950.4059, 11267.586, 19138.001, -41572.4188, -28349.2002, -19006.7663, 0.0, 10652.0856, 0.0, 0.0, 0.0, 0.0, 0.0, 0.0, 0.0, 0.0, 0.0, 0.0, 0.0, 0.0, 0.0, 0.0, 0.0, 0.0, 0.0, 0.0, 0.0, 0.0, 0.0, 0.0, 0.0, -2240.5532, -7119.7262, 38144.6761, -142.5463, -13680.0952, -28448.5059, 100712.4551, -3287.0707, -10002.4934, 10652.0856, 0.0, 0.0, -2240.5532, 26274.1446, 25559.5949, 12523.0434, -15275.0101, 76539.8716, -244224.7373, -495277.2765, -332803.086, -522799.7709, -82624.667, 23560.7485, 21565.7875, 9434.8446, 65692.9751, -248607.5727, -334332.938, 20857.7169, 17635.9597, 54991.7367, 18165.5604, 21058.4613, 20646.8475, 41821.9937, 322910.1367, 2154.0123, -233275.9569, 17779.5339, 17987.6238, 311645.67, 14527.4983, -3346.202, 14924.2472, 448404.8473, -6137.207, -3747.8543, 14498.2763, 8807.389, -10730.6933, -205535.3277, -491514.2511, -506476.1945, 14246.0111, 9464.6541, -204171.114, 14015.6348, -13643.4058, -21471.0877, -77431.2893, -14163.7284, -40846.2382, 46336.1666, 47766.5465, -359631.5455, 48136.1449, -9970.4436, 108241.5472, -75179.182, -77480.3851, -119962.2363, 457180.5615, 171256.9169, 4173.0556, -74744.9486, -76371.0754, 461168.0832, -74284.3803, -78142.983, -82156.6658, 676481.4862, -78229.6008, -95312.1639, -4451.615, -3401.8043, 495164.826, -1646.5382, -71803.0383, 155662.6708, -57817.481, -70145.9365, 1150138.4196, -54085.7078, -109476.0804, 125970.7807, 107746.1575, -8114.6519, -115867.0382, -339165.7423, 80735.6871, -250272.4981, -799591.7986, -7710.7175, -114799.4058, 83524.3926, -7299.7473, -31235.9663, -173898.9351, 212132.7692, -31193.2389, -37648.4529, 54110.5601, -21977.7376, 65371.2977, 56384.3052, -70980.6239, 385619.9635, -27377.9541, -135122.1382, 416732.7971, -24528.0212, -140470.1567, 292788.3077, 280027.5011, 64444.5341, -348696.6027, -167673.1017, 61944.5045, 104941.0033, -88573.4098, 37548.383, -158855.9453, 6817.4139, 17168.8224, 15493.684, 131682.741, -151492.283, -690013.5241, 7619.808, 19078.4322, 139749.4566, 8428.4676, 23086.6581, 34737.959, 343297.4208, 24037.0712, 45234.2625, 2040.3286, -3606.6025, -205698.3573, 3626.7942, 479.9415, 27187.757, -61564.3396, -76806.5589, 441340.5618, -59455.1273, -41209.0802, -34216.9435, -121358.7463, -60173.1266, -205699.4164, 24815.2487, -58210.899, -200806.6414, 176428.5143, 81864.2974, 81923.3621, 6817.4139, 17168.8224, 131682.741, 7619.808, 23086.6581, 2040.3286, -61564.3396, -60173.1266, 6817.4139, 3033.0274, -7803.988, -11399.612, -229201.4272, -225988.62, -78323.5421, 908.8233, -10961.6172, -268502.7708, -1217.9555, -20900.0331, -36168.407, -573119.8099, -23496.57, -73230.0631, 6974.3873, 14701.3695, -3172.7385, 3688.9177, -16022.5645, 28666.9825, 30826.5245, 49314.8104, 68012.9915, 27626.4446, -5187.4684, 95501.079, 206414.0719, 70638.3801, 59959.3231, 172476.7847, 67578.2307, 208205.3368, -348577.6096, -307262.291, -12840.7616, 0.0, 0.0, 0.0, 0.0, 0.0, 0.0, 0.0, 0.0, 0.0, 3033.0274, -7803.988, -229201.4272, 908.8233, -20900.0331, 6974.3873, 30826.5245, 70638.3801, 0.0, 3033.0274, -6246.0573, -8971.2877, -6249.6987, -5029.1116, -2216.926, -2141.2728, -6576.5349, -9427.2437, -5837.9766, -6908.5982, 4526.6502, 1392.7881, 18080.8843, 4139.6338, 26728.2686, -2580.083, 46.3294, -1713.039, -3045.0677, 9738.6828, 5820.8132, -4208.7683, -842.0444, -3249.2967, -4712.9277, 9061.1065, 8025.4457, 9189.8067, -819.0289, -819.0289, 14704.0123, -896.9582, -19777.5196, 7165.6689, 15822.7168, -31650.2389, 0.0, 0.0, 0.0, 0.0, 0.0, 0.0, 0.0, 0.0, 0.0, 0.0, 0.0, 0.0, 0.0, 0.0, 0.0, 0.0, 0.0, 0.0, 0.0, -6246.0573, -8971.2877, -5029.1116, -6576.5349, 4526.6502, -2580.083, -4208.7683, -819.0289, 0.0, 0.0, -6246.0573, 10995.0012, 10071.8194, 9604.9764, -10129.118, -260996.2716, -313207.5066, 9156.2428, 7059.6273, -21511.9872, 7322.6678, 5409.775, 6857.1697, 58698.4801, 2916.6597, -23280.8347, -17095.3057, -22438.4427, -252819.0395, -17625.9253, -36296.834, -9787.65, -19109.4131, -14386.0745, 462615.5863, -19077.7793, -28591.0132, 26220.3718, 67426.3492, -44342.6957, -85591.4495, 266557.1644, -44109.9729, -75122.8571, -7716.8605, 23849.2706, 69320.0729, 6245.4144, 19502.2521, 30237.3176, 6986.0428, 13772.3809, -13949.5391, -26281.3942, -125852.7037, 6245.4144, -428.341, -14418.8807, -127356.9806, -2684.9801, -17168.1917, 192.956, 17295.0455, 98543.633, 0.0, -428.341, -6246.0573, -8971.2877, -5029.1116, -6576.5349, 4526.6502, -2580.083, -4208.7683, -819.0289, 0.0, 0.0, -6246.0573, 10995.0012, 10071.8194, -10129.118, 9156.2428, 5409.775, -17095.3057, -19109.4131, -44342.6957, 6245.4144, -428.341, -6246.0573, 10995.0012, 6362.7884, 3219.9773, -12136.1612, 76032.2036, 29893.7069, -354635.8434, 6602.1691, 3671.6291, 77424.6183, 6842.8229, 10352.3042, 7447.9446, 240465.0841, 10601.3777, 28097.6111, 86443.8162, 122020.4531, 118719.4558, 87221.9287, 56621.0668, 325442.4867, -110642.7979, -172592.6451, -98186.8021, -109923.9553, -86116.4531, -140558.2775, -402821.2151, 138842.5882, -178228.4039, -1419254.8481, 140954.6772, 139594.6208, 350942.4586, -329460.0509, 5027.1042, 2734.0499, -8028.6273, 204110.2115, 3119.258, 40863.8671, 95878.293, -170281.496, 286542.7024, 2734.0499, 11952.4852, 23140.2594, -336328.3213, 11915.5837, -56523.6056, 28290.5807, 27048.9998, -145528.6773, 0.0, 11952.4852, 0.0, 0.0, 0.0, 0.0, 0.0, 0.0, 0.0, 0.0, 0.0, 0.0, 0.0, 0.0, 0.0, 0.0, 0.0, 0.0, 0.0, 0.0, 0.0, 0.0, 0.0, 0.0, 0.0, 6362.7884, 3219.9773, 76032.2036, 6602.1691, 10352.3042, 86443.8162, -110642.7979, 138842.5882, 2734.0499, 11952.4852, 0.0, 0.0, 6362.7884, 26274.1446, 25559.5949, 12523.0434, 76539.8716, -244224.7373, -332803.086, 23560.7485, 21565.7875, 65692.9751, 20857.7169, 21058.4613, 20646.8475, 322910.1367, 17779.5339, -3346.202, 14498.2763, 8807.389, -205535.3277, 14246.0111, -13643.4058, 46336.1666, -75179.182, -77480.3851, 457180.5615, -74744.9486, -78142.983, -4451.615, -57817.481, -8114.6519, -115867.0382, 80735.6871, -7710.7175, -31235.9663, 54110.5601, -27377.9541, 64444.5341, 6817.4139, 17168.8224, 131682.741, 7619.808, 23086.6581, 2040.3286, -61564.3396, -60173.1266, 6817.4139, 3033.0274, -7803.988, -229201.4272, 908.8233, -20900.0331, 6974.3873, 30826.5245, 70638.3801, 0.0, 3033.0274, -6246.0573, -8971.2877, -5029.1116, -6576.5349, 4526.6502, -2580.083, -4208.7683, -819.0289, 0.0, 0.0, -6246.0573, 10995.0012, 10071.8194, -10129.118, 9156.2428, 5409.775, -17095.3057, -19109.4131, -44342.6957, 6245.4144, -428.341, -6246.0573, 10995.0012, 6362.7884, 3219.9773, 76032.2036, 6602.1691, 10352.3042, 86443.8162, -110642.7979, 138842.5882, 2734.0499, 11952.4852, 0.0, 0.0, 6362.7884, 26274.1446, 25559.5949, 76539.8716, 23560.7485, 21058.4613, 14498.2763, -75179.182, -8114.6519, 6817.4139, 3033.0274, -6246.0573, 10995.0012, 6362.7884, 26274.1446, -8227.5222, -21489.8624, -26517.3459, -10892.7793, 144344.5645, 130066.9729, 23390.9345, 336806.4686, 68398.2984, -485695.3656, -6792.4578, -17772.8149, -19384.146, 152342.3487, 139632.1551, 340428.9834, -5345.2323, -14062.6053, 160387.7663, -3885.8935, -6151.0625, -5839.0197, -888.7117, -12906.9618, -40942.4331, 350676.0553, -3955.0913, -3831.5052, -7566.1649, -1748.8518, 14766.0459, 19493.5472, 67784.2983, 17477.2678, -25974.1667, -29572.2439, -38382.7575, -70437.0154, 74385.702, 57528.9719, 201169.7259, -24368.1567, -32914.9681, 89374.4645, -19147.1299, -17014.9664, -25719.2472, -318756.4833, -11043.7383, -1965.6521, -949.9822, -14737.1765, 215429.3748, 7833.3852, 30240.8047, 60946.5776, 71099.8284, 7455.6298, -39911.4063, -610504.5581, -378086.8019, 564043.1381, 82786.2399, 16387.2179, -587696.1551, 94483.2703, 200095.5515, 75572.9843, -986895.8795, 222799.5876, 111373.3548, 41263.6489, -37577.8854, -415010.7811, 55766.7485, 250318.42, -22837.1931, 427776.2139, 127359.1827, -2267624.1413, 460434.9121, 1027405.3483, 8227.576, 173212.0993, -57596.4648, 23166.5084, 158851.1565, 44208.0208, 36050.13, 1551505.783, -50515.3283, 31524.9113, 53791.0696, -43406.0366, -96033.0864, -40871.0954, -349729.8254, -88918.4636, -86479.8918, -80591.2346, -6261.0431, 167428.6005, -69336.1244, -70963.8141, -172570.1657, -10039.0427, 40808.6432, -544729.1766, 2391.7751, 73969.0912, -228175.8136, -228162.2031, -130760.0994, 51231.679, 984171.5997, -122234.0671, -173616.9911, -280235.6497, -288941.82, -60450.344, -10566.3177, -20818.5543, -33587.2024, 30365.8321, 27286.7436, 265241.7604, -8523.2319, -16179.7665, 44153.6854, -6469.0887, -8977.5532, -8797.8369, -108543.3628, -6698.5939, -595.5348, -14063.3636, -25994.9491, 93120.7217, -9786.3903, -9837.489, -25951.7182, 75380.9015, 22236.3751, -480184.6291, 83278.6572, 81546.4896, 6806.5957, 295197.9676, 15615.7786, 145181.8069, 159293.1005, 24897.1424, -108780.7137, -63202.4349, 71239.1233, 2543.7091, -10566.3177, -20818.5543, 30365.8321, -8523.2319, -8977.5532, -14063.3636, 75380.9015, 15615.7786, -10566.3177, 650.9811, -2071.0481, 2321.3143, 58678.0154, 79011.1004, 221215.2184, -24.4447, -3083.9922, 55592.7316, -698.45, 1592.5265, -1147.2025, 51843.5428, 146.107, 4125.24, -24763.6378, -23138.8592, -25910.305, -25390.4647, -6554.8201, 116048.4199, -73904.6743, -35132.9066, -99689.4297, -73957.4352, -204026.1902, 86979.5377, -232393.6976, -161694.6725, -174429.5028, -514600.6388, -161839.0301, -37911.8857, -96110.5926, -208955.2009, -327496.0236, 0.0, 0.0, 0.0, 0.0, 0.0, 0.0, 0.0, 0.0, 0.0, 650.9811, -2071.0481, 58678.0154, -24.4447, 1592.5265, -24763.6378, -73904.6743, -161694.6725, 0.0, 650.9811, -8141.2209, -10502.3817, -4262.919, -6577.7749, -2354.91, 23954.2494, -8459.0777, -10937.2105, -7106.4804, -8778.1233, 1891.1355, -1364.5832, 2914.0566, 1519.2143, 19188.1157, -6308.7214, -2431.1724, -2869.4411, -6721.9326, 7077.8812, -2667.3351, 1703.1867, 8361.4354, 4120.5731, 1236.5453, 14758.0952, 9603.9362, 24716.9011, 4131.1443, 4131.1443, -1287.5982, 4134.488, 4851.4321, 6337.4008, 6956.3265, 4131.1443, 0.0, 0.0, 0.0, 0.0, 0.0, 0.0, 0.0, 0.0, 0.0, 0.0, 0.0, 0.0, 0.0, 0.0, 0.0, 0.0, 0.0, 0.0, 0.0, -8141.2209, -10502.3817, -6577.7749, -8459.0777, 1891.1355, -6308.7214, 1703.1867, 4131.1443, 0.0, 0.0, -8141.2209, -1100.4628, -4759.8889, 5223.7615, 5857.678, 6188.0086, 242455.2488, -750.9979, -3656.4289, 9115.454, -396.0705, 12374.0469, 7960.7652, -13655.603, 12837.1995, 25678.5803, -7105.3393, -4185.8042, -104448.0302, -4667.583, -18088.1098, 84629.0543, -24700.3605, -29741.7333, -228800.4439, -18601.3135, -65675.5222, 64613.3041, -92481.2039, 13443.7919, -45784.4927, 1535.0586, 17680.3758, 19174.858, 46107.752, 211428.8834, 123812.6931, -10021.3625, -21806.5091, 22048.9294, -8722.8706, 3754.4293, -4198.6889, -10596.647, 12084.003, -10021.3625, 7237.2882, 10409.2136, -16760.8728, 6284.6433, 3711.309, -11650.365, -29448.4894, 4254.3497, 0.0, 7237.2882, -8141.2209, -10502.3817, -6577.7749, -8459.0777, 1891.1355, -6308.7214, 1703.1867, 4131.1443, 0.0, 0.0, -8141.2209, -1100.4628, -4759.8889, 5857.678, -750.9979, 12374.0469, -7105.3393, -24700.3605, 13443.7919, -10021.3625, 7237.2882, -8141.2209, -1100.4628, -6656.179, -11697.0976, -23470.4113, 52721.7024, 50941.4285, 382287.2869, -4549.4359, -8140.5778, 57289.5783, -2434.0895, -23142.3861, -24562.0902, -111234.4978, -20621.1956, -8573.5966, -55283.4867, -114931.6965, 34978.4421, -50604.0491, -23951.636, -204571.3826, 84609.3984, 37694.6053, -575532.5608, 91752.7253, 96045.5216, -82274.7134, 341805.01, -130244.396, 103227.0618, 32583.772, -121959.5099, -193679.5753, -205860.4285, -157213.5777, -382817.9672, -6694.0449, -4383.6255, 11267.3548, -3851.7899, -41598.0155, -31170.6393, 186362.6498, 17300.5785, -6694.0449, -5482.3801, -20436.1994, 109611.8524, -4891.7617, 12557.6771, -85629.7675, -128863.0159, -390965.6525, 0.0, -5482.3801, 0.0, 0.0, 0.0, 0.0, 0.0, 0.0, 0.0, 0.0, 0.0, 0.0, 0.0, 0.0, 0.0, 0.0, 0.0, 0.0, 0.0, 0.0, 0.0, 0.0, 0.0, 0.0, 0.0, -6656.179, -11697.0976, 52721.7024, -4549.4359, -23142.3861, -55283.4867, 84609.3984, -130244.396, -6694.0449, -5482.3801, 0.0, 0.0, -6656.179, 6039.1221, 19567.5534, 51033.5471, 196497.6161, -56752.1051, -367113.1215, 5976.9142, 19701.3736, 198860.2243, 5917.9317, 9951.2108, 16246.7751, 303601.3528, 9809.2005, 17805.1614, 14872.6244, 24714.3035, -6483.1978, 15726.9272, -8216.1347, 92732.9935, -50674.7243, -62134.3335, 472823.4109, -49494.6242, -57474.2059, 2645.8007, -79531.0499, -5367.8352, -63500.2885, 222390.8852, -4297.4792, -81199.0393, 156428.9157, 12500.784, 156645.1831, 3716.2049, 9388.733, 406945.8894, 4486.4802, 13700.4055, 15756.1177, -78695.2304, -106842.3786, 3716.2049, 1536.7113, 6374.9881, -131108.4121, 604.6987, -9874.7265, -6122.7843, 34913.816, 135135.2803, 0.0, 1536.7113, -8141.2209, -10502.3817, -6577.7749, -8459.0777, 1891.1355, -6308.7214, 1703.1867, 4131.1443, 0.0, 0.0, -8141.2209, 1900.015, 11360.5057, 23113.7918, 1784.2425, 9631.0863, -13919.5494, -13757.6945, -59531.4385, 5043.6465, -5498.0067, -8141.2209, 1900.015, 2728.2423, 1651.9368, 193472.0264, 2866.4865, -12851.5548, 99512.3522, -152174.1217, 168940.699, -5249.2257, 15792.8832, 0.0, 0.0, 2728.2423, 6039.1221, 19567.5534, 196497.6161, 5976.9142, 9951.2108, 14872.6244, -50674.7243, -5367.8352, 3716.2049, 1536.7113, -8141.2209, 1900.015, 2728.2423, 6039.1221, -8227.5222, -21489.8624, -26517.3459, 144344.5645, 130066.9729, 336806.4686, -6792.4578, -17772.8149, 152342.3487, -5345.2323, -6151.0625, -5839.0197, -12906.9618, -3955.0913, 14766.0459, -29572.2439, -38382.7575, 74385.702, -24368.1567, -17014.9664, -949.9822, 71099.8284, 7455.6298, -610504.5581, 82786.2399, 200095.5515, 41263.6489, 427776.2139, -57596.4648, 23166.5084, 44208.0208, -50515.3283, -96033.0864, -80591.2346, -10039.0427, -130760.0994, -10566.3177, -20818.5543, 30365.8321, -8523.2319, -8977.5532, -14063.3636, 75380.9015, 15615.7786, -10566.3177, 650.9811, -2071.0481, 58678.0154, -24.4447, 1592.5265, -24763.6378, -73904.6743, -161694.6725, 0.0, 650.9811, -8141.2209, -10502.3817, -6577.7749, -8459.0777, 1891.1355, -6308.7214, 1703.1867, 4131.1443, 0.0, 0.0, -8141.2209, -1100.4628, -4759.8889, 5857.678, -750.9979, 12374.0469, -7105.3393, -24700.3605, 13443.7919, -10021.3625, 7237.2882, -8141.2209, -1100.4628, -6656.179, -11697.0976, 52721.7024, -4549.4359, -23142.3861, -55283.4867, 84609.3984, -130244.396, -6694.0449, -5482.3801, 0.0, 0.0, -6656.179, 6039.1221, 19567.5534, 196497.6161, 5976.9142, 9951.2108, 14872.6244, -50674.7243, -5367.8352, 3716.2049, 1536.7113, -8141.2209, 1900.015, 2728.2423, 6039.1221, -8227.5222, -21489.8624, 144344.5645, -6792.4578, -6151.0625, -29572.2439, 71099.8284, -57596.4648, -10566.3177, 650.9811, -8141.2209, -1100.4628, -6656.179, 6039.1221, -8227.5222, 2381.9875, -16.1566, -3186.4382, -13460.5614, 12000.071, 54358.0093, 66158.1422, -148836.5004, -171995.3177, 80222.6651, 1554.6056, -1130.5781, -4383.1528, 3117.903, 48463.3074, -150264.676, 726.9483, -2239.0468, -5679.2708, -100.9464, 3742.8363, 2069.8302, 2625.9593, -4639.0305, 20300.297, -151665.6962, 2323.5363, 907.6119, -14166.8578, 905.6524, -26211.4322, -20949.8332, -73489.1202, -28270.0118, -77783.5696, -7264.3542, 5973.1406, 22769.8477, -19786.0169, 37301.3908, -140213.0715, -7395.4428, 6205.6854, -19143.6805, -7518.363, 5219.7393, 14728.2225, -66983.737, 4918.0355, -2320.9348, -11797.3227, 27110.9, 12049.1649, -10210.5583, 4345.28, 22752.3804, -40072.6195, -24243.9104, -7475.9886, 372234.5293, 477758.117, 223136.9479, -39629.3151, -23464.2008, 374105.6785, -39176.3562, 484.4672, 13514.0598, 331654.0789, 503.6271, -2373.8915, -46938.7197, 11712.7348, 418891.3192, -43689.1627, 20662.2894, 36383.4296, -96464.1898, -51194.6934, 728467.1421, -91335.7123, 31571.2981, 5710.0034, -24684.9989, -57997.3972, -138780.7395, -298636.7641, -37031.2421, -180713.0073, -478902.6722, -56935.9885, -137013.0748, -33924.8477, -55858.1028, 9060.9849, -70065.6039, 104609.9231, 10144.9435, 42041.8254, 16313.82, -4911.707, -72365.187, 19222.2371, 91758.5016, 195617.8093, -32538.0742, -96221.9383, 198155.0573, -27141.9437, 63772.2913, 303883.2265, 410973.2514, 26905.5007, -344602.3256, -595946.406, 26277.6272, 185710.2424, -33552.6527, 65026.3863, -246389.5219, -2747.0065, 8068.4933, 19060.8434, 9587.0973, 19566.6652, -447387.951, -2314.4111, 8924.2477, 11264.1777, -1877.2006, 1962.0707, 15269.8055, 4800.4392, 2539.5189, 17063.9169, -5866.622, 12784.992, -12677.2515, -4719.2695, -15857.8606, 42009.1697, -58711.1449, -36157.2819, 153394.6218, -56510.9636, -49679.191, 21512.9533, -96063.1124, -15587.8298, -107594.805, -142120.0057, -13886.5979, -12750.1747, 106241.0571, 3460.7151, 189368.3005, -2747.0065, 8068.4933, 9587.0973, -2314.4111, 1962.0707, -5866.622, -58711.1449, -15587.8298, -2747.0065, 10151.5097, -10077.877, -40016.1235, 2830.9521, 53567.6227, -50692.3324, 7869.1079, -13651.273, -21366.273, 5574.5216, 4059.0418, -19641.3075, -39275.4885, 824.3362, -69726.6419, -6386.3712, -18000.609, 16058.8573, -10177.2749, 45595.6292, -342280.554, 15149.3564, 17643.5415, 19304.2431, 12144.3883, 85454.9207, -256923.7472, -48947.9815, -99211.5485, -96502.5661, 265204.6351, -99521.6292, 41493.297, -266886.2732, -109154.243, -260052.6374, 0.0, 0.0, 0.0, 0.0, 0.0, 0.0, 0.0, 0.0, 0.0, 10151.5097, -10077.877, 2830.9521, 7869.1079, 4059.0418, -6386.3712, 15149.3564, -99211.5485, 0.0, 10151.5097, -2901.8625, -5106.9616, -6936.4627, -24.6483, -472.8093, -62751.7702, -3328.4938, -5556.4417, -926.0448, -3757.0826, 10104.6355, 6950.5765, 29264.3656, 9641.1954, 41663.5744, 9231.6145, 7031.5365, 3034.7327, 8532.5297, 16807.9544, 37555.9863, -21461.7, -24184.3715, -14108.912, -22168.4516, -10366.5808, 6581.9569, -34285.1403, 964.0836, 964.0836, 35564.1779, 852.1807, -20504.5998, 11752.9897, 27357.3472, -32062.1617, 0.0, 0.0, 0.0, 0.0, 0.0, 0.0, 0.0, 0.0, 0.0, 0.0, 0.0, 0.0, 0.0, 0.0, 0.0, 0.0, 0.0, 0.0, 0.0, -2901.8625, -5106.9616, -24.6483, -3328.4938, 10104.6355, 9231.6145, -21461.7, 964.0836, 0.0, 0.0, -2901.8625, 6020.2404, 7523.6125, 11615.624, 38669.9153, 53281.3219, -136508.3321, 5080.4258, 6201.2216, 28294.8725, 4139.2768, 4843.3691, 3479.7471, 45656.2187, 3211.4704, -38607.0579, -13198.7266, 4860.5714, -141582.4873, -13604.5464, 1375.1695, -61063.4129, -20439.9331, 5129.52, 250156.3385, -20337.8698, 21472.228, -70067.3345, -13787.0446, -28757.4139, -75565.95, -106811.3586, -28248.0416, 64765.1173, -54240.9525, -2146.2706, -51101.1391, -66.5921, 17872.0732, 12552.3163, 275.9141, -2646.4408, -14360.1557, -39648.9743, 3969.9188, -66.5921, 13839.0517, -8634.041, 39747.3639, 11497.0102, 12133.9101, -2570.7674, 24511.1498, -64740.9095, 0.0, 13839.0517, -2901.8625, -5106.9616, -24.6483, -3328.4938, 10104.6355, 9231.6145, -21461.7, 964.0836, 0.0, 0.0, -2901.8625, 6020.2404, 7523.6125, 38669.9153, 5080.4258, 4843.3691, -13198.7266, -20439.9331, -28757.4139, -66.5921, 13839.0517, -2901.8625, 6020.2404, -25644.203, -57861.9365, -126712.5299, -36825.0848, 48808.3943, -414160.6071, -24313.314, -55641.8625, -32404.1255, -22975.2063, 23566.35, 17603.538, -88958.0321, 25330.753, 127603.9055, 106763.7298, 65751.2855, 563097.8622, 109996.8436, 82770.5217, 555087.9316, -168077.8408, -233223.5273, 535191.9298, -164630.5748, -188648.0694, 185126.6114, -520920.985, -175966.9967, -303381.2125, 539467.0343, -171568.3026, -264724.4654, 620264.0186, -155496.021, 452398.0964, -36372.6859, -107746.3505, -16825.8056, -34632.7987, 57791.1441, 103588.5889, -228129.0293, -117942.1309, -36372.6859, 3258.042, 84996.2942, -86104.6032, 3478.2744, -80208.1119, 100566.9576, 44954.49, -286671.8285, 0.0, 3258.042, 0.0, 0.0, 0.0, 0.0, 0.0, 0.0, 0.0, 0.0, 0.0, 0.0, 0.0, 0.0, 0.0, 0.0, 0.0, 0.0, 0.0, 0.0, 0.0, 0.0, 0.0, 0.0, 0.0, -25644.203, -57861.9365, -36825.0848, -24313.314, 23566.35, 106763.7298, -168077.8408, -175966.9967, -36372.6859, 3258.042, 0.0, 0.0, -25644.203, 6451.3676, -5869.5609, -31029.2704, -131302.2435, -245851.9416, -220536.5848, 5382.6342, -7408.0921, -142702.5652, 4311.4757, 3117.4033, -8226.0176, -75447.5941, 1374.0345, -28876.6003, -5387.7756, -20081.886, -278993.2126, -6244.5445, -2043.9427, -44909.0224, 1686.3979, -4990.3747, 160680.9449, 924.4052, 11371.2037, -18828.4031, 24239.4521, 28506.2002, -59817.7986, -104218.4186, 27530.0802, 84617.169, -59553.4025, -72464.0095, 53126.9696, 11525.0594, 12577.4224, -84413.4988, 11825.626, 28655.7525, -21106.8719, -5689.9322, 67434.001, 11525.0594, -997.1248, -28887.9236, 172347.4323, -3653.1351, -34370.9052, 39473.6596, 19316.6571, -48933.0902, 0.0, -997.1248, -2901.8625, -5106.9616, -24.6483, -3328.4938, 10104.6355, 9231.6145, -21461.7, 964.0836, 0.0, 0.0, -2901.8625, 6900.0601, -3816.8787, -24912.9713, 5738.4249, -7762.4711, -1612.7002, -7674.438, 44890.5511, 9271.9436, 3445.5527, -2901.8625, 6900.0601, 32113.8334, 12948.1853, -348706.0981, 33103.1781, 179715.4112, -15078.4159, 180988.37, -63102.2979, 53564.8156, -28395.5316, 0.0, 0.0, 32113.8334, 6451.3676, -5869.5609, -131302.2435, 5382.6342, 3117.4033, -5387.7756, 1686.3979, 28506.2002, 11525.0594, -997.1248, -2901.8625, 6900.0601, 32113.8334, 6451.3676, 0.0, 0.0, 0.0, 0.0, 0.0, 0.0, 0.0, 0.0, 0.0, 0.0, 0.0, 0.0, 0.0, 0.0, 0.0, 0.0, 0.0, 0.0, 0.0, 0.0, 0.0, 0.0, 0.0, 0.0, 0.0, 0.0, 0.0, 0.0, 0.0, 0.0, 0.0, 0.0, 0.0, 0.0, 0.0, 0.0, 0.0, 0.0, 0.0, 0.0, 0.0, 0.0, 0.0, 0.0, 0.0, 0.0, 0.0, 0.0, 0.0, 0.0, 0.0, 0.0, 0.0, 0.0, 0.0, 0.0, 0.0, 0.0, 0.0, 0.0, 0.0, 0.0, 0.0, 0.0, 0.0, 0.0, 0.0, 0.0, 0.0, 0.0, 0.0, 0.0, 0.0, 0.0, 0.0, 0.0, 0.0, 0.0, 0.0, 0.0, 0.0, 0.0, 0.0, 0.0, 0.0, 0.0, 0.0, 0.0, 0.0, 0.0, 0.0, 0.0, 0.0, 0.0, 0.0, 0.0, 0.0, 0.0, 0.0, 0.0, 0.0, 0.0, 0.0, 0.0, 0.0, 0.0, 0.0, 0.0, 0.0, 0.0, 0.0, 0.0, 0.0, 0.0, 0.0, 0.0, 0.0, 0.0, 0.0, 0.0, 2381.9875, -16.1566, -3186.4382, 12000.071, 54358.0093, -148836.5004, 1554.6056, -1130.5781, 3117.903, 726.9483, 3742.8363, 2069.8302, -4639.0305, 2323.5363, -26211.4322, -7264.3542, 5973.1406, -19786.0169, -7395.4428, 5219.7393, -11797.3227, -40072.6195, -24243.9104, 372234.5293, -39629.3151, 484.4672, -46938.7197, -96464.1898, -57997.3972, -138780.7395, -37031.2421, -56935.9885, 9060.9849, 16313.82, -32538.0742, 26905.5007, -2747.0065, 8068.4933, 9587.0973, -2314.4111, 1962.0707, -5866.622, -58711.1449, -15587.8298, -2747.0065, 10151.5097, -10077.877, 2830.9521, 7869.1079, 4059.0418, -6386.3712, 15149.3564, -99211.5485, 0.0, 10151.5097, -2901.8625, -5106.9616, -24.6483, -3328.4938, 10104.6355, 9231.6145, -21461.7, 964.0836, 0.0, 0.0, -2901.8625, 6020.2404, 7523.6125, 38669.9153, 5080.4258, 4843.3691, -13198.7266, -20439.9331, -28757.4139, -66.5921, 13839.0517, -2901.8625, 6020.2404, -25644.203, -57861.9365, -36825.0848, -24313.314, 23566.35, 106763.7298, -168077.8408, -175966.9967, -36372.6859, 3258.042, 0.0, 0.0, -25644.203, 6451.3676, -5869.5609, -131302.2435, 5382.6342, 3117.4033, -5387.7756, 1686.3979, 28506.2002, 11525.0594, -997.1248, -2901.8625, 6900.0601, 32113.8334, 6451.3676, 0.0, 0.0, 0.0, 0.0, 0.0, 0.0, 0.0, 0.0, 0.0, 0.0, 0.0, 0.0, 0.0, 0.0, 0.0, 2381.9875, -16.1566, 12000.071, 1554.6056, 3742.8363, -7264.3542, -40072.6195, -57997.3972, -2747.0065, 10151.5097, -2901.8625, 6020.2404, -25644.203, 6451.3676, 0.0, 2381.9875, 8616.1738, 4108.1052, -5864.4641, -27303.789, 30023.8987, -18608.6142, -73660.478, -32138.9435, -148188.1255, -169035.736, 7637.394, 2819.9225, -7009.8726, 27565.536, -19799.2668, -34027.4368, 6655.2004, 1544.5842, 25119.8479, 5669.622, -4178.7707, 1282.4918, 18822.0715, -1007.6439, -4444.8754, -20639.8057, -5719.467, 96.1521, -3140.7924, -7261.217, -16691.8729, 6379.8866, 96.9046, -18725.2096, -52130.0494, 5812.687, 743.2409, -14645.1799, 25012.0855, -31129.8711, -110672.9471, 5021.4514, 462.8827, 24691.65, 4240.1756, -5113.1969, 13947.091, -4649.9336, -5801.91, 24681.8759, -3812.1894, -13193.9656, 22033.7411, -3232.8003, -37087.2331, -13826.8771, -11735.199, 2008.8343, 15292.4593, 110277.7362, 62397.0391, 174659.4953, -12587.1385, 1721.0844, 109974.3433, -13426.5247, -12434.5555, 16553.3724, 57640.4668, -13064.8748, 19768.6447, -51160.2319, -19793.9193, 119180.0077, -50249.5089, -69107.7535, -116421.072, -169458.5355, -100705.0917, 147591.5874, -168057.5002, -119069.55, -356543.3605, -643358.8338, 38760.2103, -10764.6814, -84373.7852, 66783.7791, -44934.8026, 7333.1839, 38664.7222, -10231.2185, 66811.1325, 38579.0388, 12048.0815, -3000.4095, -4043.2091, 12086.258, 212042.5383, 48162.2771, -34031.9535, 98081.4992, 48820.9227, -113465.6038, 100772.7668, 23077.1311, -115432.7458, 160728.3341, 24405.4582, -160915.1565, -18832.2135, -261673.1326, -8481.0888, -96207.4967, -50134.7147, -8934.6816, -206915.0479, 36566.3098, 239503.2421, -96759.8191, -5289.7603, 16093.3961, 45866.8651, -5293.057, -13487.6846, -126792.2137, -4883.9117, 16997.0729, -3814.1961, -4472.4374, -17365.4422, 19996.4517, -18881.5659, -16833.4818, 4875.2219, 7098.005, 29131.3827, 3132.3589, 8146.0622, -8157.2, 3686.0216, 4819.7865, 50716.0439, 116056.6023, 6501.6043, -5850.2633, -47672.8913, -231185.5703, 70932.9064, -16944.889, 47454.4757, 72084.0783, 30730.3037, 4842.0852, -78632.1261, 67674.6402, -5289.7603, 16093.3961, -5293.057, -4883.9117, -17365.4422, 7098.005, 4819.7865, 70932.9064, -5289.7603, 15630.1712, -23985.5074, -104147.212, 23513.6922, -39636.4994, 109842.3678, 13170.2746, -27673.1809, 18403.1448, 10696.5226, -1816.7294, -42678.1221, -4439.474, -5382.2635, -56182.3316, -17740.2192, -80826.0876, 29972.022, -23125.4097, -11572.9301, -66083.2324, -57238.0427, -110607.8646, 11337.4904, -62562.7248, -36901.9147, -39782.5866, 62489.6219, -142600.5224, -64656.2083, 26776.1675, -144740.6121, -111293.5751, 123000.2717, 203223.5195, -230553.8482, 0.0, 0.0, 0.0, 0.0, 0.0, 0.0, 0.0, 0.0, 0.0, 15630.1712, -23985.5074, 23513.6922, 13170.2746, -1816.7294, -17740.2192, -57238.0427, -142600.5224, 0.0, 15630.1712, -969.9233, -969.9233, -969.9233, -1713.3464, -1713.3464, -2501.8701, -956.8891, -956.8891, -1697.3103, -943.8253, 4398.3295, 4398.3295, 3639.922, 4413.88, 8708.9006, -4350.7325, -4350.7325, -5176.9424, -4333.3699, 1111.9793, -7669.8618, -5004.4917, -5004.4917, -5816.5771, -4987.315, 516.6791, -8212.7801, -8725.6212, -15021.9009, -15021.9009, -15021.9009, -15021.9009, -15021.9009, -15021.9009, -15021.9009, -15021.9009, 0.0, 0.0, 0.0, 0.0, 0.0, 0.0, 0.0, 0.0, 0.0, 0.0, 0.0, 0.0, 0.0, 0.0, 0.0, 0.0, 0.0, 0.0, 0.0, -969.9233, -969.9233, -1713.3464, -956.8891, 4398.3295, -4350.7325, -5004.4917, -15021.9009, 0.0, 0.0, -969.9233, 8659.7175, 4129.4689, -5870.6113, 30080.8083, -18634.9975, -32164.8484, 7676.5027, 2836.5281, 27617.6588, 6689.8431, -4190.4526, 1294.0104, -1010.5012, -5737.9487, -16742.9661, 5836.59, 749.1284, 25035.899, 5042.6423, -5129.5488, -3818.3504, -11800.7174, 2019.1117, 110576.2451, -12657.6063, -12508.468, -51325.9415, -170231.8859, 38797.9055, -10792.4304, 66833.7515, 38702.4725, 12053.5017, 48188.184, 23084.925, -8492.894, -5289.7603, 16093.3961, -5293.057, -4883.9117, -17365.4422, 7098.005, 4819.7865, 70932.9064, -5289.7603, 15798.2779, -24215.3009, 23691.5198, 13313.5553, -1821.7825, -17949.195, -58150.3639, -143334.5912, 0.0, 15798.2779, -969.9233, -969.9233, -1713.3464, -956.8891, 4398.3295, -4350.7325, -5004.4917, -15021.9009, 0.0, 0.0, -969.9233, 8659.7175, 4129.4689, 30080.8083, 7676.5027, -4190.4526, 5836.59, -11800.7174, 38797.9055, -5289.7603, 15798.2779, -969.9233, 8659.7175, -714.5427, -714.5427, -714.5427, 389.6348, 389.6348, 3358.3457, -716.2178, -716.2178, 388.7238, -717.8959, -1144.7793, -1144.7793, 191.2546, -1147.2264, -1778.211, -397.7833, -397.7833, 779.5368, -398.569, -556.408, -21.8943, -123.6791, -123.6791, 880.6284, -124.5355, -267.0777, 267.5873, 549.7758, 1391.6379, 1391.6379, 1874.1954, 1391.103, 1297.0998, 1608.5428, 1740.6839, 2196.8105, 0.0, 0.0, 0.0, 0.0, 0.0, 0.0, 0.0, 0.0, 0.0, -714.5427, -714.5427, 227.6929, -715.5066, -939.6731, -397.7833, -123.6791, 1391.6379, 0.0, -714.5427, 0.0, 0.0, 0.0, 0.0, 0.0, 0.0, 0.0, 0.0, 0.0, 0.0, 0.0, 0.0, 0.0, 0.0, 0.0, 0.0, 0.0, 0.0, 0.0, 0.0, 0.0, 0.0, 0.0, -714.5427, -714.5427, 389.6348, -716.2178, -1144.7793, -397.7833, -123.6791, 1391.6379, 0.0, -714.5427, 0.0, 0.0, -714.5427, 3657.1715, -3276.9633, -12739.6262, -21114.4123, -50338.1159, -112303.5058, 2545.4296, -4743.017, -23877.4624, 1429.3082, -2378.7845, 1877.9774, -7500.3604, -4020.6257, -26686.1042, -1513.5984, -1834.1461, -48721.5844, -2482.9363, 16189.8625, -7805.4687, 9366.1349, 27440.7706, 67701.5415, 8460.5747, 21880.0236, 35611.2623, 54118.693, -141108.1787, -131312.6964, -164875.1946, -141124.6836, 67203.2202, -211343.6296, -130632.7209, -685691.0344, -15608.2322, 4284.4697, -53473.5285, -15371.2015, -9763.2821, 1379.6539, 36701.88, -103913.904, -15608.2322, 16598.7394, -24770.8302, -345.3707, 14042.37, -6714.2533, -19654.5337, -45878.5535, -259761.3787, 0.0, 16598.7394, -969.9233, -969.9233, -1713.3464, -956.8891, 4398.3295, -4350.7325, -5004.4917, -15021.9009, 0.0, 0.0, -969.9233, 3678.7792, -3283.3095, -21160.6155, 2561.7088, -2382.6449, -1515.9374, 9429.5439, -141367.2686, -15608.2322, 16785.9457, -969.9233, 3678.7792, -714.5427, -714.5427, 389.6348, -716.2178, -1144.7793, -397.7833, -123.6791, 1391.6379, 0.0, -714.5427, 0.0, 0.0, -714.5427, 3657.1715, -3276.9633, -21114.4123, 2545.4296, -2378.7845, -1513.5984, 9366.1349, -141108.1787, -15608.2322, 16598.7394, -969.9233, 3678.7792, -714.5427, 3657.1715, 0.0, 0.0, 0.0, 0.0, 0.0, 0.0, 0.0, 0.0, 0.0, 0.0, 0.0, 0.0, 0.0, 0.0, 0.0, 0.0, 0.0, 0.0, 0.0, 0.0, 0.0, 0.0, 0.0, 0.0, 0.0, 0.0, 0.0, 0.0, 0.0, 0.0, 0.0, 0.0, 0.0, 0.0, 0.0, 0.0, 0.0, 0.0, 0.0, 0.0, 0.0, 0.0, 0.0, 0.0, 0.0, 0.0, 0.0, 0.0, 0.0, 0.0, 0.0, 0.0, 0.0, 0.0, 0.0, 0.0, 0.0, 0.0, 0.0, 0.0, 0.0, 0.0, 0.0, 0.0, 0.0, 0.0, 0.0, 0.0, 0.0, 0.0, 0.0, 0.0, 0.0, 0.0, 0.0, 0.0, 0.0, 0.0, 0.0, 0.0, 0.0, 0.0, 0.0, 0.0, 0.0, 0.0, 0.0, 0.0, 0.0, 0.0, 0.0, 0.0, 0.0, 0.0, 0.0, 0.0, 0.0, 0.0, 0.0, 0.0, 0.0, 0.0, 0.0, 0.0, 0.0, 0.0, 0.0, 0.0, 0.0, 0.0, 0.0, 0.0, 0.0, 0.0, 0.0, 0.0, 0.0, 0.0, 0.0, 0.0, 0.0, 0.0, 0.0, 0.0, 0.0, 0.0, 0.0, 0.0, 0.0, 0.0, 0.0, 0.0, 0.0, 0.0, 0.0, 0.0, 0.0, 0.0, 0.0, 0.0, 0.0, 0.0, 0.0, 0.0, 0.0, 0.0, 0.0, 0.0, 0.0, 0.0, 0.0, 0.0, 0.0, 0.0, 0.0, 0.0, 0.0, 0.0, 0.0, 0.0, 0.0, 0.0, 0.0, 0.0, 0.0, 0.0, 0.0, 0.0, 0.0, 0.0, 0.0, 0.0, 0.0, 0.0, 0.0, 0.0, 0.0, 0.0, 0.0, 0.0, 0.0, 0.0, 0.0, 0.0, 0.0, 0.0, 0.0, 0.0, 0.0, 0.0, 0.0, 0.0, 0.0, 0.0, 0.0, 0.0, 0.0, 0.0, 0.0, 0.0, 0.0, 0.0, 0.0, 0.0, 0.0, 0.0, 0.0, 0.0, 0.0, 0.0, 0.0, 0.0, 0.0, 0.0, 0.0, 0.0, 0.0, 0.0, 0.0, 0.0, 0.0, 0.0, 0.0, 0.0, 0.0, 0.0, 0.0, 0.0, 0.0, 0.0, 0.0, 0.0, 0.0, 0.0, 0.0, 0.0, 0.0, 0.0, 0.0, 0.0, 0.0, 0.0, 0.0, 0.0, 0.0, 0.0, 0.0, 0.0, 0.0, 0.0, 0.0, 0.0, 0.0, 0.0, 0.0, 0.0, 8616.1738, 4108.1052, -5864.4641, 30023.8987, -18608.6142, -32138.9435, 7637.394, 2819.9225, 27565.536, 6655.2004, -4178.7707, 1282.4918, -1007.6439, -5719.467, -16691.8729, 5812.687, 743.2409, 25012.0855, 5021.4514, -5113.1969, -3812.1894, -11735.199, 2008.8343, 110277.7362, -12587.1385, -12434.5555, -51160.2319, -169458.5355, 38760.2103, -10764.6814, 66783.7791, 38664.7222, 12048.0815, 48162.2771, 23077.1311, -8481.0888, -5289.7603, 16093.3961, -5293.057, -4883.9117, -17365.4422, 7098.005, 4819.7865, 70932.9064, -5289.7603, 15630.1712, -23985.5074, 23513.6922, 13170.2746, -1816.7294, -17740.2192, -57238.0427, -142600.5224, 0.0, 15630.1712, -969.9233, -969.9233, -1713.3464, -956.8891, 4398.3295, -4350.7325, -5004.4917, -15021.9009, 0.0, 0.0, -969.9233, 8659.7175, 4129.4689, 30080.8083, 7676.5027, -4190.4526, 5836.59, -11800.7174, 38797.9055, -5289.7603, 15798.2779, -969.9233, 8659.7175, -714.5427, -714.5427, 389.6348, -716.2178, -1144.7793, -397.7833, -123.6791, 1391.6379, 0.0, -714.5427, 0.0, 0.0, -714.5427, 3657.1715, -3276.9633, -21114.4123, 2545.4296, -2378.7845, -1513.5984, 9366.1349, -141108.1787, -15608.2322, 16598.7394, -969.9233, 3678.7792, -714.5427, 3657.1715, 0.0, 0.0, 0.0, 0.0, 0.0, 0.0, 0.0, 0.0, 0.0, 0.0, 0.0, 0.0, 0.0, 0.0, 0.0, 0.0, 0.0, 0.0, 0.0, 0.0, 0.0, 0.0, 0.0, 0.0, 0.0, 0.0, 0.0, 0.0, 0.0, 0.0, 0.0, 8616.1738, 4108.1052, 30023.8987, 7637.394, -4178.7707, 5812.687, -11735.199, 38760.2103, -5289.7603, 15630.1712, -969.9233, 8659.7175, -714.5427, 3657.1715, 0.0, 0.0, 8616.1738, 5066.4424, 13599.3824, 36165.0197, 84318.3398, 18900.5655, -1396.4473, -39471.7478, 46113.3316, -61876.5943, -6014.6782, 3549.4702, 10887.3244, 32024.3926, 15621.7848, -5093.6283, 42055.0053, 2022.0368, 8206.8447, 12360.1004, 484.1554, -4694.1103, -8713.8138, -12604.7639, -8680.9752, -46517.5664, -2500.4708, -6764.5216, -11060.7205, -11239.5874, -8839.7893, -5012.4123, -16585.1412, -6389.6982, -7459.7304, 16600.7506, -961.7348, -4486.3153, -2937.3175, 26688.9318, -21807.4409, 33801.763, -3199.037, -7080.5802, 23658.2975, -5428.1843, -21167.444, -38855.8186, -27099.3101, -23252.8781, -30373.6435, -37903.7369, -49386.203, 12314.9148, -40215.9347, -84929.6217, -103572.3302, 2075.7631, -10776.4706, -20587.1663, 13592.4024, -19906.8795, 54003.6836, -968.1475, -14165.4354, 11167.4023, -4000.092, 233.8146, -16465.4731, -3830.973, -1860.7164, 14308.9568, -25113.6118, -51071.9992, 25615.7685, -28468.7917, -33290.6085, -71825.2997, -57163.6545, -96542.9581, -15922.9011, -60890.422, -23797.1514, -75520.7252, -122931.842, -18384.4689, -35932.2618, -65304.426, 3768.0039, -114780.4409, -120268.8137, -19893.593, -38151.2337, 2360.9416, -21396.2822, -45574.7609, -71468.7055, -41889.2215, -46709.364, -62871.5467, -30653.0974, -64705.8528, -15700.4303, -32833.373, -106071.8036, -30523.3141, 11737.9904, 12511.9509, 64761.3671, 10211.4931, -40173.1117, 64088.0565, 48736.9778, 92712.6506, 36893.399, -65864.911, 91613.0579, 43541.7701, 92951.3771, 151258.4529, 158011.2108, 85.5589, 9141.5339, 38089.3788, 25286.9771, -3744.0922, 11714.9132, -343.4681, 8056.6483, 24345.7759, -774.0115, -2963.253, -7508.0159, 5669.4651, -3350.7964, 22594.857, -3998.152, -7489.9241, 40288.744, -4789.0868, -20626.4822, -34374.8862, -1091.0188, -16925.4195, 32485.7854, -1764.3451, 10515.3244, -12400.9282, -36459.5362, 10099.4067, -10761.9649, -26484.3817, 8903.0519, -20957.0195, -15112.6252, 28983.6394, 18716.9484, 85.5589, 9141.5339, 25286.9771, -343.4681, -2963.253, -3998.152, -1091.0188, 10099.4067, 85.5589, 10633.8897, 16957.8488, 18724.8116, 2964.216, 3930.3382, 98999.9309, 7906.6886, 12592.1158, -3173.8701, 5151.8642, -6636.7804, -9533.2755, -34535.1154, -10612.2473, -41782.1159, 5497.3465, 5363.4232, -27816.9554, 1244.6131, -12065.1862, -27833.4509, 5011.032, 5075.071, -41718.9529, 438.948, -13382.1394, -35902.9749, -50299.9405, -92096.1067, -92096.1067, 179910.1606, -93982.6949, -113113.0702, -62768.4132, -51743.924, 266775.3947, 0.0, 0.0, 0.0, 0.0, 0.0, 0.0, 0.0, 0.0, 0.0, 10633.8897, 16957.8488, 2964.216, 7906.6886, -6636.7804, 5497.3465, 5011.032, -92096.1067, 0.0, 10633.8897, 2597.7139, 2597.7139, 2597.7139, 2597.7139, 2597.7139, 2597.7139, 2597.7139, 2597.7139, 2597.7139, 2597.7139, 2597.7139, 2597.7139, 2597.7139, 2597.7139, 2597.7139, 2597.7139, 2597.7139, 2597.7139, 2597.7139, 2597.7139, 2597.7139, 2597.7139, 2597.7139, 2597.7139, 2597.7139, 2597.7139, 2597.7139, 2597.7139, 0.0, 0.0, 0.0, 0.0, 0.0, 0.0, 0.0, 0.0, 0.0, 0.0, 0.0, 0.0, 0.0, 0.0, 0.0, 0.0, 0.0, 0.0, 0.0, 0.0, 0.0, 0.0, 0.0, 0.0, 0.0, 0.0, 0.0, 2597.7139, 2597.7139, 2597.7139, 2597.7139, 2597.7139, 2597.7139, 2597.7139, 0.0, 0.0, 0.0, 2597.7139, 5066.4424, 13599.3824, 36165.0197, 18900.5655, -1396.4473, 46113.3316, 3549.4702, 10887.3244, 15621.7848, 2022.0368, -4694.1103, -8713.8138, -8680.9752, -6764.5216, -5012.4123, -961.7348, -4486.3153, 26688.9318, -3199.037, -21167.444, -37903.7369, 2075.7631, -10776.4706, 13592.4024, -968.1475, 233.8146, -25113.6118, -57163.6545, -18384.4689, -35932.2618, 3768.0039, -19893.593, -45574.7609, -30653.0974, 11737.9904, 92712.6506, 85.5589, 9141.5339, 25286.9771, -343.4681, -2963.253, -3998.152, -1091.0188, 10099.4067, 85.5589, 10633.8897, 16957.8488, 2964.216, 7906.6886, -6636.7804, 5497.3465, 5011.032, -92096.1067, 0.0, 10633.8897, 2597.7139, 2597.7139, 2597.7139, 2597.7139, 2597.7139, 2597.7139, 2597.7139, 0.0, 0.0, 0.0, 2597.7139, 5066.4424, 13599.3824, 18900.5655, 3549.4702, -4694.1103, -961.7348, 2075.7631, -18384.4689, 85.5589, 10633.8897, 2597.7139, 5066.4424, 0.0, 0.0, 0.0, 0.0, 0.0, 0.0, 0.0, 0.0, 0.0, 0.0, 0.0, 0.0, 0.0, 0.0, 0.0, 0.0, 0.0, 0.0, 0.0, 0.0, 0.0, 0.0, 0.0, 0.0, 0.0, 0.0, 0.0, 0.0, 0.0, 0.0, 0.0, 0.0, 0.0, 0.0, 0.0, 0.0, 0.0, 0.0, 0.0, 0.0, 0.0, 0.0, 0.0, 0.0, 0.0, 0.0, 0.0, 0.0, 0.0, 0.0, 0.0, 0.0, 0.0, 0.0, 0.0, 0.0, 0.0, 0.0, 0.0, 0.0, 0.0, 0.0, 0.0, 0.0, 0.0, 0.0, 0.0, 0.0, 0.0, 0.0, 0.0, 0.0, 0.0, 0.0, 0.0, 0.0, 0.0, 0.0, 0.0, 0.0, 0.0, 0.0, 0.0, 0.0, 0.0, 0.0, 0.0, 0.0, 0.0, 0.0, 0.0, 3719.0435, 9958.9753, 29080.2271, 10567.7009, -12358.945, 20620.1473, 2109.6389, 7128.6905, 7151.272, 490.1003, -6861.4931, -12265.7824, -15402.5132, -9047.9214, -7914.7604, -1830.0865, -9213.8348, 20406.086, -4231.1499, -21439.8942, -42863.9821, 6781.9836, -8343.877, 13665.3214, 4413.0128, 7988.0208, -10020.0049, -15615.0773, 21112.6244, -10992.2808, 43968.4084, 19706.6017, -1633.3556, -1958.6733, 55793.3829, 107152.7039, 1246.9319, 8294.4554, 15128.7468, 778.3726, 60.5925, -1684.8369, 11386.3339, 56847.4016, 1246.9319, 6427.3313, 10155.8105, 375.8287, 3548.2317, -14773.6286, -1459.6495, -2611.0556, -101201.1453, 0.0, 6427.3313, 2597.7139, 2597.7139, 2597.7139, 2597.7139, 2597.7139, 2597.7139, 2597.7139, 0.0, 0.0, 0.0, 2597.7139, 3719.0435, 9958.9753, 10567.7009, 2109.6389, -6861.4931, -1830.0865, 6781.9836, 21112.6244, 1246.9319, 6427.3313, 2597.7139, 3719.0435, 0.0, 0.0, 0.0, 0.0, 0.0, 0.0, 0.0, 0.0, 0.0, 0.0, 0.0, 0.0, 0.0, 3719.0435, 9958.9753, 10567.7009, 2109.6389, -6861.4931, -1830.0865, 6781.9836, 21112.6244, 1246.9319, 6427.3313, 2597.7139, 3719.0435, 0.0, 3719.0435, 0.0, 0.0, 0.0, 0.0, 0.0, 0.0, 0.0, 0.0, 0.0, 0.0, 0.0, 0.0, 0.0, 0.0, 0.0, 0.0, 0.0, 0.0, 0.0, 0.0, 0.0, 0.0, 0.0, 0.0, 0.0, 0.0, 0.0, 0.0, 0.0, 0.0, 0.0, 0.0, 0.0, 0.0, 0.0, 0.0, 0.0, 0.0, 0.0, 0.0, 0.0, 0.0, 0.0, 0.0, 0.0, 0.0, 0.0, 0.0, 0.0, 0.0, 0.0, 0.0, 0.0, 0.0, 0.0, 0.0, 0.0, 0.0, 0.0, 0.0, 0.0, 0.0, 0.0, 0.0, 0.0, 0.0, 0.0, 0.0, 0.0, 0.0, 0.0, 0.0, 0.0, 0.0, 0.0, 0.0, 0.0, 0.0, 0.0, 0.0, 0.0, 0.0, 0.0, 0.0, 0.0, 0.0, 0.0, 0.0, 0.0, 0.0, 0.0, 0.0, 0.0, 0.0, 0.0, 0.0, 0.0, 0.0, 0.0, 0.0, 0.0, 0.0, 0.0, 0.0, 0.0, 0.0, 0.0, 0.0, 0.0, 0.0, 0.0, 0.0, 0.0, 0.0, 0.0, 0.0, 0.0, 0.0, 0.0, 0.0, 0.0, 0.0, 0.0, 0.0, 0.0, 0.0, 0.0, 0.0, 0.0, 0.0, 0.0, 0.0, 0.0, 0.0, 0.0, 0.0, 0.0, 0.0, 0.0, 0.0, 0.0, 0.0, 0.0, 0.0, 0.0, 0.0, 0.0, 0.0, 0.0, 0.0, 0.0, 0.0, 0.0, 0.0, 0.0, 0.0, 0.0, 0.0, 0.0, 0.0, 0.0, 0.0, 0.0, 0.0, 0.0, 0.0, 0.0, 0.0, 0.0, 0.0, 0.0, 0.0, 0.0, 0.0, 0.0, 0.0, 0.0, 0.0, 0.0, 0.0, 0.0, 0.0, 0.0, 0.0, 0.0, 0.0, 0.0, 0.0, 0.0, 0.0, 0.0, 0.0, 0.0, 0.0, 0.0, 0.0, 0.0, 0.0, 0.0, 0.0, 0.0, 0.0, 0.0, 0.0, 0.0, 0.0, 0.0, 0.0, 0.0, 0.0, 0.0, 0.0, 0.0, 0.0, 0.0, 0.0, 0.0, 0.0, 0.0, 0.0, 0.0, 0.0, 0.0, 0.0, 0.0, 0.0, 0.0, 0.0, 0.0, 0.0, 0.0, 0.0, 0.0, 0.0, 0.0, 0.0, 0.0, 0.0, 0.0, 0.0, 0.0, 0.0, 0.0, 0.0, 0.0, 0.0, 0.0, 0.0, 0.0, 0.0, 0.0, 0.0, 0.0, 0.0, 0.0, 0.0, 0.0, 0.0, 0.0, 0.0, 0.0, 0.0, 0.0, 0.0, 0.0, 0.0, 0.0, 0.0, 0.0, 0.0, 0.0, 0.0, 0.0, 0.0, 0.0, 0.0, 0.0, 0.0, 0.0, 0.0, 0.0, 0.0, 0.0, 0.0, 0.0, 0.0, 0.0, 0.0, 0.0, 0.0, 0.0, 0.0, 0.0, 0.0, 0.0, 0.0, 0.0, 0.0, 0.0, 0.0, 0.0, 0.0, 0.0, 0.0, 0.0, 0.0, 0.0, 0.0, 0.0, 0.0, 0.0, 0.0, 0.0, 0.0, 0.0, 0.0, 0.0, 0.0, 0.0, 0.0, 0.0, 0.0, 0.0, 0.0, 0.0, 0.0, 0.0, 0.0, 0.0, 0.0, 0.0, 0.0, 0.0, 0.0, 0.0, 0.0, 0.0, 0.0, 0.0, 0.0, 0.0, 0.0, 0.0, 0.0, 0.0, 0.0, 0.0, 0.0, 0.0, 0.0, 0.0, 0.0, 0.0, 0.0, 0.0, 0.0, 0.0, 0.0, 0.0, 0.0, 0.0, 0.0, 0.0, 0.0, 0.0, 0.0, 0.0, 0.0, 0.0, 0.0, 0.0, 0.0, 0.0, 0.0, 0.0, 0.0, 0.0, 0.0, 0.0, 0.0, 0.0, 0.0, 0.0, 0.0, 0.0, 0.0, 0.0, 0.0, 0.0, 0.0, 0.0, 0.0, 0.0, 0.0, 0.0, 0.0, 0.0, 0.0, 0.0, 0.0, 0.0, 0.0, 0.0, 0.0, 0.0, 0.0, 0.0, 0.0, 0.0, 5066.4424, 13599.3824, 36165.0197, 18900.5655, -1396.4473, 46113.3316, 3549.4702, 10887.3244, 15621.7848, 2022.0368, -4694.1103, -8713.8138, -8680.9752, -6764.5216, -5012.4123, -961.7348, -4486.3153, 26688.9318, -3199.037, -21167.444, -37903.7369, 2075.7631, -10776.4706, 13592.4024, -968.1475, 233.8146, -25113.6118, -57163.6545, -18384.4689, -35932.2618, 3768.0039, -19893.593, -45574.7609, -30653.0974, 11737.9904, 92712.6506, 85.5589, 9141.5339, 25286.9771, -343.4681, -2963.253, -3998.152, -1091.0188, 10099.4067, 85.5589, 10633.8897, 16957.8488, 2964.216, 7906.6886, -6636.7804, 5497.3465, 5011.032, -92096.1067, 0.0, 10633.8897, 2597.7139, 2597.7139, 2597.7139, 2597.7139, 2597.7139, 2597.7139, 2597.7139, 0.0, 0.0, 0.0, 2597.7139, 5066.4424, 13599.3824, 18900.5655, 3549.4702, -4694.1103, -961.7348, 2075.7631, -18384.4689, 85.5589, 10633.8897, 2597.7139, 5066.4424, 0.0, 0.0, 0.0, 0.0, 0.0, 0.0, 0.0, 0.0, 0.0, 0.0, 0.0, 0.0, 0.0, 3719.0435, 9958.9753, 10567.7009, 2109.6389, -6861.4931, -1830.0865, 6781.9836, 21112.6244, 1246.9319, 6427.3313, 2597.7139, 3719.0435, 0.0, 3719.0435, 0.0, 0.0, 0.0, 0.0, 0.0, 0.0, 0.0, 0.0, 0.0, 0.0, 0.0, 0.0, 0.0, 0.0, 0.0, 0.0, 0.0, 0.0, 0.0, 0.0, 0.0, 0.0, 0.0, 0.0, 0.0, 0.0, 0.0, 0.0, 0.0, 0.0, 0.0, 0.0, 0.0, 0.0, 0.0, 0.0, 0.0, 0.0, 0.0, 0.0, 0.0, 0.0, 0.0, 0.0, 0.0, 0.0, 0.0, 0.0, 5066.4424, 13599.3824, 18900.5655, 3549.4702, -4694.1103, -961.7348, 2075.7631, -18384.4689, 85.5589, 10633.8897, 2597.7139, 5066.4424, 0.0, 3719.0435, 0.0, 0.0, 0.0, 5066.4424])\n",
            "The Intercept of the model is : -936447.848053\n"
          ],
          "name": "stdout"
        }
      ]
    },
    {
      "cell_type": "code",
      "metadata": {
        "colab": {
          "base_uri": "https://localhost:8080/"
        },
        "id": "XVdmM1AKP3JG",
        "outputId": "a6e90659-4c42-41d5-f5a7-bcc63a4f8d12"
      },
      "source": [
        "from pyspark.ml.evaluation import RegressionEvaluator\r\n",
        "\r\n",
        "\r\n",
        "print(\"Polynomial Regression using degree : 4\")\r\n",
        "eval = RegressionEvaluator(labelCol=\"selling_price\", predictionCol=\"prediction\", metricName=\"rmse\")\r\n",
        "\r\n",
        "rmse = eval.evaluate(predicited.predictions)\r\n",
        "print(\"RMSE: %.3f\" %rmse)\r\n",
        "mse = eval.evaluate(predicited.predictions, {eval.metricName: \"mse\"})\r\n",
        "print(\"MSE: %.3f\" % mse)\r\n",
        "\r\n",
        "r2 = eval.evaluate(predicited.predictions, {eval.metricName: \"r2\"})\r\n",
        "print(\"r2: %.3f\" %r2)"
      ],
      "execution_count": null,
      "outputs": [
        {
          "output_type": "stream",
          "text": [
            "Polynomial Regression using degree : 4\n",
            "RMSE: 271780.004\n",
            "MSE: 73864370456.921\n",
            "r2: 0.901\n"
          ],
          "name": "stdout"
        }
      ]
    },
    {
      "cell_type": "markdown",
      "metadata": {
        "id": "rS6RVgIX0TNi"
      },
      "source": [
        "> Using degree=2 for polynomial expansion"
      ]
    },
    {
      "cell_type": "code",
      "metadata": {
        "colab": {
          "base_uri": "https://localhost:8080/"
        },
        "id": "4ht6qhLR0Kdr",
        "outputId": "3cb7290b-0cf2-4adc-f66f-3a35c91a29b2"
      },
      "source": [
        "polyExpansion2 = PolynomialExpansion(degree=2, inputCol=\"features1\", outputCol=\"polyFeatures\")\r\n",
        "polyDF2 = polyExpansion2.transform(vectorized_df)\r\n",
        "print(\"Using Vectorized features:\")\r\n",
        "polyDF2.show(n=10)\r\n",
        "\r\n",
        "\r\n",
        "scaler2=MinMaxScaler(inputCol=\"polyFeatures\", outputCol=\"scaledFeatures\")\r\n",
        "scaler_df2 = scaler2.fit(polyDF2).transform(polyDF2)\r\n",
        "scaler_df2.select(\"polyFeatures\", \"scaledFeatures\").show(n=5)\r\n",
        "\r\n",
        "\r\n",
        "train_data2,test_data2 = scaler_df2.randomSplit([0.8,0.2],seed=2)\r\n",
        "Regressor2=LinearRegression(featuresCol ='scaledFeatures', labelCol ='selling_price') \r\n",
        "Regressor2=Regressor2.fit(train_data2)\r\n",
        "\r\n",
        "pred2=Regressor2.evaluate(test_data2)\r\n",
        "coeff = Regressor2.coefficients\r\n",
        "intr = Regressor2.intercept\r\n",
        "\r\n",
        "print(\"Polynomial Regression using degree :2 \")\r\n",
        "print (\"The coefficient of the model is : %a\" %coeff)\r\n",
        "print (\"The Intercept of the model is : %f\" %intr)\r\n",
        "eval = RegressionEvaluator(labelCol=\"selling_price\", predictionCol=\"prediction\", metricName=\"rmse\")\r\n",
        "\r\n",
        "rmse = eval.evaluate(pred2.predictions)\r\n",
        "print(\"RMSE: %.3f\" %rmse)\r\n",
        "mse = eval.evaluate(pred2.predictions, {eval.metricName: \"mse\"})\r\n",
        "print(\"MSE: %.3f\" % mse)\r\n",
        "\r\n",
        "r2 = eval.evaluate(pred2.predictions, {eval.metricName: \"r2\"})\r\n",
        "print(\"r2: %.3f\" %r2)"
      ],
      "execution_count": null,
      "outputs": [
        {
          "output_type": "stream",
          "text": [
            "Using Vectorized features:\n",
            "+--------------------+-------------+--------------------+\n",
            "|           features1|selling_price|        polyFeatures|\n",
            "+--------------------+-------------+--------------------+\n",
            "|(17,[0,1,2,3,4,5,...|       450000|(170,[0,1,2,3,4,5...|\n",
            "|[5.0,120000.0,201...|       370000|[5.0,25.0,120000....|\n",
            "|[5.0,140000.0,200...|       158000|[5.0,25.0,140000....|\n",
            "|[5.0,127000.0,201...|       225000|[5.0,25.0,127000....|\n",
            "|(17,[0,1,2,3,4,5,...|       130000|(170,[0,1,2,3,4,5...|\n",
            "|[5.0,45000.0,2017...|       440000|[5.0,25.0,45000.0...|\n",
            "|(17,[0,1,2,3,4,5,...|        96000|(170,[0,1,2,3,4,5...|\n",
            "|(17,[0,1,2,3,4,5,...|        45000|(170,[0,1,2,3,4,5...|\n",
            "|[5.0,90000.0,2011...|       350000|[5.0,25.0,90000.0...|\n",
            "|[5.0,169000.0,201...|       200000|[5.0,25.0,169000....|\n",
            "+--------------------+-------------+--------------------+\n",
            "only showing top 10 rows\n",
            "\n",
            "+--------------------+--------------------+\n",
            "|        polyFeatures|      scaledFeatures|\n",
            "+--------------------+--------------------+\n",
            "|(170,[0,1,2,3,4,5...|(170,[0,1,2,3,4,5...|\n",
            "|[5.0,25.0,120000....|(170,[0,1,2,3,4,5...|\n",
            "|[5.0,25.0,140000....|(170,[0,1,2,3,4,5...|\n",
            "|[5.0,25.0,127000....|(170,[0,1,2,3,4,5...|\n",
            "|(170,[0,1,2,3,4,5...|(170,[0,1,2,3,4,5...|\n",
            "+--------------------+--------------------+\n",
            "only showing top 5 rows\n",
            "\n",
            "Polynomial Regression using degree :2 \n",
            "The coefficient of the model is : DenseVector([-629417.4785, -874203.3691, -328704.9878, 1006212.1588, 1713591.7398, 545113.8443, -498657.8916, -472344.7468, 685068.5304, -302775.6364, 398881.5512, -4517235.1387, -337794.0748, 136701.4621, -457254.2375, 60979.2766, 1936394.487, -272182.1487, -315922.503, 889692.9138, 1511363.5689, 1005207.4512, -9565829.7042, 2009705.0197, 8170413.0966, 341762.061, 2445913.6557, 440034.3754, 1230824.4583, -633775.3022, 560780.1935, -426860.1439, 639178.8715, -95254.8313, 290519.4459, -5935.631, 102020.7355, 496783.979, 40791.0075, -82711.2212, -440943.7771, 762074.6985, 302390.655, -5935.631, 15193.7713, -141365.8504, 1041158.761, -30639.4282, -107617.0959, 732776.7162, -813258.0957, 220335.117, 0.0, 15193.7713, -99604.5683, 317190.9362, 108568.4439, -111883.278, 451188.2294, -295693.0106, 341915.1611, 10631.8468, 0.0, 0.0, -99604.5683, 253829.5574, 238690.3456, -4803696.5401, 221698.448, -213533.4221, -390933.4533, -1972997.2743, -267949.5531, 115279.6151, 43434.704, -99604.5683, 253829.5574, 37162.6464, 369358.3009, -959286.376, 79703.4861, 614654.8891, -939369.6592, 1090181.4839, -98425.2163, 36951.1125, 30569.8337, 0.0, 0.0, 37162.6464, 167376.3031, 638187.7681, 15634938.1048, 95101.9893, -586176.4053, 1027292.6545, -2500037.3597, 60449.8167, -82386.4385, 176268.8382, -99604.5683, -131093.7144, -141165.3027, 167376.3031, -183757.0587, -224373.066, -87770.6946, -159784.6461, -10952.5863, -375815.0081, 15504.5533, -1708500.4405, -44297.2231, -191578.5949, -123813.0742, 539.3653, -428737.6423, 60901.4666, -183757.0587, -144393.3161, -244008.4524, -755423.0923, -166813.5611, -55796.4157, -139766.4465, -846128.0046, -1763327.2895, 9010.4648, -105896.9983, -99171.322, 132071.8968, -300430.4532, 53854.8984, 0.0, -144393.3161, 182146.1868, -349698.5251, 18067.4505, 168373.7755, -875873.2144, -901195.6263, -1135028.959, -1829717.2929, 168719.3676, -49658.7764, 198267.4322, 183915.593, -175818.963, -160043.8492, 0.0, 0.0, 182146.1868, 75281.5355, -116280.455, 137538.6351, 53348.7418, -631317.7966, -923940.5087, -1184614.7513, -1447103.4048, 203407.3733, -71187.4491, 62145.5089, 75281.5355, 0.0, 159900.7927, 0.0, 0.0, 0.0, 75281.5355])\n",
            "The Intercept of the model is : -499937.428487\n",
            "RMSE: 300478.098\n",
            "MSE: 90287087442.967\n",
            "r2: 0.879\n"
          ],
          "name": "stdout"
        }
      ]
    },
    {
      "cell_type": "markdown",
      "metadata": {
        "id": "QaNkWRp4HfRb"
      },
      "source": [
        "> On comparing the results using different degrees the higher degree of polynomial expansion by degree=4 gave better results than degree=2\r\n",
        "\r\n",
        "\r\n",
        "\r\n",
        "\r\n",
        "---\r\n",
        "\r\n",
        "\r\n",
        "\r\n",
        "\r\n",
        "\r\n",
        "\r\n",
        "\r\n",
        "\r\n"
      ]
    },
    {
      "cell_type": "markdown",
      "metadata": {
        "id": "rQ98sh_3rTsA"
      },
      "source": [
        "**CASE 2**\r\n",
        "**Using Feature hasher**\r\n",
        "\r\n",
        "**Polynomial features for regression and**\r\n",
        "\r\n",
        "**MinMaxScaler for normalization of the features** **bold text**\r\n",
        "\r\n",
        "**And Building Regression model and evaluating with rmse, mse, r2**"
      ]
    },
    {
      "cell_type": "markdown",
      "metadata": {
        "id": "LlhIKymZ4Tr1"
      },
      "source": [
        "Instead of explicit String indexing followed by one hot encoding the\r\n",
        "\r\n",
        "Feature Hasher used implicitly handles the one hot encoding for categorical columns."
      ]
    },
    {
      "cell_type": "code",
      "metadata": {
        "colab": {
          "base_uri": "https://localhost:8080/"
        },
        "id": "5BLWuoq1P3L3",
        "outputId": "5df858a6-d5eb-4110-ce99-092b9db55320"
      },
      "source": [
        "from pyspark.ml.feature import FeatureHasher\r\n",
        "\r\n",
        "ind_features=['year',\r\n",
        " 'km_driven',\r\n",
        " 'fuel',\r\n",
        " 'seller_type',\r\n",
        " 'transmission',\r\n",
        " 'owner',\r\n",
        " 'mileage',\r\n",
        " 'engine',\r\n",
        " 'max_power',\r\n",
        " 'seats']\r\n",
        " #Reducing the 11 features set to dimension of 5  features\r\n",
        " #implicitly encodes catogerical columns by one hot encoding\r\n",
        "\r\n",
        "hasher = FeatureHasher(numFeatures=5,inputCols=ind_features,\r\n",
        "                       outputCol=\"features\")\r\n",
        "featurized = hasher.transform(df)\r\n",
        "featurized.show(n=5,truncate=False)\r\n"
      ],
      "execution_count": null,
      "outputs": [
        {
          "output_type": "stream",
          "text": [
            "+-------+----+-------------+---------+------+-----------+------------+------------+-------+------+---------+------------------------+-----+------------------------------------------------------+\n",
            "|name   |year|selling_price|km_driven|fuel  |seller_type|transmission|owner       |mileage|engine|max_power|torque                  |seats|features                                              |\n",
            "+-------+----+-------------+---------+------+-----------+------------+------------+-------+------+---------+------------------------+-----+------------------------------------------------------+\n",
            "|Maruti |2014|450000       |145500   |Diesel|Individual |Manual      |First Owner |23.4   |1248  |74.0     |190Nm@ 2000rpm          |5    |(5,[1,2,3,4],[98.39999961853027,1248.0,6.0,147516.0]) |\n",
            "|Skoda  |2014|370000       |120000   |Diesel|Individual |Manual      |Second Owner|21.14  |1498  |103.52   |250Nm@ 1500-2500rpm     |5    |(5,[1,2,3,4],[126.65999603271484,1498.0,6.0,122015.0])|\n",
            "|Honda  |2006|158000       |140000   |Petrol|Individual |Manual      |Third Owner |17.7   |1497  |78.0     |12.7@ 2,700(kgm@ rpm)   |5    |(5,[1,2,3,4],[95.70000076293945,1497.0,7.0,142008.0]) |\n",
            "|Hyundai|2010|225000       |127000   |Diesel|Individual |Manual      |First Owner |23.0   |1396  |90.0     |22.4 kgm at 1750-2750rpm|5    |(5,[1,2,3,4],[114.0,1396.0,6.0,129012.0])             |\n",
            "|Maruti |2007|130000       |120000   |Petrol|Individual |Manual      |First Owner |16.1   |1298  |88.2     |11.5@ 4,500(kgm@ rpm)   |5    |(5,[1,2,3,4],[104.29999732971191,1298.0,7.0,122009.0])|\n",
            "+-------+----+-------------+---------+------+-----------+------------+------------+-------+------+---------+------------------------+-----+------------------------------------------------------+\n",
            "only showing top 5 rows\n",
            "\n"
          ],
          "name": "stdout"
        }
      ]
    },
    {
      "cell_type": "code",
      "metadata": {
        "colab": {
          "base_uri": "https://localhost:8080/"
        },
        "id": "BFCwE7wwP3Os",
        "outputId": "41fdbaff-10e9-4aa7-c6b7-7b8b6d17e118"
      },
      "source": [
        "from pyspark.ml.feature import PolynomialExpansion\r\n",
        "\r\n",
        "FH_polyExpansion = PolynomialExpansion(degree=4, inputCol=\"features\", outputCol=\"polyFeatures\")\r\n",
        "FH_polyDF = FH_polyExpansion.transform(featurized.select('features','selling_price'))\r\n",
        "print(\"On Using Feature Hasher and expanding the feature by degree=4 :\")\r\n",
        "FH_polyDF.show(n=10)"
      ],
      "execution_count": null,
      "outputs": [
        {
          "output_type": "stream",
          "text": [
            "On Using Feature Hasher and expanding the feature by degree=4 :\n",
            "+--------------------+-------------+--------------------+\n",
            "|            features|selling_price|        polyFeatures|\n",
            "+--------------------+-------------+--------------------+\n",
            "|(5,[1,2,3,4],[98....|       450000|(125,[4,8,11,13,1...|\n",
            "|(5,[1,2,3,4],[126...|       370000|(125,[4,8,11,13,1...|\n",
            "|(5,[1,2,3,4],[95....|       158000|(125,[4,8,11,13,1...|\n",
            "|(5,[1,2,3,4],[114...|       225000|(125,[4,8,11,13,1...|\n",
            "|(5,[1,2,3,4],[104...|       130000|(125,[4,8,11,13,1...|\n",
            "|(5,[1,2,3,4],[102...|       440000|(125,[4,8,11,13,1...|\n",
            "|(5,[0,1,2,3,4],[1...|        96000|(125,[0,1,2,3,4,5...|\n",
            "|(5,[1,2,3,4],[54....|        45000|(125,[4,8,11,13,1...|\n",
            "|(5,[1,2,3,4],[91....|       350000|(125,[4,8,11,13,1...|\n",
            "|(5,[1,2,3,4],[89....|       200000|(125,[4,8,11,13,1...|\n",
            "+--------------------+-------------+--------------------+\n",
            "only showing top 10 rows\n",
            "\n"
          ],
          "name": "stdout"
        }
      ]
    },
    {
      "cell_type": "code",
      "metadata": {
        "colab": {
          "base_uri": "https://localhost:8080/"
        },
        "id": "XowZRFih59o3",
        "outputId": "3ee6a499-4ac3-472a-ad2b-4a02349ed439"
      },
      "source": [
        "from pyspark.ml.feature import MinMaxScaler\r\n",
        "\r\n",
        "scaler3=MinMaxScaler(inputCol=\"polyFeatures\", outputCol=\"scaledFeatures\")\r\n",
        "FH_scaler_df = scaler3.fit(FH_polyDF).transform(FH_polyDF)\r\n",
        "\r\n",
        "FH_scaler_df.select(\"polyFeatures\", \"scaledFeatures\").show(n=5)"
      ],
      "execution_count": null,
      "outputs": [
        {
          "output_type": "stream",
          "text": [
            "+--------------------+--------------------+\n",
            "|        polyFeatures|      scaledFeatures|\n",
            "+--------------------+--------------------+\n",
            "|(125,[4,8,11,13,1...|(125,[4,8,11,13,1...|\n",
            "|(125,[4,8,11,13,1...|(125,[4,8,11,13,1...|\n",
            "|(125,[4,8,11,13,1...|(125,[4,8,11,13,1...|\n",
            "|(125,[4,8,11,13,1...|(125,[4,8,11,13,1...|\n",
            "|(125,[4,8,11,13,1...|(125,[4,8,11,13,1...|\n",
            "+--------------------+--------------------+\n",
            "only showing top 5 rows\n",
            "\n"
          ],
          "name": "stdout"
        }
      ]
    },
    {
      "cell_type": "code",
      "metadata": {
        "colab": {
          "base_uri": "https://localhost:8080/"
        },
        "id": "QKhzoaZD59sV",
        "outputId": "d4c1ade4-a145-441b-c7b0-68793c78b0ac"
      },
      "source": [
        "FH_train_data,FH_test_data = FH_scaler_df.randomSplit([0.8,0.2],seed=2)\r\n",
        "FH_Regressor=LinearRegression(featuresCol ='scaledFeatures', labelCol ='selling_price') \r\n",
        "FH_Regressor=FH_Regressor.fit(FH_train_data)\r\n",
        "\r\n",
        "FH_predicited=FH_Regressor.evaluate(FH_test_data)\r\n",
        "\r\n",
        "coeff = FH_Regressor.coefficients\r\n",
        "\r\n",
        "#X and Y intercept\r\n",
        "intr = FH_Regressor.intercept\r\n",
        "\r\n",
        "print(\"Using Feaure hasher to reduce the features space to dimension= 5 and \\nPolynomial Regression using to expand by degree : 4 \")\r\n",
        "print (\"The coefficient of the model is : %a\" %coeff)\r\n",
        "print (\"The Intercept of the model is : %f\" %intr)\r\n",
        "\r\n",
        "#Using evalaution mertics to determine the model performance\r\n",
        "FH_eval = RegressionEvaluator(labelCol=\"selling_price\", predictionCol=\"prediction\", metricName=\"rmse\")\r\n",
        "\r\n",
        "rmse3 = FH_eval.evaluate(FH_predicited.predictions)\r\n",
        "print(\"RMSE: %.3f\" %rmse3)\r\n",
        "mse3 = FH_eval.evaluate(FH_predicited.predictions, {FH_eval.metricName: \"mse\"})\r\n",
        "print(\"MSE: %.3f\" % mse3)\r\n",
        "\r\n",
        "r2_FH = FH_eval.evaluate(FH_predicited.predictions, {FH_eval.metricName: \"r2\"})\r\n",
        "print(\"r2: %.3f\" %r2_FH)\r\n"
      ],
      "execution_count": null,
      "outputs": [
        {
          "output_type": "stream",
          "text": [
            "Using Feaure hasher to reduce the features space to dimension= 5 and \n",
            "Polynomial Regression using to expand by degree : 4 \n",
            "The coefficient of the model is : DenseVector([-55474.0117, -55474.0117, -55474.0117, -55474.0117, -1234593.1969, 3994.8349, 3994.8349, 3994.8349, 17387417.0118, -35597.8846, -35597.8846, 31576954.486, -231641.6507, -28859295.2001, -976636.3983, 28328.3112, 28328.3112, 28328.3112, 380178.3195, 14915.6121, 14915.6121, 7747395.5889, -193483.7041, 1304762.9696, 612785.9319, 61383.7402, 61383.7402, 36434.4733, -147540.7264, -3567641.362, 1804281.29, -101941.1901, -5813814.6124, 111081.7927, -681772.5723, -25831.1551, -25831.1551, -25831.1551, -3078072.0347, 48244.1905, 48244.1905, 5056678.0417, 23729.3172, 1295268.8563, -776271.0324, 70604.1188, 70604.1188, -1702238.7852, 73231.0012, -819837.8663, 301733.5197, 116627.2464, -2461386.5187, 1129899.7274, 1953459.613, -657.9792, -657.9792, -1145714.5808, 85786.5081, -1057441.8061, 321474.5343, 106312.5829, -1344656.936, 932823.6687, 2709021.032, 20576.9524, 1292307.0067, 1363100.7723, -2471618.9411, 7804232.1573, -168488.1351, -168488.1351, -168488.1351, -4451749.3415, 148093.0252, 148093.0252, -16200327.6667, 183769.2742, -23205008.554, -2166310.3984, -39867.4931, -39867.4931, -334154.3756, 27136.6591, 3956093.7103, -2675041.2673, -82716.081, 13203838.0396, 2719788.7168, 1048564.1901, -121047.9511, -121047.9511, 3267899.2657, 212321.4049, -1250496.9871, -2448408.6465, 7615.2507, 9254272.0295, -1374632.8598, -2721368.4778, -81306.7944, 11814687.7463, -2654407.3462, -5737072.1821, 19771371.2795, 8235.0824, 8235.0824, 26386473.5133, 955682.71, 38483856.1776, -2269791.8574, -87182.816, 13564256.8161, -23601097.7478, 5045603.9108, 53541.1647, 11731741.7597, -17424067.0478, -8852788.9837, -1498820.1829, -155178.7524, -22133654.9765, -37968775.1691, -10260173.8205, 15099729.9472])\n",
            "The Intercept of the model is : 105844.913224\n",
            "RMSE: 298242.053\n",
            "MSE: 88948322110.110\n",
            "r2: 0.872\n"
          ],
          "name": "stdout"
        }
      ]
    },
    {
      "cell_type": "code",
      "metadata": {
        "id": "EQE8Olr15-cB"
      },
      "source": [
        ""
      ],
      "execution_count": null,
      "outputs": []
    },
    {
      "cell_type": "markdown",
      "metadata": {
        "id": "VAfyssR-6Smm"
      },
      "source": [
        "**CASE 3**\r\n",
        "\r\n",
        "**Using one hot encoding and vector assembler**\r\n",
        "\r\n",
        "**Polynomial features for regression and**\r\n",
        "\r\n",
        "**Without Feature Scaling**\r\n",
        "\r\n",
        "**And Building Regression model and evaluating with rmse, mse, r2**"
      ]
    },
    {
      "cell_type": "code",
      "metadata": {
        "colab": {
          "base_uri": "https://localhost:8080/"
        },
        "id": "8GO7fBU75-kJ",
        "outputId": "3aac9f5f-616d-4013-9c69-5c5c330491d5"
      },
      "source": [
        "#Using string indexer and one hot encoder for catogerical columns\r\n",
        "\r\n",
        "indexed_features=['indexed_'+i for i in cat_features[1:]]\r\n",
        "\r\n",
        "myencoder=OneHotEncoder(inputCols=indexed_features,outputCols=['Encoded_'+i for i in cat_features[1:]])\r\n",
        "\r\n",
        "encoded_df2=myencoder.fit(indexed_df).transform(indexed_df)\r\n",
        "encoded_df2.show(n=10)"
      ],
      "execution_count": null,
      "outputs": [
        {
          "output_type": "stream",
          "text": [
            "+-------+----+-------------+---------+------+-----------+------------+------------+-------+------+---------+--------------------+-----+------------+------------+--------------------+-------------------+-------------+-------------+-------------------+--------------------+-------------+\n",
            "|   name|year|selling_price|km_driven|  fuel|seller_type|transmission|       owner|mileage|engine|max_power|              torque|seats|indexed_fuel|indexed_name|indexed_transmission|indexed_seller_type|indexed_owner| Encoded_fuel|Encoded_seller_type|Encoded_transmission|Encoded_owner|\n",
            "+-------+----+-------------+---------+------+-----------+------------+------------+-------+------+---------+--------------------+-----+------------+------------+--------------------+-------------------+-------------+-------------+-------------------+--------------------+-------------+\n",
            "| Maruti|2014|       450000|   145500|Diesel| Individual|      Manual| First Owner|   23.4|  1248|     74.0|      190Nm@ 2000rpm|    5|         0.0|         0.0|                 0.0|                0.0|          0.0|(3,[0],[1.0])|      (2,[0],[1.0])|       (1,[0],[1.0])|(4,[0],[1.0])|\n",
            "|  Skoda|2014|       370000|   120000|Diesel| Individual|      Manual|Second Owner|  21.14|  1498|   103.52| 250Nm@ 1500-2500rpm|    5|         0.0|        11.0|                 0.0|                0.0|          1.0|(3,[0],[1.0])|      (2,[0],[1.0])|       (1,[0],[1.0])|(4,[1],[1.0])|\n",
            "|  Honda|2006|       158000|   140000|Petrol| Individual|      Manual| Third Owner|   17.7|  1497|     78.0|12.7@ 2,700(kgm@ ...|    5|         1.0|         4.0|                 0.0|                0.0|          2.0|(3,[1],[1.0])|      (2,[0],[1.0])|       (1,[0],[1.0])|(4,[2],[1.0])|\n",
            "|Hyundai|2010|       225000|   127000|Diesel| Individual|      Manual| First Owner|   23.0|  1396|     90.0|22.4 kgm at 1750-...|    5|         0.0|         1.0|                 0.0|                0.0|          0.0|(3,[0],[1.0])|      (2,[0],[1.0])|       (1,[0],[1.0])|(4,[0],[1.0])|\n",
            "| Maruti|2007|       130000|   120000|Petrol| Individual|      Manual| First Owner|   16.1|  1298|     88.2|11.5@ 4,500(kgm@ ...|    5|         1.0|         0.0|                 0.0|                0.0|          0.0|(3,[1],[1.0])|      (2,[0],[1.0])|       (1,[0],[1.0])|(4,[0],[1.0])|\n",
            "|Hyundai|2017|       440000|    45000|Petrol| Individual|      Manual| First Owner|  20.14|  1197|    81.86|   113.75nm@ 4000rpm|    5|         1.0|         1.0|                 0.0|                0.0|          0.0|(3,[1],[1.0])|      (2,[0],[1.0])|       (1,[0],[1.0])|(4,[0],[1.0])|\n",
            "| Maruti|2007|        96000|   175000|   LPG| Individual|      Manual| First Owner|   17.3|  1061|     57.5|7.8@ 4,500(kgm@ rpm)|    5|         3.0|         0.0|                 0.0|                0.0|          0.0|    (3,[],[])|      (2,[0],[1.0])|       (1,[0],[1.0])|(4,[0],[1.0])|\n",
            "| Maruti|2001|        45000|     5000|Petrol| Individual|      Manual|Second Owner|   16.1|   796|     37.0|       59Nm@ 2500rpm|    4|         1.0|         0.0|                 0.0|                0.0|          1.0|(3,[1],[1.0])|      (2,[0],[1.0])|       (1,[0],[1.0])|(4,[1],[1.0])|\n",
            "| Toyota|2011|       350000|    90000|Diesel| Individual|      Manual| First Owner|  23.59|  1364|     67.1| 170Nm@ 1800-2400rpm|    5|         0.0|         5.0|                 0.0|                0.0|          0.0|(3,[0],[1.0])|      (2,[0],[1.0])|       (1,[0],[1.0])|(4,[0],[1.0])|\n",
            "|   Ford|2013|       200000|   169000|Diesel| Individual|      Manual| First Owner|   20.0|  1399|     68.1|      160Nm@ 2000rpm|    5|         0.0|         6.0|                 0.0|                0.0|          0.0|(3,[0],[1.0])|      (2,[0],[1.0])|       (1,[0],[1.0])|(4,[0],[1.0])|\n",
            "+-------+----+-------------+---------+------+-----------+------------+------------+-------+------+---------+--------------------+-----+------------+------------+--------------------+-------------------+-------------+-------------+-------------------+--------------------+-------------+\n",
            "only showing top 10 rows\n",
            "\n"
          ],
          "name": "stdout"
        }
      ]
    },
    {
      "cell_type": "code",
      "metadata": {
        "colab": {
          "base_uri": "https://localhost:8080/"
        },
        "id": "_jiNbBb65-mq",
        "outputId": "edf8f06f-93b3-4fc2-bdba-8f305af8d79b"
      },
      "source": [
        "from pyspark.ml.feature import VectorAssembler\r\n",
        "\r\n",
        "#using the numeric columns and newly encoded columns to be combined to form a single vector form\r\n",
        "input_features=['seats',\r\n",
        " 'km_driven',\r\n",
        " 'year',\r\n",
        " 'mileage',\r\n",
        " 'engine',\r\n",
        " 'max_power',\r\n",
        " 'indexed_name',\r\n",
        " 'Encoded_fuel',\r\n",
        " 'Encoded_seller_type',\r\n",
        " 'Encoded_transmission',\r\n",
        " 'Encoded_owner']\r\n",
        "\r\n",
        "assembler =VectorAssembler(inputCols=input_features ,outputCol=\"features2\")\r\n",
        "new_df2=assembler.transform(encoded_df2)\r\n",
        "vectorized_df2=new_df2.select(\"features2\",\"selling_price\")\r\n",
        "vectorized_df2.show(n=10)"
      ],
      "execution_count": null,
      "outputs": [
        {
          "output_type": "stream",
          "text": [
            "+--------------------+-------------+\n",
            "|           features2|selling_price|\n",
            "+--------------------+-------------+\n",
            "|(17,[0,1,2,3,4,5,...|       450000|\n",
            "|[5.0,120000.0,201...|       370000|\n",
            "|[5.0,140000.0,200...|       158000|\n",
            "|[5.0,127000.0,201...|       225000|\n",
            "|(17,[0,1,2,3,4,5,...|       130000|\n",
            "|[5.0,45000.0,2017...|       440000|\n",
            "|(17,[0,1,2,3,4,5,...|        96000|\n",
            "|(17,[0,1,2,3,4,5,...|        45000|\n",
            "|[5.0,90000.0,2011...|       350000|\n",
            "|[5.0,169000.0,201...|       200000|\n",
            "+--------------------+-------------+\n",
            "only showing top 10 rows\n",
            "\n"
          ],
          "name": "stdout"
        }
      ]
    },
    {
      "cell_type": "code",
      "metadata": {
        "colab": {
          "base_uri": "https://localhost:8080/"
        },
        "id": "EwTnGTqBYP6l",
        "outputId": "9f62f1a9-09ad-4259-b628-05f8ea46f5f8"
      },
      "source": [
        "from pyspark.ml.feature import PolynomialExpansion\r\n",
        "\r\n",
        "polyExpansion2 = PolynomialExpansion(degree=4, inputCol=\"features2\", outputCol=\"polyFeatures\")\r\n",
        "polyDF2= polyExpansion2.transform(vectorized_df2)\r\n",
        "print(\"Using Vectorized features:\")\r\n",
        "polyDF2.show(n=10)"
      ],
      "execution_count": null,
      "outputs": [
        {
          "output_type": "stream",
          "text": [
            "Using Vectorized features:\n",
            "+--------------------+-------------+--------------------+\n",
            "|           features2|selling_price|        polyFeatures|\n",
            "+--------------------+-------------+--------------------+\n",
            "|(17,[0,1,2,3,4,5,...|       450000|(5984,[0,1,2,3,4,...|\n",
            "|[5.0,120000.0,201...|       370000|[5.0,25.0,125.0,6...|\n",
            "|[5.0,140000.0,200...|       158000|[5.0,25.0,125.0,6...|\n",
            "|[5.0,127000.0,201...|       225000|[5.0,25.0,125.0,6...|\n",
            "|(17,[0,1,2,3,4,5,...|       130000|(5984,[0,1,2,3,4,...|\n",
            "|[5.0,45000.0,2017...|       440000|[5.0,25.0,125.0,6...|\n",
            "|(17,[0,1,2,3,4,5,...|        96000|(5984,[0,1,2,3,4,...|\n",
            "|(17,[0,1,2,3,4,5,...|        45000|(5984,[0,1,2,3,4,...|\n",
            "|[5.0,90000.0,2011...|       350000|[5.0,25.0,125.0,6...|\n",
            "|[5.0,169000.0,201...|       200000|[5.0,25.0,125.0,6...|\n",
            "+--------------------+-------------+--------------------+\n",
            "only showing top 10 rows\n",
            "\n"
          ],
          "name": "stdout"
        }
      ]
    },
    {
      "cell_type": "code",
      "metadata": {
        "colab": {
          "base_uri": "https://localhost:8080/"
        },
        "id": "zvb4-8XdYP9n",
        "outputId": "e0e90d22-2175-485d-f287-fb39d4a41da6"
      },
      "source": [
        "from pyspark.ml.regression import LinearRegression \r\n",
        "\r\n",
        "#using the features expanded by polynomial regression\r\n",
        "train_data3,test_data3 = polyDF2.randomSplit([0.8,0.2],seed=2)\r\n",
        "Regressor3=LinearRegression(featuresCol ='polyFeatures', labelCol ='selling_price') \r\n",
        "Regressor3=Regressor3.fit(train_data3)\r\n",
        "\r\n",
        "pred3=Regressor3.evaluate(test_data3)\r\n",
        "\r\n",
        "coeff = Regressor3.coefficients\r\n",
        "\r\n",
        "#X and Y intercept\r\n",
        "intr = Regressor3.intercept\r\n",
        "\r\n",
        "print(\"Without feature scaling \\nPolynomial Regression using degree : 4\")\r\n",
        "print (\"The coefficient of the model is : %a\" %coeff)\r\n",
        "print (\"The Intercept of the model is : %f\" %intr)\r\n",
        "eval3 = RegressionEvaluator(labelCol=\"selling_price\", predictionCol=\"prediction\", metricName=\"rmse\")\r\n",
        "\r\n",
        "rmse_mm = eval3.evaluate(pred3.predictions)\r\n",
        "print(\"RMSE: %.3f\" %rmse_mm )\r\n",
        "mse_mm  = eval3.evaluate(pred3.predictions, {eval3.metricName: \"mse\"})\r\n",
        "print(\"MSE: %.3f\" % mse_mm)\r\n",
        "\r\n",
        "r2_mm  = eval3.evaluate(pred3.predictions, {eval3.metricName: \"r2\"})\r\n",
        "print(\"r2: %.3f\" %r2_mm )"
      ],
      "execution_count": null,
      "outputs": [
        {
          "output_type": "stream",
          "text": [
            "Without feature scaling \n",
            "Polynomial Regression using degree : 4\n",
            "The coefficient of the model is : DenseVector([-5827.9419, -148.4894, -5.1377, -0.4997, 0.0885, 0.0101, -0.0, -0.0003, -0.0, -0.0, -0.0, -0.0, -0.0, 0.0, 10225.6823, -2.4664, -0.053, -0.0011, 0.0, 0.0, 0.0, -0.0, -0.0, -0.0, 2.6117, -0.001, -0.0, 0.0, 0.0, -0.0, 0.0009, -0.0, 0.0, 0.0, -101.4874, -56.9844, 15.7519, 1.9489, -0.0007, -0.0002, -0.0001, -0.0, -0.0, -0.0, -0.0296, -0.0159, 0.0092, -0.0, -0.0, -0.0, -0.0, -0.0, -0.0, 0.0, -14.1425, 2.0448, 2.0419, 0.0001, 0.0, 0.0, -0.0069, 0.0011, 0.0, -0.0, -2.1127, -0.1882, 0.0, -0.001, -0.1257, -18.46, -1.3636, -0.1035, -0.014, 0.0, 0.0, -0.0, -0.0, -0.0, -0.0, -0.0075, -0.0005, -0.0, 0.0, 0.0, -0.0, -0.0, -0.0, 0.0, -0.0, -0.4212, -0.0626, -0.0067, -0.0, -0.0, -0.0, -0.0001, -0.0, -0.0, 0.0, 0.0052, 0.002, -0.0, 0.0, -0.0021, -0.0004, 0.0, 0.0, 0.0, 0.0, -0.0, 0.0, 0.0, 0.0, 0.0, 0.0002, 0.0, -0.0, 0.0, 0.0, 0.0, 0.0, 0.0, 0.0, 0.0, 0.0, 393.295, 15.4633, -1.091, -0.3356, -0.0003, 0.0001, 0.0, 0.0, 0.0, -0.0, 0.2284, 0.0121, -0.0001, -0.0, 0.0, 0.0, 0.0001, 0.0, -0.0, 0.0, 39.5607, 5.5289, 0.4724, -0.0002, -0.0, 0.0, 0.0213, 0.0031, -0.0, 0.0, 0.4954, 0.1579, -0.0, 0.0003, -0.0453, 0.0453, -0.0019, -0.0009, 0.0, 0.0, 0.0, 0.0, 0.0, 0.0, 0.0, 0.013, 0.0013, -0.0, 0.0, 0.0005, 0.0, -0.0, 0.0, 0.0, 0.0, -0.0, 2.9896, 0.2517, 0.0048, -0.0, -0.0, 0.0, 0.0016, 0.0001, -0.0, 0.0, 0.2125, 0.0346, -0.0, 0.0001, 0.0014, 0.0001, -0.0, -0.0, 0.0, 0.0, -0.0, 0.0039, -0.0004, -0.0, 0.0, 0.0001, -0.0, -0.0001, 19.8613, 330.427, 110.852, 19.8838, 0.0116, -0.0011, -0.0009, 0.0, -0.0, -0.0, 0.1289, 0.1871, 0.059, 0.0, -0.0, 0.0, 0.0001, 0.0001, 0.0, 0.0, -39.8283, 0.3407, 1.2999, -0.0022, -0.0006, 0.0, -0.014, 0.0013, -0.0, -0.0, 2.9554, 0.6496, -0.0001, 0.0017, -0.138, 0.251, 0.1524, 0.0397, 0.0, 0.0, 0.0, 0.0002, 0.0001, 0.0, 0.0, 0.0106, 0.0038, -0.0, 0.0, 0.0045, 0.0001, 0.0, 0.0, 0.0, 0.0, -0.0, 17.1491, 3.9747, 0.9074, -0.0002, -0.0, 0.0, 0.0096, 0.0022, -0.0, 0.0, 1.3166, 0.2886, -0.0001, 0.0007, 0.0619, -0.0004, -0.0002, -0.0, 0.0, 0.0004, -0.0, 0.0352, 0.0007, -0.0, 0.0, 0.0049, -0.0001, -0.001, 40.2128, 25.2644, 7.6289, 0.0025, -0.0, 0.0, 0.0243, 0.0134, 0.0, 0.0, -0.6468, 0.3419, -0.0, -0.0001, 0.6019, -0.0585, -0.0094, 0.0, -0.0, -0.0036, -0.0001, -0.7348, -0.0859, 0.0, -0.0003, -0.0169, -0.001, -0.0126, 3.2194, 1.4258, 0.0001, 0.0017, -0.3563, -0.0024, -0.0598, 0.5099, -11780.4964, -660.5875, 19.0277, 1.201, 0.0253, 0.0031, -0.0012, 0.0, -0.0, -0.0, -4.7797, -0.1604, 0.0304, 0.0, 0.0, 0.0, -0.0018, 0.0, 0.0, -0.0, -331.0491, 7.8992, 10.1017, -0.0035, -0.0005, 0.0, -0.1215, 0.0118, -0.0, -0.0, 8.3868, 5.1579, 0.0002, 0.0055, 0.4925, -4.4337, -0.4184, -0.0573, 0.0, 0.0, -0.0, -0.0015, -0.0001, 0.0, -0.0, -0.3787, -0.0581, -0.0, -0.0002, -0.006, -0.0003, 0.0, 0.0, 0.0, -0.0002, 0.0, 159.8675, 4.3907, -1.8906, -0.0, 0.0001, 0.0, 0.0941, 0.0044, 0.0, 0.0001, 13.02, 1.2458, -0.0002, 0.0072, 0.6758, 0.0102, -0.006, 0.0, 0.0, 0.0035, -0.0, 2.698, 0.1448, -0.0, 0.0014, 0.2773, -0.0003, 0.0065, 545.3148, 522.1609, 152.6478, 0.0092, -0.0007, 0.0, 0.4196, 0.2869, 0.0, 0.0003, -161.5166, -19.9061, -0.0034, -0.0724, -9.8815, -0.2479, 0.1096, 0.0, -0.0, -0.069, -0.0012, 13.1284, 3.2999, -0.0001, 0.0078, 1.3358, -0.0205, -0.1305, 63.7338, 36.4621, 0.0024, 0.0382, -7.328, -0.1926, -2.6592, 3.4352, -11780.4964, -660.5875, 19.0277, 0.0253, 0.0031, 0.0, -4.7797, -0.1604, 0.0, -0.0018, -331.0491, 7.8992, -0.0035, -0.1215, 8.3868, -4.4337, -0.4184, 0.0, -0.0015, -0.3787, -0.0003, 159.8675, 4.3907, -0.0, 0.0941, 13.02, 0.0102, 2.698, 545.3148, 522.1609, 0.0092, 0.4196, -161.5166, -0.2479, 13.1284, 63.7338, -11780.4964, -660.5875, 0.0253, -4.7797, -331.0491, -4.4337, 159.8675, 545.3148, -11780.4964, 9684.1937, -340.5768, -247.9143, -32.9543, 0.0883, 0.0142, 0.0052, -0.0, 0.0, 0.0, 3.8981, -0.3368, -0.1532, 0.0, 0.0, -0.0, 0.0015, -0.0002, 0.0, 0.0, 167.9403, -56.924, -17.8932, 0.0028, 0.0003, -0.0, 0.0386, -0.0366, 0.0, -0.0, -34.5437, -9.5974, -0.0003, -0.0191, -4.4504, -3.5587, -1.1239, -0.1396, -0.0, 0.0, 0.0, -0.0022, -0.0006, -0.0, -0.0, 0.4263, 0.0774, 0.0, 0.0002, 0.0058, -0.0002, -0.0001, -0.0, -0.0, 0.001, 0.0, -32.3186, 2.6658, 4.1484, -0.0008, 0.0001, 0.0, -0.0193, 0.0007, -0.0, -0.0, -0.2967, 0.8696, 0.0, -0.0004, -0.6712, 0.0584, 0.0171, -0.0, 0.0, 0.0104, 0.0001, 0.2683, 0.2306, -0.0, 0.0001, -0.0409, 0.0011, -0.0016, -1124.6027, -284.1682, -72.2801, 0.0081, -0.0039, 0.0, -0.5564, -0.1406, 0.0, -0.0003, 150.5288, 29.8519, 0.0053, 0.0743, 17.8821, 1.1821, 0.1703, -0.0, 0.0006, 0.1457, 0.0028, 17.8373, 3.6998, -0.0007, 0.0091, 0.8398, 0.0358, 0.2934, -18.4912, -5.0123, 0.0019, -0.0095, 8.5004, 0.2397, 2.5259, 2.4244, 0.0, 0.0, 0.0, 0.0, 0.0, 0.0, 0.0, 0.0, 0.0, 0.0, 0.0, 0.0, 0.0, 0.0, 0.0, 0.0, 0.0, 0.0, 0.0, 0.0, 0.0, 0.0, 0.0, 0.0, 0.0, 0.0, 0.0, 0.0, 0.0, 0.0, 0.0, 0.0, 0.0, 0.0, 0.0, 0.0, 0.0, 0.0, 0.0, 0.0, 0.0, 0.0, 0.0, 0.0, 0.0, 9684.1937, -340.5768, -247.9143, 0.0883, 0.0142, -0.0, 3.8981, -0.3368, 0.0, 0.0015, 167.9403, -56.924, 0.0028, 0.0386, -34.5437, -3.5587, -1.1239, -0.0, -0.0022, 0.4263, -0.0002, -32.3186, 2.6658, -0.0008, -0.0193, -0.2967, 0.0584, 0.2683, -1124.6027, -284.1682, 0.0081, -0.5564, 150.5288, 1.1821, 17.8373, -18.4912, 0.0, 0.0, 0.0, 0.0, 0.0, 0.0, 0.0, 0.0, 0.0, 9684.1937, -340.5768, 0.0883, 3.8981, 167.9403, -3.5587, -32.3186, -1124.6027, 0.0, 9684.1937, -6245.9913, -1281.6103, -127.5464, 27.6414, -0.0186, -0.0016, 0.0007, -0.0, -0.0, 0.0, -3.2557, -0.6687, -0.0699, -0.0, -0.0, -0.0, -0.0017, -0.0003, -0.0, -0.0, 135.3719, 8.4417, 3.5973, 0.0031, 0.0006, 0.0, 0.0613, 0.0029, 0.0, 0.0, 23.9026, 3.5284, 0.0004, 0.0117, 1.5771, -1.6267, 0.0048, 0.1844, -0.0, 0.0, -0.0, -0.001, -0.0, -0.0, -0.0, 0.2869, 0.0558, 0.0, 0.0001, 0.0311, 0.0023, 0.001, 0.0, 0.0, 0.0004, 0.0, -40.7422, -1.4869, 3.2008, -0.0002, 0.0, -0.0, -0.0227, -0.0012, -0.0, -0.0, 4.099, 0.8107, 0.0, 0.0019, 0.4995, 0.049, 0.0202, 0.0, 0.0, 0.0073, 0.0001, 0.8612, 0.363, 0.0, 0.0004, 0.1203, 0.002, 0.0346, -272.8613, -54.5723, -10.9145, 0.0817, 0.0163, 0.0, -0.1483, -0.0297, 0.0, -0.0001, -278.1555, -55.6311, 0.0002, -0.1385, -19.5443, 2.0023, 0.4005, 0.0001, 0.001, -0.1519, 0.0034, 95.4988, 19.0998, 0.0023, 0.0472, -0.6082, 0.1056, 2.539, -3516.6149, -703.323, -0.0297, -1.7475, -186.0927, -2.5247, -38.9622, -1616.4872, 0.0, 0.0, 0.0, 0.0, 0.0, 0.0, 0.0, 0.0, 0.0, 0.0, 0.0, 0.0, 0.0, 0.0, 0.0, 0.0, 0.0, 0.0, 0.0, 0.0, 0.0, 0.0, 0.0, 0.0, 0.0, 0.0, 0.0, 0.0, 0.0, 0.0, 0.0, 0.0, 0.0, 0.0, 0.0, 0.0, 0.0, 0.0, 0.0, 0.0, 0.0, 0.0, 0.0, 0.0, 0.0, 0.0, 0.0, 0.0, 0.0, 0.0, 0.0, 0.0, 0.0, 0.0, 0.0, 0.0, 0.0, 0.0, 0.0, 0.0, 0.0, 0.0, 0.0, 0.0, 0.0, 0.0, 0.0, 0.0, 0.0, 0.0, 0.0, 0.0, 0.0, 0.0, 0.0, 0.0, 0.0, 0.0, 0.0, 0.0, 0.0, 0.0, 0.0, 0.0, 0.0, 0.0, 0.0, 0.0, 0.0, 0.0, 0.0, 0.0, 0.0, 0.0, 0.0, 0.0, 0.0, 0.0, 0.0, 0.0, -6245.9913, -1281.6103, -127.5464, -0.0186, -0.0016, -0.0, -3.2557, -0.6687, -0.0, -0.0017, 135.3719, 8.4417, 0.0031, 0.0613, 23.9026, -1.6267, 0.0048, -0.0, -0.001, 0.2869, 0.0023, -40.7422, -1.4869, -0.0002, -0.0227, 4.099, 0.049, 0.8612, -272.8613, -54.5723, 0.0817, -0.1483, -278.1555, 2.0023, 95.4988, -3516.6149, 0.0, 0.0, 0.0, 0.0, 0.0, 0.0, 0.0, 0.0, 0.0, 0.0, 0.0, 0.0, 0.0, 0.0, 0.0, 0.0, 0.0, 0.0, 0.0, -6245.9913, -1281.6103, -0.0186, -3.2557, 135.3719, -1.6267, -40.7422, -272.8613, 0.0, 0.0, -6245.9913, 9945.0019, 612.5661, 138.6125, 23.7044, 0.0308, 0.0017, -0.001, -0.0, -0.0, -0.0, 4.3214, 0.252, 0.0675, 0.0, 0.0, -0.0, 0.0018, 0.0001, 0.0, 0.0, 558.3827, 86.4712, 19.3143, 0.0002, -0.0002, -0.0, 0.2502, 0.0395, 0.0, 0.0001, -8.6179, 0.5986, -0.0, -0.0051, -1.4412, -5.6875, -0.0322, 0.0647, -0.0, -0.0, -0.0, -0.0025, 0.0, -0.0, -0.0, -0.376, -0.048, -0.0, -0.0002, -0.0362, 0.0019, 0.0006, -0.0, 0.0, -0.0001, 0.0, -154.667, -16.38, 0.2054, 0.0004, 0.0002, 0.0, -0.0677, -0.0067, 0.0, -0.0, -2.0166, 0.0173, -0.0, -0.0006, -0.6413, 0.0015, 0.0079, 0.0, 0.0, 0.0016, 0.0, -0.9347, -0.1125, -0.0, -0.0004, -0.0459, -0.0001, -0.014, 144.9328, -333.3277, -128.8631, -0.0062, -0.0029, 0.0, 0.134, -0.1539, -0.0, 0.0001, 61.357, -9.7073, -0.0007, 0.0332, 2.0434, 0.2404, -0.1477, -0.0, 0.0002, 0.0414, 0.0001, 29.8697, 1.6761, -0.0, 0.0158, 2.377, 0.0069, 0.0946, 95.0328, -47.9882, 0.0017, 0.0489, 18.1061, -0.1539, 1.1334, -11.9946, -8716.1544, -157.1325, 110.5757, 0.0231, 0.0011, -0.0, -3.7075, 0.0222, 0.0, -0.0015, 3.6767, 53.8647, 0.0008, 0.0273, 22.1824, -2.8017, 0.1715, -0.0, -0.001, -0.2097, 0.0032, -92.8483, -14.1502, 0.0011, -0.0364, 4.4588, 0.021, -0.1708, 659.6707, -375.0666, -0.003, 0.4273, 56.888, 0.7401, 48.5693, 90.6899, -8716.1544, -157.1325, 0.0231, -3.7075, 3.6767, -2.8017, -92.8483, 659.6707, -8716.1544, 13154.9873, 311.0214, -126.1186, 0.0067, -0.0008, -0.0, 5.5018, -0.036, -0.0, 0.0022, 217.0672, -43.7036, -0.0024, 0.0573, -57.5463, -3.2693, -1.1206, -0.0001, -0.0022, -0.1647, -0.0098, -40.7291, 3.3808, -0.0017, -0.0265, -12.0761, -0.0713, -1.9407, -1253.4327, -158.3915, -0.0271, -0.6562, 26.0667, -1.6735, -36.5635, 72.3627, 0.0, 0.0, 0.0, 0.0, 0.0, 0.0, 0.0, 0.0, 0.0, 13154.9873, 311.0214, 0.0067, 5.5018, 217.0672, -3.2693, -40.7291, -1253.4327, 0.0, 13154.9873, -6245.9913, -1281.6103, -127.5464, -0.0186, -0.0016, -0.0, -3.2557, -0.6687, -0.0, -0.0017, 135.3719, 8.4417, 0.0031, 0.0613, 23.9026, -1.6267, 0.0048, -0.0, -0.001, 0.2869, 0.0023, -40.7422, -1.4869, -0.0002, -0.0227, 4.099, 0.049, 0.8612, -272.8613, -54.5723, 0.0817, -0.1483, -278.1555, 2.0023, 95.4988, -3516.6149, 0.0, 0.0, 0.0, 0.0, 0.0, 0.0, 0.0, 0.0, 0.0, 0.0, 0.0, 0.0, 0.0, 0.0, 0.0, 0.0, 0.0, 0.0, 0.0, -6245.9913, -1281.6103, -0.0186, -3.2557, 135.3719, -1.6267, -40.7422, -272.8613, 0.0, 0.0, -6245.9913, 9945.0019, 612.5661, 138.6125, 0.0308, 0.0017, -0.0, 4.3214, 0.252, 0.0, 0.0018, 558.3827, 86.4712, 0.0002, 0.2502, -8.6179, -5.6875, -0.0322, -0.0, -0.0025, -0.376, 0.0019, -154.667, -16.38, 0.0004, -0.0677, -2.0166, 0.0015, -0.9347, 144.9328, -333.3277, -0.0062, 0.134, 61.357, 0.2404, 29.8697, 95.0328, -8716.1544, -157.1325, 0.0231, -3.7075, 3.6767, -2.8017, -92.8483, 659.6707, -8716.1544, 13154.9873, 311.0214, 0.0067, 5.5018, 217.0672, -3.2693, -40.7291, -1253.4327, 0.0, 13154.9873, -6245.9913, -1281.6103, -0.0186, -3.2557, 135.3719, -1.6267, -40.7422, -272.8613, 0.0, 0.0, -6245.9913, 9945.0019, 612.5661, 0.0308, 4.3214, 558.3827, -5.6875, -154.667, 144.9328, -8716.1544, 13154.9873, -6245.9913, 9945.0019, -2240.536, -791.0673, -291.7296, -98.3054, 0.1719, 0.0448, 0.0101, 0.0, 0.0, -0.0, -0.0706, -0.1975, -0.1114, 0.0001, 0.0, 0.0, 0.0005, -0.0, 0.0, 0.0, -481.6917, -80.0626, -14.2487, -0.0237, -0.0033, 0.0, -0.1949, -0.0312, -0.0, -0.0001, 10.8618, 2.7815, -0.0001, 0.007, -0.2914, -9.486, -2.9345, -0.743, 0.0004, 0.0001, 0.0, -0.0039, -0.0013, 0.0, -0.0, -0.0937, -0.0364, -0.0, -0.0, 0.0321, -0.0125, -0.0033, 0.0, -0.0, -0.0001, -0.0, 357.1369, 28.9672, -3.5899, -0.0106, -0.0019, -0.0, 0.1895, 0.0167, -0.0, 0.0001, 20.7462, 2.7731, -0.0012, 0.0109, 1.1598, -0.0128, -0.0319, -0.0, -0.0, 0.007, -0.0001, 4.685, 0.4564, -0.0001, 0.0024, 0.3249, -0.0001, 0.0249, -117.3935, 1291.1754, 541.5305, 0.096, 0.0085, -0.0, 0.0919, 0.6701, 0.0001, 0.0001, -211.4232, 13.852, -0.0139, -0.0968, 1.13, -0.1116, 0.4827, 0.0001, 0.0, -0.0523, -0.0003, -1.4897, 4.7946, -0.0009, 0.0003, -0.123, -0.0105, -0.0469, -33.4515, 146.2339, 0.0069, -0.0088, -28.3934, 0.074, -2.4496, 29.1445, -10002.5207, -1931.3778, -475.6146, 0.0219, 0.0291, 0.0, -3.576, -0.7099, 0.0, -0.0011, -1097.4183, -161.5944, -0.0375, -0.4877, -44.3718, -5.7668, -2.586, 0.0005, -0.002, -0.5256, -0.0126, 538.361, 47.1648, -0.0102, 0.2814, 20.6468, -0.0167, 5.7176, 198.65, 2115.6634, 0.0899, 0.2899, -550.713, -1.7439, -31.0146, 2.0079, -10002.5207, -1931.3778, 0.0219, -3.576, -1097.4183, -5.7668, 538.361, 198.65, -10002.5207, 10652.1713, 1488.0968, 205.7244, 0.6174, 0.0986, -0.0, 5.5781, 0.7955, 0.0003, 0.0029, 753.4532, 101.8542, 0.0295, 0.386, 138.7275, -16.6489, -3.3594, -0.0007, -0.0079, 0.9189, -0.0099, -132.1271, -25.9572, -0.0102, -0.0603, 17.1919, -0.0, 1.2973, -678.7992, -470.372, 0.1296, -0.2745, 304.0794, 2.9412, 48.1777, -77.1255, 0.0, 0.0, 0.0, 0.0, 0.0, 0.0, 0.0, 0.0, 0.0, 10652.1713, 1488.0968, 0.6174, 5.5781, 753.4532, -16.6489, -132.1271, -678.7992, 0.0, 10652.1713, 0.0, 0.0, 0.0, 0.0, 0.0, 0.0, 0.0, 0.0, 0.0, 0.0, 0.0, 0.0, 0.0, 0.0, 0.0, 0.0, 0.0, 0.0, 0.0, 0.0, 0.0, 0.0, 0.0, 0.0, 0.0, 0.0, 0.0, 0.0, 0.0, 0.0, 0.0, 0.0, 0.0, 0.0, 0.0, 0.0, 0.0, 0.0, 0.0, 0.0, 0.0, 0.0, 0.0, 0.0, 0.0, 0.0, 0.0, 0.0, 0.0, 0.0, 0.0, 0.0, 0.0, 0.0, 0.0, 0.0, 0.0, 0.0, 0.0, 0.0, 0.0, 0.0, 0.0, 0.0, 0.0, 0.0, 0.0, 0.0, 0.0, 0.0, 0.0, 0.0, 0.0, 0.0, 0.0, 0.0, 0.0, 0.0, 0.0, 0.0, 0.0, 0.0, 0.0, 0.0, 0.0, 0.0, 0.0, 0.0, 0.0, 0.0, 0.0, 0.0, 0.0, 0.0, 0.0, 0.0, 0.0, 0.0, 0.0, 0.0, 0.0, 0.0, 0.0, 0.0, 0.0, 0.0, 0.0, 0.0, 0.0, 0.0, 0.0, 0.0, 0.0, 0.0, 0.0, 0.0, 0.0, 0.0, 0.0, 0.0, 0.0, 0.0, 0.0, 0.0, 0.0, 0.0, 0.0, 0.0, 0.0, 0.0, 0.0, 0.0, 0.0, 0.0, 0.0, 0.0, 0.0, 0.0, 0.0, 0.0, 0.0, 0.0, 0.0, 0.0, -2240.536, -791.0673, -291.7296, 0.1719, 0.0448, 0.0, -0.0706, -0.1975, 0.0001, 0.0005, -481.6917, -80.0626, -0.0237, -0.1949, 10.8618, -9.486, -2.9345, 0.0004, -0.0039, -0.0937, -0.0125, 357.1369, 28.9672, -0.0106, 0.1895, 20.7462, -0.0128, 4.685, -117.3935, 1291.1754, 0.096, 0.0919, -211.4232, -0.1116, -1.4897, -33.4515, -10002.5207, -1931.3778, 0.0219, -3.576, -1097.4183, -5.7668, 538.361, 198.65, -10002.5207, 10652.1713, 1488.0968, 0.6174, 5.5781, 753.4532, -16.6489, -132.1271, -678.7992, 0.0, 10652.1713, 0.0, 0.0, 0.0, 0.0, 0.0, 0.0, 0.0, 0.0, 0.0, 0.0, 0.0, 0.0, 0.0, 0.0, 0.0, 0.0, 0.0, 0.0, 0.0, 0.0, 0.0, 0.0, 0.0, -2240.536, -791.0673, 0.1719, -0.0706, -481.6917, -9.486, 357.1369, -117.3935, -10002.5207, 10652.1713, 0.0, 0.0, -2240.536, 26274.031, 1825.6862, 63.896, -5.5661, 0.0324, -0.0207, -0.0067, -0.0, -0.0, -0.0, 11.6637, 0.7664, 0.024, 0.0, -0.0, -0.0, 0.0051, 0.0003, 0.0, 0.0, 629.7364, 109.8234, 19.9232, 0.0074, 0.0, -0.0, 0.2633, 0.0474, 0.0, 0.0001, -2.9923, 2.7409, 0.0005, -0.0027, -0.1002, 4.8619, 0.298, -0.0281, -0.0001, -0.0, -0.0, 0.0024, 0.0002, -0.0, 0.0, -0.2994, -0.0498, -0.0, -0.0002, -0.0356, 0.0052, 0.0005, -0.0, 0.0, -0.0001, 0.0, -379.2147, -56.9665, -6.8005, 0.0022, 0.0001, 0.0, -0.1874, -0.0279, 0.0, -0.0001, -24.71, -4.098, 0.0002, -0.0122, -1.1246, -0.0087, -0.001, 0.0, -0.0, -0.0105, 0.0001, -1.4711, -0.2654, 0.0, -0.0007, -0.1967, 0.0014, 0.0138, -270.4825, -499.4263, -182.7401, 0.0137, -0.0054, -0.0, -0.1286, -0.2458, 0.0, -0.0001, -53.6669, -37.3475, 0.0018, -0.0266, -3.2229, 0.9022, -0.0539, 0.0, 0.0005, -0.0716, 0.0023, -7.3243, -5.164, 0.0006, -0.0033, -2.2905, 0.0316, 0.4209, 71.6052, -51.8278, -0.001, 0.0344, 6.2173, -0.0615, 0.4783, -5.8836, 6817.3238, 1226.3417, 79.051, 0.0878, -0.0144, -0.0, 3.7721, 0.678, 0.0, 0.0021, 812.9044, 184.7756, 0.0152, 0.4192, 56.0827, 0.6842, -0.122, -0.0001, 0.0006, 0.0105, 0.0031, -316.8524, -56.4712, 0.0021, -0.1519, -13.031, -0.0671, -3.2146, -2074.9376, -886.6367, 0.0042, -0.9972, -345.0114, 2.9417, 21.9007, 97.4118, 6817.3238, 1226.3417, 0.0878, 3.7721, 812.9044, 0.6842, -316.8524, -2074.9376, 6817.3238, 3033.0918, -975.4891, -178.1177, -0.0971, -0.0191, -0.0, 0.4499, -0.6786, -0.0001, -0.0003, -803.8407, -229.4939, -0.0131, -0.4494, -108.328, 2.9527, 1.0039, -0.0, 0.0008, -0.5054, 0.0051, 155.4935, 49.7503, 0.0004, 0.0693, -1.9468, 0.2042, 5.2518, 2354.6298, 399.7329, 0.0466, 1.1274, 416.8292, -7.2711, -96.02, -14.267, 0.0, 0.0, 0.0, 0.0, 0.0, 0.0, 0.0, 0.0, 0.0, 3033.0918, -975.4891, -0.0971, 0.4499, -803.8407, 2.9527, 155.4935, 2354.6298, 0.0, 3033.0918, -6245.9913, -1281.6103, -127.5464, -0.0186, -0.0016, -0.0, -3.2557, -0.6687, -0.0, -0.0017, 135.3719, 8.4417, 0.0031, 0.0613, 23.9026, -1.6267, 0.0048, -0.0, -0.001, 0.2869, 0.0023, -40.7422, -1.4869, -0.0002, -0.0227, 4.099, 0.049, 0.8612, -272.8613, -54.5723, 0.0817, -0.1483, -278.1555, 2.0023, 95.4988, -3516.6149, 0.0, 0.0, 0.0, 0.0, 0.0, 0.0, 0.0, 0.0, 0.0, 0.0, 0.0, 0.0, 0.0, 0.0, 0.0, 0.0, 0.0, 0.0, 0.0, -6245.9913, -1281.6103, -0.0186, -3.2557, 135.3719, -1.6267, -40.7422, -272.8613, 0.0, 0.0, -6245.9913, 10994.9414, 719.4144, 49.0068, -0.0043, -0.0221, -0.0, 4.5328, 0.2509, -0.0, 0.0018, 161.7694, 36.473, 0.0013, 0.0432, -20.8195, -5.7328, -0.7591, -0.0001, -0.0029, -0.7966, -0.0011, -96.3908, -10.5771, 0.0022, -0.0478, -9.4702, 0.0514, 1.7155, -1478.0803, -368.9263, 0.0453, -0.7359, -129.0699, -0.1287, 6.38, 77.0212, 6245.3521, 1393.018, 0.0202, 3.4584, 484.9343, -4.6779, -135.2622, -4339.7591, 6245.3521, -428.2963, -1802.3563, -0.054, -1.3292, -660.3094, 0.0817, 87.2389, 3284.8276, 0.0, -428.2963, -6245.9913, -1281.6103, -0.0186, -3.2557, 135.3719, -1.6267, -40.7422, -272.8613, 0.0, 0.0, -6245.9913, 10994.9414, 719.4144, -0.0043, 4.5328, 161.7694, -5.7328, -96.3908, -1478.0803, 6245.3521, -428.2963, -6245.9913, 10994.9414, 6362.8325, 357.7976, -149.8231, 0.3427, 0.0235, -0.0, 3.2684, 0.2024, 0.0002, 0.0017, 364.5288, 41.7773, 0.0486, 0.1849, 34.8372, 28.9885, 4.5866, 0.0003, 0.0145, 1.2426, 0.0366, -630.2271, -140.4422, -0.0031, -0.311, -27.2313, -0.2756, -13.0695, 6311.0423, -1212.4418, -0.3724, 3.1749, 373.2483, 6.1448, -89.3618, 10.3984, 2734.0483, -892.0551, 0.9199, 1.5442, 1438.882, 32.1523, -969.9327, 13024.7417, 2734.0483, 11952.6037, 2892.5681, -2.234, 5.8989, -2225.3351, 15.7345, 183.3838, -9702.0321, 0.0, 11952.6037, 0.0, 0.0, 0.0, 0.0, 0.0, 0.0, 0.0, 0.0, 0.0, 0.0, 0.0, 0.0, 0.0, 0.0, 0.0, 0.0, 0.0, 0.0, 0.0, 0.0, 0.0, 0.0, 0.0, 6362.8325, 357.7976, 0.3427, 3.2684, 364.5288, 28.9885, -630.2271, 6311.0423, 2734.0483, 11952.6037, 0.0, 0.0, 6362.8325, 26274.031, 1825.6862, 63.896, 0.0324, -0.0207, -0.0, 11.6637, 0.7664, 0.0, 0.0051, 629.7364, 109.8234, 0.0074, 0.2633, -2.9923, 4.8619, 0.298, -0.0001, 0.0024, -0.2994, 0.0052, -379.2147, -56.9665, 0.0022, -0.1874, -24.71, -0.0087, -1.4711, -270.4825, -499.4263, 0.0137, -0.1286, -53.6669, 0.9022, -7.3243, 71.6052, 6817.3238, 1226.3417, 0.0878, 3.7721, 812.9044, 0.6842, -316.8524, -2074.9376, 6817.3238, 3033.0918, -975.4891, -0.0971, 0.4499, -803.8407, 2.9527, 155.4935, 2354.6298, 0.0, 3033.0918, -6245.9913, -1281.6103, -0.0186, -3.2557, 135.3719, -1.6267, -40.7422, -272.8613, 0.0, 0.0, -6245.9913, 10994.9414, 719.4144, -0.0043, 4.5328, 161.7694, -5.7328, -96.3908, -1478.0803, 6245.3521, -428.2963, -6245.9913, 10994.9414, 6362.8325, 357.7976, 0.3427, 3.2684, 364.5288, 28.9885, -630.2271, 6311.0423, 2734.0483, 11952.6037, 0.0, 0.0, 6362.8325, 26274.031, 1825.6862, 0.0324, 11.6637, 629.7364, 4.8619, -379.2147, -270.4825, 6817.3238, 3033.0918, -6245.9913, 10994.9414, 6362.8325, 26274.031, -8227.5412, -1534.9923, -135.2917, -3.9693, 0.0962, 0.0124, 0.0003, 0.0, 0.0, -0.0, -3.3626, -0.6316, -0.0492, 0.0001, 0.0, 0.0, -0.0013, -0.0002, 0.0, -0.0, -146.4527, -31.0585, -0.4233, -0.0006, -0.0003, 0.0, -0.0467, -0.0101, -0.0, -0.0, 8.371, 2.7627, 0.0002, 0.0049, -0.3506, -8.2054, -1.4074, -0.1845, 0.0, 0.0, 0.0, -0.0034, -0.0006, 0.0, -0.0, -0.2057, -0.0632, -0.0, -0.0001, -0.0006, -0.0001, -0.0002, 0.0, 0.0, 0.0002, 0.0, 177.7489, 4.0191, -2.2626, -0.0029, -0.0003, 0.0, 0.1026, 0.0044, -0.0, 0.0001, 11.9104, 1.1246, -0.0003, 0.0066, 0.1578, 0.0409, -0.0068, -0.0, 0.0, 0.0076, -0.0, 2.6736, 0.199, -0.0001, 0.0014, 0.1529, 0.0, 0.0027, -2057.0238, 137.8936, 135.077, 0.0107, 0.0014, 0.0, -0.8931, 0.0929, 0.0, -0.0004, -163.3216, -15.1151, -0.005, -0.075, -3.5018, -1.1181, -0.0124, 0.0, -0.0005, -0.0613, -0.0007, -1.7927, 1.3417, -0.0008, 0.0002, 0.3145, -0.0113, -0.1019, -166.787, 12.706, 0.0099, -0.0772, -12.3476, -0.1622, -2.5798, -2.7539, -10566.317, -1487.0347, -171.3611, 0.0202, 0.0026, 0.0, -4.2194, -0.575, 0.0, -0.0016, -316.1076, -46.7963, -0.0048, -0.1168, -0.7381, -4.3976, -0.9532, 0.0, -0.0015, -0.1923, -0.0025, 267.3078, 11.9872, -0.0023, 0.1464, 18.254, 0.0081, 3.7121, 600.6083, 864.1767, 0.0385, 0.4741, -201.1468, -0.8781, 15.789, 3.7633, -10566.317, -1487.0347, 0.0202, -4.2194, -316.1076, -4.3976, 267.3078, 600.6083, -10566.317, 650.9766, -258.8874, 36.268, 0.2585, 0.0497, 0.0, -0.0121, -0.1908, 0.0001, -0.0002, 37.9152, -6.8293, 0.0131, 0.0017, 2.3386, -6.8712, -1.0736, -0.0001, -0.0035, -0.0793, 0.0089, -184.7621, -21.9581, -0.0035, -0.0917, -12.1445, 0.0862, -1.4525, -5774.8283, -1245.9294, -0.1391, -2.8614, -64.4773, -1.3334, -37.3138, -417.728, 0.0, 0.0, 0.0, 0.0, 0.0, 0.0, 0.0, 0.0, 0.0, 650.9766, -258.8874, 0.2585, -0.0121, 37.9152, -6.8712, -184.7621, -5774.8283, 0.0, 650.9766, -8141.0761, -1500.3188, -86.9958, -0.0244, -0.0017, 0.0, -4.1876, -0.7758, -0.0, -0.0022, 56.5595, -8.2693, 0.0005, 0.0225, 17.1595, -4.2197, -0.2529, -0.0, -0.0022, 0.2198, -0.0012, 18.1794, 14.7654, 0.0002, 0.0066, 7.847, 0.0686, 2.8153, 4129.8622, 825.9724, -0.0076, 2.0543, 367.4357, 4.2382, 74.2275, 4129.8622, 0.0, 0.0, 0.0, 0.0, 0.0, 0.0, 0.0, 0.0, 0.0, 0.0, 0.0, 0.0, 0.0, 0.0, 0.0, 0.0, 0.0, 0.0, 0.0, -8141.0761, -1500.3188, -0.0244, -4.1876, 56.5595, -4.2197, 18.1794, 4129.8622, 0.0, 0.0, -8141.0761, -1100.4945, -339.9998, 26.6512, 0.0039, 0.0006, 0.0, -0.3718, -0.1299, 0.0, -0.0001, 294.6184, 42.3438, -0.0006, 0.1515, 14.557, -1.9715, -0.1535, -0.0, -0.0006, -0.2187, 0.0065, -61.7513, -16.0334, -0.0011, -0.0231, -3.9093, 0.064, -0.578, 497.9294, -272.5264, 0.0004, 0.3273, 32.611, 0.6397, 37.7553, 169.8391, -10021.3573, -1557.6058, 0.0147, -4.3182, 132.198, -1.3129, -39.1172, 464.7751, -10021.3573, 7237.257, 1301.1393, -0.0738, 3.1112, 88.3629, -3.2326, -73.6204, 157.5863, 0.0, 7237.257, -8141.0761, -1500.3188, -0.0244, -4.1876, 56.5595, -4.2197, 18.1794, 4129.8622, 0.0, 0.0, -8141.0761, -1100.4945, -339.9998, 0.0039, -0.3718, 294.6184, -1.9715, -61.7513, 497.9294, -10021.3573, 7237.257, -8141.0761, -1100.4945, -6656.2609, -1299.6831, -289.7568, 0.2376, 0.0401, 0.0, -2.2522, -0.4487, 0.0001, -0.0006, -814.873, -137.7641, -0.0225, -0.3596, -10.6296, -18.434, -4.3201, 0.0001, -0.0084, -0.4305, -0.0227, 300.0324, 22.307, -0.0181, 0.1613, 20.0106, -0.0977, 4.2981, -4651.6111, 614.442, 0.0085, -2.1563, -418.4961, -2.8601, -34.8436, -488.2905, -6694.0362, -487.0547, 0.0508, -1.9068, -1464.7055, -10.3936, 660.8611, 665.4027, -6694.0362, -5482.5916, -2554.5669, 0.7281, -2.4218, 494.3721, -34.3345, -600.5965, -13963.1213, 0.0, -5482.5916, 0.0, 0.0, 0.0, 0.0, 0.0, 0.0, 0.0, 0.0, 0.0, 0.0, 0.0, 0.0, 0.0, 0.0, 0.0, 0.0, 0.0, 0.0, 0.0, 0.0, 0.0, 0.0, 0.0, -6656.2609, -1299.6831, 0.2376, -2.2522, -814.873, -18.434, 300.0324, -4651.6111, -6694.0362, -5482.5916, 0.0, 0.0, -6656.2609, 6039.156, 1397.6963, 260.379, 0.131, -0.0054, -0.0, 2.9589, 0.7001, 0.0001, 0.0015, 297.5851, 86.4194, 0.0134, 0.1454, 15.9227, 4.9875, 0.9062, -0.0, 0.0026, -0.1803, 0.0104, -260.8059, -45.6834, 0.0023, -0.1265, -18.1742, 0.0052, -2.1066, -198.8007, -412.34, 0.0584, -0.0795, -150.1457, 2.6082, 3.3909, 214.8766, 3716.1019, 670.6187, 0.2713, 2.221, 482.4031, 5.2837, -405.0206, -4109.3334, 3716.1019, 1536.8897, 796.9071, -0.5776, 0.2994, -379.7875, -2.6008, 196.1489, 5005.043, 0.0, 1536.8897, -8141.0761, -1500.3188, -0.0244, -4.1876, 56.5595, -4.2197, 18.1794, 4129.8622, 0.0, 0.0, -8141.0761, 1900.0168, 811.469, 0.0154, 0.8833, 288.0072, -4.6678, -70.8057, -2204.8542, 5043.5222, -5497.8413, -8141.0761, 1900.0168, 2728.3463, 183.5842, 0.8719, 1.4191, -452.5047, 33.3711, -866.7924, 7679.1219, -5249.1522, 15793.028, 0.0, 0.0, 2728.3463, 6039.156, 1397.6963, 0.131, 2.9589, 297.5851, 4.9875, -260.8059, -198.8007, 3716.1019, 1536.8897, -8141.0761, 1900.0168, 2728.3463, 6039.156, -8227.5412, -1534.9923, -135.2917, 0.0962, 0.0124, 0.0, -3.3626, -0.6316, 0.0001, -0.0013, -146.4527, -31.0585, -0.0006, -0.0467, 8.371, -8.2054, -1.4074, 0.0, -0.0034, -0.2057, -0.0001, 177.7489, 4.0191, -0.0029, 0.1026, 11.9104, 0.0409, 2.6736, -2057.0238, 137.8936, 0.0107, -0.8931, -163.3216, -1.1181, -1.7927, -166.787, -10566.317, -1487.0347, 0.0202, -4.2194, -316.1076, -4.3976, 267.3078, 600.6083, -10566.317, 650.9766, -258.8874, 0.2585, -0.0121, 37.9152, -6.8712, -184.7621, -5774.8283, 0.0, 650.9766, -8141.0761, -1500.3188, -0.0244, -4.1876, 56.5595, -4.2197, 18.1794, 4129.8622, 0.0, 0.0, -8141.0761, -1100.4945, -339.9998, 0.0039, -0.3718, 294.6184, -1.9715, -61.7513, 497.9294, -10021.3573, 7237.257, -8141.0761, -1100.4945, -6656.2609, -1299.6831, 0.2376, -2.2522, -814.873, -18.434, 300.0324, -4651.6111, -6694.0362, -5482.5916, 0.0, 0.0, -6656.2609, 6039.156, 1397.6963, 0.131, 2.9589, 297.5851, 4.9875, -260.8059, -198.8007, 3716.1019, 1536.8897, -8141.0761, 1900.0168, 2728.3463, 6039.156, -8227.5412, -1534.9923, 0.0962, -3.3626, -146.4527, -8.2054, 177.7489, -2057.0238, -10566.317, 650.9766, -8141.0761, -1100.4945, -6656.2609, 6039.156, -8227.5412, 2381.9231, -1.6229, -31.8644, -13.4604, 0.0051, 0.0046, 0.0011, -0.0, -0.0, 0.0, 0.7696, -0.0561, -0.0217, 0.0, 0.0, -0.0, 0.0002, -0.0001, -0.0, -0.0, 111.9238, 11.6087, 1.7742, -0.0001, 0.0001, -0.0, 0.0344, 0.0025, -0.0, 0.0, -23.4401, -3.962, -0.0001, -0.0125, -2.0801, -2.2715, 0.239, 0.0911, -0.0, 0.0, -0.0, -0.0011, 0.0001, -0.0, -0.0, 0.1129, 0.0398, -0.0, 0.0001, -0.0021, -0.0012, 0.0004, 0.0, -0.0, 0.0, 0.0, -155.3205, -14.3471, -0.632, 0.0019, 0.0005, 0.0, -0.0764, -0.0069, 0.0, -0.0, 0.1148, 0.6404, 0.0001, 0.0001, -0.025, -0.0608, 0.0023, 0.0, -0.0, 0.0018, 0.0, -1.4492, -0.1255, 0.0, -0.0007, 0.0327, 0.0, -0.0014, -1999.9165, -598.192, -160.9029, -0.0063, -0.0039, -0.0, -0.9753, -0.2934, -0.0, -0.0005, 15.5671, -15.0477, 0.0009, 0.0087, 3.599, 0.274, -0.012, -0.0, 0.0002, 0.0926, 0.0012, -7.4885, -3.1635, 0.0003, -0.0031, 1.1102, 0.0236, 0.3918, 31.993, -51.219, -0.0035, 0.0155, 11.0025, -0.0262, 0.8284, -10.1024, -2747.0888, 806.846, 190.6096, 0.0192, 0.0056, -0.0, -1.1464, 0.4427, 0.0, -0.0005, 69.0809, 85.645, 0.0007, 0.0443, 21.1562, -1.8344, 0.5116, -0.0, -0.0007, -0.343, 0.0041, -227.5624, -21.3972, 0.0031, -0.109, -11.7712, 0.0279, -1.4432, -537.5166, -463.7701, -0.0242, -0.2379, -21.9071, 1.7845, 0.7962, 225.1704, -2747.0888, 806.846, 0.0192, -1.1464, 69.0809, -1.8344, -227.5624, -537.5166, -2747.0888, 10151.4828, -1259.7478, -625.2556, 0.0012, 0.0045, -0.0, 3.8956, -0.846, -0.0, 0.0014, 156.1181, -124.6278, -0.0009, 0.0158, -103.1457, -2.131, -1.2013, 0.0, -0.0017, 1.4381, -0.0381, 69.4911, 16.1865, 0.0001, 0.0278, 28.7805, -0.3932, -1.03, -5511.7609, -919.0707, 0.1124, -2.7507, 134.0864, -6.6802, -33.4417, -802.6276, 0.0, 0.0, 0.0, 0.0, 0.0, 0.0, 0.0, 0.0, 0.0, 10151.4828, -1259.7478, 0.0012, 3.8956, 156.1181, -2.131, 69.4911, -5511.7609, 0.0, 10151.4828, -2902.0045, -1021.4451, -277.4731, -0.0002, -0.0008, -0.0, -1.6487, -0.5504, -0.0, -0.0009, 302.1767, 42.7463, 0.0111, 0.1428, 37.259, 5.8205, 0.8866, 0.0, 0.0027, 0.4952, 0.0149, -207.7645, -46.8246, -0.0013, -0.1068, -4.6895, 0.0402, -3.213, 321.7578, 64.3516, 0.1976, 0.1412, -288.3762, 3.2842, 165.1194, -3562.3564, 0.0, 0.0, 0.0, 0.0, 0.0, 0.0, 0.0, 0.0, 0.0, 0.0, 0.0, 0.0, 0.0, 0.0, 0.0, 0.0, 0.0, 0.0, 0.0, -2902.0045, -1021.4451, -0.0002, -1.6487, 302.1767, 5.8205, -207.7645, 321.7578, 0.0, 0.0, -2902.0045, 6020.2241, 752.3627, 116.1577, 0.0164, 0.0045, -0.0, 2.5151, 0.3076, 0.0, 0.001, 144.8374, 19.5172, 0.001, 0.0476, -34.5249, -4.1271, 0.1945, -0.0001, -0.0021, 0.0297, -0.006, -79.2245, 3.0357, 0.0013, -0.0392, 5.7437, -0.0907, -0.2071, -991.633, -325.7124, -0.0182, -0.4839, 111.274, -0.9111, -0.494, -60.7611, -66.608, 1787.2168, 0.0251, 0.1367, -93.1867, -4.4903, -153.6776, 136.8968, -66.608, 13839.0315, -1079.2698, 0.0168, 5.6916, 466.6904, -0.8578, 112.4352, -3596.7186, 0.0, 13839.0315, -2902.0045, -1021.4451, -0.0002, -1.6487, 302.1767, 5.8205, -207.7645, 321.7578, 0.0, 0.0, -2902.0045, 6020.2241, 752.3627, 0.0164, 2.5151, 144.8374, -4.1271, -79.2245, -991.633, -66.608, 13839.0315, -2902.0045, 6020.2241, -25644.4521, -7232.7647, -1979.8838, -0.1969, 0.0522, -0.0, -12.0483, -3.4586, -0.0001, -0.0056, 829.7764, 123.965, -0.0267, 0.4429, 158.206, 35.8027, 3.1499, 0.0016, 0.0183, 1.8456, 0.0624, -696.2622, -168.9532, 0.0211, -0.3385, -44.6993, 0.2585, -8.9392, -9775.9736, -3370.9107, 0.2854, -4.7303, -763.3351, 11.6141, -35.7862, 1396.2862, -36373.0128, -13468.3437, -0.09, -17.1621, 2034.8687, 34.738, -945.024, -6552.3545, -36373.0128, 3258.0038, 12142.3894, -1.1183, 1.7236, -3247.2955, 40.2745, 253.2639, -26061.1832, 0.0, 3258.0038, 0.0, 0.0, 0.0, 0.0, 0.0, 0.0, 0.0, 0.0, 0.0, 0.0, 0.0, 0.0, 0.0, 0.0, 0.0, 0.0, 0.0, 0.0, 0.0, 0.0, 0.0, 0.0, 0.0, -25644.4521, -7232.7647, -0.1969, -12.0483, 829.7764, 35.8027, -696.2622, -9775.9736, -36373.0128, 3258.0038, 0.0, 0.0, -25644.4521, 6451.2661, -586.9698, -310.2935, -0.0556, -0.0208, -0.0, 2.6646, -0.3675, -0.0, 0.0011, 93.2197, -46.1393, -0.0017, 0.0203, -25.8235, -1.8068, -0.8036, -0.0001, -0.001, -0.0449, -0.0051, 8.5048, -3.6692, 0.0008, 0.0023, 3.77, -0.0369, 0.6167, 982.9774, -257.8326, -0.0177, 0.4716, 145.3831, -1.0003, -19.3863, 63.1725, 11525.0128, 1257.7436, -0.1688, 5.8571, 1009.0005, -7.0781, -29.2832, 2325.3331, 11525.0128, -997.2806, -3611.0293, 0.073, -1.8086, -1321.961, 16.7116, 97.429, -2878.4643, 0.0, -997.2806, -2902.0045, -1021.4451, -0.0002, -1.6487, 302.1767, 5.8205, -207.7645, 321.7578, 0.0, 0.0, -2902.0045, 6900.0135, -381.6901, -0.0106, 2.8408, -232.133, -0.5408, -38.7123, 1547.9554, 9271.9745, 3445.4074, -2902.0045, 6900.0135, 32113.403, 1618.4375, -1.8647, 16.4037, 6327.9877, -6.0464, 1223.725, -3711.7715, 53564.3331, -28395.8099, 0.0, 0.0, 32113.403, 6451.2661, -586.9698, -0.0556, 2.6646, 93.2197, -1.8068, 8.5048, 982.9774, 11525.0128, -997.2806, -2902.0045, 6900.0135, 32113.403, 6451.2661, 0.0, 0.0, 0.0, 0.0, 0.0, 0.0, 0.0, 0.0, 0.0, 0.0, 0.0, 0.0, 0.0, 0.0, 0.0, 0.0, 0.0, 0.0, 0.0, 0.0, 0.0, 0.0, 0.0, 0.0, 0.0, 0.0, 0.0, 0.0, 0.0, 0.0, 0.0, 0.0, 0.0, 0.0, 0.0, 0.0, 0.0, 0.0, 0.0, 0.0, 0.0, 0.0, 0.0, 0.0, 0.0, 0.0, 0.0, 0.0, 0.0, 0.0, 0.0, 0.0, 0.0, 0.0, 0.0, 0.0, 0.0, 0.0, 0.0, 0.0, 0.0, 0.0, 0.0, 0.0, 0.0, 0.0, 0.0, 0.0, 0.0, 0.0, 0.0, 0.0, 0.0, 0.0, 0.0, 0.0, 0.0, 0.0, 0.0, 0.0, 0.0, 0.0, 0.0, 0.0, 0.0, 0.0, 0.0, 0.0, 0.0, 0.0, 0.0, 0.0, 0.0, 0.0, 0.0, 0.0, 0.0, 0.0, 0.0, 0.0, 0.0, 0.0, 0.0, 0.0, 0.0, 0.0, 0.0, 0.0, 0.0, 0.0, 0.0, 0.0, 0.0, 0.0, 0.0, 0.0, 0.0, 0.0, 0.0, 0.0, 2381.9231, -1.6229, -31.8644, 0.0051, 0.0046, -0.0, 0.7696, -0.0561, 0.0, 0.0002, 111.9238, 11.6087, -0.0001, 0.0344, -23.4401, -2.2715, 0.239, -0.0, -0.0011, 0.1129, -0.0012, -155.3205, -14.3471, 0.0019, -0.0764, 0.1148, -0.0608, -1.4492, -1999.9165, -598.192, -0.0063, -0.9753, 15.5671, 0.274, -7.4885, 31.993, -2747.0888, 806.846, 0.0192, -1.1464, 69.0809, -1.8344, -227.5624, -537.5166, -2747.0888, 10151.4828, -1259.7478, 0.0012, 3.8956, 156.1181, -2.131, 69.4911, -5511.7609, 0.0, 10151.4828, -2902.0045, -1021.4451, -0.0002, -1.6487, 302.1767, 5.8205, -207.7645, 321.7578, 0.0, 0.0, -2902.0045, 6020.2241, 752.3627, 0.0164, 2.5151, 144.8374, -4.1271, -79.2245, -991.633, -66.608, 13839.0315, -2902.0045, 6020.2241, -25644.4521, -7232.7647, -0.1969, -12.0483, 829.7764, 35.8027, -696.2622, -9775.9736, -36373.0128, 3258.0038, 0.0, 0.0, -25644.4521, 6451.2661, -586.9698, -0.0556, 2.6646, 93.2197, -1.8068, 8.5048, 982.9774, 11525.0128, -997.2806, -2902.0045, 6900.0135, 32113.403, 6451.2661, 0.0, 0.0, 0.0, 0.0, 0.0, 0.0, 0.0, 0.0, 0.0, 0.0, 0.0, 0.0, 0.0, 0.0, 0.0, 2381.9231, -1.6229, 0.0051, 0.7696, 111.9238, -2.2715, -155.3205, -1999.9165, -2747.0888, 10151.4828, -2902.0045, 6020.2241, -25644.4521, 6451.2661, 0.0, 2381.9231, 8616.2342, 410.8049, -58.6495, -27.3052, 0.0632, -0.0073, -0.0036, -0.0, -0.0, -0.0, 3.7828, 0.1405, -0.0349, 0.0, -0.0, -0.0, 0.0016, 0.0, 0.0, 0.0, -148.7586, 8.1379, 12.8917, -0.0002, -0.0001, -0.0, -0.1009, 0.0003, -0.0, -0.0001, -21.154, 1.6172, 0.0, -0.0118, -2.352, 1.6617, 0.0251, -0.0495, 0.0, -0.0, -0.0, 0.0007, 0.0, 0.0, 0.0, -0.1185, 0.0323, -0.0, -0.0001, 0.0244, -0.0003, -0.0002, 0.0, -0.0, -0.0003, -0.0, -43.1433, 1.1888, 1.2928, 0.002, 0.0002, 0.0, -0.023, 0.0005, 0.0, -0.0, -4.1825, 0.8116, 0.0001, -0.0022, 0.2831, -0.0538, -0.0039, 0.0, -0.0, -0.0066, -0.0, -2.2905, -0.2469, 0.0, -0.0011, -0.1472, -0.0014, -0.032, 1291.9944, -71.7672, -95.6626, 0.0202, -0.0027, 0.0, 0.6451, -0.0341, 0.0, 0.0003, 30.6546, -1.4703, -0.0001, 0.0154, 27.7524, 0.8605, -0.091, 0.0, 0.0004, -0.1685, 0.0005, 5.3024, -3.7951, 0.0003, 0.0028, -2.935, -0.0012, -0.2211, -9.4251, -21.3797, -0.0005, -0.005, -17.5503, 0.0254, 2.412, -3.5838, -5289.5974, 1609.332, 458.6612, -0.0111, -0.0053, -0.0, -2.4189, 0.8469, -0.0, -0.0011, -618.1992, 136.9619, -0.0029, -0.2971, 6.1792, 2.3716, 0.9855, 0.0, 0.0014, -0.189, 0.0004, 19.9681, 30.0131, 0.0021, 0.0134, -2.0077, -0.0666, -3.9672, 2837.2871, -134.4911, 0.0151, 1.4359, 85.2628, 0.0907, -18.0965, 108.2766, -5289.5974, 1609.332, -0.0111, -2.4189, -618.1992, 2.3716, 19.9681, 2837.2871, -5289.5974, 15630.2105, -2998.1722, -1627.2949, 0.1176, -0.0396, 0.0, 6.5297, -1.721, 0.0, 0.0026, -69.8686, -270.7985, -0.0014, -0.1029, -83.1096, -5.0716, -4.6213, 0.0001, -0.0033, -0.3027, -0.0054, -210.4345, -81.3293, 0.0004, -0.1145, -12.4124, -0.0418, 0.8446, -4753.3185, -431.0303, 0.0081, -2.4147, -283.1857, 2.1977, 46.6962, -256.1708, 0.0, 0.0, 0.0, 0.0, 0.0, 0.0, 0.0, 0.0, 0.0, 15630.2105, -2998.1722, 0.1176, 6.5297, -69.8686, -5.0716, -210.4345, -4753.3185, 0.0, 15630.2105, -969.8033, -193.9607, -38.7921, -0.0156, -0.0031, -0.0, -0.4755, -0.0951, -0.0, -0.0002, 167.8745, 33.5749, 0.0014, 0.0837, 12.6868, -2.91, -0.582, -0.0, -0.0014, 0.0425, -0.0034, -53.2366, -10.6473, -0.0006, -0.0264, 0.3389, -0.0584, -0.9875, -15021.3744, -3004.2749, -0.1366, -7.4808, -1137.9829, -10.0477, -159.8019, -15021.3744, 0.0, 0.0, 0.0, 0.0, 0.0, 0.0, 0.0, 0.0, 0.0, 0.0, 0.0, 0.0, 0.0, 0.0, 0.0, 0.0, 0.0, 0.0, 0.0, -969.8033, -193.9607, -0.0156, -0.4755, 167.8745, -2.91, -53.2366, -15021.3744, 0.0, 0.0, -969.8033, 8659.7731, 412.9404, -58.7111, 0.0633, -0.0073, -0.0, 3.8022, 0.1413, 0.0, 0.0016, -149.1748, 8.211, -0.0002, -0.1013, -21.2188, 1.6685, 0.0253, 0.0, 0.0007, -0.1189, -0.0003, -43.3842, 1.1949, 0.002, -0.0232, -4.2073, -0.0539, -2.3009, 1293.2506, -71.9523, 0.0203, 0.6457, 30.6683, 0.861, 5.3042, -9.4383, -5289.5974, 1609.332, -0.0111, -2.4189, -618.1992, 2.3716, 19.9681, 2837.2871, -5289.5974, 15798.307, -3026.8983, 0.1185, 6.6007, -70.0635, -5.1313, -213.7888, -4777.7881, 0.0, 15798.307, -969.8033, -193.9607, -0.0156, -0.4755, 167.8745, -2.91, -53.2366, -15021.3744, 0.0, 0.0, -969.8033, 8659.7731, 412.9404, 0.0633, 3.8022, -149.1748, 1.6685, -43.3842, 1293.2506, -5289.5974, 15798.307, -969.8033, 8659.7731, -713.5636, -142.7127, -28.5425, 0.0024, 0.0005, 0.0, -0.3551, -0.071, 0.0, -0.0002, -47.6422, -9.5284, 0.0001, -0.0237, -3.0839, -0.2651, -0.053, 0.0, -0.0001, -0.0207, -0.0, -1.04, -0.208, 0.0001, -0.0005, -0.1327, 0.0015, 0.0395, 348.0604, 69.6121, 0.005, 0.173, 19.0843, 0.2687, 3.6889, 137.3201, 0.0, 0.0, 0.0, 0.0, 0.0, 0.0, 0.0, 0.0, 0.0, -713.5636, -142.7127, 0.0024, -0.3551, -47.6422, -0.2651, -1.04, 348.0604, 0.0, -713.5636, 0.0, 0.0, 0.0, 0.0, 0.0, 0.0, 0.0, 0.0, 0.0, 0.0, 0.0, 0.0, 0.0, 0.0, 0.0, 0.0, 0.0, 0.0, 0.0, 0.0, 0.0, 0.0, 0.0, -713.5636, -142.7127, 0.0024, -0.3551, -47.6422, -0.2651, -1.04, 348.0604, 0.0, -713.5636, 0.0, 0.0, -713.5636, 3657.1521, -327.7095, -127.401, -0.0445, -0.0197, -0.0, 1.2607, -0.2363, -0.0, 0.0004, -84.6813, 11.9163, -0.0012, -0.071, -33.8203, -0.5076, -0.0621, -0.0, -0.0004, 0.3751, -0.0009, 54.7725, 22.9245, 0.0012, 0.0246, 7.726, 0.0698, 1.8508, -4703.6199, -875.42, -0.05, -2.3544, 170.9998, -4.2375, -56.5515, -761.88, -15608.0331, 428.4531, -0.1126, -7.6132, -347.5589, 0.4627, 214.633, -4156.5955, -15608.0331, 16598.5773, -3096.3768, -0.0019, 6.9619, -258.2442, -8.3496, -288.9109, -8658.6682, 0.0, 16598.5773, -969.8033, -193.9607, -0.0156, -0.4755, 167.8745, -2.91, -53.2366, -15021.3744, 0.0, 0.0, -969.8033, 3678.7543, -328.345, -0.0445, 1.2688, -84.819, -0.5084, 55.1432, -4712.2565, -15608.0331, 16785.7707, -969.8033, 3678.7543, -713.5636, -142.7127, 0.0024, -0.3551, -47.6422, -0.2651, -1.04, 348.0604, 0.0, -713.5636, 0.0, 0.0, -713.5636, 3657.1521, -327.7095, -0.0445, 1.2607, -84.6813, -0.5076, 54.7725, -4703.6199, -15608.0331, 16598.5773, -969.8033, 3678.7543, -713.5636, 3657.1521, 0.0, 0.0, 0.0, 0.0, 0.0, 0.0, 0.0, 0.0, 0.0, 0.0, 0.0, 0.0, 0.0, 0.0, 0.0, 0.0, 0.0, 0.0, 0.0, 0.0, 0.0, 0.0, 0.0, 0.0, 0.0, 0.0, 0.0, 0.0, 0.0, 0.0, 0.0, 0.0, 0.0, 0.0, 0.0, 0.0, 0.0, 0.0, 0.0, 0.0, 0.0, 0.0, 0.0, 0.0, 0.0, 0.0, 0.0, 0.0, 0.0, 0.0, 0.0, 0.0, 0.0, 0.0, 0.0, 0.0, 0.0, 0.0, 0.0, 0.0, 0.0, 0.0, 0.0, 0.0, 0.0, 0.0, 0.0, 0.0, 0.0, 0.0, 0.0, 0.0, 0.0, 0.0, 0.0, 0.0, 0.0, 0.0, 0.0, 0.0, 0.0, 0.0, 0.0, 0.0, 0.0, 0.0, 0.0, 0.0, 0.0, 0.0, 0.0, 0.0, 0.0, 0.0, 0.0, 0.0, 0.0, 0.0, 0.0, 0.0, 0.0, 0.0, 0.0, 0.0, 0.0, 0.0, 0.0, 0.0, 0.0, 0.0, 0.0, 0.0, 0.0, 0.0, 0.0, 0.0, 0.0, 0.0, 0.0, 0.0, 0.0, 0.0, 0.0, 0.0, 0.0, 0.0, 0.0, 0.0, 0.0, 0.0, 0.0, 0.0, 0.0, 0.0, 0.0, 0.0, 0.0, 0.0, 0.0, 0.0, 0.0, 0.0, 0.0, 0.0, 0.0, 0.0, 0.0, 0.0, 0.0, 0.0, 0.0, 0.0, 0.0, 0.0, 0.0, 0.0, 0.0, 0.0, 0.0, 0.0, 0.0, 0.0, 0.0, 0.0, 0.0, 0.0, 0.0, 0.0, 0.0, 0.0, 0.0, 0.0, 0.0, 0.0, 0.0, 0.0, 0.0, 0.0, 0.0, 0.0, 0.0, 0.0, 0.0, 0.0, 0.0, 0.0, 0.0, 0.0, 0.0, 0.0, 0.0, 0.0, 0.0, 0.0, 0.0, 0.0, 0.0, 0.0, 0.0, 0.0, 0.0, 0.0, 0.0, 0.0, 0.0, 0.0, 0.0, 0.0, 0.0, 0.0, 0.0, 0.0, 0.0, 0.0, 0.0, 0.0, 0.0, 0.0, 0.0, 0.0, 0.0, 0.0, 0.0, 0.0, 0.0, 0.0, 0.0, 0.0, 0.0, 0.0, 0.0, 0.0, 0.0, 0.0, 0.0, 0.0, 0.0, 0.0, 0.0, 0.0, 0.0, 0.0, 0.0, 0.0, 0.0, 0.0, 0.0, 0.0, 0.0, 0.0, 0.0, 0.0, 0.0, 0.0, 0.0, 0.0, 8616.2342, 410.8049, -58.6495, 0.0632, -0.0073, -0.0, 3.7828, 0.1405, 0.0, 0.0016, -148.7586, 8.1379, -0.0002, -0.1009, -21.154, 1.6617, 0.0251, 0.0, 0.0007, -0.1185, -0.0003, -43.1433, 1.1888, 0.002, -0.023, -4.1825, -0.0538, -2.2905, 1291.9944, -71.7672, 0.0202, 0.6451, 30.6546, 0.8605, 5.3024, -9.4251, -5289.5974, 1609.332, -0.0111, -2.4189, -618.1992, 2.3716, 19.9681, 2837.2871, -5289.5974, 15630.2105, -2998.1722, 0.1176, 6.5297, -69.8686, -5.0716, -210.4345, -4753.3185, 0.0, 15630.2105, -969.8033, -193.9607, -0.0156, -0.4755, 167.8745, -2.91, -53.2366, -15021.3744, 0.0, 0.0, -969.8033, 8659.7731, 412.9404, 0.0633, 3.8022, -149.1748, 1.6685, -43.3842, 1293.2506, -5289.5974, 15798.307, -969.8033, 8659.7731, -713.5636, -142.7127, 0.0024, -0.3551, -47.6422, -0.2651, -1.04, 348.0604, 0.0, -713.5636, 0.0, 0.0, -713.5636, 3657.1521, -327.7095, -0.0445, 1.2607, -84.6813, -0.5076, 54.7725, -4703.6199, -15608.0331, 16598.5773, -969.8033, 3678.7543, -713.5636, 3657.1521, 0.0, 0.0, 0.0, 0.0, 0.0, 0.0, 0.0, 0.0, 0.0, 0.0, 0.0, 0.0, 0.0, 0.0, 0.0, 0.0, 0.0, 0.0, 0.0, 0.0, 0.0, 0.0, 0.0, 0.0, 0.0, 0.0, 0.0, 0.0, 0.0, 0.0, 0.0, 8616.2342, 410.8049, 0.0632, 3.7828, -148.7586, 1.6617, -43.1433, 1291.9944, -5289.5974, 15630.2105, -969.8033, 8659.7731, -713.5636, 3657.1521, 0.0, 0.0, 8616.2342, 5066.3877, 1359.9324, 361.6505, 84.3186, 0.062, -0.0006, -0.0018, 0.0, -0.0, -0.0, 1.758, 0.5444, 0.1601, 0.0, -0.0, 0.0, 0.0005, 0.0002, 0.0, 0.0, -180.5457, -55.2914, -9.9976, -0.0021, -0.0013, -0.0, -0.1294, -0.0349, -0.0, -0.0001, -7.4149, -4.9717, -0.0001, -0.0055, 0.9445, -0.3242, -0.1911, -0.0139, 0.0, -0.0, 0.0, -0.0005, -0.0002, 0.0, -0.0, -0.468, -0.1167, -0.0, -0.0003, -0.0304, -0.0043, -0.0008, 0.0, -0.0, -0.0006, -0.0, 8.5989, -6.3773, -1.7404, 0.0004, -0.0001, 0.0, -0.002, -0.0042, 0.0, -0.0, 0.0803, -0.8073, -0.0, -0.0003, 0.2166, -0.0351, -0.0102, 0.0, -0.0, -0.0039, -0.0, -0.9809, -0.2367, -0.0, -0.0005, -0.0338, -0.0004, -0.0087, -1021.3836, -285.1779, -74.0409, 0.002, -0.0069, -0.0, -0.5501, -0.1507, 0.0, -0.0003, -167.2355, -46.9936, -0.0015, -0.0851, -10.1587, -0.574, -0.1731, -0.0, -0.0003, -0.1646, -0.0002, 2.7011, 0.4113, 0.0002, 0.0012, -0.766, 0.005, 0.0465, 286.144, 16.2661, -0.0021, 0.1407, 11.1337, 0.0967, 1.9339, 27.0933, 85.5303, 914.1638, 380.8981, 0.0829, -0.0015, 0.0, -0.1702, 0.4028, 0.0, -0.0002, -114.727, -51.5664, 0.0014, -0.0643, 33.8655, -1.3475, -0.319, 0.0001, -0.0008, -0.4561, -0.0039, -4.5184, -10.016, 0.001, -0.0036, 3.609, -0.0173, -0.6256, 561.075, -85.4105, -0.0143, 0.2462, -76.901, -0.283, 6.67, 57.7622, 85.5303, 914.1638, 0.0829, -0.1702, -114.727, -1.3475, -4.5184, 561.075, 85.5303, 10633.8057, 2119.6967, 292.5625, 0.0135, 0.0036, 0.0, 3.9161, 0.7835, -0.0, 0.0013, -255.2607, -60.4915, -0.0085, -0.2031, -61.8076, 3.0641, 0.5979, -0.0001, 0.0003, -0.4951, -0.0086, 40.0858, 8.1195, -0.0024, 0.0017, -7.9894, -0.1601, -3.2193, -10233.0473, -2046.6095, 0.2794, -5.1876, -763.0981, -5.8217, -77.8011, 3293.5177, 0.0, 0.0, 0.0, 0.0, 0.0, 0.0, 0.0, 0.0, 0.0, 10633.8057, 2119.6967, 0.0135, 3.9161, -255.2607, 3.0641, 40.0858, -10233.0473, 0.0, 10633.8057, 2597.725, 519.545, 103.909, 2597.725, 519.545, 2597.725, 1.2918, 0.2584, 1.2918, 0.0006, 172.0348, 34.407, 172.0348, 0.0855, 11.393, 2.172, 0.4344, 2.172, 0.0011, 0.1438, 0.0018, 35.5853, 7.1171, 35.5853, 0.0177, 2.3566, 0.0298, 0.4875, 0.0, 0.0, 0.0, 0.0, 0.0, 0.0, 0.0, 0.0, 0.0, 0.0, 0.0, 0.0, 0.0, 0.0, 0.0, 0.0, 0.0, 0.0, 0.0, 0.0, 0.0, 0.0, 0.0, 0.0, 0.0, 0.0, 0.0, 2597.725, 519.545, 2597.725, 1.2918, 172.0348, 2.172, 35.5853, 0.0, 0.0, 0.0, 2597.725, 5066.3877, 1359.9324, 361.6505, 0.062, -0.0006, 0.0, 1.758, 0.5444, 0.0, 0.0005, -180.5457, -55.2914, -0.0021, -0.1294, -7.4149, -0.3242, -0.1911, 0.0, -0.0005, -0.468, -0.0043, 8.5989, -6.3773, 0.0004, -0.002, 0.0803, -0.0351, -0.9809, -1021.3836, -285.1779, 0.002, -0.5501, -167.2355, -0.574, 2.7011, 286.144, 85.5303, 914.1638, 0.0829, -0.1702, -114.727, -1.3475, -4.5184, 561.075, 85.5303, 10633.8057, 2119.6967, 0.0135, 3.9161, -255.2607, 3.0641, 40.0858, -10233.0473, 0.0, 10633.8057, 2597.725, 519.545, 2597.725, 1.2918, 172.0348, 2.172, 35.5853, 0.0, 0.0, 0.0, 2597.725, 5066.3877, 1359.9324, 0.062, 1.758, -180.5457, -0.3242, 8.5989, -1021.3836, 85.5303, 10633.8057, 2597.725, 5066.3877, 0.0, 0.0, 0.0, 0.0, 0.0, 0.0, 0.0, 0.0, 0.0, 0.0, 0.0, 0.0, 0.0, 0.0, 0.0, 0.0, 0.0, 0.0, 0.0, 0.0, 0.0, 0.0, 0.0, 0.0, 0.0, 0.0, 0.0, 0.0, 0.0, 0.0, 0.0, 0.0, 0.0, 0.0, 0.0, 0.0, 0.0, 0.0, 0.0, 0.0, 0.0, 0.0, 0.0, 0.0, 0.0, 0.0, 0.0, 0.0, 0.0, 0.0, 0.0, 0.0, 0.0, 0.0, 0.0, 0.0, 0.0, 0.0, 0.0, 0.0, 0.0, 0.0, 0.0, 0.0, 0.0, 0.0, 0.0, 0.0, 0.0, 0.0, 0.0, 0.0, 0.0, 0.0, 0.0, 0.0, 0.0, 0.0, 0.0, 0.0, 0.0, 0.0, 0.0, 0.0, 0.0, 0.0, 0.0, 0.0, 0.0, 0.0, 0.0, 3718.9617, 995.8891, 290.8025, 0.0346, -0.0051, 0.0, 1.0454, 0.3564, 0.0, 0.0001, -263.9078, -77.8294, -0.0038, -0.1731, -11.7083, -0.6192, -0.3924, 0.0, -0.0007, -0.4741, -0.0049, 41.429, -7.7258, 0.0004, 0.0134, 2.8206, -0.0306, -0.5827, 1759.3654, -174.4786, 0.0237, 0.8154, -5.9945, -0.1117, 48.6892, 744.1089, 1246.7863, 829.4438, 0.0496, 0.3856, 2.3334, -0.57, 69.5563, 4737.2893, 1246.7863, 6427.3211, 1269.4563, 0.0017, 1.76, -568.2113, -0.8138, -20.8899, -11244.7035, 0.0, 6427.3211, 2597.725, 519.545, 2597.725, 1.2918, 172.0348, 2.172, 35.5853, 0.0, 0.0, 0.0, 2597.725, 3718.9617, 995.8891, 0.0346, 1.0454, -263.9078, -0.6192, 41.429, 1759.3654, 1246.7863, 6427.3211, 2597.725, 3718.9617, 0.0, 0.0, 0.0, 0.0, 0.0, 0.0, 0.0, 0.0, 0.0, 0.0, 0.0, 0.0, 0.0, 3718.9617, 995.8891, 0.0346, 1.0454, -263.9078, -0.6192, 41.429, 1759.3654, 1246.7863, 6427.3211, 2597.725, 3718.9617, 0.0, 3718.9617, 0.0, 0.0, 0.0, 0.0, 0.0, 0.0, 0.0, 0.0, 0.0, 0.0, 0.0, 0.0, 0.0, 0.0, 0.0, 0.0, 0.0, 0.0, 0.0, 0.0, 0.0, 0.0, 0.0, 0.0, 0.0, 0.0, 0.0, 0.0, 0.0, 0.0, 0.0, 0.0, 0.0, 0.0, 0.0, 0.0, 0.0, 0.0, 0.0, 0.0, 0.0, 0.0, 0.0, 0.0, 0.0, 0.0, 0.0, 0.0, 0.0, 0.0, 0.0, 0.0, 0.0, 0.0, 0.0, 0.0, 0.0, 0.0, 0.0, 0.0, 0.0, 0.0, 0.0, 0.0, 0.0, 0.0, 0.0, 0.0, 0.0, 0.0, 0.0, 0.0, 0.0, 0.0, 0.0, 0.0, 0.0, 0.0, 0.0, 0.0, 0.0, 0.0, 0.0, 0.0, 0.0, 0.0, 0.0, 0.0, 0.0, 0.0, 0.0, 0.0, 0.0, 0.0, 0.0, 0.0, 0.0, 0.0, 0.0, 0.0, 0.0, 0.0, 0.0, 0.0, 0.0, 0.0, 0.0, 0.0, 0.0, 0.0, 0.0, 0.0, 0.0, 0.0, 0.0, 0.0, 0.0, 0.0, 0.0, 0.0, 0.0, 0.0, 0.0, 0.0, 0.0, 0.0, 0.0, 0.0, 0.0, 0.0, 0.0, 0.0, 0.0, 0.0, 0.0, 0.0, 0.0, 0.0, 0.0, 0.0, 0.0, 0.0, 0.0, 0.0, 0.0, 0.0, 0.0, 0.0, 0.0, 0.0, 0.0, 0.0, 0.0, 0.0, 0.0, 0.0, 0.0, 0.0, 0.0, 0.0, 0.0, 0.0, 0.0, 0.0, 0.0, 0.0, 0.0, 0.0, 0.0, 0.0, 0.0, 0.0, 0.0, 0.0, 0.0, 0.0, 0.0, 0.0, 0.0, 0.0, 0.0, 0.0, 0.0, 0.0, 0.0, 0.0, 0.0, 0.0, 0.0, 0.0, 0.0, 0.0, 0.0, 0.0, 0.0, 0.0, 0.0, 0.0, 0.0, 0.0, 0.0, 0.0, 0.0, 0.0, 0.0, 0.0, 0.0, 0.0, 0.0, 0.0, 0.0, 0.0, 0.0, 0.0, 0.0, 0.0, 0.0, 0.0, 0.0, 0.0, 0.0, 0.0, 0.0, 0.0, 0.0, 0.0, 0.0, 0.0, 0.0, 0.0, 0.0, 0.0, 0.0, 0.0, 0.0, 0.0, 0.0, 0.0, 0.0, 0.0, 0.0, 0.0, 0.0, 0.0, 0.0, 0.0, 0.0, 0.0, 0.0, 0.0, 0.0, 0.0, 0.0, 0.0, 0.0, 0.0, 0.0, 0.0, 0.0, 0.0, 0.0, 0.0, 0.0, 0.0, 0.0, 0.0, 0.0, 0.0, 0.0, 0.0, 0.0, 0.0, 0.0, 0.0, 0.0, 0.0, 0.0, 0.0, 0.0, 0.0, 0.0, 0.0, 0.0, 0.0, 0.0, 0.0, 0.0, 0.0, 0.0, 0.0, 0.0, 0.0, 0.0, 0.0, 0.0, 0.0, 0.0, 0.0, 0.0, 0.0, 0.0, 0.0, 0.0, 0.0, 0.0, 0.0, 0.0, 0.0, 0.0, 0.0, 0.0, 0.0, 0.0, 0.0, 0.0, 0.0, 0.0, 0.0, 0.0, 0.0, 0.0, 0.0, 0.0, 0.0, 0.0, 0.0, 0.0, 0.0, 0.0, 0.0, 0.0, 0.0, 0.0, 0.0, 0.0, 0.0, 0.0, 0.0, 0.0, 0.0, 0.0, 0.0, 0.0, 0.0, 0.0, 0.0, 0.0, 0.0, 0.0, 0.0, 0.0, 0.0, 0.0, 0.0, 0.0, 0.0, 0.0, 0.0, 0.0, 0.0, 0.0, 0.0, 0.0, 0.0, 0.0, 0.0, 0.0, 0.0, 0.0, 0.0, 0.0, 0.0, 0.0, 0.0, 0.0, 0.0, 0.0, 0.0, 0.0, 0.0, 0.0, 0.0, 0.0, 0.0, 0.0, 0.0, 0.0, 0.0, 0.0, 0.0, 0.0, 0.0, 0.0, 0.0, 0.0, 0.0, 0.0, 0.0, 0.0, 0.0, 0.0, 0.0, 0.0, 0.0, 0.0, 0.0, 0.0, 0.0, 0.0, 5066.3877, 1359.9324, 361.6505, 0.062, -0.0006, 0.0, 1.758, 0.5444, 0.0, 0.0005, -180.5457, -55.2914, -0.0021, -0.1294, -7.4149, -0.3242, -0.1911, 0.0, -0.0005, -0.468, -0.0043, 8.5989, -6.3773, 0.0004, -0.002, 0.0803, -0.0351, -0.9809, -1021.3836, -285.1779, 0.002, -0.5501, -167.2355, -0.574, 2.7011, 286.144, 85.5303, 914.1638, 0.0829, -0.1702, -114.727, -1.3475, -4.5184, 561.075, 85.5303, 10633.8057, 2119.6967, 0.0135, 3.9161, -255.2607, 3.0641, 40.0858, -10233.0473, 0.0, 10633.8057, 2597.725, 519.545, 2597.725, 1.2918, 172.0348, 2.172, 35.5853, 0.0, 0.0, 0.0, 2597.725, 5066.3877, 1359.9324, 0.062, 1.758, -180.5457, -0.3242, 8.5989, -1021.3836, 85.5303, 10633.8057, 2597.725, 5066.3877, 0.0, 0.0, 0.0, 0.0, 0.0, 0.0, 0.0, 0.0, 0.0, 0.0, 0.0, 0.0, 0.0, 3718.9617, 995.8891, 0.0346, 1.0454, -263.9078, -0.6192, 41.429, 1759.3654, 1246.7863, 6427.3211, 2597.725, 3718.9617, 0.0, 3718.9617, 0.0, 0.0, 0.0, 0.0, 0.0, 0.0, 0.0, 0.0, 0.0, 0.0, 0.0, 0.0, 0.0, 0.0, 0.0, 0.0, 0.0, 0.0, 0.0, 0.0, 0.0, 0.0, 0.0, 0.0, 0.0, 0.0, 0.0, 0.0, 0.0, 0.0, 0.0, 0.0, 0.0, 0.0, 0.0, 0.0, 0.0, 0.0, 0.0, 0.0, 0.0, 0.0, 0.0, 0.0, 0.0, 0.0, 0.0, 0.0, 5066.3877, 1359.9324, 0.062, 1.758, -180.5457, -0.3242, 8.5989, -1021.3836, 85.5303, 10633.8057, 2597.725, 5066.3877, 0.0, 3718.9617, 0.0, 0.0, 0.0, 5066.3877])\n",
            "The Intercept of the model is : -44142065.055188\n",
            "RMSE: 271779.300\n",
            "MSE: 73863988125.366\n",
            "r2: 0.901\n"
          ],
          "name": "stdout"
        }
      ]
    },
    {
      "cell_type": "markdown",
      "metadata": {
        "id": "1C8mWR15jIJQ"
      },
      "source": [
        "Based on result from CASE 3 and CASE 1 it can be observed that the much little higher error is observed in case when no feature scaling is used. But no major differences are observed.\r\n"
      ]
    },
    {
      "cell_type": "markdown",
      "metadata": {
        "id": "jviW6DXocIPq"
      },
      "source": [
        "**CASE 4**\r\n",
        "\r\n",
        "**Using Imputer instead of dropna and using  Feature hasher**\r\n",
        "\r\n",
        "**Polynomial features for regression and**\r\n",
        "\r\n",
        "**MinMaxScaler for normalization of the features** **bold text**\r\n",
        "\r\n",
        "**And Building Regression model and evaluating with rmse, mse, r2**"
      ]
    },
    {
      "cell_type": "code",
      "metadata": {
        "id": "VVkOrzzRP3SC"
      },
      "source": [
        "df4 = spark.read.csv('Car details v3.csv',inferSchema=True,header=True)\r\n",
        "\r\n",
        "df4=df4.withColumn(\"name\",split(df4['name'], ' ').getItem(0))\r\n",
        "df4=df4.withColumn(\"max_power\",regexp_replace(col(\"max_power\"), \"bhp\", \"\").cast(FloatType()))\r\n",
        "df4=df4.withColumn(\"mileage\",regexp_replace(col(\"mileage\"), \"kmpl|km/kg\", \"\").cast(FloatType()))\r\n",
        "df4=df4.withColumn(\"engine\",regexp_replace(col(\"engine\"), \"CC\", \"\").cast(IntegerType()))\r\n"
      ],
      "execution_count": null,
      "outputs": []
    },
    {
      "cell_type": "code",
      "metadata": {
        "colab": {
          "base_uri": "https://localhost:8080/"
        },
        "id": "F7v6E6lfdlsU",
        "outputId": "29e59633-881e-4354-ceb2-f5a3c83078bd"
      },
      "source": [
        "from pyspark.sql.functions import *\r\n",
        "print(\"Null values count\")\r\n",
        "for i in df4.columns:\r\n",
        "  print(i,\":  \",df4.where(col(i).isNull(),).count())"
      ],
      "execution_count": null,
      "outputs": [
        {
          "output_type": "stream",
          "text": [
            "Null values count\n",
            "name :   0\n",
            "year :   0\n",
            "selling_price :   0\n",
            "km_driven :   0\n",
            "fuel :   0\n",
            "seller_type :   0\n",
            "transmission :   0\n",
            "owner :   0\n",
            "mileage :   221\n",
            "engine :   221\n",
            "max_power :   216\n",
            "torque :   222\n",
            "seats :   221\n"
          ],
          "name": "stdout"
        }
      ]
    },
    {
      "cell_type": "code",
      "metadata": {
        "colab": {
          "base_uri": "https://localhost:8080/"
        },
        "id": "zq4gPY3IdFqS",
        "outputId": "ff2f44a1-e295-44b1-aca5-2db26a1caea3"
      },
      "source": [
        "from pyspark.ml.feature import Imputer\r\n",
        "\r\n",
        "impute_cols=['seats','max_power','mileage','engine']\r\n",
        "mean_imputer = Imputer(strategy='mean', inputCols=impute_cols,outputCols=['Imputed_'+i for i in impute_cols])\r\n",
        "imputed_df=mean_imputer.fit(df4).transform(df4)\r\n",
        "imputed_df.count()"
      ],
      "execution_count": null,
      "outputs": [
        {
          "output_type": "execute_result",
          "data": {
            "text/plain": [
              "8128"
            ]
          },
          "metadata": {
            "tags": []
          },
          "execution_count": 27
        }
      ]
    },
    {
      "cell_type": "code",
      "metadata": {
        "colab": {
          "base_uri": "https://localhost:8080/"
        },
        "id": "_dErMoqkiSuA",
        "outputId": "3bbed36c-30ab-490b-db44-06bab08a5b39"
      },
      "source": [
        "from pyspark.ml.feature import PolynomialExpansion\r\n",
        "from pyspark.ml.feature import FeatureHasher\r\n",
        "\r\n",
        "imputed_cols=['name',\r\n",
        " 'year',\r\n",
        " 'selling_price',\r\n",
        " 'km_driven',\r\n",
        " 'fuel',\r\n",
        " 'seller_type',\r\n",
        " 'transmission',\r\n",
        " 'owner',\r\n",
        " 'Imputed_seats',\r\n",
        " 'Imputed_max_power',\r\n",
        " 'Imputed_mileage',\r\n",
        " 'Imputed_engine']\r\n",
        " #Reducing the features set to dimension of 5  features\r\n",
        " #Feature hasher implicitly encodes catogerical columns by one hot encoding\r\n",
        "hasher = FeatureHasher(numFeatures=5,inputCols=imputed_cols,\r\n",
        "                       outputCol=\"features\")\r\n",
        "featurized = hasher.transform(imputed_df)\r\n",
        "featurized.show(n=5,truncate=False)\r\n",
        "\r\n",
        "IP_polyExpansion = PolynomialExpansion(degree=4, inputCol=\"features\", outputCol=\"polyFeatures\")\r\n",
        "IP_polyDF = IP_polyExpansion.transform(featurized.select('features','selling_price'))\r\n",
        "print(\"On Using Feature Hasher and expanding the feature by degree=4 :\")\r\n",
        "IP_polyDF.show(n=10)"
      ],
      "execution_count": null,
      "outputs": [
        {
          "output_type": "stream",
          "text": [
            "+-------+----+-------------+---------+------+-----------+------------+------------+-------+------+---------+------------------------+-----+-------------+-----------------+---------------+--------------+--------------------------------------------------------------------------+\n",
            "|name   |year|selling_price|km_driven|fuel  |seller_type|transmission|owner       |mileage|engine|max_power|torque                  |seats|Imputed_seats|Imputed_max_power|Imputed_mileage|Imputed_engine|features                                                                  |\n",
            "+-------+----+-------------+---------+------+-----------+------------+------------+-------+------+---------+------------------------+-----+-------------+-----------------+---------------+--------------+--------------------------------------------------------------------------+\n",
            "|Maruti |2014|450000       |145500   |Diesel|Individual |Manual      |First Owner |23.4   |1248  |74.0     |190Nm@ 2000rpm          |5    |5            |74.0             |23.4           |1248          |(5,[0,1,2,3,4],[6.0,24.399999618530273,1248.0,75.0,597516.0])             |\n",
            "|Skoda  |2014|370000       |120000   |Diesel|Individual |Manual      |Second Owner|21.14  |1498  |103.52   |250Nm@ 1500-2500rpm     |5    |5            |103.52           |21.14          |1498          |(5,[0,1,2,3,4],[6.0,23.139999389648438,1498.0,104.5199966430664,492015.0])|\n",
            "|Honda  |2006|158000       |140000   |Petrol|Individual |Manual      |Third Owner |17.7   |1497  |78.0     |12.7@ 2,700(kgm@ rpm)   |5    |5            |78.0             |17.7           |1497          |(5,[0,1,2,3,4],[5.0,17.700000762939453,1497.0,81.0,300008.0])             |\n",
            "|Hyundai|2010|225000       |127000   |Diesel|Individual |Manual      |First Owner |23.0   |1396  |90.0     |22.4 kgm at 1750-2750rpm|5    |5            |90.0             |23.0           |1396          |(5,[0,1,2,3,4],[5.0,24.0,1396.0,91.0,354013.0])                           |\n",
            "|Maruti |2007|130000       |120000   |Petrol|Individual |Manual      |First Owner |16.1   |1298  |88.2     |11.5@ 4,500(kgm@ rpm)   |5    |5            |88.2             |16.1           |1298          |(5,[0,1,2,3,4],[6.0,16.100000381469727,1298.0,90.19999694824219,252009.0])|\n",
            "+-------+----+-------------+---------+------+-----------+------------+------------+-------+------+---------+------------------------+-----+-------------+-----------------+---------------+--------------+--------------------------------------------------------------------------+\n",
            "only showing top 5 rows\n",
            "\n",
            "On Using Feature Hasher and expanding the feature by degree=4 :\n",
            "+--------------------+-------------+--------------------+\n",
            "|            features|selling_price|        polyFeatures|\n",
            "+--------------------+-------------+--------------------+\n",
            "|(5,[0,1,2,3,4],[6...|       450000|(125,[0,1,2,3,4,5...|\n",
            "|(5,[0,1,2,3,4],[6...|       370000|(125,[0,1,2,3,4,5...|\n",
            "|(5,[0,1,2,3,4],[5...|       158000|(125,[0,1,2,3,4,5...|\n",
            "|(5,[0,1,2,3,4],[5...|       225000|(125,[0,1,2,3,4,5...|\n",
            "|(5,[0,1,2,3,4],[6...|       130000|(125,[0,1,2,3,4,5...|\n",
            "|(5,[0,1,2,3,4],[5...|       440000|(125,[0,1,2,3,4,5...|\n",
            "|(5,[0,1,2,3,4],[7...|        96000|(125,[0,1,2,3,4,5...|\n",
            "|(5,[0,1,2,3,4],[5...|        45000|(125,[0,1,2,3,4,5...|\n",
            "|(5,[0,1,2,3,4],[5...|       350000|(125,[0,1,2,3,4,5...|\n",
            "|(5,[0,1,2,3,4],[5...|       200000|(125,[0,1,2,3,4,5...|\n",
            "+--------------------+-------------+--------------------+\n",
            "only showing top 10 rows\n",
            "\n"
          ],
          "name": "stdout"
        }
      ]
    },
    {
      "cell_type": "code",
      "metadata": {
        "colab": {
          "base_uri": "https://localhost:8080/"
        },
        "id": "OBIdR3nzrCPD",
        "outputId": "6c8c81ee-a2b2-4587-f076-9f3766cd2048"
      },
      "source": [
        "from pyspark.ml.feature import MinMaxScaler\r\n",
        "\r\n",
        "scaler3=MinMaxScaler(inputCol=\"polyFeatures\", outputCol=\"scaledFeatures\")\r\n",
        "IP_scaler_df = scaler3.fit(IP_polyDF).transform(IP_polyDF)\r\n",
        "\r\n",
        "IP_scaler_df.select(\"polyFeatures\", \"scaledFeatures\").show(n=5)"
      ],
      "execution_count": null,
      "outputs": [
        {
          "output_type": "stream",
          "text": [
            "+--------------------+--------------------+\n",
            "|        polyFeatures|      scaledFeatures|\n",
            "+--------------------+--------------------+\n",
            "|(125,[0,1,2,3,4,5...|[0.33333333333333...|\n",
            "|(125,[0,1,2,3,4,5...|[0.33333333333333...|\n",
            "|(125,[0,1,2,3,4,5...|[0.25,0.109375,0....|\n",
            "|(125,[0,1,2,3,4,5...|[0.25,0.109375,0....|\n",
            "|(125,[0,1,2,3,4,5...|[0.33333333333333...|\n",
            "+--------------------+--------------------+\n",
            "only showing top 5 rows\n",
            "\n"
          ],
          "name": "stdout"
        }
      ]
    },
    {
      "cell_type": "code",
      "metadata": {
        "colab": {
          "base_uri": "https://localhost:8080/"
        },
        "id": "s56ENS-ZiSq4",
        "outputId": "483daaa2-02a2-44da-ccfa-2c9f04eec769"
      },
      "source": [
        "from pyspark.ml.evaluation import RegressionEvaluator\r\n",
        "from pyspark.ml.regression import LinearRegression \r\n",
        "\r\n",
        "IP_train_data,IP_test_data = IP_scaler_df.randomSplit([0.8,0.2],seed=2)\r\n",
        "IP_Regressor=LinearRegression(featuresCol ='scaledFeatures', labelCol ='selling_price') \r\n",
        "IP_Regressor=IP_Regressor.fit(IP_train_data)\r\n",
        "\r\n",
        "IP_predicited=IP_Regressor.evaluate(IP_test_data)\r\n",
        "\r\n",
        "coeff = IP_Regressor.coefficients\r\n",
        "\r\n",
        "#X and Y intercept\r\n",
        "intr = IP_Regressor.intercept\r\n",
        "\r\n",
        "print(\"Using Feaure hasher to reduce the features space to dimension= 5 and \\nPolynomial Regression using to expand by degree : 4 \")\r\n",
        "print (\"The coefficient of the model is : %a\" %coeff)\r\n",
        "print (\"The Intercept of the model is : %f\" %intr)\r\n",
        "\r\n",
        "#Using evalaution mertics to determine the model performance\r\n",
        "IP_eval = RegressionEvaluator(labelCol=\"selling_price\", predictionCol=\"prediction\", metricName=\"rmse\")\r\n",
        "\r\n",
        "rmse = IP_eval.evaluate(IP_predicited.predictions)\r\n",
        "print(\"RMSE: %.3f\" %rmse)\r\n",
        "mse = IP_eval.evaluate(IP_predicited.predictions, {IP_eval.metricName: \"mse\"})\r\n",
        "print(\"MSE: %.3f\" % mse)\r\n",
        "\r\n",
        "r2= IP_eval.evaluate(IP_predicited.predictions, {IP_eval.metricName: \"r2\"})\r\n",
        "print(\"r2: %.3f\" %r2)"
      ],
      "execution_count": null,
      "outputs": [
        {
          "output_type": "stream",
          "text": [
            "Using Feaure hasher to reduce the features space to dimension= 5 and \n",
            "Polynomial Regression using to expand by degree : 4 \n",
            "The coefficient of the model is : DenseVector([-41888417.3235, 93607087.2481, -64595103.1143, 12834314.5954, -1160571.073, 15205922.2716, -25340775.569, 8184871.6815, -7565231.4116, 8278166.3441, 1598537.0702, -2087242.225, -6776991.4508, 5169000.8761, 23747791.8471, -4775531.817, 4937401.1661, -2484890.5268, -24634208.4748, 5972253.268, 2700699.1209, -11905030.133, -5740078.9516, 21913594.5899, -71281947.2269, 1459925.5842, 1682245.6256, 30290606.533, -8189768.9894, 2105649.2869, 72971239.6524, -538903.8002, -13474172.0391, -23162540.4194, -54100961.0247, 69305170.769, -70504665.2021, 28944740.3668, 43707344.6349, -51914512.4944, 12177009.6903, 75978853.998, 2488758.1781, -60699333.2166, 17071456.8138, -2797085.5381, -8249922.6463, -10355432.6829, 23844438.7711, -45261910.8076, -26679892.4997, 11943145.9507, 1353346.062, -5992435.6069, 72321038.1628, -41191427.0877, 27221843.0445, -95348578.1138, -27400712.0136, 76753798.188, 22591796.103, -24887206.3681, 10769661.4738, 33250723.526, -82045743.3273, 20964251.7669, 57192905.5705, -56677625.39, 81725672.343, -27468608.07, 7863014.9259, 5117739.2412, 1269112.5842, 153435778.8004, -43215454.4288, -4338056.9322, -173015908.9445, 52399378.6402, 34233014.0626, 61275363.6569, -13694578.5622, 6033541.3213, -129182617.959, -3804793.5597, 92730902.2713, -47565912.3328, -10252355.1796, 45107477.4462, 26228973.2413, -8407846.1645, 40333579.5574, -40485169.5164, 12802812.8268, 76209823.5006, -121775478.0244, -42254806.539, 69554803.5584, -101570649.9908, -62214668.8955, -6157017.2299, -68234188.8349, 165399357.3683, 214283675.5469, -217347629.0782, -6901508.2888, -53519599.3236, 33363946.3749, 33109105.4255, -14788305.7924, 47885294.0063, 56307644.4097, -26292823.5288, 14196736.071, 11527658.1438, 68384855.5973, 20360555.3571, -168842292.0517, -123697890.4208, 146160700.2826, -27174100.5909, 7531800.6224, 14679786.4328, 4085533.9025, -25249522.34, 16439541.4074])\n",
            "The Intercept of the model is : 3149114.741759\n",
            "RMSE: 67186.194\n",
            "MSE: 4513984717.635\n",
            "r2: 0.991\n"
          ],
          "name": "stdout"
        }
      ]
    },
    {
      "cell_type": "markdown",
      "metadata": {
        "id": "zlBwdKcvzQ1x"
      },
      "source": [
        ">The results in CASE-4 obtained using imputations on numeric columns with mising values\r\n",
        "and applying Feature Hasher where the feature space is reduced to 5 on applying \r\n",
        "Polynomial Expansion by degree 4 followed by building a regression model for it gives best results among all the cases."
      ]
    },
    {
      "cell_type": "code",
      "metadata": {
        "id": "EBBPfJgaiSxD"
      },
      "source": [
        ""
      ],
      "execution_count": null,
      "outputs": []
    }
  ]
}
